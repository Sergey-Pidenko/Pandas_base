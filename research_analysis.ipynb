{
 "cells": [
  {
   "cell_type": "code",
   "execution_count": 1,
   "id": "f65463d8",
   "metadata": {},
   "outputs": [],
   "source": [
    "import pandas as pd \n",
    "import matplotlib.pyplot as plt\n",
    "import seaborn as sns\n",
    "import pylab as pl"
   ]
  },
  {
   "cell_type": "markdown",
   "id": "acc320f9",
   "metadata": {},
   "source": [
    "# Шаг 1 \n",
    "1. Загрузите данные из файла в датафрейм.\n",
    "2. Изучите общую информацию о полученном датафрейме.\n",
    "3. Постройте общую гистограмму для всех столбцов таблицы."
   ]
  },
  {
   "cell_type": "code",
   "execution_count": 2,
   "id": "143233aa",
   "metadata": {},
   "outputs": [
    {
     "data": {
      "text/html": [
       "<div>\n",
       "<style scoped>\n",
       "    .dataframe tbody tr th:only-of-type {\n",
       "        vertical-align: middle;\n",
       "    }\n",
       "\n",
       "    .dataframe tbody tr th {\n",
       "        vertical-align: top;\n",
       "    }\n",
       "\n",
       "    .dataframe thead th {\n",
       "        text-align: right;\n",
       "    }\n",
       "</style>\n",
       "<table border=\"1\" class=\"dataframe\">\n",
       "  <thead>\n",
       "    <tr style=\"text-align: right;\">\n",
       "      <th></th>\n",
       "      <th>total_images</th>\n",
       "      <th>last_price</th>\n",
       "      <th>total_area</th>\n",
       "      <th>first_day_exposition</th>\n",
       "      <th>rooms</th>\n",
       "      <th>ceiling_height</th>\n",
       "      <th>floors_total</th>\n",
       "      <th>living_area</th>\n",
       "      <th>floor</th>\n",
       "      <th>is_apartment</th>\n",
       "      <th>...</th>\n",
       "      <th>kitchen_area</th>\n",
       "      <th>balcony</th>\n",
       "      <th>locality_name</th>\n",
       "      <th>airports_nearest</th>\n",
       "      <th>cityCenters_nearest</th>\n",
       "      <th>parks_around3000</th>\n",
       "      <th>parks_nearest</th>\n",
       "      <th>ponds_around3000</th>\n",
       "      <th>ponds_nearest</th>\n",
       "      <th>days_exposition</th>\n",
       "    </tr>\n",
       "  </thead>\n",
       "  <tbody>\n",
       "    <tr>\n",
       "      <th>0</th>\n",
       "      <td>20</td>\n",
       "      <td>13000000.0</td>\n",
       "      <td>108.00</td>\n",
       "      <td>2019-03-07T00:00:00</td>\n",
       "      <td>3</td>\n",
       "      <td>2.70</td>\n",
       "      <td>16.0</td>\n",
       "      <td>51.0</td>\n",
       "      <td>8</td>\n",
       "      <td>NaN</td>\n",
       "      <td>...</td>\n",
       "      <td>25.00</td>\n",
       "      <td>NaN</td>\n",
       "      <td>Санкт-Петербург</td>\n",
       "      <td>18863.0</td>\n",
       "      <td>16028.0</td>\n",
       "      <td>1.0</td>\n",
       "      <td>482.0</td>\n",
       "      <td>2.0</td>\n",
       "      <td>755.0</td>\n",
       "      <td>NaN</td>\n",
       "    </tr>\n",
       "    <tr>\n",
       "      <th>1</th>\n",
       "      <td>7</td>\n",
       "      <td>3350000.0</td>\n",
       "      <td>40.40</td>\n",
       "      <td>2018-12-04T00:00:00</td>\n",
       "      <td>1</td>\n",
       "      <td>NaN</td>\n",
       "      <td>11.0</td>\n",
       "      <td>18.6</td>\n",
       "      <td>1</td>\n",
       "      <td>NaN</td>\n",
       "      <td>...</td>\n",
       "      <td>11.00</td>\n",
       "      <td>2.0</td>\n",
       "      <td>посёлок Шушары</td>\n",
       "      <td>12817.0</td>\n",
       "      <td>18603.0</td>\n",
       "      <td>0.0</td>\n",
       "      <td>NaN</td>\n",
       "      <td>0.0</td>\n",
       "      <td>NaN</td>\n",
       "      <td>81.0</td>\n",
       "    </tr>\n",
       "    <tr>\n",
       "      <th>2</th>\n",
       "      <td>10</td>\n",
       "      <td>5196000.0</td>\n",
       "      <td>56.00</td>\n",
       "      <td>2015-08-20T00:00:00</td>\n",
       "      <td>2</td>\n",
       "      <td>NaN</td>\n",
       "      <td>5.0</td>\n",
       "      <td>34.3</td>\n",
       "      <td>4</td>\n",
       "      <td>NaN</td>\n",
       "      <td>...</td>\n",
       "      <td>8.30</td>\n",
       "      <td>0.0</td>\n",
       "      <td>Санкт-Петербург</td>\n",
       "      <td>21741.0</td>\n",
       "      <td>13933.0</td>\n",
       "      <td>1.0</td>\n",
       "      <td>90.0</td>\n",
       "      <td>2.0</td>\n",
       "      <td>574.0</td>\n",
       "      <td>558.0</td>\n",
       "    </tr>\n",
       "    <tr>\n",
       "      <th>3</th>\n",
       "      <td>0</td>\n",
       "      <td>64900000.0</td>\n",
       "      <td>159.00</td>\n",
       "      <td>2015-07-24T00:00:00</td>\n",
       "      <td>3</td>\n",
       "      <td>NaN</td>\n",
       "      <td>14.0</td>\n",
       "      <td>NaN</td>\n",
       "      <td>9</td>\n",
       "      <td>NaN</td>\n",
       "      <td>...</td>\n",
       "      <td>NaN</td>\n",
       "      <td>0.0</td>\n",
       "      <td>Санкт-Петербург</td>\n",
       "      <td>28098.0</td>\n",
       "      <td>6800.0</td>\n",
       "      <td>2.0</td>\n",
       "      <td>84.0</td>\n",
       "      <td>3.0</td>\n",
       "      <td>234.0</td>\n",
       "      <td>424.0</td>\n",
       "    </tr>\n",
       "    <tr>\n",
       "      <th>4</th>\n",
       "      <td>2</td>\n",
       "      <td>10000000.0</td>\n",
       "      <td>100.00</td>\n",
       "      <td>2018-06-19T00:00:00</td>\n",
       "      <td>2</td>\n",
       "      <td>3.03</td>\n",
       "      <td>14.0</td>\n",
       "      <td>32.0</td>\n",
       "      <td>13</td>\n",
       "      <td>NaN</td>\n",
       "      <td>...</td>\n",
       "      <td>41.00</td>\n",
       "      <td>NaN</td>\n",
       "      <td>Санкт-Петербург</td>\n",
       "      <td>31856.0</td>\n",
       "      <td>8098.0</td>\n",
       "      <td>2.0</td>\n",
       "      <td>112.0</td>\n",
       "      <td>1.0</td>\n",
       "      <td>48.0</td>\n",
       "      <td>121.0</td>\n",
       "    </tr>\n",
       "    <tr>\n",
       "      <th>...</th>\n",
       "      <td>...</td>\n",
       "      <td>...</td>\n",
       "      <td>...</td>\n",
       "      <td>...</td>\n",
       "      <td>...</td>\n",
       "      <td>...</td>\n",
       "      <td>...</td>\n",
       "      <td>...</td>\n",
       "      <td>...</td>\n",
       "      <td>...</td>\n",
       "      <td>...</td>\n",
       "      <td>...</td>\n",
       "      <td>...</td>\n",
       "      <td>...</td>\n",
       "      <td>...</td>\n",
       "      <td>...</td>\n",
       "      <td>...</td>\n",
       "      <td>...</td>\n",
       "      <td>...</td>\n",
       "      <td>...</td>\n",
       "      <td>...</td>\n",
       "    </tr>\n",
       "    <tr>\n",
       "      <th>23694</th>\n",
       "      <td>9</td>\n",
       "      <td>9700000.0</td>\n",
       "      <td>133.81</td>\n",
       "      <td>2017-03-21T00:00:00</td>\n",
       "      <td>3</td>\n",
       "      <td>3.70</td>\n",
       "      <td>5.0</td>\n",
       "      <td>73.3</td>\n",
       "      <td>3</td>\n",
       "      <td>NaN</td>\n",
       "      <td>...</td>\n",
       "      <td>13.83</td>\n",
       "      <td>NaN</td>\n",
       "      <td>Санкт-Петербург</td>\n",
       "      <td>24665.0</td>\n",
       "      <td>4232.0</td>\n",
       "      <td>1.0</td>\n",
       "      <td>796.0</td>\n",
       "      <td>3.0</td>\n",
       "      <td>381.0</td>\n",
       "      <td>NaN</td>\n",
       "    </tr>\n",
       "    <tr>\n",
       "      <th>23695</th>\n",
       "      <td>14</td>\n",
       "      <td>3100000.0</td>\n",
       "      <td>59.00</td>\n",
       "      <td>2018-01-15T00:00:00</td>\n",
       "      <td>3</td>\n",
       "      <td>NaN</td>\n",
       "      <td>5.0</td>\n",
       "      <td>38.0</td>\n",
       "      <td>4</td>\n",
       "      <td>NaN</td>\n",
       "      <td>...</td>\n",
       "      <td>8.50</td>\n",
       "      <td>NaN</td>\n",
       "      <td>Тосно</td>\n",
       "      <td>NaN</td>\n",
       "      <td>NaN</td>\n",
       "      <td>NaN</td>\n",
       "      <td>NaN</td>\n",
       "      <td>NaN</td>\n",
       "      <td>NaN</td>\n",
       "      <td>45.0</td>\n",
       "    </tr>\n",
       "    <tr>\n",
       "      <th>23696</th>\n",
       "      <td>18</td>\n",
       "      <td>2500000.0</td>\n",
       "      <td>56.70</td>\n",
       "      <td>2018-02-11T00:00:00</td>\n",
       "      <td>2</td>\n",
       "      <td>NaN</td>\n",
       "      <td>3.0</td>\n",
       "      <td>29.7</td>\n",
       "      <td>1</td>\n",
       "      <td>NaN</td>\n",
       "      <td>...</td>\n",
       "      <td>NaN</td>\n",
       "      <td>NaN</td>\n",
       "      <td>село Рождествено</td>\n",
       "      <td>NaN</td>\n",
       "      <td>NaN</td>\n",
       "      <td>NaN</td>\n",
       "      <td>NaN</td>\n",
       "      <td>NaN</td>\n",
       "      <td>NaN</td>\n",
       "      <td>NaN</td>\n",
       "    </tr>\n",
       "    <tr>\n",
       "      <th>23697</th>\n",
       "      <td>13</td>\n",
       "      <td>11475000.0</td>\n",
       "      <td>76.75</td>\n",
       "      <td>2017-03-28T00:00:00</td>\n",
       "      <td>2</td>\n",
       "      <td>3.00</td>\n",
       "      <td>17.0</td>\n",
       "      <td>NaN</td>\n",
       "      <td>12</td>\n",
       "      <td>NaN</td>\n",
       "      <td>...</td>\n",
       "      <td>23.30</td>\n",
       "      <td>2.0</td>\n",
       "      <td>Санкт-Петербург</td>\n",
       "      <td>39140.0</td>\n",
       "      <td>10364.0</td>\n",
       "      <td>2.0</td>\n",
       "      <td>173.0</td>\n",
       "      <td>3.0</td>\n",
       "      <td>196.0</td>\n",
       "      <td>602.0</td>\n",
       "    </tr>\n",
       "    <tr>\n",
       "      <th>23698</th>\n",
       "      <td>4</td>\n",
       "      <td>1350000.0</td>\n",
       "      <td>32.30</td>\n",
       "      <td>2017-07-21T00:00:00</td>\n",
       "      <td>1</td>\n",
       "      <td>2.50</td>\n",
       "      <td>5.0</td>\n",
       "      <td>12.3</td>\n",
       "      <td>1</td>\n",
       "      <td>NaN</td>\n",
       "      <td>...</td>\n",
       "      <td>9.00</td>\n",
       "      <td>NaN</td>\n",
       "      <td>поселок Новый Учхоз</td>\n",
       "      <td>NaN</td>\n",
       "      <td>NaN</td>\n",
       "      <td>NaN</td>\n",
       "      <td>NaN</td>\n",
       "      <td>NaN</td>\n",
       "      <td>NaN</td>\n",
       "      <td>NaN</td>\n",
       "    </tr>\n",
       "  </tbody>\n",
       "</table>\n",
       "<p>23699 rows × 22 columns</p>\n",
       "</div>"
      ],
      "text/plain": [
       "       total_images  last_price  total_area first_day_exposition  rooms  \\\n",
       "0                20  13000000.0      108.00  2019-03-07T00:00:00      3   \n",
       "1                 7   3350000.0       40.40  2018-12-04T00:00:00      1   \n",
       "2                10   5196000.0       56.00  2015-08-20T00:00:00      2   \n",
       "3                 0  64900000.0      159.00  2015-07-24T00:00:00      3   \n",
       "4                 2  10000000.0      100.00  2018-06-19T00:00:00      2   \n",
       "...             ...         ...         ...                  ...    ...   \n",
       "23694             9   9700000.0      133.81  2017-03-21T00:00:00      3   \n",
       "23695            14   3100000.0       59.00  2018-01-15T00:00:00      3   \n",
       "23696            18   2500000.0       56.70  2018-02-11T00:00:00      2   \n",
       "23697            13  11475000.0       76.75  2017-03-28T00:00:00      2   \n",
       "23698             4   1350000.0       32.30  2017-07-21T00:00:00      1   \n",
       "\n",
       "       ceiling_height  floors_total  living_area  floor is_apartment  ...  \\\n",
       "0                2.70          16.0         51.0      8          NaN  ...   \n",
       "1                 NaN          11.0         18.6      1          NaN  ...   \n",
       "2                 NaN           5.0         34.3      4          NaN  ...   \n",
       "3                 NaN          14.0          NaN      9          NaN  ...   \n",
       "4                3.03          14.0         32.0     13          NaN  ...   \n",
       "...               ...           ...          ...    ...          ...  ...   \n",
       "23694            3.70           5.0         73.3      3          NaN  ...   \n",
       "23695             NaN           5.0         38.0      4          NaN  ...   \n",
       "23696             NaN           3.0         29.7      1          NaN  ...   \n",
       "23697            3.00          17.0          NaN     12          NaN  ...   \n",
       "23698            2.50           5.0         12.3      1          NaN  ...   \n",
       "\n",
       "       kitchen_area  balcony        locality_name  airports_nearest  \\\n",
       "0             25.00      NaN      Санкт-Петербург           18863.0   \n",
       "1             11.00      2.0       посёлок Шушары           12817.0   \n",
       "2              8.30      0.0      Санкт-Петербург           21741.0   \n",
       "3               NaN      0.0      Санкт-Петербург           28098.0   \n",
       "4             41.00      NaN      Санкт-Петербург           31856.0   \n",
       "...             ...      ...                  ...               ...   \n",
       "23694         13.83      NaN      Санкт-Петербург           24665.0   \n",
       "23695          8.50      NaN                Тосно               NaN   \n",
       "23696           NaN      NaN     село Рождествено               NaN   \n",
       "23697         23.30      2.0      Санкт-Петербург           39140.0   \n",
       "23698          9.00      NaN  поселок Новый Учхоз               NaN   \n",
       "\n",
       "      cityCenters_nearest  parks_around3000  parks_nearest  ponds_around3000  \\\n",
       "0                 16028.0               1.0          482.0               2.0   \n",
       "1                 18603.0               0.0            NaN               0.0   \n",
       "2                 13933.0               1.0           90.0               2.0   \n",
       "3                  6800.0               2.0           84.0               3.0   \n",
       "4                  8098.0               2.0          112.0               1.0   \n",
       "...                   ...               ...            ...               ...   \n",
       "23694              4232.0               1.0          796.0               3.0   \n",
       "23695                 NaN               NaN            NaN               NaN   \n",
       "23696                 NaN               NaN            NaN               NaN   \n",
       "23697             10364.0               2.0          173.0               3.0   \n",
       "23698                 NaN               NaN            NaN               NaN   \n",
       "\n",
       "       ponds_nearest  days_exposition  \n",
       "0              755.0              NaN  \n",
       "1                NaN             81.0  \n",
       "2              574.0            558.0  \n",
       "3              234.0            424.0  \n",
       "4               48.0            121.0  \n",
       "...              ...              ...  \n",
       "23694          381.0              NaN  \n",
       "23695            NaN             45.0  \n",
       "23696            NaN              NaN  \n",
       "23697          196.0            602.0  \n",
       "23698            NaN              NaN  \n",
       "\n",
       "[23699 rows x 22 columns]"
      ]
     },
     "metadata": {},
     "output_type": "display_data"
    }
   ],
   "source": [
    "try:\n",
    "    df = pd.read_csv('/Users/Sergej/Desktop/Practicum/Project_3/real_estate_data.csv', sep='\\t')\n",
    "except:\n",
    "    df = pd.read_csv('/datasets/real_estate_data.csv', sep='\\t')\n",
    "\n",
    "display(df)"
   ]
  },
  {
   "cell_type": "code",
   "execution_count": 3,
   "id": "20738413",
   "metadata": {},
   "outputs": [
    {
     "name": "stdout",
     "output_type": "stream",
     "text": [
      "Index(['total_images', 'last_price', 'total_area', 'first_day_exposition',\n",
      "       'rooms', 'ceiling_height', 'floors_total', 'living_area', 'floor',\n",
      "       'is_apartment', 'studio', 'open_plan', 'kitchen_area', 'balcony',\n",
      "       'locality_name', 'airports_nearest', 'citycenters_nearest',\n",
      "       'parks_around_3000', 'parks_nearest', 'ponds_around_3000',\n",
      "       'ponds_nearest', 'days_exposition'],\n",
      "      dtype='object')\n"
     ]
    }
   ],
   "source": [
    "#приведем названия столбцов к стандартному виду \n",
    "df.columns = df.columns.str.lower().str.replace(' ', '_')\n",
    "df = df.rename(columns={'ponds_around3000': 'ponds_around_3000', 'parks_around3000': 'parks_around_3000'})\n",
    "print(df.columns)"
   ]
  },
  {
   "cell_type": "markdown",
   "id": "ce0eaf35",
   "metadata": {},
   "source": [
    "Построение гистограмм для столбцов датафрейма"
   ]
  },
  {
   "cell_type": "code",
   "execution_count": 4,
   "id": "2c3dbbc6",
   "metadata": {},
   "outputs": [
    {
     "data": {
      "image/png": "[encoded data removed]",
      "text/plain": [
       "<Figure size 1440x1440 with 20 Axes>"
      ]
     },
     "metadata": {
      "needs_background": "light"
     },
     "output_type": "display_data"
    }
   ],
   "source": [
    "df.hist(figsize=(20, 20));"
   ]
  },
  {
   "cell_type": "markdown",
   "id": "1f40ac42",
   "metadata": {},
   "source": [
    "# Шаг 2 \n",
    "1. Найдите и изучите пропущенные значения в столбцах:\n",
    "  * Определите, в каких столбцах есть пропуски.\n",
    "  * Заполните пропущенные значения там, где это возможно. \n",
    "  * В ячейке с типом markdown укажите причины, которые могли привести к пропускам в данных.\n",
    "\n",
    "\n",
    "2. Рассмотрите типы данных в каждом столбце:\n",
    "  * Найдите столбцы, в которых нужно изменить тип данных.\n",
    "  * Преобразуйте тип данных в выбранных столбцах.\n",
    "  * В ячейке с типом markdown поясните, почему нужно изменить тип данных.\n",
    "\n",
    "\n",
    "3. Изучите уникальные значения в столбце с названиями и устраните неявные дубликаты.\n",
    "\n",
    "\n",
    "4. Найдите и устраните редкие и выбивающиеся значения.\n",
    "  * Если природа аномалии понятна и данные действительно искажены, то восстановите корректное значение.\n",
    "  * В противном случае удалите редкие и выбивающиеся значения.\n",
    "  * В ячейке с типом markdown опишите, какие особенности в данных вы обнаружили.\n"
   ]
  },
  {
   "cell_type": "markdown",
   "id": "d7ccb152",
   "metadata": {},
   "source": [
    "### Работа с пропусками"
   ]
  },
  {
   "cell_type": "code",
   "execution_count": 5,
   "id": "f3d0c9d7",
   "metadata": {},
   "outputs": [
    {
     "name": "stdout",
     "output_type": "stream",
     "text": [
      "total_images            0.000000\n",
      "last_price              0.000000\n",
      "total_area              0.000000\n",
      "first_day_exposition    0.000000\n",
      "rooms                   0.000000\n",
      "ceiling_height          0.387991\n",
      "floors_total            0.003629\n",
      "living_area             0.080299\n",
      "floor                   0.000000\n",
      "is_apartment            0.882906\n",
      "studio                  0.000000\n",
      "open_plan               0.000000\n",
      "kitchen_area            0.096122\n",
      "balcony                 0.486054\n",
      "locality_name           0.002068\n",
      "airports_nearest        0.233850\n",
      "citycenters_nearest     0.232879\n",
      "parks_around_3000       0.232837\n",
      "parks_nearest           0.659100\n",
      "ponds_around_3000       0.232837\n",
      "ponds_nearest           0.615596\n",
      "days_exposition         0.134225\n",
      "dtype: float64\n",
      "<class 'pandas.core.frame.DataFrame'>\n",
      "RangeIndex: 23699 entries, 0 to 23698\n",
      "Data columns (total 22 columns):\n",
      " #   Column                Non-Null Count  Dtype  \n",
      "---  ------                --------------  -----  \n",
      " 0   total_images          23699 non-null  int64  \n",
      " 1   last_price            23699 non-null  float64\n",
      " 2   total_area            23699 non-null  float64\n",
      " 3   first_day_exposition  23699 non-null  object \n",
      " 4   rooms                 23699 non-null  int64  \n",
      " 5   ceiling_height        14504 non-null  float64\n",
      " 6   floors_total          23613 non-null  float64\n",
      " 7   living_area           21796 non-null  float64\n",
      " 8   floor                 23699 non-null  int64  \n",
      " 9   is_apartment          2775 non-null   object \n",
      " 10  studio                23699 non-null  bool   \n",
      " 11  open_plan             23699 non-null  bool   \n",
      " 12  kitchen_area          21421 non-null  float64\n",
      " 13  balcony               12180 non-null  float64\n",
      " 14  locality_name         23650 non-null  object \n",
      " 15  airports_nearest      18157 non-null  float64\n",
      " 16  citycenters_nearest   18180 non-null  float64\n",
      " 17  parks_around_3000     18181 non-null  float64\n",
      " 18  parks_nearest         8079 non-null   float64\n",
      " 19  ponds_around_3000     18181 non-null  float64\n",
      " 20  ponds_nearest         9110 non-null   float64\n",
      " 21  days_exposition       20518 non-null  float64\n",
      "dtypes: bool(2), float64(14), int64(3), object(3)\n",
      "memory usage: 3.7+ MB\n",
      "None\n"
     ]
    }
   ],
   "source": [
    "print(df.isna().mean())\n",
    "print(df.info())"
   ]
  },
  {
   "cell_type": "markdown",
   "id": "db3d174a",
   "metadata": {},
   "source": [
    "\n",
    "1. \n",
    "   * is_apartment - скорее всего, NaN - это знак того, что помещение не является апартаментом. Можем поменять значение на False\n",
    "   * balcony - скорее всего, NaN - это знак того, что в помещении нет балкона. Можем поменять значение на `0`\n",
    "\n",
    "\n",
    "2. \n",
    "   * kitchen_area\n",
    "   * living_area\n",
    "   * floors_total\n",
    "   * ceiling_height\n",
    "   * locality_name           \n",
    "   * airports_nearest        \n",
    "   * cityCenters_nearest     \n",
    "   * parks_around_3000        \n",
    "   * parks_nearest           \n",
    "   * ponds_around_3000        \n",
    "   * ponds_nearest           \n",
    "   * days_exposition\n",
    "\n",
    "   Эти значения хозяин мог не знать или не хотеть указывать; или при обработке данные могли повредиться. Мы не можем заполнить их по своему усмотрению. "
   ]
  },
  {
   "cell_type": "markdown",
   "id": "c4aec860",
   "metadata": {},
   "source": [
    "Заполним пропуски в столбцах `is_apartmnet` и `balcony`"
   ]
  },
  {
   "cell_type": "code",
   "execution_count": 6,
   "id": "514ec5b5",
   "metadata": {},
   "outputs": [
    {
     "data": {
      "text/plain": [
       "total_images            0.000000\n",
       "last_price              0.000000\n",
       "total_area              0.000000\n",
       "first_day_exposition    0.000000\n",
       "rooms                   0.000000\n",
       "ceiling_height          0.387991\n",
       "floors_total            0.003629\n",
       "living_area             0.080299\n",
       "floor                   0.000000\n",
       "is_apartment            0.000000\n",
       "studio                  0.000000\n",
       "open_plan               0.000000\n",
       "kitchen_area            0.096122\n",
       "balcony                 0.000000\n",
       "locality_name           0.002068\n",
       "airports_nearest        0.233850\n",
       "citycenters_nearest     0.232879\n",
       "parks_around_3000       0.232837\n",
       "parks_nearest           0.659100\n",
       "ponds_around_3000       0.232837\n",
       "ponds_nearest           0.615596\n",
       "days_exposition         0.134225\n",
       "dtype: float64"
      ]
     },
     "execution_count": 6,
     "metadata": {},
     "output_type": "execute_result"
    }
   ],
   "source": [
    "df['is_apartment'] = df['is_apartment'].fillna(False)\n",
    "df['balcony'] = df['balcony'].fillna(0)\n",
    "df.isna().mean()"
   ]
  },
  {
   "cell_type": "markdown",
   "id": "d8536897",
   "metadata": {},
   "source": [
    "### Изменение типов данных "
   ]
  },
  {
   "cell_type": "code",
   "execution_count": 7,
   "id": "5730e9ba",
   "metadata": {},
   "outputs": [
    {
     "data": {
      "text/html": [
       "<div>\n",
       "<style scoped>\n",
       "    .dataframe tbody tr th:only-of-type {\n",
       "        vertical-align: middle;\n",
       "    }\n",
       "\n",
       "    .dataframe tbody tr th {\n",
       "        vertical-align: top;\n",
       "    }\n",
       "\n",
       "    .dataframe thead th {\n",
       "        text-align: right;\n",
       "    }\n",
       "</style>\n",
       "<table border=\"1\" class=\"dataframe\">\n",
       "  <thead>\n",
       "    <tr style=\"text-align: right;\">\n",
       "      <th></th>\n",
       "      <th>total_images</th>\n",
       "      <th>last_price</th>\n",
       "      <th>total_area</th>\n",
       "      <th>first_day_exposition</th>\n",
       "      <th>rooms</th>\n",
       "      <th>ceiling_height</th>\n",
       "      <th>floors_total</th>\n",
       "      <th>living_area</th>\n",
       "      <th>floor</th>\n",
       "      <th>is_apartment</th>\n",
       "      <th>studio</th>\n",
       "      <th>open_plan</th>\n",
       "      <th>kitchen_area</th>\n",
       "      <th>balcony</th>\n",
       "      <th>locality_name</th>\n",
       "      <th>airports_nearest</th>\n",
       "      <th>citycenters_nearest</th>\n",
       "      <th>parks_around_3000</th>\n",
       "      <th>parks_nearest</th>\n",
       "      <th>ponds_around_3000</th>\n",
       "      <th>ponds_nearest</th>\n",
       "      <th>days_exposition</th>\n",
       "    </tr>\n",
       "  </thead>\n",
       "  <tbody>\n",
       "    <tr>\n",
       "      <th>0</th>\n",
       "      <td>20</td>\n",
       "      <td>13000000.0</td>\n",
       "      <td>108.0</td>\n",
       "      <td>2019-03-07T00:00:00</td>\n",
       "      <td>3</td>\n",
       "      <td>2.70</td>\n",
       "      <td>16.0</td>\n",
       "      <td>51.0</td>\n",
       "      <td>8</td>\n",
       "      <td>False</td>\n",
       "      <td>False</td>\n",
       "      <td>False</td>\n",
       "      <td>25.0</td>\n",
       "      <td>0.0</td>\n",
       "      <td>Санкт-Петербург</td>\n",
       "      <td>18863.0</td>\n",
       "      <td>16028.0</td>\n",
       "      <td>1.0</td>\n",
       "      <td>482.0</td>\n",
       "      <td>2.0</td>\n",
       "      <td>755.0</td>\n",
       "      <td>NaN</td>\n",
       "    </tr>\n",
       "    <tr>\n",
       "      <th>1</th>\n",
       "      <td>7</td>\n",
       "      <td>3350000.0</td>\n",
       "      <td>40.4</td>\n",
       "      <td>2018-12-04T00:00:00</td>\n",
       "      <td>1</td>\n",
       "      <td>NaN</td>\n",
       "      <td>11.0</td>\n",
       "      <td>18.6</td>\n",
       "      <td>1</td>\n",
       "      <td>False</td>\n",
       "      <td>False</td>\n",
       "      <td>False</td>\n",
       "      <td>11.0</td>\n",
       "      <td>2.0</td>\n",
       "      <td>посёлок Шушары</td>\n",
       "      <td>12817.0</td>\n",
       "      <td>18603.0</td>\n",
       "      <td>0.0</td>\n",
       "      <td>NaN</td>\n",
       "      <td>0.0</td>\n",
       "      <td>NaN</td>\n",
       "      <td>81.0</td>\n",
       "    </tr>\n",
       "    <tr>\n",
       "      <th>2</th>\n",
       "      <td>10</td>\n",
       "      <td>5196000.0</td>\n",
       "      <td>56.0</td>\n",
       "      <td>2015-08-20T00:00:00</td>\n",
       "      <td>2</td>\n",
       "      <td>NaN</td>\n",
       "      <td>5.0</td>\n",
       "      <td>34.3</td>\n",
       "      <td>4</td>\n",
       "      <td>False</td>\n",
       "      <td>False</td>\n",
       "      <td>False</td>\n",
       "      <td>8.3</td>\n",
       "      <td>0.0</td>\n",
       "      <td>Санкт-Петербург</td>\n",
       "      <td>21741.0</td>\n",
       "      <td>13933.0</td>\n",
       "      <td>1.0</td>\n",
       "      <td>90.0</td>\n",
       "      <td>2.0</td>\n",
       "      <td>574.0</td>\n",
       "      <td>558.0</td>\n",
       "    </tr>\n",
       "    <tr>\n",
       "      <th>3</th>\n",
       "      <td>0</td>\n",
       "      <td>64900000.0</td>\n",
       "      <td>159.0</td>\n",
       "      <td>2015-07-24T00:00:00</td>\n",
       "      <td>3</td>\n",
       "      <td>NaN</td>\n",
       "      <td>14.0</td>\n",
       "      <td>NaN</td>\n",
       "      <td>9</td>\n",
       "      <td>False</td>\n",
       "      <td>False</td>\n",
       "      <td>False</td>\n",
       "      <td>NaN</td>\n",
       "      <td>0.0</td>\n",
       "      <td>Санкт-Петербург</td>\n",
       "      <td>28098.0</td>\n",
       "      <td>6800.0</td>\n",
       "      <td>2.0</td>\n",
       "      <td>84.0</td>\n",
       "      <td>3.0</td>\n",
       "      <td>234.0</td>\n",
       "      <td>424.0</td>\n",
       "    </tr>\n",
       "    <tr>\n",
       "      <th>4</th>\n",
       "      <td>2</td>\n",
       "      <td>10000000.0</td>\n",
       "      <td>100.0</td>\n",
       "      <td>2018-06-19T00:00:00</td>\n",
       "      <td>2</td>\n",
       "      <td>3.03</td>\n",
       "      <td>14.0</td>\n",
       "      <td>32.0</td>\n",
       "      <td>13</td>\n",
       "      <td>False</td>\n",
       "      <td>False</td>\n",
       "      <td>False</td>\n",
       "      <td>41.0</td>\n",
       "      <td>0.0</td>\n",
       "      <td>Санкт-Петербург</td>\n",
       "      <td>31856.0</td>\n",
       "      <td>8098.0</td>\n",
       "      <td>2.0</td>\n",
       "      <td>112.0</td>\n",
       "      <td>1.0</td>\n",
       "      <td>48.0</td>\n",
       "      <td>121.0</td>\n",
       "    </tr>\n",
       "  </tbody>\n",
       "</table>\n",
       "</div>"
      ],
      "text/plain": [
       "   total_images  last_price  total_area first_day_exposition  rooms  \\\n",
       "0            20  13000000.0       108.0  2019-03-07T00:00:00      3   \n",
       "1             7   3350000.0        40.4  2018-12-04T00:00:00      1   \n",
       "2            10   5196000.0        56.0  2015-08-20T00:00:00      2   \n",
       "3             0  64900000.0       159.0  2015-07-24T00:00:00      3   \n",
       "4             2  10000000.0       100.0  2018-06-19T00:00:00      2   \n",
       "\n",
       "   ceiling_height  floors_total  living_area  floor  is_apartment  studio  \\\n",
       "0            2.70          16.0         51.0      8         False   False   \n",
       "1             NaN          11.0         18.6      1         False   False   \n",
       "2             NaN           5.0         34.3      4         False   False   \n",
       "3             NaN          14.0          NaN      9         False   False   \n",
       "4            3.03          14.0         32.0     13         False   False   \n",
       "\n",
       "   open_plan  kitchen_area  balcony    locality_name  airports_nearest  \\\n",
       "0      False          25.0      0.0  Санкт-Петербург           18863.0   \n",
       "1      False          11.0      2.0   посёлок Шушары           12817.0   \n",
       "2      False           8.3      0.0  Санкт-Петербург           21741.0   \n",
       "3      False           NaN      0.0  Санкт-Петербург           28098.0   \n",
       "4      False          41.0      0.0  Санкт-Петербург           31856.0   \n",
       "\n",
       "   citycenters_nearest  parks_around_3000  parks_nearest  ponds_around_3000  \\\n",
       "0              16028.0                1.0          482.0                2.0   \n",
       "1              18603.0                0.0            NaN                0.0   \n",
       "2              13933.0                1.0           90.0                2.0   \n",
       "3               6800.0                2.0           84.0                3.0   \n",
       "4               8098.0                2.0          112.0                1.0   \n",
       "\n",
       "   ponds_nearest  days_exposition  \n",
       "0          755.0              NaN  \n",
       "1            NaN             81.0  \n",
       "2          574.0            558.0  \n",
       "3          234.0            424.0  \n",
       "4           48.0            121.0  "
      ]
     },
     "metadata": {},
     "output_type": "display_data"
    },
    {
     "name": "stdout",
     "output_type": "stream",
     "text": [
      "<class 'pandas.core.frame.DataFrame'>\n",
      "RangeIndex: 23699 entries, 0 to 23698\n",
      "Data columns (total 22 columns):\n",
      " #   Column                Non-Null Count  Dtype  \n",
      "---  ------                --------------  -----  \n",
      " 0   total_images          23699 non-null  int64  \n",
      " 1   last_price            23699 non-null  float64\n",
      " 2   total_area            23699 non-null  float64\n",
      " 3   first_day_exposition  23699 non-null  object \n",
      " 4   rooms                 23699 non-null  int64  \n",
      " 5   ceiling_height        14504 non-null  float64\n",
      " 6   floors_total          23613 non-null  float64\n",
      " 7   living_area           21796 non-null  float64\n",
      " 8   floor                 23699 non-null  int64  \n",
      " 9   is_apartment          23699 non-null  bool   \n",
      " 10  studio                23699 non-null  bool   \n",
      " 11  open_plan             23699 non-null  bool   \n",
      " 12  kitchen_area          21421 non-null  float64\n",
      " 13  balcony               23699 non-null  float64\n",
      " 14  locality_name         23650 non-null  object \n",
      " 15  airports_nearest      18157 non-null  float64\n",
      " 16  citycenters_nearest   18180 non-null  float64\n",
      " 17  parks_around_3000     18181 non-null  float64\n",
      " 18  parks_nearest         8079 non-null   float64\n",
      " 19  ponds_around_3000     18181 non-null  float64\n",
      " 20  ponds_nearest         9110 non-null   float64\n",
      " 21  days_exposition       20518 non-null  float64\n",
      "dtypes: bool(3), float64(14), int64(3), object(2)\n",
      "memory usage: 3.5+ MB\n"
     ]
    },
    {
     "data": {
      "text/plain": [
       "None"
      ]
     },
     "metadata": {},
     "output_type": "display_data"
    }
   ],
   "source": [
    "pd.set_option('display.max_columns', None)\n",
    "display(df.head()) \n",
    "display(df.info())"
   ]
  },
  {
   "cell_type": "markdown",
   "id": "621dcd5b",
   "metadata": {},
   "source": [
    "В столбце `first_day_exposition` нужно настроить корректный вывод даты. Остальные значения соответствуют своим типам. Конечно, есть значения, которые могут быть только целыми и можно их преобразовать методом `astype()`, но у меня не получается это сделать: после применения `df['balcony'].astype('int', errors='ignore')` столбец остается без изменений. Можно сначала занулить значения NaN, а потом применить astype() но тогда данные могут быть искажены. Я решил не менять тип float на int. \n",
    "\n",
    "§ Пожалуйста, напишите, как можно изменить float на int, и при этом оставить NaN без изменений? "
   ]
  },
  {
   "cell_type": "code",
   "execution_count": 8,
   "id": "04eee35a",
   "metadata": {},
   "outputs": [
    {
     "data": {
      "text/html": [
       "<div>\n",
       "<style scoped>\n",
       "    .dataframe tbody tr th:only-of-type {\n",
       "        vertical-align: middle;\n",
       "    }\n",
       "\n",
       "    .dataframe tbody tr th {\n",
       "        vertical-align: top;\n",
       "    }\n",
       "\n",
       "    .dataframe thead th {\n",
       "        text-align: right;\n",
       "    }\n",
       "</style>\n",
       "<table border=\"1\" class=\"dataframe\">\n",
       "  <thead>\n",
       "    <tr style=\"text-align: right;\">\n",
       "      <th></th>\n",
       "      <th>total_images</th>\n",
       "      <th>last_price</th>\n",
       "      <th>total_area</th>\n",
       "      <th>first_day_exposition</th>\n",
       "      <th>rooms</th>\n",
       "      <th>ceiling_height</th>\n",
       "      <th>floors_total</th>\n",
       "      <th>living_area</th>\n",
       "      <th>floor</th>\n",
       "      <th>is_apartment</th>\n",
       "      <th>studio</th>\n",
       "      <th>open_plan</th>\n",
       "      <th>kitchen_area</th>\n",
       "      <th>balcony</th>\n",
       "      <th>locality_name</th>\n",
       "      <th>airports_nearest</th>\n",
       "      <th>citycenters_nearest</th>\n",
       "      <th>parks_around_3000</th>\n",
       "      <th>parks_nearest</th>\n",
       "      <th>ponds_around_3000</th>\n",
       "      <th>ponds_nearest</th>\n",
       "      <th>days_exposition</th>\n",
       "    </tr>\n",
       "  </thead>\n",
       "  <tbody>\n",
       "    <tr>\n",
       "      <th>0</th>\n",
       "      <td>20</td>\n",
       "      <td>13000000.0</td>\n",
       "      <td>108.0</td>\n",
       "      <td>2019-03-07T00:00:00</td>\n",
       "      <td>3</td>\n",
       "      <td>2.70</td>\n",
       "      <td>16.0</td>\n",
       "      <td>51.0</td>\n",
       "      <td>8</td>\n",
       "      <td>False</td>\n",
       "      <td>False</td>\n",
       "      <td>False</td>\n",
       "      <td>25.0</td>\n",
       "      <td>0.0</td>\n",
       "      <td>Санкт-Петербург</td>\n",
       "      <td>18863.0</td>\n",
       "      <td>16028.0</td>\n",
       "      <td>1.0</td>\n",
       "      <td>482.0</td>\n",
       "      <td>2.0</td>\n",
       "      <td>755.0</td>\n",
       "      <td>NaN</td>\n",
       "    </tr>\n",
       "    <tr>\n",
       "      <th>1</th>\n",
       "      <td>7</td>\n",
       "      <td>3350000.0</td>\n",
       "      <td>40.4</td>\n",
       "      <td>2018-12-04T00:00:00</td>\n",
       "      <td>1</td>\n",
       "      <td>NaN</td>\n",
       "      <td>11.0</td>\n",
       "      <td>18.6</td>\n",
       "      <td>1</td>\n",
       "      <td>False</td>\n",
       "      <td>False</td>\n",
       "      <td>False</td>\n",
       "      <td>11.0</td>\n",
       "      <td>2.0</td>\n",
       "      <td>посёлок Шушары</td>\n",
       "      <td>12817.0</td>\n",
       "      <td>18603.0</td>\n",
       "      <td>0.0</td>\n",
       "      <td>NaN</td>\n",
       "      <td>0.0</td>\n",
       "      <td>NaN</td>\n",
       "      <td>81.0</td>\n",
       "    </tr>\n",
       "    <tr>\n",
       "      <th>2</th>\n",
       "      <td>10</td>\n",
       "      <td>5196000.0</td>\n",
       "      <td>56.0</td>\n",
       "      <td>2015-08-20T00:00:00</td>\n",
       "      <td>2</td>\n",
       "      <td>NaN</td>\n",
       "      <td>5.0</td>\n",
       "      <td>34.3</td>\n",
       "      <td>4</td>\n",
       "      <td>False</td>\n",
       "      <td>False</td>\n",
       "      <td>False</td>\n",
       "      <td>8.3</td>\n",
       "      <td>0.0</td>\n",
       "      <td>Санкт-Петербург</td>\n",
       "      <td>21741.0</td>\n",
       "      <td>13933.0</td>\n",
       "      <td>1.0</td>\n",
       "      <td>90.0</td>\n",
       "      <td>2.0</td>\n",
       "      <td>574.0</td>\n",
       "      <td>558.0</td>\n",
       "    </tr>\n",
       "    <tr>\n",
       "      <th>3</th>\n",
       "      <td>0</td>\n",
       "      <td>64900000.0</td>\n",
       "      <td>159.0</td>\n",
       "      <td>2015-07-24T00:00:00</td>\n",
       "      <td>3</td>\n",
       "      <td>NaN</td>\n",
       "      <td>14.0</td>\n",
       "      <td>NaN</td>\n",
       "      <td>9</td>\n",
       "      <td>False</td>\n",
       "      <td>False</td>\n",
       "      <td>False</td>\n",
       "      <td>NaN</td>\n",
       "      <td>0.0</td>\n",
       "      <td>Санкт-Петербург</td>\n",
       "      <td>28098.0</td>\n",
       "      <td>6800.0</td>\n",
       "      <td>2.0</td>\n",
       "      <td>84.0</td>\n",
       "      <td>3.0</td>\n",
       "      <td>234.0</td>\n",
       "      <td>424.0</td>\n",
       "    </tr>\n",
       "    <tr>\n",
       "      <th>4</th>\n",
       "      <td>2</td>\n",
       "      <td>10000000.0</td>\n",
       "      <td>100.0</td>\n",
       "      <td>2018-06-19T00:00:00</td>\n",
       "      <td>2</td>\n",
       "      <td>3.03</td>\n",
       "      <td>14.0</td>\n",
       "      <td>32.0</td>\n",
       "      <td>13</td>\n",
       "      <td>False</td>\n",
       "      <td>False</td>\n",
       "      <td>False</td>\n",
       "      <td>41.0</td>\n",
       "      <td>0.0</td>\n",
       "      <td>Санкт-Петербург</td>\n",
       "      <td>31856.0</td>\n",
       "      <td>8098.0</td>\n",
       "      <td>2.0</td>\n",
       "      <td>112.0</td>\n",
       "      <td>1.0</td>\n",
       "      <td>48.0</td>\n",
       "      <td>121.0</td>\n",
       "    </tr>\n",
       "  </tbody>\n",
       "</table>\n",
       "</div>"
      ],
      "text/plain": [
       "   total_images  last_price  total_area first_day_exposition  rooms  \\\n",
       "0            20  13000000.0       108.0  2019-03-07T00:00:00      3   \n",
       "1             7   3350000.0        40.4  2018-12-04T00:00:00      1   \n",
       "2            10   5196000.0        56.0  2015-08-20T00:00:00      2   \n",
       "3             0  64900000.0       159.0  2015-07-24T00:00:00      3   \n",
       "4             2  10000000.0       100.0  2018-06-19T00:00:00      2   \n",
       "\n",
       "   ceiling_height  floors_total  living_area  floor  is_apartment  studio  \\\n",
       "0            2.70          16.0         51.0      8         False   False   \n",
       "1             NaN          11.0         18.6      1         False   False   \n",
       "2             NaN           5.0         34.3      4         False   False   \n",
       "3             NaN          14.0          NaN      9         False   False   \n",
       "4            3.03          14.0         32.0     13         False   False   \n",
       "\n",
       "   open_plan  kitchen_area  balcony    locality_name  airports_nearest  \\\n",
       "0      False          25.0      0.0  Санкт-Петербург           18863.0   \n",
       "1      False          11.0      2.0   посёлок Шушары           12817.0   \n",
       "2      False           8.3      0.0  Санкт-Петербург           21741.0   \n",
       "3      False           NaN      0.0  Санкт-Петербург           28098.0   \n",
       "4      False          41.0      0.0  Санкт-Петербург           31856.0   \n",
       "\n",
       "   citycenters_nearest  parks_around_3000  parks_nearest  ponds_around_3000  \\\n",
       "0              16028.0                1.0          482.0                2.0   \n",
       "1              18603.0                0.0            NaN                0.0   \n",
       "2              13933.0                1.0           90.0                2.0   \n",
       "3               6800.0                2.0           84.0                3.0   \n",
       "4               8098.0                2.0          112.0                1.0   \n",
       "\n",
       "   ponds_nearest  days_exposition  \n",
       "0          755.0              NaN  \n",
       "1            NaN             81.0  \n",
       "2          574.0            558.0  \n",
       "3          234.0            424.0  \n",
       "4           48.0            121.0  "
      ]
     },
     "metadata": {},
     "output_type": "display_data"
    }
   ],
   "source": [
    "# for name in ['last_price', 'floors_total', 'balcony', 'airports_nearest', 'citycenters_nearest', 'parks_around_3000', 'parks_nearest', 'ponds_around_3000', 'ponds_nearest', 'days_exposition']:\n",
    "#     df[name] = df[name].astype('int', errors='ignore')\n",
    "\n",
    "#df['floors_total'][0] = df['floors_total'].astype(int)\n",
    "\n",
    "display(df.head())"
   ]
  },
  {
   "cell_type": "code",
   "execution_count": 9,
   "id": "5d89c5a8",
   "metadata": {},
   "outputs": [
    {
     "data": {
      "text/html": [
       "<div>\n",
       "<style scoped>\n",
       "    .dataframe tbody tr th:only-of-type {\n",
       "        vertical-align: middle;\n",
       "    }\n",
       "\n",
       "    .dataframe tbody tr th {\n",
       "        vertical-align: top;\n",
       "    }\n",
       "\n",
       "    .dataframe thead th {\n",
       "        text-align: right;\n",
       "    }\n",
       "</style>\n",
       "<table border=\"1\" class=\"dataframe\">\n",
       "  <thead>\n",
       "    <tr style=\"text-align: right;\">\n",
       "      <th></th>\n",
       "      <th>total_images</th>\n",
       "      <th>last_price</th>\n",
       "      <th>total_area</th>\n",
       "      <th>first_day_exposition</th>\n",
       "      <th>rooms</th>\n",
       "      <th>ceiling_height</th>\n",
       "      <th>floors_total</th>\n",
       "      <th>living_area</th>\n",
       "      <th>floor</th>\n",
       "      <th>is_apartment</th>\n",
       "      <th>studio</th>\n",
       "      <th>open_plan</th>\n",
       "      <th>kitchen_area</th>\n",
       "      <th>balcony</th>\n",
       "      <th>locality_name</th>\n",
       "      <th>airports_nearest</th>\n",
       "      <th>citycenters_nearest</th>\n",
       "      <th>parks_around_3000</th>\n",
       "      <th>parks_nearest</th>\n",
       "      <th>ponds_around_3000</th>\n",
       "      <th>ponds_nearest</th>\n",
       "      <th>days_exposition</th>\n",
       "    </tr>\n",
       "  </thead>\n",
       "  <tbody>\n",
       "    <tr>\n",
       "      <th>0</th>\n",
       "      <td>20</td>\n",
       "      <td>13000000.0</td>\n",
       "      <td>108.0</td>\n",
       "      <td>2019-03-07</td>\n",
       "      <td>3</td>\n",
       "      <td>2.70</td>\n",
       "      <td>16.0</td>\n",
       "      <td>51.0</td>\n",
       "      <td>8</td>\n",
       "      <td>False</td>\n",
       "      <td>False</td>\n",
       "      <td>False</td>\n",
       "      <td>25.0</td>\n",
       "      <td>0.0</td>\n",
       "      <td>Санкт-Петербург</td>\n",
       "      <td>18863.0</td>\n",
       "      <td>16028.0</td>\n",
       "      <td>1.0</td>\n",
       "      <td>482.0</td>\n",
       "      <td>2.0</td>\n",
       "      <td>755.0</td>\n",
       "      <td>NaN</td>\n",
       "    </tr>\n",
       "    <tr>\n",
       "      <th>1</th>\n",
       "      <td>7</td>\n",
       "      <td>3350000.0</td>\n",
       "      <td>40.4</td>\n",
       "      <td>2018-12-04</td>\n",
       "      <td>1</td>\n",
       "      <td>NaN</td>\n",
       "      <td>11.0</td>\n",
       "      <td>18.6</td>\n",
       "      <td>1</td>\n",
       "      <td>False</td>\n",
       "      <td>False</td>\n",
       "      <td>False</td>\n",
       "      <td>11.0</td>\n",
       "      <td>2.0</td>\n",
       "      <td>посёлок Шушары</td>\n",
       "      <td>12817.0</td>\n",
       "      <td>18603.0</td>\n",
       "      <td>0.0</td>\n",
       "      <td>NaN</td>\n",
       "      <td>0.0</td>\n",
       "      <td>NaN</td>\n",
       "      <td>81.0</td>\n",
       "    </tr>\n",
       "    <tr>\n",
       "      <th>2</th>\n",
       "      <td>10</td>\n",
       "      <td>5196000.0</td>\n",
       "      <td>56.0</td>\n",
       "      <td>2015-08-20</td>\n",
       "      <td>2</td>\n",
       "      <td>NaN</td>\n",
       "      <td>5.0</td>\n",
       "      <td>34.3</td>\n",
       "      <td>4</td>\n",
       "      <td>False</td>\n",
       "      <td>False</td>\n",
       "      <td>False</td>\n",
       "      <td>8.3</td>\n",
       "      <td>0.0</td>\n",
       "      <td>Санкт-Петербург</td>\n",
       "      <td>21741.0</td>\n",
       "      <td>13933.0</td>\n",
       "      <td>1.0</td>\n",
       "      <td>90.0</td>\n",
       "      <td>2.0</td>\n",
       "      <td>574.0</td>\n",
       "      <td>558.0</td>\n",
       "    </tr>\n",
       "    <tr>\n",
       "      <th>3</th>\n",
       "      <td>0</td>\n",
       "      <td>64900000.0</td>\n",
       "      <td>159.0</td>\n",
       "      <td>2015-07-24</td>\n",
       "      <td>3</td>\n",
       "      <td>NaN</td>\n",
       "      <td>14.0</td>\n",
       "      <td>NaN</td>\n",
       "      <td>9</td>\n",
       "      <td>False</td>\n",
       "      <td>False</td>\n",
       "      <td>False</td>\n",
       "      <td>NaN</td>\n",
       "      <td>0.0</td>\n",
       "      <td>Санкт-Петербург</td>\n",
       "      <td>28098.0</td>\n",
       "      <td>6800.0</td>\n",
       "      <td>2.0</td>\n",
       "      <td>84.0</td>\n",
       "      <td>3.0</td>\n",
       "      <td>234.0</td>\n",
       "      <td>424.0</td>\n",
       "    </tr>\n",
       "    <tr>\n",
       "      <th>4</th>\n",
       "      <td>2</td>\n",
       "      <td>10000000.0</td>\n",
       "      <td>100.0</td>\n",
       "      <td>2018-06-19</td>\n",
       "      <td>2</td>\n",
       "      <td>3.03</td>\n",
       "      <td>14.0</td>\n",
       "      <td>32.0</td>\n",
       "      <td>13</td>\n",
       "      <td>False</td>\n",
       "      <td>False</td>\n",
       "      <td>False</td>\n",
       "      <td>41.0</td>\n",
       "      <td>0.0</td>\n",
       "      <td>Санкт-Петербург</td>\n",
       "      <td>31856.0</td>\n",
       "      <td>8098.0</td>\n",
       "      <td>2.0</td>\n",
       "      <td>112.0</td>\n",
       "      <td>1.0</td>\n",
       "      <td>48.0</td>\n",
       "      <td>121.0</td>\n",
       "    </tr>\n",
       "  </tbody>\n",
       "</table>\n",
       "</div>"
      ],
      "text/plain": [
       "   total_images  last_price  total_area first_day_exposition  rooms  \\\n",
       "0            20  13000000.0       108.0           2019-03-07      3   \n",
       "1             7   3350000.0        40.4           2018-12-04      1   \n",
       "2            10   5196000.0        56.0           2015-08-20      2   \n",
       "3             0  64900000.0       159.0           2015-07-24      3   \n",
       "4             2  10000000.0       100.0           2018-06-19      2   \n",
       "\n",
       "   ceiling_height  floors_total  living_area  floor  is_apartment  studio  \\\n",
       "0            2.70          16.0         51.0      8         False   False   \n",
       "1             NaN          11.0         18.6      1         False   False   \n",
       "2             NaN           5.0         34.3      4         False   False   \n",
       "3             NaN          14.0          NaN      9         False   False   \n",
       "4            3.03          14.0         32.0     13         False   False   \n",
       "\n",
       "   open_plan  kitchen_area  balcony    locality_name  airports_nearest  \\\n",
       "0      False          25.0      0.0  Санкт-Петербург           18863.0   \n",
       "1      False          11.0      2.0   посёлок Шушары           12817.0   \n",
       "2      False           8.3      0.0  Санкт-Петербург           21741.0   \n",
       "3      False           NaN      0.0  Санкт-Петербург           28098.0   \n",
       "4      False          41.0      0.0  Санкт-Петербург           31856.0   \n",
       "\n",
       "   citycenters_nearest  parks_around_3000  parks_nearest  ponds_around_3000  \\\n",
       "0              16028.0                1.0          482.0                2.0   \n",
       "1              18603.0                0.0            NaN                0.0   \n",
       "2              13933.0                1.0           90.0                2.0   \n",
       "3               6800.0                2.0           84.0                3.0   \n",
       "4               8098.0                2.0          112.0                1.0   \n",
       "\n",
       "   ponds_nearest  days_exposition  \n",
       "0          755.0              NaN  \n",
       "1            NaN             81.0  \n",
       "2          574.0            558.0  \n",
       "3          234.0            424.0  \n",
       "4           48.0            121.0  "
      ]
     },
     "metadata": {},
     "output_type": "display_data"
    }
   ],
   "source": [
    "df['first_day_exposition']= pd.to_datetime(df['first_day_exposition'], format='%Y-%m-%dT%H:%M:%S')\n",
    "display(df.head())"
   ]
  },
  {
   "cell_type": "markdown",
   "id": "71a00d77",
   "metadata": {},
   "source": [
    "### Работа с дубликатами"
   ]
  },
  {
   "cell_type": "code",
   "execution_count": 10,
   "id": "a7238ffb",
   "metadata": {},
   "outputs": [
    {
     "name": "stdout",
     "output_type": "stream",
     "text": [
      "['Санкт-Петербург' 'посёлок Шушары' 'городской посёлок Янино-1'\n",
      " 'посёлок Парголово' 'посёлок Мурино' 'Ломоносов' 'Сертолово' 'Петергоф'\n",
      " 'Пушкин' 'деревня Кудрово' 'Коммунар' 'Колпино'\n",
      " 'поселок городского типа Красный Бор' 'Гатчина' 'поселок Мурино'\n",
      " 'деревня Фёдоровское' 'Выборг' 'Кронштадт' 'Кировск'\n",
      " 'деревня Новое Девяткино' 'посёлок Металлострой'\n",
      " 'посёлок городского типа Лебяжье' 'посёлок городского типа Сиверский'\n",
      " 'поселок Молодцово' 'поселок городского типа Кузьмоловский'\n",
      " 'садовое товарищество Новая Ропша' 'Павловск' 'деревня Пикколово'\n",
      " 'Всеволожск' 'Волхов' 'Кингисепп' 'Приозерск' 'Сестрорецк'\n",
      " 'деревня Куттузи' 'посёлок Аннино' 'поселок городского типа Ефимовский'\n",
      " 'посёлок Плодовое' 'деревня Заклинье' 'поселок Торковичи'\n",
      " 'поселок Первомайское' 'Красное Село' 'посёлок Понтонный' 'Сясьстрой'\n",
      " 'деревня Старая' 'деревня Лесколово' 'посёлок Новый Свет' 'Сланцы'\n",
      " 'село Путилово' 'Ивангород' 'Мурино' 'Шлиссельбург' 'Никольское'\n",
      " 'Зеленогорск' 'Сосновый Бор' 'поселок Новый Свет' 'деревня Оржицы'\n",
      " 'деревня Кальтино' 'Кудрово' 'поселок Романовка' 'посёлок Бугры'\n",
      " 'поселок Бугры' 'поселок городского типа Рощино' 'Кириши' 'Луга'\n",
      " 'Волосово' 'Отрадное' 'село Павлово' 'поселок Оредеж' 'село Копорье'\n",
      " 'посёлок городского типа Красный Бор' 'посёлок Молодёжное' 'Тихвин'\n",
      " 'посёлок Победа' 'деревня Нурма' 'поселок городского типа Синявино'\n",
      " 'Тосно' 'посёлок городского типа Кузьмоловский' 'посёлок Стрельна'\n",
      " 'Бокситогорск' 'посёлок Александровская' 'деревня Лопухинка' 'Пикалёво'\n",
      " 'поселок Терволово' 'поселок городского типа Советский' 'Подпорожье'\n",
      " 'посёлок Петровское' 'посёлок городского типа Токсово' 'поселок Сельцо'\n",
      " 'посёлок городского типа Вырица' 'деревня Кипень' 'деревня Келози'\n",
      " 'деревня Вартемяги' 'посёлок Тельмана' 'поселок Севастьяново'\n",
      " 'городской поселок Большая Ижора' nan 'городской посёлок Павлово'\n",
      " 'деревня Агалатово' 'посёлок Новогорелово'\n",
      " 'городской посёлок Лесогорский' 'деревня Лаголово' 'поселок Цвелодубово'\n",
      " 'поселок городского типа Рахья' 'поселок городского типа Вырица'\n",
      " 'деревня Белогорка' 'поселок Заводской' 'городской посёлок Новоселье'\n",
      " 'деревня Большие Колпаны' 'деревня Горбунки' 'деревня Батово'\n",
      " 'деревня Заневка' 'деревня Иссад' 'Приморск'\n",
      " 'городской посёлок Фёдоровское' 'деревня Мистолово' 'Новая Ладога'\n",
      " 'поселок Зимитицы' 'поселок Барышево' 'деревня Разметелево'\n",
      " 'поселок городского типа имени Свердлова' 'деревня Пеники'\n",
      " 'поселок Рябово' 'деревня Пудомяги' 'поселок станции Корнево'\n",
      " 'деревня Низино' 'деревня Бегуницы' 'посёлок Поляны'\n",
      " 'городской посёлок Мга' 'поселок Елизаветино'\n",
      " 'посёлок городского типа Кузнечное' 'деревня Колтуши'\n",
      " 'поселок Запорожское' 'посёлок городского типа Рощино'\n",
      " 'деревня Гостилицы' 'деревня Малое Карлино' 'посёлок Мичуринское'\n",
      " 'посёлок городского типа имени Морозова' 'посёлок Песочный'\n",
      " 'посёлок Сосново' 'деревня Аро' 'поселок Ильичёво'\n",
      " 'посёлок городского типа Тайцы' 'деревня Малое Верево' 'деревня Извара'\n",
      " 'поселок станции Вещево' 'село Паша' 'деревня Калитино'\n",
      " 'посёлок городского типа Ульяновка' 'деревня Чудской Бор'\n",
      " 'поселок городского типа Дубровка' 'деревня Мины' 'поселок Войсковицы'\n",
      " 'посёлок городского типа имени Свердлова' 'деревня Коркино'\n",
      " 'посёлок Ропша' 'поселок городского типа Приладожский' 'посёлок Щеглово'\n",
      " 'посёлок Гаврилово' 'Лодейное Поле' 'деревня Рабитицы'\n",
      " 'поселок городского типа Никольский' 'деревня Кузьмолово'\n",
      " 'деревня Малые Колпаны' 'поселок Тельмана' 'посёлок Петро-Славянка'\n",
      " 'городской посёлок Назия' 'посёлок Репино' 'посёлок Ильичёво'\n",
      " 'поселок Углово' 'поселок Старая Малукса' 'садовое товарищество Рахья'\n",
      " 'поселок Аннино' 'поселок Победа' 'деревня Меньково'\n",
      " 'деревня Старые Бегуницы' 'посёлок Сапёрный' 'поселок Семрино'\n",
      " 'поселок Гаврилово' 'поселок Глажево' 'поселок Кобринское'\n",
      " 'деревня Гарболово' 'деревня Юкки' 'поселок станции Приветнинское'\n",
      " 'деревня Мануйлово' 'деревня Пчева' 'поселок Поляны' 'поселок Цвылёво'\n",
      " 'поселок Мельниково' 'посёлок Пудость' 'посёлок Усть-Луга' 'Светогорск'\n",
      " 'Любань' 'поселок Селезнёво' 'поселок городского типа Рябово'\n",
      " 'Каменногорск' 'деревня Кривко' 'поселок Глебычево' 'деревня Парицы'\n",
      " 'поселок Жилпосёлок' 'посёлок городского типа Мга'\n",
      " 'городской поселок Янино-1' 'посёлок Войскорово' 'село Никольское'\n",
      " 'посёлок Терволово' 'поселок Стеклянный' 'посёлок городского типа Важины'\n",
      " 'посёлок Мыза-Ивановка' 'село Русско-Высоцкое'\n",
      " 'поселок городского типа Лебяжье' 'поселок городского типа Форносово'\n",
      " 'село Старая Ладога' 'поселок Житково' 'городской посёлок Виллози'\n",
      " 'деревня Лампово' 'деревня Шпаньково' 'деревня Лаврики' 'посёлок Сумино'\n",
      " 'посёлок Возрождение' 'деревня Старосиверская' 'посёлок Кикерино'\n",
      " 'поселок Возрождение' 'деревня Старое Хинколово' 'посёлок Пригородный'\n",
      " 'посёлок Торфяное' 'городской посёлок Будогощь' 'поселок Суходолье'\n",
      " 'поселок Красная Долина' 'деревня Хапо-Ое'\n",
      " 'поселок городского типа Дружная Горка' 'поселок Лисий Нос'\n",
      " 'деревня Яльгелево' 'посёлок Стеклянный' 'село Рождествено'\n",
      " 'деревня Старополье' 'посёлок Левашово' 'деревня Сяськелево'\n",
      " 'деревня Камышовка'\n",
      " 'садоводческое некоммерческое товарищество Лесная Поляна'\n",
      " 'деревня Хязельки' 'поселок Жилгородок' 'посёлок городского типа Павлово'\n",
      " 'деревня Ялгино' 'поселок Новый Учхоз' 'городской посёлок Рощино'\n",
      " 'поселок Гончарово' 'поселок Почап' 'посёлок Сапёрное'\n",
      " 'посёлок Платформа 69-й километр' 'поселок Каложицы' 'деревня Фалилеево'\n",
      " 'деревня Пельгора' 'поселок городского типа Лесогорский'\n",
      " 'деревня Торошковичи' 'посёлок Белоостров' 'посёлок Алексеевка'\n",
      " 'поселок Серебрянский' 'поселок Лукаши' 'поселок Петровское'\n",
      " 'деревня Щеглово' 'поселок Мичуринское' 'деревня Тарасово'\n",
      " 'поселок Кингисеппский' 'посёлок при железнодорожной станции Вещево'\n",
      " 'поселок Ушаки' 'деревня Котлы' 'деревня Сижно' 'деревня Торосово'\n",
      " 'посёлок Форт Красная Горка' 'поселок городского типа Токсово'\n",
      " 'деревня Новолисино' 'посёлок станции Громово' 'деревня Глинка'\n",
      " 'посёлок Мельниково' 'поселок городского типа Назия'\n",
      " 'деревня Старая Пустошь' 'поселок Коммунары' 'поселок Починок'\n",
      " 'посёлок городского типа Вознесенье' 'деревня Разбегаево'\n",
      " 'посёлок городского типа Рябово' 'поселок Гладкое'\n",
      " 'посёлок при железнодорожной станции Приветнинское' 'поселок Тёсово-4'\n",
      " 'посёлок Жилгородок' 'деревня Бор' 'посёлок Коробицыно'\n",
      " 'деревня Большая Вруда' 'деревня Курковицы' 'посёлок Лисий Нос'\n",
      " 'городской посёлок Советский' 'посёлок Кобралово' 'деревня Суоранда'\n",
      " 'поселок Кобралово' 'поселок городского типа Кондратьево'\n",
      " 'коттеджный поселок Счастье' 'поселок Любань' 'деревня Реброво'\n",
      " 'деревня Зимитицы' 'деревня Тойворово' 'поселок Семиозерье'\n",
      " 'поселок Лесное' 'поселок Совхозный' 'поселок Усть-Луга'\n",
      " 'посёлок Ленинское' 'посёлок Суйда' 'посёлок городского типа Форносово'\n",
      " 'деревня Нижние Осельки' 'посёлок станции Свирь' 'поселок Перово'\n",
      " 'Высоцк' 'поселок Гарболово' 'село Шум' 'поселок Котельский'\n",
      " 'поселок станции Лужайка' 'деревня Большая Пустомержа'\n",
      " 'поселок Красносельское' 'деревня Вахнова Кара' 'деревня Пижма'\n",
      " 'коттеджный поселок Кивеннапа Север' 'поселок Коробицыно'\n",
      " 'поселок Ромашки' 'посёлок Перово' 'деревня Каськово' 'деревня Куровицы'\n",
      " 'посёлок Плоское' 'поселок Сумино'\n",
      " 'поселок городского типа Большая Ижора' 'поселок Кирпичное'\n",
      " 'деревня Ям-Тесово' 'деревня Раздолье' 'деревня Терпилицы'\n",
      " 'посёлок Шугозеро' 'деревня Ваганово' 'поселок Пушное'\n",
      " 'садовое товарищество Садко' 'посёлок Усть-Ижора' 'деревня Выскатка'\n",
      " 'городской посёлок Свирьстрой' 'поселок Громово' 'деревня Кисельня'\n",
      " 'посёлок Старая Малукса' 'деревня Трубников Бор' 'поселок Калитино'\n",
      " 'посёлок Высокоключевой' 'садовое товарищество Приладожский'\n",
      " 'посёлок Пансионат Зелёный Бор' 'деревня Ненимяки'\n",
      " 'поселок Пансионат Зелёный Бор' 'деревня Снегирёвка' 'деревня Рапполово'\n",
      " 'деревня Пустынка' 'поселок Рабитицы' 'деревня Большой Сабск'\n",
      " 'деревня Русско' 'деревня Лупполово' 'деревня Большое Рейзино'\n",
      " 'деревня Малая Романовка' 'поселок Дружноселье' 'поселок Пчевжа'\n",
      " 'поселок Володарское' 'деревня Нижняя' 'коттеджный посёлок Лесное'\n",
      " 'деревня Тихковицы' 'деревня Борисова Грива' 'посёлок Дзержинского']\n"
     ]
    }
   ],
   "source": [
    "print(df['locality_name'].unique())"
   ]
  },
  {
   "cell_type": "code",
   "execution_count": 11,
   "id": "69a99dea",
   "metadata": {},
   "outputs": [
    {
     "name": "stdout",
     "output_type": "stream",
     "text": [
      "365\n",
      "321\n"
     ]
    }
   ],
   "source": [
    "print(len(df['locality_name'].unique()) )\n",
    "\n",
    "def lc_rename(name):\n",
    "    name = str(name)\n",
    "    name = name.replace('ё', 'е')\n",
    "    name = name.replace('поселок городского типа', 'поселок')\n",
    "    name = name.replace('городской поселок', 'поселок')\n",
    "    name = name.replace('коттеджный поселок', 'поселок')\n",
    "    name = name.replace('деревня ', '')\n",
    "    return name\n",
    "\n",
    "df['locality_name'] = df['locality_name'].apply(lc_rename)\n",
    "print(len(df['locality_name'].unique()))\n",
    "#print(df['renamed'].unique())"
   ]
  },
  {
   "cell_type": "markdown",
   "id": "358fa497",
   "metadata": {},
   "source": [
    "Есть вероятность, что все таки остались неявные дубликаты, но основные из них были устранены. Ниже приведена программа для проверки дубликатов."
   ]
  },
  {
   "cell_type": "code",
   "execution_count": 12,
   "id": "c20bf7c3",
   "metadata": {},
   "outputs": [
    {
     "name": "stdout",
     "output_type": "stream",
     "text": [
      "[0, 0, 0, 0, 0, 0, 0, 0, 0, 0, 0, 0, 0, 0, 0, 0, 0, 0, 0, 0, 0, 0, 0, 0, 0, 0, 0, 0, 0, 0, 0, 0, 0, 0, 0, 0, 0, 0, 0, 0, 0, 0, 0, 0, 0, 0, 0, 0, 0, 0, 0, 0, 0, 0, 0, 0, 0, 0, 0, 0, 0, 0, 0, 0, 0, 0, 0, 0, 0, 0, 0, 0, 0, 0, 0, 0, 0, 0, 0, 0, 0, 0, 0, 0, 0, 0, 0, 0, 0, 0, 0, 0, 0, 0, 0, 0, 0, 0, 0, 0, 0, 0, 0, 0, 0, 0, 0, 0, 0, 0, 0, 0, 0, 0, 0, 0, 0, 0, 0, 0, 0, 0, 0, 0, 0, 0, 0, 0, 0, 0, 0, 0, 0, 0, 0, 0, 0, 0, 0, 0, 0, 0, 0, 0, 0, 0, 0, 0, 0, 0, 0, 0, 0, 0, 0, 0, 0, 0, 0, 0, 0, 0, 0, 0, 0, 0, 0, 0, 0, 0, 0, 0, 0, 0, 0, 0, 0, 0, 0, 0, 0, 0, 0, 0, 0, 0, 0, 0, 0, 0, 0, 0, 0, 0, 0, 0, 0, 0, 0, 0, 0, 0, 0, 0, 0, 0, 0, 0, 0, 0, 0, 0, 0, 0, 0, 0, 0, 0, 0, 0, 0, 0, 0, 0, 0, 0, 0, 0, 0, 0, 0, 0, 0, 0, 0, 0, 0, 0, 0, 0, 0, 0, 0, 0, 0, 0, 0, 0, 0, 0, 0, 0, 0, 0, 0, 0, 0, 0, 0, 0, 0, 0, 0, 0, 0, 0, 0, 0, 0, 0, 0, 0, 0, 0, 0, 0, 0, 0, 0, 0, 0, 0, 0, 0, 0, 0, 0, 0, 0, 0, 0, 0, 0, 0, 0, 0, 0, 0, 0, 0, 0, 0, 0, 0, 0, 0, 0, 0, 0, 0, 0, 0, 0, 0, 0, 0, 0, 0, 0, 0, 0]\n"
     ]
    }
   ],
   "source": [
    "def find(name, word):\n",
    "    if word in name: \n",
    "        return name\n",
    "    else:\n",
    "        return 0\n",
    "    \n",
    "found = []\n",
    "#word = str(input('Введите слово для проверки:'))\n",
    "word = 'none'\n",
    "\n",
    "for name in df['locality_name'].unique(): \n",
    "    found.append(find(name, word))\n",
    "    \n",
    "print(found)\n"
   ]
  },
  {
   "cell_type": "markdown",
   "id": "cafd593c",
   "metadata": {},
   "source": [
    "### Работа с аномалиями  \n",
    "Аномалии могут быть в столбцах: last_price, total_area, rooms, ceiling_height, living_area, kitchen_area, balcony"
   ]
  },
  {
   "cell_type": "code",
   "execution_count": 13,
   "id": "2d36fb61",
   "metadata": {},
   "outputs": [
    {
     "data": {
      "text/html": [
       "<div>\n",
       "<style scoped>\n",
       "    .dataframe tbody tr th:only-of-type {\n",
       "        vertical-align: middle;\n",
       "    }\n",
       "\n",
       "    .dataframe tbody tr th {\n",
       "        vertical-align: top;\n",
       "    }\n",
       "\n",
       "    .dataframe thead th {\n",
       "        text-align: right;\n",
       "    }\n",
       "</style>\n",
       "<table border=\"1\" class=\"dataframe\">\n",
       "  <thead>\n",
       "    <tr style=\"text-align: right;\">\n",
       "      <th></th>\n",
       "      <th>total_images</th>\n",
       "      <th>last_price</th>\n",
       "      <th>total_area</th>\n",
       "      <th>first_day_exposition</th>\n",
       "      <th>rooms</th>\n",
       "      <th>ceiling_height</th>\n",
       "      <th>floors_total</th>\n",
       "      <th>living_area</th>\n",
       "      <th>floor</th>\n",
       "      <th>is_apartment</th>\n",
       "      <th>studio</th>\n",
       "      <th>open_plan</th>\n",
       "      <th>kitchen_area</th>\n",
       "      <th>balcony</th>\n",
       "      <th>locality_name</th>\n",
       "      <th>airports_nearest</th>\n",
       "      <th>citycenters_nearest</th>\n",
       "      <th>parks_around_3000</th>\n",
       "      <th>parks_nearest</th>\n",
       "      <th>ponds_around_3000</th>\n",
       "      <th>ponds_nearest</th>\n",
       "      <th>days_exposition</th>\n",
       "    </tr>\n",
       "  </thead>\n",
       "  <tbody>\n",
       "    <tr>\n",
       "      <th>0</th>\n",
       "      <td>20</td>\n",
       "      <td>13000000.0</td>\n",
       "      <td>108.0</td>\n",
       "      <td>2019-03-07</td>\n",
       "      <td>3</td>\n",
       "      <td>2.70</td>\n",
       "      <td>16.0</td>\n",
       "      <td>51.0</td>\n",
       "      <td>8</td>\n",
       "      <td>False</td>\n",
       "      <td>False</td>\n",
       "      <td>False</td>\n",
       "      <td>25.0</td>\n",
       "      <td>0.0</td>\n",
       "      <td>Санкт-Петербург</td>\n",
       "      <td>18863.0</td>\n",
       "      <td>16028.0</td>\n",
       "      <td>1.0</td>\n",
       "      <td>482.0</td>\n",
       "      <td>2.0</td>\n",
       "      <td>755.0</td>\n",
       "      <td>NaN</td>\n",
       "    </tr>\n",
       "    <tr>\n",
       "      <th>1</th>\n",
       "      <td>7</td>\n",
       "      <td>3350000.0</td>\n",
       "      <td>40.4</td>\n",
       "      <td>2018-12-04</td>\n",
       "      <td>1</td>\n",
       "      <td>NaN</td>\n",
       "      <td>11.0</td>\n",
       "      <td>18.6</td>\n",
       "      <td>1</td>\n",
       "      <td>False</td>\n",
       "      <td>False</td>\n",
       "      <td>False</td>\n",
       "      <td>11.0</td>\n",
       "      <td>2.0</td>\n",
       "      <td>поселок Шушары</td>\n",
       "      <td>12817.0</td>\n",
       "      <td>18603.0</td>\n",
       "      <td>0.0</td>\n",
       "      <td>NaN</td>\n",
       "      <td>0.0</td>\n",
       "      <td>NaN</td>\n",
       "      <td>81.0</td>\n",
       "    </tr>\n",
       "    <tr>\n",
       "      <th>2</th>\n",
       "      <td>10</td>\n",
       "      <td>5196000.0</td>\n",
       "      <td>56.0</td>\n",
       "      <td>2015-08-20</td>\n",
       "      <td>2</td>\n",
       "      <td>NaN</td>\n",
       "      <td>5.0</td>\n",
       "      <td>34.3</td>\n",
       "      <td>4</td>\n",
       "      <td>False</td>\n",
       "      <td>False</td>\n",
       "      <td>False</td>\n",
       "      <td>8.3</td>\n",
       "      <td>0.0</td>\n",
       "      <td>Санкт-Петербург</td>\n",
       "      <td>21741.0</td>\n",
       "      <td>13933.0</td>\n",
       "      <td>1.0</td>\n",
       "      <td>90.0</td>\n",
       "      <td>2.0</td>\n",
       "      <td>574.0</td>\n",
       "      <td>558.0</td>\n",
       "    </tr>\n",
       "    <tr>\n",
       "      <th>3</th>\n",
       "      <td>0</td>\n",
       "      <td>64900000.0</td>\n",
       "      <td>159.0</td>\n",
       "      <td>2015-07-24</td>\n",
       "      <td>3</td>\n",
       "      <td>NaN</td>\n",
       "      <td>14.0</td>\n",
       "      <td>NaN</td>\n",
       "      <td>9</td>\n",
       "      <td>False</td>\n",
       "      <td>False</td>\n",
       "      <td>False</td>\n",
       "      <td>NaN</td>\n",
       "      <td>0.0</td>\n",
       "      <td>Санкт-Петербург</td>\n",
       "      <td>28098.0</td>\n",
       "      <td>6800.0</td>\n",
       "      <td>2.0</td>\n",
       "      <td>84.0</td>\n",
       "      <td>3.0</td>\n",
       "      <td>234.0</td>\n",
       "      <td>424.0</td>\n",
       "    </tr>\n",
       "    <tr>\n",
       "      <th>4</th>\n",
       "      <td>2</td>\n",
       "      <td>10000000.0</td>\n",
       "      <td>100.0</td>\n",
       "      <td>2018-06-19</td>\n",
       "      <td>2</td>\n",
       "      <td>3.03</td>\n",
       "      <td>14.0</td>\n",
       "      <td>32.0</td>\n",
       "      <td>13</td>\n",
       "      <td>False</td>\n",
       "      <td>False</td>\n",
       "      <td>False</td>\n",
       "      <td>41.0</td>\n",
       "      <td>0.0</td>\n",
       "      <td>Санкт-Петербург</td>\n",
       "      <td>31856.0</td>\n",
       "      <td>8098.0</td>\n",
       "      <td>2.0</td>\n",
       "      <td>112.0</td>\n",
       "      <td>1.0</td>\n",
       "      <td>48.0</td>\n",
       "      <td>121.0</td>\n",
       "    </tr>\n",
       "  </tbody>\n",
       "</table>\n",
       "</div>"
      ],
      "text/plain": [
       "   total_images  last_price  total_area first_day_exposition  rooms  \\\n",
       "0            20  13000000.0       108.0           2019-03-07      3   \n",
       "1             7   3350000.0        40.4           2018-12-04      1   \n",
       "2            10   5196000.0        56.0           2015-08-20      2   \n",
       "3             0  64900000.0       159.0           2015-07-24      3   \n",
       "4             2  10000000.0       100.0           2018-06-19      2   \n",
       "\n",
       "   ceiling_height  floors_total  living_area  floor  is_apartment  studio  \\\n",
       "0            2.70          16.0         51.0      8         False   False   \n",
       "1             NaN          11.0         18.6      1         False   False   \n",
       "2             NaN           5.0         34.3      4         False   False   \n",
       "3             NaN          14.0          NaN      9         False   False   \n",
       "4            3.03          14.0         32.0     13         False   False   \n",
       "\n",
       "   open_plan  kitchen_area  balcony    locality_name  airports_nearest  \\\n",
       "0      False          25.0      0.0  Санкт-Петербург           18863.0   \n",
       "1      False          11.0      2.0   поселок Шушары           12817.0   \n",
       "2      False           8.3      0.0  Санкт-Петербург           21741.0   \n",
       "3      False           NaN      0.0  Санкт-Петербург           28098.0   \n",
       "4      False          41.0      0.0  Санкт-Петербург           31856.0   \n",
       "\n",
       "   citycenters_nearest  parks_around_3000  parks_nearest  ponds_around_3000  \\\n",
       "0              16028.0                1.0          482.0                2.0   \n",
       "1              18603.0                0.0            NaN                0.0   \n",
       "2              13933.0                1.0           90.0                2.0   \n",
       "3               6800.0                2.0           84.0                3.0   \n",
       "4               8098.0                2.0          112.0                1.0   \n",
       "\n",
       "   ponds_nearest  days_exposition  \n",
       "0          755.0              NaN  \n",
       "1            NaN             81.0  \n",
       "2          574.0            558.0  \n",
       "3          234.0            424.0  \n",
       "4           48.0            121.0  "
      ]
     },
     "metadata": {},
     "output_type": "display_data"
    }
   ],
   "source": [
    "df_old0 = df.loc[:]\n",
    "display(df_old0.head())"
   ]
  },
  {
   "cell_type": "markdown",
   "id": "1de0852f",
   "metadata": {},
   "source": [
    "Можем заметить, что стоимость квартир c большой площадью может быть меньше миллиона, это довольно странно, особенно это касается квартиры стоимостью 12190, удалим эту строку. Возможно, квартиры с такой низкой стоимостью расположены в деревнях или поселках. "
   ]
  },
  {
   "cell_type": "code",
   "execution_count": 14,
   "id": "72993bfd",
   "metadata": {},
   "outputs": [
    {
     "data": {
      "text/plain": [
       "<AxesSubplot:ylabel='Frequency'>"
      ]
     },
     "execution_count": 14,
     "metadata": {},
     "output_type": "execute_result"
    },
    {
     "data": {
      "image/png": "[encoded data removed]",
      "text/plain": [
       "<Figure size 1080x720 with 1 Axes>"
      ]
     },
     "metadata": {
      "needs_background": "light"
     },
     "output_type": "display_data"
    }
   ],
   "source": [
    "df_old0.plot(y='last_price', kind='hist', bins=200, figsize=(15,10))"
   ]
  },
  {
   "cell_type": "code",
   "execution_count": 15,
   "id": "6bf2f02b",
   "metadata": {},
   "outputs": [
    {
     "name": "stdout",
     "output_type": "stream",
     "text": [
      "23560\n",
      "23699\n"
     ]
    },
    {
     "data": {
      "image/png": "[encoded data removed]",
      "text/plain": [
       "<Figure size 1080x720 with 1 Axes>"
      ]
     },
     "metadata": {
      "needs_background": "light"
     },
     "output_type": "display_data"
    }
   ],
   "source": [
    "# last_price: \n",
    "#df_old0.plot(y='last_price', kind='hist', bins=200, figsize=(15,10))\n",
    "#df_old0.boxplot('last_price')\n",
    "df_old0['last_price'].describe()\n",
    "df = df.query('last_price > 400000 and last_price < 50000000')\n",
    "df.plot(y='last_price', kind='hist', bins=200, figsize=(15,10))\n",
    "#display(df.query('last_price < 1000000').sort_values(by='last_price'))\n",
    "print(len(df))\n",
    "print(len(df_old0))\n"
   ]
  },
  {
   "cell_type": "markdown",
   "id": "93759d8b",
   "metadata": {},
   "source": [
    "Из boxplot и hist видно, что основная часть квартир стоит существенно меньше максимума. Разброс значений небольшой. Оставим квартиры, которые стоят < 30млн и > 400000. "
   ]
  },
  {
   "cell_type": "code",
   "execution_count": 16,
   "id": "b0e66617",
   "metadata": {},
   "outputs": [
    {
     "name": "stdout",
     "output_type": "stream",
     "text": [
      "19904     12.0\n",
      "17961     13.0\n",
      "19546     13.0\n",
      "19807     13.0\n",
      "19558     13.2\n",
      "         ...  \n",
      "5358     590.0\n",
      "15651    618.0\n",
      "3117     631.0\n",
      "12859    631.2\n",
      "19540    900.0\n",
      "Name: total_area, Length: 23699, dtype: float64\n",
      "23412 23699\n"
     ]
    },
    {
     "data": {
      "image/png": "[encoded data removed]",
      "text/plain": [
       "<Figure size 432x288 with 1 Axes>"
      ]
     },
     "metadata": {
      "needs_background": "light"
     },
     "output_type": "display_data"
    },
    {
     "data": {
      "image/png": "[encoded data removed]",
      "text/plain": [
       "<Figure size 432x288 with 1 Axes>"
      ]
     },
     "metadata": {
      "needs_background": "light"
     },
     "output_type": "display_data"
    }
   ],
   "source": [
    "# total_area \n",
    "print(df_old0['total_area'].sort_values())\n",
    "#display(df_old0.query('total_area > 100').sort_values(by='total_area', ascending=False))\n",
    "df_old0.hist('total_area', bins=100)\n",
    "df = df.query('total_area < 200 and total_area > 10')\n",
    "df.hist('total_area', bins=100)\n",
    "print(len(df), len(df_old0))"
   ]
  },
  {
   "cell_type": "markdown",
   "id": "d2767f93",
   "metadata": {},
   "source": [
    "В распределении общей площади встречаются очень большие значения, но на графике видно, что их число очень маленькое. Оставим квартиры, общай площадь которых > 10 кв.м. и < 200 кв.м."
   ]
  },
  {
   "cell_type": "code",
   "execution_count": 17,
   "id": "4b7fc52b",
   "metadata": {},
   "outputs": [
    {
     "name": "stdout",
     "output_type": "stream",
     "text": [
      "10534     0\n",
      "5958      0\n",
      "15569     0\n",
      "5188      0\n",
      "5187      0\n",
      "         ..\n",
      "3545      7\n",
      "4435      8\n",
      "8758      8\n",
      "9688     11\n",
      "648      11\n",
      "Name: rooms, Length: 23412, dtype: int64\n"
     ]
    }
   ],
   "source": [
    "#rooms\n",
    "print(df['rooms'].sort_values())\n",
    "\n"
   ]
  },
  {
   "cell_type": "markdown",
   "id": "07fd06c0",
   "metadata": {},
   "source": [
    "В столбце ceiling_height есть значения превышающие 10, это можно считать аномальными значениями. Также можем отбросить значения, превышающие 5 и меньшие 2, даже если данные были введены с ошибками, это не систематическая ошибка и такие случаи единичные. "
   ]
  },
  {
   "cell_type": "code",
   "execution_count": 18,
   "id": "b6308c46",
   "metadata": {},
   "outputs": [
    {
     "name": "stdout",
     "output_type": "stream",
     "text": [
      "13\n"
     ]
    },
    {
     "data": {
      "image/png": "[encoded data removed]",
      "text/plain": [
       "<Figure size 432x288 with 1 Axes>"
      ]
     },
     "metadata": {
      "needs_background": "light"
     },
     "output_type": "display_data"
    }
   ],
   "source": [
    "df.loc[df['ceiling_height'] > 10, 'ceiling_height'] = df.loc[df['ceiling_height'] > 10, 'ceiling_height']  / 10 \n",
    "df_old0.loc[df_old0['ceiling_height'] > 10, 'ceiling_height'] = df_old0.loc[df_old0['ceiling_height'] > 10, 'ceiling_height']  / 10\n",
    "df['ceiling_height'].hist(bins=100)\n",
    "print(len(df.query('ceiling_height > 5 or ceiling_height < 2')))"
   ]
  },
  {
   "cell_type": "code",
   "execution_count": 19,
   "id": "fbd9bec6",
   "metadata": {},
   "outputs": [
    {
     "name": "stdout",
     "output_type": "stream",
     "text": [
      "22869    10.0\n",
      "5863      8.3\n",
      "17442     8.0\n",
      "3474      8.0\n",
      "15743     8.0\n",
      "         ... \n",
      "23687     NaN\n",
      "23690     NaN\n",
      "23692     NaN\n",
      "23695     NaN\n",
      "23696     NaN\n",
      "Name: ceiling_height, Length: 23412, dtype: float64\n",
      "23399 23699\n"
     ]
    },
    {
     "data": {
      "image/png": "[encoded data removed]",
      "text/plain": [
       "<Figure size 432x288 with 1 Axes>"
      ]
     },
     "metadata": {
      "needs_background": "light"
     },
     "output_type": "display_data"
    }
   ],
   "source": [
    "# ceiling_height\n",
    "import numpy as np\n",
    "print(df['ceiling_height'].sort_values(ascending=False))\n",
    "df_old0['ceiling_height'].describe()\n",
    "df_old0.boxplot('ceiling_height')\n",
    "df = df.query('~(ceiling_height > 5 or ceiling_height < 2)')\n",
    "print(len(df), len(df_old0))\n"
   ]
  },
  {
   "cell_type": "code",
   "execution_count": null,
   "id": "6cf5db3d",
   "metadata": {},
   "outputs": [],
   "source": []
  },
  {
   "cell_type": "code",
   "execution_count": 20,
   "id": "73e7e61e",
   "metadata": {},
   "outputs": [
    {
     "name": "stdout",
     "output_type": "stream",
     "text": [
      "23212\n"
     ]
    },
    {
     "data": {
      "image/png": "[encoded data removed]",
      "text/plain": [
       "<Figure size 432x288 with 1 Axes>"
      ]
     },
     "metadata": {
      "needs_background": "light"
     },
     "output_type": "display_data"
    },
    {
     "data": {
      "image/png": "[encoded data removed]",
      "text/plain": [
       "<Figure size 432x288 with 1 Axes>"
      ]
     },
     "metadata": {
      "needs_background": "light"
     },
     "output_type": "display_data"
    }
   ],
   "source": [
    "#living_area \n",
    "df_old0.hist('living_area', bins=100)\n",
    "df_old0['living_area'].describe()\n",
    "#df.boxplot('living_area')\n",
    "df['living_area'].describe()\n",
    "df = df.query('~(living_area < 10 or living_area > 100)')\n",
    "df.hist('living_area', bins=100)\n",
    "print(len(df))"
   ]
  },
  {
   "cell_type": "markdown",
   "id": "cd4b6760",
   "metadata": {},
   "source": [
    "В распределении жилой площади встречаются очень большие значения, но на графике видно, что их число очень маленькое. Оставим квартиры, жилая площадь которых > 10 кв.м. и < 100 кв.м."
   ]
  },
  {
   "cell_type": "code",
   "execution_count": 21,
   "id": "363f1827",
   "metadata": {},
   "outputs": [
    {
     "name": "stdout",
     "output_type": "stream",
     "text": [
      "14644    75.0\n",
      "22980    65.0\n",
      "19499    64.0\n",
      "15780    64.0\n",
      "19130    63.0\n",
      "         ... \n",
      "23655     NaN\n",
      "23663     NaN\n",
      "23670     NaN\n",
      "23679     NaN\n",
      "23696     NaN\n",
      "Name: kitchen_area, Length: 23212, dtype: float64\n",
      "22876\n"
     ]
    },
    {
     "data": {
      "image/png": "[encoded data removed]",
      "text/plain": [
       "<Figure size 432x288 with 1 Axes>"
      ]
     },
     "metadata": {
      "needs_background": "light"
     },
     "output_type": "display_data"
    }
   ],
   "source": [
    "#kitchen_area \n",
    "df_old1 = df\n",
    "print(df_old1['kitchen_area'].sort_values(ascending=False))\n",
    "df_old1.hist('kitchen_area', bins=100)\n",
    "#df.boxplot('kitchen_area')\n",
    "df_old1['kitchen_area'].describe()\n",
    "df = df.query('~(kitchen_area < 5 or kitchen_area > 30)')\n",
    "print(len(df))"
   ]
  },
  {
   "cell_type": "markdown",
   "id": "33b37763",
   "metadata": {},
   "source": [
    "В значениях площади кухни встречаются аномально низкие: 1.3 и аномально высокие: 107. В поведение площади кухонь более предсказуемое, чем жилой площади. Площадь кухни имеет маленький разброс значений. Оставим значения площади кухни > 5м.кв. и < 30. Это можно сделать, так как значение 30 лежит выше 75% + 1.5 МКР (даже если значения > 30 не аномальные, их все равно очень мало по сравнению с большинством), а 5 метров- мы будем считать минимальной допустимой площадью кухни (в интернете пишут так)."
   ]
  },
  {
   "cell_type": "code",
   "execution_count": 22,
   "id": "0584af2e",
   "metadata": {},
   "outputs": [
    {
     "name": "stdout",
     "output_type": "stream",
     "text": [
      "4666     5.0\n",
      "13366    5.0\n",
      "6152     5.0\n",
      "14109    5.0\n",
      "21303    5.0\n",
      "        ... \n",
      "9715     0.0\n",
      "9716     0.0\n",
      "9717     0.0\n",
      "9718     0.0\n",
      "23698    0.0\n",
      "Name: balcony, Length: 22876, dtype: float64\n"
     ]
    },
    {
     "data": {
      "text/html": [
       "<div>\n",
       "<style scoped>\n",
       "    .dataframe tbody tr th:only-of-type {\n",
       "        vertical-align: middle;\n",
       "    }\n",
       "\n",
       "    .dataframe tbody tr th {\n",
       "        vertical-align: top;\n",
       "    }\n",
       "\n",
       "    .dataframe thead th {\n",
       "        text-align: right;\n",
       "    }\n",
       "</style>\n",
       "<table border=\"1\" class=\"dataframe\">\n",
       "  <thead>\n",
       "    <tr style=\"text-align: right;\">\n",
       "      <th></th>\n",
       "      <th>total_images</th>\n",
       "      <th>last_price</th>\n",
       "      <th>total_area</th>\n",
       "      <th>first_day_exposition</th>\n",
       "      <th>rooms</th>\n",
       "      <th>ceiling_height</th>\n",
       "      <th>floors_total</th>\n",
       "      <th>living_area</th>\n",
       "      <th>floor</th>\n",
       "      <th>is_apartment</th>\n",
       "      <th>studio</th>\n",
       "      <th>open_plan</th>\n",
       "      <th>kitchen_area</th>\n",
       "      <th>balcony</th>\n",
       "      <th>locality_name</th>\n",
       "      <th>airports_nearest</th>\n",
       "      <th>citycenters_nearest</th>\n",
       "      <th>parks_around_3000</th>\n",
       "      <th>parks_nearest</th>\n",
       "      <th>ponds_around_3000</th>\n",
       "      <th>ponds_nearest</th>\n",
       "      <th>days_exposition</th>\n",
       "    </tr>\n",
       "  </thead>\n",
       "  <tbody>\n",
       "    <tr>\n",
       "      <th>0</th>\n",
       "      <td>20</td>\n",
       "      <td>13000000.0</td>\n",
       "      <td>108.00</td>\n",
       "      <td>2019-03-07</td>\n",
       "      <td>3</td>\n",
       "      <td>2.7</td>\n",
       "      <td>16.0</td>\n",
       "      <td>51.0</td>\n",
       "      <td>8</td>\n",
       "      <td>False</td>\n",
       "      <td>False</td>\n",
       "      <td>False</td>\n",
       "      <td>25.00</td>\n",
       "      <td>0.0</td>\n",
       "      <td>Санкт-Петербург</td>\n",
       "      <td>18863.0</td>\n",
       "      <td>16028.0</td>\n",
       "      <td>1.0</td>\n",
       "      <td>482.0</td>\n",
       "      <td>2.0</td>\n",
       "      <td>755.0</td>\n",
       "      <td>NaN</td>\n",
       "    </tr>\n",
       "    <tr>\n",
       "      <th>1</th>\n",
       "      <td>7</td>\n",
       "      <td>3350000.0</td>\n",
       "      <td>40.40</td>\n",
       "      <td>2018-12-04</td>\n",
       "      <td>1</td>\n",
       "      <td>NaN</td>\n",
       "      <td>11.0</td>\n",
       "      <td>18.6</td>\n",
       "      <td>1</td>\n",
       "      <td>False</td>\n",
       "      <td>False</td>\n",
       "      <td>False</td>\n",
       "      <td>11.00</td>\n",
       "      <td>2.0</td>\n",
       "      <td>поселок Шушары</td>\n",
       "      <td>12817.0</td>\n",
       "      <td>18603.0</td>\n",
       "      <td>0.0</td>\n",
       "      <td>NaN</td>\n",
       "      <td>0.0</td>\n",
       "      <td>NaN</td>\n",
       "      <td>81.0</td>\n",
       "    </tr>\n",
       "    <tr>\n",
       "      <th>2</th>\n",
       "      <td>10</td>\n",
       "      <td>5196000.0</td>\n",
       "      <td>56.00</td>\n",
       "      <td>2015-08-20</td>\n",
       "      <td>2</td>\n",
       "      <td>NaN</td>\n",
       "      <td>5.0</td>\n",
       "      <td>34.3</td>\n",
       "      <td>4</td>\n",
       "      <td>False</td>\n",
       "      <td>False</td>\n",
       "      <td>False</td>\n",
       "      <td>8.30</td>\n",
       "      <td>0.0</td>\n",
       "      <td>Санкт-Петербург</td>\n",
       "      <td>21741.0</td>\n",
       "      <td>13933.0</td>\n",
       "      <td>1.0</td>\n",
       "      <td>90.0</td>\n",
       "      <td>2.0</td>\n",
       "      <td>574.0</td>\n",
       "      <td>558.0</td>\n",
       "    </tr>\n",
       "    <tr>\n",
       "      <th>5</th>\n",
       "      <td>10</td>\n",
       "      <td>2890000.0</td>\n",
       "      <td>30.40</td>\n",
       "      <td>2018-09-10</td>\n",
       "      <td>1</td>\n",
       "      <td>NaN</td>\n",
       "      <td>12.0</td>\n",
       "      <td>14.4</td>\n",
       "      <td>5</td>\n",
       "      <td>False</td>\n",
       "      <td>False</td>\n",
       "      <td>False</td>\n",
       "      <td>9.10</td>\n",
       "      <td>0.0</td>\n",
       "      <td>поселок Янино-1</td>\n",
       "      <td>NaN</td>\n",
       "      <td>NaN</td>\n",
       "      <td>NaN</td>\n",
       "      <td>NaN</td>\n",
       "      <td>NaN</td>\n",
       "      <td>NaN</td>\n",
       "      <td>55.0</td>\n",
       "    </tr>\n",
       "    <tr>\n",
       "      <th>6</th>\n",
       "      <td>6</td>\n",
       "      <td>3700000.0</td>\n",
       "      <td>37.30</td>\n",
       "      <td>2017-11-02</td>\n",
       "      <td>1</td>\n",
       "      <td>NaN</td>\n",
       "      <td>26.0</td>\n",
       "      <td>10.6</td>\n",
       "      <td>6</td>\n",
       "      <td>False</td>\n",
       "      <td>False</td>\n",
       "      <td>False</td>\n",
       "      <td>14.40</td>\n",
       "      <td>1.0</td>\n",
       "      <td>поселок Парголово</td>\n",
       "      <td>52996.0</td>\n",
       "      <td>19143.0</td>\n",
       "      <td>0.0</td>\n",
       "      <td>NaN</td>\n",
       "      <td>0.0</td>\n",
       "      <td>NaN</td>\n",
       "      <td>155.0</td>\n",
       "    </tr>\n",
       "    <tr>\n",
       "      <th>...</th>\n",
       "      <td>...</td>\n",
       "      <td>...</td>\n",
       "      <td>...</td>\n",
       "      <td>...</td>\n",
       "      <td>...</td>\n",
       "      <td>...</td>\n",
       "      <td>...</td>\n",
       "      <td>...</td>\n",
       "      <td>...</td>\n",
       "      <td>...</td>\n",
       "      <td>...</td>\n",
       "      <td>...</td>\n",
       "      <td>...</td>\n",
       "      <td>...</td>\n",
       "      <td>...</td>\n",
       "      <td>...</td>\n",
       "      <td>...</td>\n",
       "      <td>...</td>\n",
       "      <td>...</td>\n",
       "      <td>...</td>\n",
       "      <td>...</td>\n",
       "      <td>...</td>\n",
       "    </tr>\n",
       "    <tr>\n",
       "      <th>23694</th>\n",
       "      <td>9</td>\n",
       "      <td>9700000.0</td>\n",
       "      <td>133.81</td>\n",
       "      <td>2017-03-21</td>\n",
       "      <td>3</td>\n",
       "      <td>3.7</td>\n",
       "      <td>5.0</td>\n",
       "      <td>73.3</td>\n",
       "      <td>3</td>\n",
       "      <td>False</td>\n",
       "      <td>False</td>\n",
       "      <td>False</td>\n",
       "      <td>13.83</td>\n",
       "      <td>0.0</td>\n",
       "      <td>Санкт-Петербург</td>\n",
       "      <td>24665.0</td>\n",
       "      <td>4232.0</td>\n",
       "      <td>1.0</td>\n",
       "      <td>796.0</td>\n",
       "      <td>3.0</td>\n",
       "      <td>381.0</td>\n",
       "      <td>NaN</td>\n",
       "    </tr>\n",
       "    <tr>\n",
       "      <th>23695</th>\n",
       "      <td>14</td>\n",
       "      <td>3100000.0</td>\n",
       "      <td>59.00</td>\n",
       "      <td>2018-01-15</td>\n",
       "      <td>3</td>\n",
       "      <td>NaN</td>\n",
       "      <td>5.0</td>\n",
       "      <td>38.0</td>\n",
       "      <td>4</td>\n",
       "      <td>False</td>\n",
       "      <td>False</td>\n",
       "      <td>False</td>\n",
       "      <td>8.50</td>\n",
       "      <td>0.0</td>\n",
       "      <td>Тосно</td>\n",
       "      <td>NaN</td>\n",
       "      <td>NaN</td>\n",
       "      <td>NaN</td>\n",
       "      <td>NaN</td>\n",
       "      <td>NaN</td>\n",
       "      <td>NaN</td>\n",
       "      <td>45.0</td>\n",
       "    </tr>\n",
       "    <tr>\n",
       "      <th>23696</th>\n",
       "      <td>18</td>\n",
       "      <td>2500000.0</td>\n",
       "      <td>56.70</td>\n",
       "      <td>2018-02-11</td>\n",
       "      <td>2</td>\n",
       "      <td>NaN</td>\n",
       "      <td>3.0</td>\n",
       "      <td>29.7</td>\n",
       "      <td>1</td>\n",
       "      <td>False</td>\n",
       "      <td>False</td>\n",
       "      <td>False</td>\n",
       "      <td>NaN</td>\n",
       "      <td>0.0</td>\n",
       "      <td>село Рождествено</td>\n",
       "      <td>NaN</td>\n",
       "      <td>NaN</td>\n",
       "      <td>NaN</td>\n",
       "      <td>NaN</td>\n",
       "      <td>NaN</td>\n",
       "      <td>NaN</td>\n",
       "      <td>NaN</td>\n",
       "    </tr>\n",
       "    <tr>\n",
       "      <th>23697</th>\n",
       "      <td>13</td>\n",
       "      <td>11475000.0</td>\n",
       "      <td>76.75</td>\n",
       "      <td>2017-03-28</td>\n",
       "      <td>2</td>\n",
       "      <td>3.0</td>\n",
       "      <td>17.0</td>\n",
       "      <td>NaN</td>\n",
       "      <td>12</td>\n",
       "      <td>False</td>\n",
       "      <td>False</td>\n",
       "      <td>False</td>\n",
       "      <td>23.30</td>\n",
       "      <td>2.0</td>\n",
       "      <td>Санкт-Петербург</td>\n",
       "      <td>39140.0</td>\n",
       "      <td>10364.0</td>\n",
       "      <td>2.0</td>\n",
       "      <td>173.0</td>\n",
       "      <td>3.0</td>\n",
       "      <td>196.0</td>\n",
       "      <td>602.0</td>\n",
       "    </tr>\n",
       "    <tr>\n",
       "      <th>23698</th>\n",
       "      <td>4</td>\n",
       "      <td>1350000.0</td>\n",
       "      <td>32.30</td>\n",
       "      <td>2017-07-21</td>\n",
       "      <td>1</td>\n",
       "      <td>2.5</td>\n",
       "      <td>5.0</td>\n",
       "      <td>12.3</td>\n",
       "      <td>1</td>\n",
       "      <td>False</td>\n",
       "      <td>False</td>\n",
       "      <td>False</td>\n",
       "      <td>9.00</td>\n",
       "      <td>0.0</td>\n",
       "      <td>поселок Новый Учхоз</td>\n",
       "      <td>NaN</td>\n",
       "      <td>NaN</td>\n",
       "      <td>NaN</td>\n",
       "      <td>NaN</td>\n",
       "      <td>NaN</td>\n",
       "      <td>NaN</td>\n",
       "      <td>NaN</td>\n",
       "    </tr>\n",
       "  </tbody>\n",
       "</table>\n",
       "<p>22876 rows × 22 columns</p>\n",
       "</div>"
      ],
      "text/plain": [
       "       total_images  last_price  total_area first_day_exposition  rooms  \\\n",
       "0                20  13000000.0      108.00           2019-03-07      3   \n",
       "1                 7   3350000.0       40.40           2018-12-04      1   \n",
       "2                10   5196000.0       56.00           2015-08-20      2   \n",
       "5                10   2890000.0       30.40           2018-09-10      1   \n",
       "6                 6   3700000.0       37.30           2017-11-02      1   \n",
       "...             ...         ...         ...                  ...    ...   \n",
       "23694             9   9700000.0      133.81           2017-03-21      3   \n",
       "23695            14   3100000.0       59.00           2018-01-15      3   \n",
       "23696            18   2500000.0       56.70           2018-02-11      2   \n",
       "23697            13  11475000.0       76.75           2017-03-28      2   \n",
       "23698             4   1350000.0       32.30           2017-07-21      1   \n",
       "\n",
       "       ceiling_height  floors_total  living_area  floor  is_apartment  studio  \\\n",
       "0                 2.7          16.0         51.0      8         False   False   \n",
       "1                 NaN          11.0         18.6      1         False   False   \n",
       "2                 NaN           5.0         34.3      4         False   False   \n",
       "5                 NaN          12.0         14.4      5         False   False   \n",
       "6                 NaN          26.0         10.6      6         False   False   \n",
       "...               ...           ...          ...    ...           ...     ...   \n",
       "23694             3.7           5.0         73.3      3         False   False   \n",
       "23695             NaN           5.0         38.0      4         False   False   \n",
       "23696             NaN           3.0         29.7      1         False   False   \n",
       "23697             3.0          17.0          NaN     12         False   False   \n",
       "23698             2.5           5.0         12.3      1         False   False   \n",
       "\n",
       "       open_plan  kitchen_area  balcony        locality_name  \\\n",
       "0          False         25.00      0.0      Санкт-Петербург   \n",
       "1          False         11.00      2.0       поселок Шушары   \n",
       "2          False          8.30      0.0      Санкт-Петербург   \n",
       "5          False          9.10      0.0      поселок Янино-1   \n",
       "6          False         14.40      1.0    поселок Парголово   \n",
       "...          ...           ...      ...                  ...   \n",
       "23694      False         13.83      0.0      Санкт-Петербург   \n",
       "23695      False          8.50      0.0                Тосно   \n",
       "23696      False           NaN      0.0     село Рождествено   \n",
       "23697      False         23.30      2.0      Санкт-Петербург   \n",
       "23698      False          9.00      0.0  поселок Новый Учхоз   \n",
       "\n",
       "       airports_nearest  citycenters_nearest  parks_around_3000  \\\n",
       "0               18863.0              16028.0                1.0   \n",
       "1               12817.0              18603.0                0.0   \n",
       "2               21741.0              13933.0                1.0   \n",
       "5                   NaN                  NaN                NaN   \n",
       "6               52996.0              19143.0                0.0   \n",
       "...                 ...                  ...                ...   \n",
       "23694           24665.0               4232.0                1.0   \n",
       "23695               NaN                  NaN                NaN   \n",
       "23696               NaN                  NaN                NaN   \n",
       "23697           39140.0              10364.0                2.0   \n",
       "23698               NaN                  NaN                NaN   \n",
       "\n",
       "       parks_nearest  ponds_around_3000  ponds_nearest  days_exposition  \n",
       "0              482.0                2.0          755.0              NaN  \n",
       "1                NaN                0.0            NaN             81.0  \n",
       "2               90.0                2.0          574.0            558.0  \n",
       "5                NaN                NaN            NaN             55.0  \n",
       "6                NaN                0.0            NaN            155.0  \n",
       "...              ...                ...            ...              ...  \n",
       "23694          796.0                3.0          381.0              NaN  \n",
       "23695            NaN                NaN            NaN             45.0  \n",
       "23696            NaN                NaN            NaN              NaN  \n",
       "23697          173.0                3.0          196.0            602.0  \n",
       "23698            NaN                NaN            NaN              NaN  \n",
       "\n",
       "[22876 rows x 22 columns]"
      ]
     },
     "metadata": {},
     "output_type": "display_data"
    },
    {
     "name": "stdout",
     "output_type": "stream",
     "text": [
      "22876\n"
     ]
    }
   ],
   "source": [
    "#balcony\n",
    "print(df['balcony'].sort_values(ascending=False))\n",
    "display(df)\n",
    "print(len(df))"
   ]
  },
  {
   "cell_type": "code",
   "execution_count": 23,
   "id": "30492a1f",
   "metadata": {},
   "outputs": [
    {
     "name": "stdout",
     "output_type": "stream",
     "text": [
      " 97%\n"
     ]
    }
   ],
   "source": [
    "print(f'{len(df)/len(df_old0): 0.0%}')"
   ]
  },
  {
   "cell_type": "markdown",
   "id": "1174e875",
   "metadata": {},
   "source": [
    "### Вывод: \n",
    "Явные аномалии были найдены в высоте потолков, в стоимости, общей площади и площади кухни. На hist и boxplot были видны явные выбросы и значения не были похожи на действительные. Таких значений было мало в сравнении с общей массой, так что, было принято решение удалить строки с такими данными.\n",
    "\n",
    "* § Когда я писал query() я забыл, что NaN под мои условия не подходит, пришлось заменить условие на отрицание выражения, т.е. ~(высота > 5 или высота < 2), тогда пропуски останутся нетронутыми. В итоге осталось 97% данных - это хороший показатель \n"
   ]
  },
  {
   "cell_type": "markdown",
   "id": "7651bcd8",
   "metadata": {},
   "source": [
    "# Шаг 3"
   ]
  },
  {
   "cell_type": "markdown",
   "id": "5c61a8b6",
   "metadata": {},
   "source": [
    "* Добавьте в таблицу новые столбцы со следующими параметрами:\n",
    "  1. цена одного квадратного метра;\n",
    "  2. день недели публикации объявления (0 — понедельник, 1 — вторник и так далее);\n",
    "  3. месяц публикации объявления;\n",
    "  4. год публикации объявления;\n",
    "  5. тип этажа квартиры (значения — «‎первый», «последний», «другой»);\n",
    "  6. расстояние до центра города в километрах (переведите из м в км и округлите до целых значений).\n"
   ]
  },
  {
   "cell_type": "code",
   "execution_count": 24,
   "id": "43a9ba53",
   "metadata": {},
   "outputs": [
    {
     "data": {
      "text/html": [
       "<div>\n",
       "<style scoped>\n",
       "    .dataframe tbody tr th:only-of-type {\n",
       "        vertical-align: middle;\n",
       "    }\n",
       "\n",
       "    .dataframe tbody tr th {\n",
       "        vertical-align: top;\n",
       "    }\n",
       "\n",
       "    .dataframe thead th {\n",
       "        text-align: right;\n",
       "    }\n",
       "</style>\n",
       "<table border=\"1\" class=\"dataframe\">\n",
       "  <thead>\n",
       "    <tr style=\"text-align: right;\">\n",
       "      <th></th>\n",
       "      <th>total_images</th>\n",
       "      <th>last_price</th>\n",
       "      <th>total_area</th>\n",
       "      <th>first_day_exposition</th>\n",
       "      <th>rooms</th>\n",
       "      <th>ceiling_height</th>\n",
       "      <th>floors_total</th>\n",
       "      <th>living_area</th>\n",
       "      <th>floor</th>\n",
       "      <th>is_apartment</th>\n",
       "      <th>studio</th>\n",
       "      <th>open_plan</th>\n",
       "      <th>kitchen_area</th>\n",
       "      <th>balcony</th>\n",
       "      <th>locality_name</th>\n",
       "      <th>airports_nearest</th>\n",
       "      <th>citycenters_nearest</th>\n",
       "      <th>parks_around_3000</th>\n",
       "      <th>parks_nearest</th>\n",
       "      <th>ponds_around_3000</th>\n",
       "      <th>ponds_nearest</th>\n",
       "      <th>days_exposition</th>\n",
       "      <th>meter_price</th>\n",
       "      <th>week_day_exp</th>\n",
       "      <th>month_exp</th>\n",
       "      <th>year_exp</th>\n",
       "      <th>type_floor</th>\n",
       "      <th>center_dist_km</th>\n",
       "    </tr>\n",
       "  </thead>\n",
       "  <tbody>\n",
       "    <tr>\n",
       "      <th>0</th>\n",
       "      <td>20</td>\n",
       "      <td>13000000.0</td>\n",
       "      <td>108.00</td>\n",
       "      <td>2019-03-07</td>\n",
       "      <td>3</td>\n",
       "      <td>2.7</td>\n",
       "      <td>16.0</td>\n",
       "      <td>51.0</td>\n",
       "      <td>8</td>\n",
       "      <td>False</td>\n",
       "      <td>False</td>\n",
       "      <td>False</td>\n",
       "      <td>25.00</td>\n",
       "      <td>0.0</td>\n",
       "      <td>Санкт-Петербург</td>\n",
       "      <td>18863.0</td>\n",
       "      <td>16028.0</td>\n",
       "      <td>1.0</td>\n",
       "      <td>482.0</td>\n",
       "      <td>2.0</td>\n",
       "      <td>755.0</td>\n",
       "      <td>NaN</td>\n",
       "      <td>120370.370370</td>\n",
       "      <td>3</td>\n",
       "      <td>3</td>\n",
       "      <td>2019</td>\n",
       "      <td>другое</td>\n",
       "      <td>16.0</td>\n",
       "    </tr>\n",
       "    <tr>\n",
       "      <th>1</th>\n",
       "      <td>7</td>\n",
       "      <td>3350000.0</td>\n",
       "      <td>40.40</td>\n",
       "      <td>2018-12-04</td>\n",
       "      <td>1</td>\n",
       "      <td>NaN</td>\n",
       "      <td>11.0</td>\n",
       "      <td>18.6</td>\n",
       "      <td>1</td>\n",
       "      <td>False</td>\n",
       "      <td>False</td>\n",
       "      <td>False</td>\n",
       "      <td>11.00</td>\n",
       "      <td>2.0</td>\n",
       "      <td>поселок Шушары</td>\n",
       "      <td>12817.0</td>\n",
       "      <td>18603.0</td>\n",
       "      <td>0.0</td>\n",
       "      <td>NaN</td>\n",
       "      <td>0.0</td>\n",
       "      <td>NaN</td>\n",
       "      <td>81.0</td>\n",
       "      <td>82920.792079</td>\n",
       "      <td>1</td>\n",
       "      <td>12</td>\n",
       "      <td>2018</td>\n",
       "      <td>первый</td>\n",
       "      <td>18.0</td>\n",
       "    </tr>\n",
       "    <tr>\n",
       "      <th>2</th>\n",
       "      <td>10</td>\n",
       "      <td>5196000.0</td>\n",
       "      <td>56.00</td>\n",
       "      <td>2015-08-20</td>\n",
       "      <td>2</td>\n",
       "      <td>NaN</td>\n",
       "      <td>5.0</td>\n",
       "      <td>34.3</td>\n",
       "      <td>4</td>\n",
       "      <td>False</td>\n",
       "      <td>False</td>\n",
       "      <td>False</td>\n",
       "      <td>8.30</td>\n",
       "      <td>0.0</td>\n",
       "      <td>Санкт-Петербург</td>\n",
       "      <td>21741.0</td>\n",
       "      <td>13933.0</td>\n",
       "      <td>1.0</td>\n",
       "      <td>90.0</td>\n",
       "      <td>2.0</td>\n",
       "      <td>574.0</td>\n",
       "      <td>558.0</td>\n",
       "      <td>92785.714286</td>\n",
       "      <td>3</td>\n",
       "      <td>8</td>\n",
       "      <td>2015</td>\n",
       "      <td>другое</td>\n",
       "      <td>13.0</td>\n",
       "    </tr>\n",
       "    <tr>\n",
       "      <th>5</th>\n",
       "      <td>10</td>\n",
       "      <td>2890000.0</td>\n",
       "      <td>30.40</td>\n",
       "      <td>2018-09-10</td>\n",
       "      <td>1</td>\n",
       "      <td>NaN</td>\n",
       "      <td>12.0</td>\n",
       "      <td>14.4</td>\n",
       "      <td>5</td>\n",
       "      <td>False</td>\n",
       "      <td>False</td>\n",
       "      <td>False</td>\n",
       "      <td>9.10</td>\n",
       "      <td>0.0</td>\n",
       "      <td>поселок Янино-1</td>\n",
       "      <td>NaN</td>\n",
       "      <td>NaN</td>\n",
       "      <td>NaN</td>\n",
       "      <td>NaN</td>\n",
       "      <td>NaN</td>\n",
       "      <td>NaN</td>\n",
       "      <td>55.0</td>\n",
       "      <td>95065.789474</td>\n",
       "      <td>0</td>\n",
       "      <td>9</td>\n",
       "      <td>2018</td>\n",
       "      <td>другое</td>\n",
       "      <td>NaN</td>\n",
       "    </tr>\n",
       "    <tr>\n",
       "      <th>6</th>\n",
       "      <td>6</td>\n",
       "      <td>3700000.0</td>\n",
       "      <td>37.30</td>\n",
       "      <td>2017-11-02</td>\n",
       "      <td>1</td>\n",
       "      <td>NaN</td>\n",
       "      <td>26.0</td>\n",
       "      <td>10.6</td>\n",
       "      <td>6</td>\n",
       "      <td>False</td>\n",
       "      <td>False</td>\n",
       "      <td>False</td>\n",
       "      <td>14.40</td>\n",
       "      <td>1.0</td>\n",
       "      <td>поселок Парголово</td>\n",
       "      <td>52996.0</td>\n",
       "      <td>19143.0</td>\n",
       "      <td>0.0</td>\n",
       "      <td>NaN</td>\n",
       "      <td>0.0</td>\n",
       "      <td>NaN</td>\n",
       "      <td>155.0</td>\n",
       "      <td>99195.710456</td>\n",
       "      <td>3</td>\n",
       "      <td>11</td>\n",
       "      <td>2017</td>\n",
       "      <td>другое</td>\n",
       "      <td>19.0</td>\n",
       "    </tr>\n",
       "    <tr>\n",
       "      <th>...</th>\n",
       "      <td>...</td>\n",
       "      <td>...</td>\n",
       "      <td>...</td>\n",
       "      <td>...</td>\n",
       "      <td>...</td>\n",
       "      <td>...</td>\n",
       "      <td>...</td>\n",
       "      <td>...</td>\n",
       "      <td>...</td>\n",
       "      <td>...</td>\n",
       "      <td>...</td>\n",
       "      <td>...</td>\n",
       "      <td>...</td>\n",
       "      <td>...</td>\n",
       "      <td>...</td>\n",
       "      <td>...</td>\n",
       "      <td>...</td>\n",
       "      <td>...</td>\n",
       "      <td>...</td>\n",
       "      <td>...</td>\n",
       "      <td>...</td>\n",
       "      <td>...</td>\n",
       "      <td>...</td>\n",
       "      <td>...</td>\n",
       "      <td>...</td>\n",
       "      <td>...</td>\n",
       "      <td>...</td>\n",
       "      <td>...</td>\n",
       "    </tr>\n",
       "    <tr>\n",
       "      <th>23694</th>\n",
       "      <td>9</td>\n",
       "      <td>9700000.0</td>\n",
       "      <td>133.81</td>\n",
       "      <td>2017-03-21</td>\n",
       "      <td>3</td>\n",
       "      <td>3.7</td>\n",
       "      <td>5.0</td>\n",
       "      <td>73.3</td>\n",
       "      <td>3</td>\n",
       "      <td>False</td>\n",
       "      <td>False</td>\n",
       "      <td>False</td>\n",
       "      <td>13.83</td>\n",
       "      <td>0.0</td>\n",
       "      <td>Санкт-Петербург</td>\n",
       "      <td>24665.0</td>\n",
       "      <td>4232.0</td>\n",
       "      <td>1.0</td>\n",
       "      <td>796.0</td>\n",
       "      <td>3.0</td>\n",
       "      <td>381.0</td>\n",
       "      <td>NaN</td>\n",
       "      <td>72490.845228</td>\n",
       "      <td>1</td>\n",
       "      <td>3</td>\n",
       "      <td>2017</td>\n",
       "      <td>другое</td>\n",
       "      <td>4.0</td>\n",
       "    </tr>\n",
       "    <tr>\n",
       "      <th>23695</th>\n",
       "      <td>14</td>\n",
       "      <td>3100000.0</td>\n",
       "      <td>59.00</td>\n",
       "      <td>2018-01-15</td>\n",
       "      <td>3</td>\n",
       "      <td>NaN</td>\n",
       "      <td>5.0</td>\n",
       "      <td>38.0</td>\n",
       "      <td>4</td>\n",
       "      <td>False</td>\n",
       "      <td>False</td>\n",
       "      <td>False</td>\n",
       "      <td>8.50</td>\n",
       "      <td>0.0</td>\n",
       "      <td>Тосно</td>\n",
       "      <td>NaN</td>\n",
       "      <td>NaN</td>\n",
       "      <td>NaN</td>\n",
       "      <td>NaN</td>\n",
       "      <td>NaN</td>\n",
       "      <td>NaN</td>\n",
       "      <td>45.0</td>\n",
       "      <td>52542.372881</td>\n",
       "      <td>0</td>\n",
       "      <td>1</td>\n",
       "      <td>2018</td>\n",
       "      <td>другое</td>\n",
       "      <td>NaN</td>\n",
       "    </tr>\n",
       "    <tr>\n",
       "      <th>23696</th>\n",
       "      <td>18</td>\n",
       "      <td>2500000.0</td>\n",
       "      <td>56.70</td>\n",
       "      <td>2018-02-11</td>\n",
       "      <td>2</td>\n",
       "      <td>NaN</td>\n",
       "      <td>3.0</td>\n",
       "      <td>29.7</td>\n",
       "      <td>1</td>\n",
       "      <td>False</td>\n",
       "      <td>False</td>\n",
       "      <td>False</td>\n",
       "      <td>NaN</td>\n",
       "      <td>0.0</td>\n",
       "      <td>село Рождествено</td>\n",
       "      <td>NaN</td>\n",
       "      <td>NaN</td>\n",
       "      <td>NaN</td>\n",
       "      <td>NaN</td>\n",
       "      <td>NaN</td>\n",
       "      <td>NaN</td>\n",
       "      <td>NaN</td>\n",
       "      <td>44091.710758</td>\n",
       "      <td>6</td>\n",
       "      <td>2</td>\n",
       "      <td>2018</td>\n",
       "      <td>первый</td>\n",
       "      <td>NaN</td>\n",
       "    </tr>\n",
       "    <tr>\n",
       "      <th>23697</th>\n",
       "      <td>13</td>\n",
       "      <td>11475000.0</td>\n",
       "      <td>76.75</td>\n",
       "      <td>2017-03-28</td>\n",
       "      <td>2</td>\n",
       "      <td>3.0</td>\n",
       "      <td>17.0</td>\n",
       "      <td>NaN</td>\n",
       "      <td>12</td>\n",
       "      <td>False</td>\n",
       "      <td>False</td>\n",
       "      <td>False</td>\n",
       "      <td>23.30</td>\n",
       "      <td>2.0</td>\n",
       "      <td>Санкт-Петербург</td>\n",
       "      <td>39140.0</td>\n",
       "      <td>10364.0</td>\n",
       "      <td>2.0</td>\n",
       "      <td>173.0</td>\n",
       "      <td>3.0</td>\n",
       "      <td>196.0</td>\n",
       "      <td>602.0</td>\n",
       "      <td>149511.400651</td>\n",
       "      <td>1</td>\n",
       "      <td>3</td>\n",
       "      <td>2017</td>\n",
       "      <td>другое</td>\n",
       "      <td>10.0</td>\n",
       "    </tr>\n",
       "    <tr>\n",
       "      <th>23698</th>\n",
       "      <td>4</td>\n",
       "      <td>1350000.0</td>\n",
       "      <td>32.30</td>\n",
       "      <td>2017-07-21</td>\n",
       "      <td>1</td>\n",
       "      <td>2.5</td>\n",
       "      <td>5.0</td>\n",
       "      <td>12.3</td>\n",
       "      <td>1</td>\n",
       "      <td>False</td>\n",
       "      <td>False</td>\n",
       "      <td>False</td>\n",
       "      <td>9.00</td>\n",
       "      <td>0.0</td>\n",
       "      <td>поселок Новый Учхоз</td>\n",
       "      <td>NaN</td>\n",
       "      <td>NaN</td>\n",
       "      <td>NaN</td>\n",
       "      <td>NaN</td>\n",
       "      <td>NaN</td>\n",
       "      <td>NaN</td>\n",
       "      <td>NaN</td>\n",
       "      <td>41795.665635</td>\n",
       "      <td>4</td>\n",
       "      <td>7</td>\n",
       "      <td>2017</td>\n",
       "      <td>первый</td>\n",
       "      <td>NaN</td>\n",
       "    </tr>\n",
       "  </tbody>\n",
       "</table>\n",
       "<p>22876 rows × 28 columns</p>\n",
       "</div>"
      ],
      "text/plain": [
       "       total_images  last_price  total_area first_day_exposition  rooms  \\\n",
       "0                20  13000000.0      108.00           2019-03-07      3   \n",
       "1                 7   3350000.0       40.40           2018-12-04      1   \n",
       "2                10   5196000.0       56.00           2015-08-20      2   \n",
       "5                10   2890000.0       30.40           2018-09-10      1   \n",
       "6                 6   3700000.0       37.30           2017-11-02      1   \n",
       "...             ...         ...         ...                  ...    ...   \n",
       "23694             9   9700000.0      133.81           2017-03-21      3   \n",
       "23695            14   3100000.0       59.00           2018-01-15      3   \n",
       "23696            18   2500000.0       56.70           2018-02-11      2   \n",
       "23697            13  11475000.0       76.75           2017-03-28      2   \n",
       "23698             4   1350000.0       32.30           2017-07-21      1   \n",
       "\n",
       "       ceiling_height  floors_total  living_area  floor  is_apartment  studio  \\\n",
       "0                 2.7          16.0         51.0      8         False   False   \n",
       "1                 NaN          11.0         18.6      1         False   False   \n",
       "2                 NaN           5.0         34.3      4         False   False   \n",
       "5                 NaN          12.0         14.4      5         False   False   \n",
       "6                 NaN          26.0         10.6      6         False   False   \n",
       "...               ...           ...          ...    ...           ...     ...   \n",
       "23694             3.7           5.0         73.3      3         False   False   \n",
       "23695             NaN           5.0         38.0      4         False   False   \n",
       "23696             NaN           3.0         29.7      1         False   False   \n",
       "23697             3.0          17.0          NaN     12         False   False   \n",
       "23698             2.5           5.0         12.3      1         False   False   \n",
       "\n",
       "       open_plan  kitchen_area  balcony        locality_name  \\\n",
       "0          False         25.00      0.0      Санкт-Петербург   \n",
       "1          False         11.00      2.0       поселок Шушары   \n",
       "2          False          8.30      0.0      Санкт-Петербург   \n",
       "5          False          9.10      0.0      поселок Янино-1   \n",
       "6          False         14.40      1.0    поселок Парголово   \n",
       "...          ...           ...      ...                  ...   \n",
       "23694      False         13.83      0.0      Санкт-Петербург   \n",
       "23695      False          8.50      0.0                Тосно   \n",
       "23696      False           NaN      0.0     село Рождествено   \n",
       "23697      False         23.30      2.0      Санкт-Петербург   \n",
       "23698      False          9.00      0.0  поселок Новый Учхоз   \n",
       "\n",
       "       airports_nearest  citycenters_nearest  parks_around_3000  \\\n",
       "0               18863.0              16028.0                1.0   \n",
       "1               12817.0              18603.0                0.0   \n",
       "2               21741.0              13933.0                1.0   \n",
       "5                   NaN                  NaN                NaN   \n",
       "6               52996.0              19143.0                0.0   \n",
       "...                 ...                  ...                ...   \n",
       "23694           24665.0               4232.0                1.0   \n",
       "23695               NaN                  NaN                NaN   \n",
       "23696               NaN                  NaN                NaN   \n",
       "23697           39140.0              10364.0                2.0   \n",
       "23698               NaN                  NaN                NaN   \n",
       "\n",
       "       parks_nearest  ponds_around_3000  ponds_nearest  days_exposition  \\\n",
       "0              482.0                2.0          755.0              NaN   \n",
       "1                NaN                0.0            NaN             81.0   \n",
       "2               90.0                2.0          574.0            558.0   \n",
       "5                NaN                NaN            NaN             55.0   \n",
       "6                NaN                0.0            NaN            155.0   \n",
       "...              ...                ...            ...              ...   \n",
       "23694          796.0                3.0          381.0              NaN   \n",
       "23695            NaN                NaN            NaN             45.0   \n",
       "23696            NaN                NaN            NaN              NaN   \n",
       "23697          173.0                3.0          196.0            602.0   \n",
       "23698            NaN                NaN            NaN              NaN   \n",
       "\n",
       "         meter_price  week_day_exp  month_exp  year_exp type_floor  \\\n",
       "0      120370.370370             3          3      2019     другое   \n",
       "1       82920.792079             1         12      2018     первый   \n",
       "2       92785.714286             3          8      2015     другое   \n",
       "5       95065.789474             0          9      2018     другое   \n",
       "6       99195.710456             3         11      2017     другое   \n",
       "...              ...           ...        ...       ...        ...   \n",
       "23694   72490.845228             1          3      2017     другое   \n",
       "23695   52542.372881             0          1      2018     другое   \n",
       "23696   44091.710758             6          2      2018     первый   \n",
       "23697  149511.400651             1          3      2017     другое   \n",
       "23698   41795.665635             4          7      2017     первый   \n",
       "\n",
       "       center_dist_km  \n",
       "0                16.0  \n",
       "1                18.0  \n",
       "2                13.0  \n",
       "5                 NaN  \n",
       "6                19.0  \n",
       "...               ...  \n",
       "23694             4.0  \n",
       "23695             NaN  \n",
       "23696             NaN  \n",
       "23697            10.0  \n",
       "23698             NaN  \n",
       "\n",
       "[22876 rows x 28 columns]"
      ]
     },
     "metadata": {},
     "output_type": "display_data"
    }
   ],
   "source": [
    "df = df.copy()\n",
    "\n",
    "df['meter_price'] = df['last_price'] / df['total_area']                    #1\n",
    "\n",
    "df['week_day_exp'] = pd.DatetimeIndex(df['first_day_exposition']).weekday  #2\n",
    "\n",
    "df['month_exp'] = pd.DatetimeIndex(df['first_day_exposition']).month       #3\n",
    "\n",
    "df['year_exp'] = pd.DatetimeIndex(df['first_day_exposition']).year         #4\n",
    "\n",
    "df.loc[:, 'type_floor'] = 'другое'                                         #5\n",
    "df.loc[df['floor'] == df['floors_total'], 'type_floor'] = 'последний'\n",
    "df.loc[df['floor'] == 1, 'type_floor'] ='первый'\n",
    "\n",
    "df['center_dist_km'] = df['citycenters_nearest'] // 1000                   #6\n",
    "\n",
    "display(df)"
   ]
  },
  {
   "cell_type": "markdown",
   "id": "e61a28ab",
   "metadata": {},
   "source": [
    "# Шаг 4.1 \n",
    "Построение гистрограмм "
   ]
  },
  {
   "cell_type": "code",
   "execution_count": 25,
   "id": "23a8201d",
   "metadata": {},
   "outputs": [
    {
     "data": {
      "image/png": "[encoded data removed]",
      "text/plain": [
       "<Figure size 1080x576 with 1 Axes>"
      ]
     },
     "metadata": {
      "needs_background": "light"
     },
     "output_type": "display_data"
    }
   ],
   "source": [
    "#1) общая площадь\n",
    "df.plot(y='total_area', \n",
    "        kind='hist',\n",
    "        title='общая площадь',\n",
    "        range=(0, 400),\n",
    "        bins=150,\n",
    "        grid=True,\n",
    "        figsize=(15,8));"
   ]
  },
  {
   "cell_type": "markdown",
   "id": "926ccda0",
   "metadata": {},
   "source": [
    "На графике хорошо видно распределение Пуассона с пиком в ~40 кв.м.. В среднем кваритиры с такой площадью выставляются на продажу."
   ]
  },
  {
   "cell_type": "code",
   "execution_count": 26,
   "id": "a0d89532",
   "metadata": {},
   "outputs": [
    {
     "data": {
      "image/png": "[encoded data removed]",
      "text/plain": [
       "<Figure size 1080x576 with 1 Axes>"
      ]
     },
     "metadata": {
      "needs_background": "light"
     },
     "output_type": "display_data"
    }
   ],
   "source": [
    "#2) жилая площадь\n",
    "df.plot(y='living_area', \n",
    "        kind='hist',\n",
    "        title='жилая площадь',\n",
    "        range=(0, 200),\n",
    "        bins=150,\n",
    "        grid=True,\n",
    "        figsize=(15,8));\n"
   ]
  },
  {
   "cell_type": "markdown",
   "id": "aa64edd3",
   "metadata": {},
   "source": [
    "На диаграмме жилой площади наблюдается 3 последовательных убавающих пика: 17, 32, 44 кв.м., но в какой-то степени это распределение все равно напоминает пуассоновское. Основная масса квартир имеет площадь (12, 60) кв.м. - это соответствует действительности. "
   ]
  },
  {
   "cell_type": "code",
   "execution_count": 27,
   "id": "c106e4ec",
   "metadata": {},
   "outputs": [
    {
     "data": {
      "image/png": "[encoded data removed]",
      "text/plain": [
       "<Figure size 1080x576 with 1 Axes>"
      ]
     },
     "metadata": {
      "needs_background": "light"
     },
     "output_type": "display_data"
    }
   ],
   "source": [
    "#4) площадь кухни\n",
    "df.plot(y='kitchen_area', \n",
    "        kind='hist',\n",
    "        title='площадь кухни',\n",
    "        range=(0, 50),\n",
    "        bins=80,\n",
    "        grid=True,\n",
    "        figsize=(15,8));"
   ]
  },
  {
   "cell_type": "markdown",
   "id": "86e995d6",
   "metadata": {},
   "source": [
    "Распределение площади кухонь напоминает пуассоновское. В основном площадь кухни составляет 5 - 20 кв.м. "
   ]
  },
  {
   "cell_type": "code",
   "execution_count": 28,
   "id": "a3ee015f",
   "metadata": {},
   "outputs": [
    {
     "data": {
      "image/png": "[encoded data removed]",
      "text/plain": [
       "<Figure size 864x576 with 1 Axes>"
      ]
     },
     "metadata": {
      "needs_background": "light"
     },
     "output_type": "display_data"
    }
   ],
   "source": [
    "# 4) цена объекта\n",
    "df.plot(y='last_price',\n",
    "        kind='hist',\n",
    "        range=(0, 30000000),\n",
    "        title='цена объекта',\n",
    "        bins=170,\n",
    "        grid=True,\n",
    "        figsize = (12,8))\n",
    "df['last_price'].describe();\n"
   ]
  },
  {
   "cell_type": "markdown",
   "id": "c45411c5",
   "metadata": {},
   "source": [
    "На гистограмме цен мы можем увидеть распредление Гаусса , медианная стоимость - 4.8млн. Нельзя выделить участки с аномалиями: частота стремится к нулю при большой стоимости квартиры. "
   ]
  },
  {
   "cell_type": "code",
   "execution_count": 29,
   "id": "f315ea0f",
   "metadata": {},
   "outputs": [
    {
     "data": {
      "image/png": "[encoded data removed]",
      "text/plain": [
       "<Figure size 864x576 with 1 Axes>"
      ]
     },
     "metadata": {
      "needs_background": "light"
     },
     "output_type": "display_data"
    }
   ],
   "source": [
    "# 5) количество комнат\n",
    "df.plot(y='rooms',\n",
    "        kind='hist',\n",
    "        title='количество комнат',\n",
    "        bins=50,\n",
    "        grid=True,\n",
    "        figsize = (12,8));"
   ]
  },
  {
   "cell_type": "markdown",
   "id": "200477fa",
   "metadata": {},
   "source": [
    "На гистограмме количества комнат мы можем увидеть распределение Пуассона, после 3 комнат, частота начинает сильно падать. "
   ]
  },
  {
   "cell_type": "code",
   "execution_count": 30,
   "id": "3b03389d",
   "metadata": {},
   "outputs": [
    {
     "data": {
      "image/png": "[encoded data removed]",
      "text/plain": [
       "<Figure size 864x576 with 1 Axes>"
      ]
     },
     "metadata": {
      "needs_background": "light"
     },
     "output_type": "display_data"
    }
   ],
   "source": [
    "# 6)высота потолков\n",
    "df.plot(y='ceiling_height',\n",
    "        kind='hist',\n",
    "        title='высота потолков',\n",
    "        range=(1.5, 8),\n",
    "        bins=100,\n",
    "        grid=True,\n",
    "        figsize = (12,8));"
   ]
  },
  {
   "cell_type": "markdown",
   "id": "2c7d0d36",
   "metadata": {},
   "source": [
    "На гистограмме высоты потолков можно заметить, что 2.5 м - это стандартная высота потолка. Нельзя выделить аномалий на этой гистограмме. "
   ]
  },
  {
   "cell_type": "code",
   "execution_count": 31,
   "id": "e642908a",
   "metadata": {},
   "outputs": [
    {
     "data": {
      "image/png": "[encoded data removed]",
      "text/plain": [
       "<Figure size 864x576 with 1 Axes>"
      ]
     },
     "metadata": {
      "needs_background": "light"
     },
     "output_type": "display_data"
    }
   ],
   "source": [
    "# 7)этаж квартиры\n",
    "df.plot(y='floor',\n",
    "        kind='hist',\n",
    "        title='этаж квартиры',\n",
    "        bins=50,\n",
    "        grid=True,\n",
    "        figsize = (12,8));\n"
   ]
  },
  {
   "cell_type": "markdown",
   "id": "437fec8a",
   "metadata": {},
   "source": [
    "На гистограмме можно увидеть, что с ростом этажа, частота объявлений снижается. "
   ]
  },
  {
   "cell_type": "code",
   "execution_count": 32,
   "id": "dd233ec9",
   "metadata": {},
   "outputs": [
    {
     "data": {
      "image/png": "[encoded data removed]",
      "text/plain": [
       "<Figure size 432x288 with 1 Axes>"
      ]
     },
     "metadata": {
      "needs_background": "light"
     },
     "output_type": "display_data"
    }
   ],
   "source": [
    "# 8) тип этажа квартиры\n",
    "df['type_floor'].hist();\n"
   ]
  },
  {
   "cell_type": "markdown",
   "id": "0aca8935",
   "metadata": {},
   "source": [
    "На гистограмме можно увидеть, что доля квартир на первых и последних этажах довольно значительная. "
   ]
  },
  {
   "cell_type": "code",
   "execution_count": 33,
   "id": "da8d1a6f",
   "metadata": {},
   "outputs": [
    {
     "data": {
      "image/png": "[encoded data removed]",
      "text/plain": [
       "<Figure size 864x576 with 1 Axes>"
      ]
     },
     "metadata": {
      "needs_background": "light"
     },
     "output_type": "display_data"
    }
   ],
   "source": [
    "# 9) общее количество этажей в доме\n",
    "df.plot(y='floors_total',\n",
    "        kind='hist',\n",
    "        title='общее количество этажей в доме',\n",
    "        range=(0, 40),\n",
    "        bins=50,\n",
    "        grid=True,\n",
    "        figsize = (12,8));"
   ]
  },
  {
   "cell_type": "markdown",
   "id": "9d989c7e",
   "metadata": {},
   "source": [
    "Можем видеть, что число квартир с меньшим количеством этажей превышает многоэтажки. "
   ]
  },
  {
   "cell_type": "code",
   "execution_count": 34,
   "id": "61cc38dc",
   "metadata": {},
   "outputs": [
    {
     "data": {
      "image/png": "[encoded data removed]",
      "text/plain": [
       "<Figure size 864x576 with 1 Axes>"
      ]
     },
     "metadata": {
      "needs_background": "light"
     },
     "output_type": "display_data"
    }
   ],
   "source": [
    "# 9) расстояние до центра города в метрах\n",
    "df.plot(y='citycenters_nearest',\n",
    "        kind='hist',\n",
    "        title='расстояние до центра города в метрах',\n",
    "        bins=100,\n",
    "        grid=True,\n",
    "        figsize = (12,8));\n",
    "\n"
   ]
  },
  {
   "cell_type": "markdown",
   "id": "bb5061a3",
   "metadata": {},
   "source": [
    "На гистограмме расстояния до центра можно заметить несколько \"волн\" характерных распределению Гаусса, можно предположить, что это наиболее крупные населенные пункты области, поэтому наше распределение не похоже стандартные распределения."
   ]
  },
  {
   "cell_type": "code",
   "execution_count": 35,
   "id": "e4e1ae55",
   "metadata": {},
   "outputs": [
    {
     "data": {
      "image/png": "[encoded data removed]",
      "text/plain": [
       "<Figure size 864x576 with 1 Axes>"
      ]
     },
     "metadata": {
      "needs_background": "light"
     },
     "output_type": "display_data"
    }
   ],
   "source": [
    "# 10) расстояние до ближайшего аэропорта\n",
    "df.plot(y='airports_nearest',\n",
    "        kind='hist',\n",
    "        title='расстояние до ближайшего аэропорта',\n",
    "        bins=100,\n",
    "        grid=True,\n",
    "        figsize = (12,8));\n"
   ]
  },
  {
   "cell_type": "markdown",
   "id": "10cce231",
   "metadata": {},
   "source": [
    "Можем видеть, что большинство квартир находится в пределах 60км от ближайшего аэропорта. Еще можно заметить небольшой экстремум в районе 69км, возможно - это деревня или поселок, не имеющий аэропорта вблизи. "
   ]
  },
  {
   "cell_type": "code",
   "execution_count": 36,
   "id": "49990b03",
   "metadata": {},
   "outputs": [
    {
     "data": {
      "image/png": "[encoded data removed]",
      "text/plain": [
       "<Figure size 864x576 with 1 Axes>"
      ]
     },
     "metadata": {
      "needs_background": "light"
     },
     "output_type": "display_data"
    }
   ],
   "source": [
    "# 11)расстояние до ближайшего парка\n",
    "df.plot(y='parks_nearest',\n",
    "        kind='hist',\n",
    "        title='расстояние до ближайшего парка',\n",
    "        bins=100,\n",
    "        grid=True,\n",
    "        figsize = (12,8));"
   ]
  },
  {
   "cell_type": "markdown",
   "id": "6fea309f",
   "metadata": {},
   "source": [
    "Распределение похоже на пуассоновское. Действительно, не встретить ни одного парка дальше километра - маленькая. Тем не менее, есть квартиры, которые находятся дольше 1000 м. от ближайшего парка. "
   ]
  },
  {
   "cell_type": "code",
   "execution_count": 37,
   "id": "6a97409c",
   "metadata": {
    "scrolled": true
   },
   "outputs": [
    {
     "data": {
      "image/png": "[encoded data removed]",
      "text/plain": [
       "<Figure size 720x360 with 1 Axes>"
      ]
     },
     "metadata": {
      "needs_background": "light"
     },
     "output_type": "display_data"
    },
    {
     "data": {
      "image/png": "[encoded data removed]",
      "text/plain": [
       "<Figure size 720x360 with 1 Axes>"
      ]
     },
     "metadata": {
      "needs_background": "light"
     },
     "output_type": "display_data"
    }
   ],
   "source": [
    "# 12) день и месяц публикации объявления\n",
    "df.plot(y='week_day_exp',\n",
    "        kind='hist',\n",
    "        title='день публикации',\n",
    "        bins=7,\n",
    "        grid=True,\n",
    "        figsize = (10,5))\n",
    "\n",
    "\n",
    "df.plot(y='month_exp',\n",
    "        kind='hist',\n",
    "        title='месяц публикации',\n",
    "        bins=12,\n",
    "        grid=True,\n",
    "        figsize = (10,5));"
   ]
  },
  {
   "cell_type": "markdown",
   "id": "5d00dfa7",
   "metadata": {},
   "source": [
    "На гистограмме дней можем заметить, что в выходные объявления публикуют реже. На гистограмме месяцев можем заметить, что в начале весны и в конце осеньи объявления публикуются чаще.  "
   ]
  },
  {
   "cell_type": "markdown",
   "id": "3a781055",
   "metadata": {},
   "source": [
    "# 4.2 \n",
    "* Изучите, как быстро продавались квартиры (столбец days_exposition). Этот параметр показывает, сколько дней было размещено каждое объявление."
   ]
  },
  {
   "cell_type": "code",
   "execution_count": 38,
   "id": "80214955",
   "metadata": {},
   "outputs": [
    {
     "data": {
      "image/png": "[encoded data removed]",
      "text/plain": [
       "<Figure size 1080x720 with 1 Axes>"
      ]
     },
     "metadata": {
      "needs_background": "light"
     },
     "output_type": "display_data"
    }
   ],
   "source": [
    "df.plot(y='days_exposition',\n",
    "        kind='hist',\n",
    "        title='сколько дней было размещено объявление',\n",
    "        bins=150,\n",
    "        grid=True,\n",
    "        figsize = (15,10));"
   ]
  },
  {
   "cell_type": "code",
   "execution_count": 39,
   "id": "8414bfe1",
   "metadata": {},
   "outputs": [
    {
     "name": "stdout",
     "output_type": "stream",
     "text": [
      "Медиана: 93.5\n",
      "Среднее значение: 177.8\n"
     ]
    }
   ],
   "source": [
    "median = df['days_exposition'].median()\n",
    "mean = df['days_exposition'].mean()\n",
    "print(f'Медиана: {round(median, 1)}', f'Среднее значение: {round(mean, 1)}', sep='\\n');"
   ]
  },
  {
   "cell_type": "code",
   "execution_count": 40,
   "id": "0d4e6ccf",
   "metadata": {},
   "outputs": [
    {
     "data": {
      "text/plain": [
       "count    19892.000000\n",
       "mean       177.814951\n",
       "std        216.432976\n",
       "min          1.000000\n",
       "25%         44.000000\n",
       "50%         93.500000\n",
       "75%        226.000000\n",
       "max       1580.000000\n",
       "Name: days_exposition, dtype: float64"
      ]
     },
     "execution_count": 40,
     "metadata": {},
     "output_type": "execute_result"
    }
   ],
   "source": [
    "df['days_exposition'].describe()"
   ]
  },
  {
   "cell_type": "markdown",
   "id": "6d6090d6",
   "metadata": {},
   "source": [
    "* Медиана: 93.5  - столько дней большинство людей затрачивает на то, чтобы продать квартиру.\n",
    "\n",
    "* Среднее значение: 177.8 - показывает, что есть такие люди, которые тратят на продажу квартиры большое время. \n",
    "\n",
    "* К категории быстрых продаж можно отнести квартиры, которые были проданы меньше, чем через 45 дней после публикации, они вошли в первый квартиль. \n",
    "\n",
    "* К категории медленных продаж можно отнести квартиры, которые были проданы позже 245 дней, они вошли в последний квартиль. \n",
    "\n",
    "* В основном квартиры продаются в интервале от 44 до 226 дней. \n"
   ]
  },
  {
   "cell_type": "markdown",
   "id": "26cdc4e1",
   "metadata": {},
   "source": [
    "# 4.3 \n",
    "* Какие факторы больше всего влияют на общую (полную) стоимость объекта?"
   ]
  },
  {
   "cell_type": "markdown",
   "id": "4d4bddab",
   "metadata": {},
   "source": [
    "1.  Зависимость цены от общей площади"
   ]
  },
  {
   "cell_type": "markdown",
   "id": "ddfbcaf2",
   "metadata": {},
   "source": [
    "Для каждого населенного пункта найдем коэффициент корреляции цены и общей площади, затем посмотрим на распределение. "
   ]
  },
  {
   "cell_type": "code",
   "execution_count": 41,
   "id": "0f1a4b4d",
   "metadata": {},
   "outputs": [
    {
     "name": "stderr",
     "output_type": "stream",
     "text": [
      "/opt/conda/lib/python3.9/site-packages/numpy/lib/function_base.py:2683: RuntimeWarning: Degrees of freedom <= 0 for slice\n",
      "  c = cov(x, y, rowvar, dtype=dtype)\n",
      "/opt/conda/lib/python3.9/site-packages/numpy/lib/function_base.py:2542: RuntimeWarning: divide by zero encountered in true_divide\n",
      "  c *= np.true_divide(1, fact)\n"
     ]
    },
    {
     "data": {
      "image/png": "[encoded data removed]",
      "text/plain": [
       "<Figure size 432x288 with 1 Axes>"
      ]
     },
     "metadata": {
      "needs_background": "light"
     },
     "output_type": "display_data"
    }
   ],
   "source": [
    "place_name = []\n",
    "place_corr = []\n",
    "\n",
    "for place, place_data in df.groupby('locality_name'): \n",
    "    corr = place_data['last_price'].corr(place_data['total_area'])\n",
    "    place_name.append(place)\n",
    "    place_corr.append(corr)\n",
    "\n",
    "plt.hist(place_corr, bins=100);\n",
    "#display(local_price)\n",
    "#df.plot(x='total_area', y='last_price', kind='scatter')"
   ]
  },
  {
   "cell_type": "code",
   "execution_count": 42,
   "id": "56b7c875",
   "metadata": {},
   "outputs": [
    {
     "name": "stdout",
     "output_type": "stream",
     "text": [
      "Коэффициент корреляции: 0.7472662247062682\n"
     ]
    },
    {
     "data": {
      "image/png": "[encoded data removed]",
      "text/plain": [
       "<Figure size 1080x720 with 2 Axes>"
      ]
     },
     "metadata": {
      "needs_background": "light"
     },
     "output_type": "display_data"
    }
   ],
   "source": [
    "#построим также график всех поселков, чтобы видеть общую картину\n",
    "df.plot(x='total_area',y='last_price', kind='hexbin',gridsize=60, alpha=1, sharex=False, figsize=(15, 10))\n",
    "print('Коэффициент корреляции:', df['total_area'].corr(df['last_price']))"
   ]
  },
  {
   "cell_type": "markdown",
   "id": "11e41e9f",
   "metadata": {},
   "source": [
    "На гистограмме представлено распределение корреляции. Видно, что основная часть городов имеет корреляцию > 0.5 - это значит, что чем больше площадь квартиры, тем выше ее стоимость. Можно также отметить, что в основном значения коэффициента корреляции не только больше нуля, но и близки к единице. hexbin подтверждает положительнгую корреляцию. Так что, можно сказать, что зависимость между стоимостью квартиры и ее площадью присутсвует. "
   ]
  },
  {
   "cell_type": "markdown",
   "id": "4458ac6d",
   "metadata": {},
   "source": [
    "2. Зависимость цены от жилой площади "
   ]
  },
  {
   "cell_type": "markdown",
   "id": "66b91f7c",
   "metadata": {},
   "source": [
    "Поступим аналогично п.(1) "
   ]
  },
  {
   "cell_type": "code",
   "execution_count": 43,
   "id": "d79e476b",
   "metadata": {},
   "outputs": [
    {
     "data": {
      "image/png": "[encoded data removed]",
      "text/plain": [
       "<Figure size 432x288 with 1 Axes>"
      ]
     },
     "metadata": {
      "needs_background": "light"
     },
     "output_type": "display_data"
    }
   ],
   "source": [
    "liv_place_corr = []\n",
    "for place, place_data in df.groupby('locality_name'): \n",
    "    corr = place_data['last_price'].corr(place_data['living_area'])\n",
    "    place_name.append(place)\n",
    "    liv_place_corr.append(corr)\n",
    "\n",
    "plt.hist(liv_place_corr, bins=100);"
   ]
  },
  {
   "cell_type": "code",
   "execution_count": 44,
   "id": "81a43863",
   "metadata": {},
   "outputs": [
    {
     "name": "stdout",
     "output_type": "stream",
     "text": [
      "Коэффициент корреляции: 0.6374385703122123\n"
     ]
    },
    {
     "data": {
      "image/png": "[encoded data removed]",
      "text/plain": [
       "<Figure size 1080x720 with 2 Axes>"
      ]
     },
     "metadata": {
      "needs_background": "light"
     },
     "output_type": "display_data"
    }
   ],
   "source": [
    "#построим также график всех поселков, чтобы видеть общую картину\n",
    "df.plot(x='living_area',y='last_price', kind='hexbin',gridsize=60, alpha=1, sharex=False, figsize=(15, 10))\n",
    "print('Коэффициент корреляции:', df['living_area'].corr(df['last_price']))"
   ]
  },
  {
   "cell_type": "markdown",
   "id": "9a1b9b2b",
   "metadata": {},
   "source": [
    "Распределение к-а Пирсона похоже на распределение в п.1. Отметим, что доля квартир с corr = -1 увеличилась, также увеличилась доля квартир с corr ≈ 0.75, скорее всего, помимо площади, существуют параметры, влияющие на цену. Зависимость между стоимостью квартиры и ее жилой площадью присутсвует, но она менее выражена, чем зависимость между общей площадью и ценой.  "
   ]
  },
  {
   "cell_type": "markdown",
   "id": "166254ea",
   "metadata": {},
   "source": [
    "3. Зависимость цены от площади кухни"
   ]
  },
  {
   "cell_type": "code",
   "execution_count": 45,
   "id": "e74f0d42",
   "metadata": {},
   "outputs": [
    {
     "data": {
      "text/plain": [
       "count    215.000000\n",
       "mean       0.325877\n",
       "std        0.537330\n",
       "min       -1.000000\n",
       "25%        0.148599\n",
       "50%        0.460252\n",
       "75%        0.670820\n",
       "max        1.000000\n",
       "dtype: float64"
      ]
     },
     "execution_count": 45,
     "metadata": {},
     "output_type": "execute_result"
    },
    {
     "data": {
      "image/png": "[encoded data removed]",
      "text/plain": [
       "<Figure size 432x288 with 1 Axes>"
      ]
     },
     "metadata": {
      "needs_background": "light"
     },
     "output_type": "display_data"
    }
   ],
   "source": [
    "kitchen_corr = []\n",
    "for place, place_data in df.groupby('locality_name'): \n",
    "    corr = place_data['last_price'].corr(place_data['kitchen_area'])\n",
    "    place_name.append(place)\n",
    "    kitchen_corr.append(corr)\n",
    "\n",
    "plt.hist(kitchen_corr, bins=100)\n",
    "Peter_ind = place_name.index('Санкт-Петербург')\n",
    "kithchen_df = pd.Series(kitchen_corr)\n",
    "kithchen_df.describe()"
   ]
  },
  {
   "cell_type": "code",
   "execution_count": 46,
   "id": "4bbb30f7",
   "metadata": {},
   "outputs": [
    {
     "name": "stdout",
     "output_type": "stream",
     "text": [
      "Коэффициент корреляции: 0.5401920159636393\n"
     ]
    },
    {
     "data": {
      "image/png": "[encoded data removed]",
      "text/plain": [
       "<Figure size 1080x720 with 2 Axes>"
      ]
     },
     "metadata": {
      "needs_background": "light"
     },
     "output_type": "display_data"
    }
   ],
   "source": [
    "#построим также график всех поселков, чтобы видеть общую картину\n",
    "df.plot(x='kitchen_area',y='last_price', kind='hexbin',gridsize=60, alpha=1, sharex=False, figsize=(15, 10))\n",
    "print('Коэффициент корреляции:', df['kitchen_area'].corr(df['last_price']))"
   ]
  },
  {
   "cell_type": "markdown",
   "id": "856de268",
   "metadata": {},
   "source": [
    "Коэффициент корреляции равен 0.54 для всей области, он меньше, чем предыдущие два коэффициента, зависимость цены от площади кухни менее выражена, чем зависимость цены от площади, но все равно она присутсвует, это видно из распределения corr по отдельным населенным пунктам, а так же из hexbin. "
   ]
  },
  {
   "cell_type": "markdown",
   "id": "31ebad40",
   "metadata": {},
   "source": [
    "4. Зависимость цены от количества комнат"
   ]
  },
  {
   "cell_type": "code",
   "execution_count": 47,
   "id": "d59de945",
   "metadata": {},
   "outputs": [
    {
     "data": {
      "text/plain": [
       "count    215.000000\n",
       "mean       0.325877\n",
       "std        0.537330\n",
       "min       -1.000000\n",
       "25%        0.148599\n",
       "50%        0.460252\n",
       "75%        0.670820\n",
       "max        1.000000\n",
       "dtype: float64"
      ]
     },
     "execution_count": 47,
     "metadata": {},
     "output_type": "execute_result"
    },
    {
     "data": {
      "image/png": "[encoded data removed]",
      "text/plain": [
       "<Figure size 432x288 with 1 Axes>"
      ]
     },
     "metadata": {
      "needs_background": "light"
     },
     "output_type": "display_data"
    }
   ],
   "source": [
    "room_corr = []\n",
    "for place, place_data in df.groupby('locality_name'): \n",
    "    corr = place_data['last_price'].corr(place_data['rooms'])\n",
    "    place_name.append(place)\n",
    "    room_corr.append(corr)\n",
    "\n",
    "plt.hist(kitchen_corr, bins=100)\n",
    "kithchen_df = pd.Series(kitchen_corr)\n",
    "kithchen_df.describe()"
   ]
  },
  {
   "cell_type": "code",
   "execution_count": 48,
   "id": "e97fbb36",
   "metadata": {},
   "outputs": [
    {
     "name": "stdout",
     "output_type": "stream",
     "text": [
      "Коэффициент корреляции: 0.44625986632623027\n"
     ]
    },
    {
     "data": {
      "image/png": "[encoded data removed]",
      "text/plain": [
       "<Figure size 1080x720 with 2 Axes>"
      ]
     },
     "metadata": {
      "needs_background": "light"
     },
     "output_type": "display_data"
    }
   ],
   "source": [
    "#построим также график всех поселков, чтобы видеть общую картину\n",
    "df.plot(x='rooms',y='last_price', kind='hexbin',gridsize=40, alpha=1, sharex=False, figsize=(15, 10))\n",
    "print('Коэффициент корреляции:', df['rooms'].corr(df['last_price']))"
   ]
  },
  {
   "cell_type": "markdown",
   "id": "213d81f9",
   "metadata": {},
   "source": [
    "Коэффициент корреляцииуменьшился по сравнению с предыдущими. Увеличилось количество населенных пунктов, для которых корреляция отрицательная, скорее всего, в поселках/деревнях на дома с большим количеством комнат стоит низкая. Значит, зависимость меннее явная, однако, отметим, что она присутствует для большей части населенных пунктов."
   ]
  },
  {
   "cell_type": "markdown",
   "id": "f16486dd",
   "metadata": {},
   "source": [
    "5. Зависимость цены от этажа, на котором расположена квартира \n",
    "* Я считаю, чтобы анализировать такую зависимость корректно, нужно отбросить из рассмотрения дома, у которых только 1 этаж, потому что в некоторых населенных пунктах попросту нет многоэтажек и такие объявления могут сильно повлиять на нашу зависимость. "
   ]
  },
  {
   "cell_type": "code",
   "execution_count": 49,
   "id": "66a73d80",
   "metadata": {},
   "outputs": [
    {
     "data": {
      "text/plain": [
       "<AxesSubplot:xlabel='type_floor', ylabel='last_price'>"
      ]
     },
     "execution_count": 49,
     "metadata": {},
     "output_type": "execute_result"
    },
    {
     "data": {
      "image/png": "[encoded data removed]",
      "text/plain": [
       "<Figure size 432x288 with 1 Axes>"
      ]
     },
     "metadata": {
      "needs_background": "light"
     },
     "output_type": "display_data"
    }
   ],
   "source": [
    "df_new = df.query('floors_total > 1 ')\n",
    "sns.barplot(x='type_floor', y='last_price', data=df_new)"
   ]
  },
  {
   "cell_type": "markdown",
   "id": "a9cf28b3",
   "metadata": {},
   "source": [
    "На столбчатой диаграмме видно, что квартиры на первом этаже стоят меньше, чем на остальных. Стоимость квартир не на первом и не на последнем этажах выше. "
   ]
  },
  {
   "cell_type": "markdown",
   "id": "25a4f41b",
   "metadata": {},
   "source": [
    "6. Зависимость цены от даты размещения"
   ]
  },
  {
   "cell_type": "code",
   "execution_count": 50,
   "id": "8f3c8b4c",
   "metadata": {},
   "outputs": [
    {
     "data": {
      "image/png": "[encoded data removed]",
      "text/plain": [
       "<Figure size 432x288 with 1 Axes>"
      ]
     },
     "metadata": {
      "needs_background": "light"
     },
     "output_type": "display_data"
    }
   ],
   "source": [
    "df['first_day_exposition'].hist(bins=50)\n",
    "pdf = df.query('locality_name == \"Санкт-Петербург\"')\n",
    "npdf = df.query('locality_name != \"Санкт-Петербург\"')\n"
   ]
  },
  {
   "cell_type": "code",
   "execution_count": 51,
   "id": "c6587558",
   "metadata": {},
   "outputs": [
    {
     "data": {
      "image/png": "[encoded data removed]",
      "text/plain": [
       "<Figure size 432x288 with 1 Axes>"
      ]
     },
     "metadata": {
      "needs_background": "light"
     },
     "output_type": "display_data"
    }
   ],
   "source": [
    "pdf_year = pdf.pivot_table(index='year_exp', values='last_price', aggfunc='mean').reset_index()\n",
    "npdf_year = npdf.pivot_table(index='year_exp', values='last_price', aggfunc='mean').reset_index()\n",
    "sns.barplot(x='year_exp', y='last_price', data=pdf_year);"
   ]
  },
  {
   "cell_type": "code",
   "execution_count": 52,
   "id": "d20552a9",
   "metadata": {},
   "outputs": [
    {
     "data": {
      "image/png": "[encoded data removed]",
      "text/plain": [
       "<Figure size 432x288 with 1 Axes>"
      ]
     },
     "metadata": {
      "needs_background": "light"
     },
     "output_type": "display_data"
    }
   ],
   "source": [
    "sns.barplot(x='year_exp', y='last_price', data=npdf_year);"
   ]
  },
  {
   "cell_type": "markdown",
   "id": "030130af",
   "metadata": {},
   "source": [
    "На столбчатой диаграмме видно, что в 2014 году была самая высокая средняя стоимость на квартиры, если построить графики для некоторых сел, то можно заметить, что в 2014 году объявлений не было, значит, более высокая стоимость обуславливается средней стоимостью в более крупных населенных пунктах. В дальнейшие годы до 2018 стоимость постепенно снижается, это связано с тем, что начинает появляться все больше объявлений из малых населенных пунктов, в 2019 стоимость повышается. "
   ]
  },
  {
   "cell_type": "code",
   "execution_count": 53,
   "id": "37475f7f",
   "metadata": {},
   "outputs": [
    {
     "data": {
      "image/png": "[encoded data removed]",
      "text/plain": [
       "<Figure size 432x288 with 1 Axes>"
      ]
     },
     "metadata": {
      "needs_background": "light"
     },
     "output_type": "display_data"
    }
   ],
   "source": [
    "npdf = df.query('locality_name != \"Санкт-Петербург\"')\n",
    "npdf_month = df.pivot_table(index='month_exp', values='last_price', aggfunc='mean').reset_index()\n",
    "sns.barplot(x='month_exp', y='last_price', data=npdf_month);"
   ]
  },
  {
   "cell_type": "code",
   "execution_count": 54,
   "id": "1b0017dd",
   "metadata": {},
   "outputs": [
    {
     "data": {
      "image/png": "[encoded data removed]",
      "text/plain": [
       "<Figure size 432x288 with 1 Axes>"
      ]
     },
     "metadata": {
      "needs_background": "light"
     },
     "output_type": "display_data"
    }
   ],
   "source": [
    "pdf = df.query('locality_name == \"Санкт-Петербург\"')\n",
    "pdf_month = pdf.pivot_table(index='month_exp', values='last_price', aggfunc='mean').reset_index()\n",
    "sns.barplot(x='month_exp', y='last_price', data=pdf_month);"
   ]
  },
  {
   "cell_type": "markdown",
   "id": "4a00923c",
   "metadata": {},
   "source": [
    "Цена на квартиры в течение года меняется не сильно. Распределение цен в Санкт-Петербург примерно похоже на другие населенные пункты. Можно выделить месяцы: Январь, Февраль, Апрель, Май, Сентябрь, Декабрь - как наиболее \"дорогие\"."
   ]
  },
  {
   "cell_type": "code",
   "execution_count": 55,
   "id": "b89fc952",
   "metadata": {},
   "outputs": [
    {
     "data": {
      "image/png": "[encoded data removed]",
      "text/plain": [
       "<Figure size 432x288 with 1 Axes>"
      ]
     },
     "metadata": {
      "needs_background": "light"
     },
     "output_type": "display_data"
    }
   ],
   "source": [
    "df_week_day = df.pivot_table(index='week_day_exp', values='last_price', aggfunc='mean').reset_index()\n",
    "sns.barplot(x='week_day_exp', y='last_price', data=df_week_day);"
   ]
  },
  {
   "cell_type": "markdown",
   "id": "e73d5e8f",
   "metadata": {},
   "source": [
    "Из распределения видно, что цена в Сб и Вс меньше, чем в будние дни."
   ]
  },
  {
   "cell_type": "markdown",
   "id": "9265857b",
   "metadata": {},
   "source": [
    "# 4.4\n",
    "* Посчитайте среднюю цену одного квадратного метра в 10 населённых пунктах с наибольшим числом объявлений. Выделите населённые пункты с самой высокой и низкой стоимостью квадратного метра."
   ]
  },
  {
   "cell_type": "code",
   "execution_count": 56,
   "id": "a20dbd51",
   "metadata": {},
   "outputs": [
    {
     "data": {
      "image/png": "[encoded data removed]",
      "text/plain": [
       "<Figure size 432x288 with 1 Axes>"
      ]
     },
     "metadata": {
      "needs_background": "light"
     },
     "output_type": "display_data"
    }
   ],
   "source": [
    "df['meter_price'].hist(bins=100);"
   ]
  },
  {
   "cell_type": "code",
   "execution_count": 57,
   "id": "fc39e30c",
   "metadata": {},
   "outputs": [
    {
     "data": {
      "text/plain": [
       "count     22876.000000\n",
       "mean      96639.034678\n",
       "std       38050.989430\n",
       "min        7962.962963\n",
       "25%       76086.956522\n",
       "50%       94444.444444\n",
       "75%      112954.596162\n",
       "max      848484.848485\n",
       "Name: meter_price, dtype: float64"
      ]
     },
     "execution_count": 57,
     "metadata": {},
     "output_type": "execute_result"
    },
    {
     "data": {
      "image/png": "[encoded data removed]",
      "text/plain": [
       "<Figure size 432x288 with 1 Axes>"
      ]
     },
     "metadata": {
      "needs_background": "light"
     },
     "output_type": "display_data"
    }
   ],
   "source": [
    "#df.plot(x='meter_price', bins=100, figsize=(15,10))\n",
    "#display(df['meter_price'].max())\n",
    "sns.boxplot(y=df['meter_price'])\n",
    "df['meter_price'].describe()"
   ]
  },
  {
   "cell_type": "markdown",
   "id": "0cfc13cf",
   "metadata": {},
   "source": [
    "У нас есть значения, которые могут сильно повлиять на mean, но при этом их количество очень маленькое. Оставим Строки где цена за квадратный метр < 200000"
   ]
  },
  {
   "cell_type": "code",
   "execution_count": 58,
   "id": "b0728131",
   "metadata": {},
   "outputs": [
    {
     "data": {
      "text/html": [
       "<div>\n",
       "<style scoped>\n",
       "    .dataframe tbody tr th:only-of-type {\n",
       "        vertical-align: middle;\n",
       "    }\n",
       "\n",
       "    .dataframe tbody tr th {\n",
       "        vertical-align: top;\n",
       "    }\n",
       "\n",
       "    .dataframe thead th {\n",
       "        text-align: right;\n",
       "    }\n",
       "</style>\n",
       "<table border=\"1\" class=\"dataframe\">\n",
       "  <thead>\n",
       "    <tr style=\"text-align: right;\">\n",
       "      <th></th>\n",
       "      <th>locality_name</th>\n",
       "      <th>meter_price</th>\n",
       "    </tr>\n",
       "  </thead>\n",
       "  <tbody>\n",
       "    <tr>\n",
       "      <th>111</th>\n",
       "      <td>Санкт-Петербург</td>\n",
       "      <td>107843.956859</td>\n",
       "    </tr>\n",
       "    <tr>\n",
       "      <th>248</th>\n",
       "      <td>поселок Репино</td>\n",
       "      <td>104238.614786</td>\n",
       "    </tr>\n",
       "    <tr>\n",
       "      <th>102</th>\n",
       "      <td>Пушкин</td>\n",
       "      <td>102013.162438</td>\n",
       "    </tr>\n",
       "    <tr>\n",
       "      <th>114</th>\n",
       "      <td>Сестрорецк</td>\n",
       "      <td>101816.363370</td>\n",
       "    </tr>\n",
       "    <tr>\n",
       "      <th>30</th>\n",
       "      <td>Зеленогорск</td>\n",
       "      <td>101110.344965</td>\n",
       "    </tr>\n",
       "    <tr>\n",
       "      <th>207</th>\n",
       "      <td>поселок Лисий Нос</td>\n",
       "      <td>100660.814239</td>\n",
       "    </tr>\n",
       "    <tr>\n",
       "      <th>76</th>\n",
       "      <td>Мистолово</td>\n",
       "      <td>98549.976709</td>\n",
       "    </tr>\n",
       "    <tr>\n",
       "      <th>203</th>\n",
       "      <td>поселок Левашово</td>\n",
       "      <td>96997.690531</td>\n",
       "    </tr>\n",
       "    <tr>\n",
       "      <th>54</th>\n",
       "      <td>Кудрово</td>\n",
       "      <td>95381.681053</td>\n",
       "    </tr>\n",
       "    <tr>\n",
       "      <th>0</th>\n",
       "      <td>nan</td>\n",
       "      <td>94274.161610</td>\n",
       "    </tr>\n",
       "  </tbody>\n",
       "</table>\n",
       "</div>"
      ],
      "text/plain": [
       "         locality_name    meter_price\n",
       "111    Санкт-Петербург  107843.956859\n",
       "248     поселок Репино  104238.614786\n",
       "102             Пушкин  102013.162438\n",
       "114         Сестрорецк  101816.363370\n",
       "30         Зеленогорск  101110.344965\n",
       "207  поселок Лисий Нос  100660.814239\n",
       "76           Мистолово   98549.976709\n",
       "203   поселок Левашово   96997.690531\n",
       "54             Кудрово   95381.681053\n",
       "0                  nan   94274.161610"
      ]
     },
     "metadata": {},
     "output_type": "display_data"
    },
    {
     "data": {
      "image/png": "[encoded data removed]",
      "text/plain": [
       "<Figure size 432x288 with 1 Axes>"
      ]
     },
     "metadata": {
      "needs_background": "light"
     },
     "output_type": "display_data"
    }
   ],
   "source": [
    "df_new = df.query('meter_price < 200000')\n",
    "local_group = df_new.pivot_table(index='locality_name', values='meter_price').reset_index().sort_values(by='meter_price', ascending=False)\n",
    "top_10 = local_group.head(10)\n",
    "display(top_10)\n",
    "sns.barplot(y='locality_name', x='meter_price', data=top_10);"
   ]
  },
  {
   "cell_type": "code",
   "execution_count": 59,
   "id": "e9028460",
   "metadata": {},
   "outputs": [
    {
     "data": {
      "image/png": "[encoded data removed]",
      "text/plain": [
       "<Figure size 432x288 with 1 Axes>"
      ]
     },
     "metadata": {
      "needs_background": "light"
     },
     "output_type": "display_data"
    }
   ],
   "source": [
    "mdf = df.query('locality_name == \"Санкт-Петербург\"')\n",
    "mdf['meter_price'].hist(bins=50);"
   ]
  },
  {
   "cell_type": "markdown",
   "id": "340914ac",
   "metadata": {},
   "source": [
    "Из диаграммы видно, что стоимость квадратного в Санкт-Петербурге самая высокая. В остальных населенных пунктах выборка очень маленькая, там есть аномально высокие значения для конкретного населенного пункта, поэтому среднее у них такое большое. Также в рейтинг попал nan - неопределенный населенный пункт, лучше выяснить, как он называется, ведь его выборка больше, чем у некоторых пунктов в топе. "
   ]
  },
  {
   "cell_type": "markdown",
   "id": "ad133c83",
   "metadata": {},
   "source": [
    "# 4.5\n",
    "* Ранее вы посчитали расстояние до центра в километрах. Теперь выделите квартиры в Санкт-Петербурге с помощью столбца locality_name и вычислите среднюю цену каждого километра. Опишите, как стоимость объектов зависит от расстояния до центра города."
   ]
  },
  {
   "cell_type": "code",
   "execution_count": 60,
   "id": "a2023b22",
   "metadata": {},
   "outputs": [
    {
     "name": "stdout",
     "output_type": "stream",
     "text": [
      "Коэффициент корреляции с выбросом: -0.7597340287725042\n",
      "Коэффициент корреляции без выброса: -0.9301110014978969\n"
     ]
    },
    {
     "data": {
      "image/png": "[encoded data removed]",
      "text/plain": [
       "<Figure size 1080x720 with 1 Axes>"
      ]
     },
     "metadata": {
      "needs_background": "light"
     },
     "output_type": "display_data"
    },
    {
     "data": {
      "image/png": "[encoded data removed]",
      "text/plain": [
       "<Figure size 1080x720 with 1 Axes>"
      ]
     },
     "metadata": {
      "needs_background": "light"
     },
     "output_type": "display_data"
    }
   ],
   "source": [
    "pdf = df.query('locality_name == \"Санкт-Петербург\" and center_dist_km >= 0 and meter_price < 200000')\n",
    "#display(pdf)\n",
    "pdf_grouped = pdf.pivot_table(index='center_dist_km', values='meter_price').reset_index()\n",
    "#pdf_grouped.info()\n",
    "#display(pdf_grouped)\n",
    "pdf_grouped.plot(x='center_dist_km', y='meter_price', style='r*-', figsize=(15,10), grid=True)\n",
    "\n",
    "pdf_grouped_new = pdf_grouped.query('center_dist_km != 27')\n",
    "pdf_grouped_new.plot(x='center_dist_km', y='meter_price', style='o-', figsize=(15,10), grid=True)\n",
    "print('Коэффициент корреляции с выбросом:', pdf_grouped['center_dist_km'].corr(pdf_grouped['meter_price']))\n",
    "print('Коэффициент корреляции без выброса:', pdf_grouped_new['center_dist_km'].corr(pdf_grouped_new['meter_price']))"
   ]
  },
  {
   "cell_type": "markdown",
   "id": "2bc52c4c",
   "metadata": {},
   "source": [
    "На графке можем видеть, что при удалении от центра, стоимость 1 кв. метра уменьшается. Также на 27 километре виден выброс, точка сильно отлична от других. Зависимость похожа на линейную, коэффициент Пирсона без выброса это подтверждает. ТАкже отметим, что выброс сильно повлиял на коэффициент корреляции. "
   ]
  },
  {
   "cell_type": "markdown",
   "id": "c48c0033",
   "metadata": {},
   "source": [
    "# 5. Выводы"
   ]
  },
  {
   "cell_type": "markdown",
   "id": "ac7622c8",
   "metadata": {},
   "source": [
    "* В ходе выполнения проекта были заполнены некоторые пропуски, которые могли пригодиться в работе. Были исключены и изменены аномальные значения, которые не могут существовать физически, а также значения, которые сильно выбиваются из общей массы. Также бли переименованы населенные пункты для исключения неявных дубликатов. После анализа предобработанного датасета выяснилось:\n",
    "\n",
    "\n",
    "\n",
    "* 1. Стоимость квартир на первом и последнем этажах ниже, чем у квартир того же дома, но с промежуточными этажами.\n",
    "\n",
    "\n",
    "* 2. В цене и количестве публикаций квартир в течении года, а также в течение недели наблюдается \"сезонность\". \n",
    "\n",
    "\n",
    "* 3. Стоимость квартиры сильно зависит от параметров: общая площадь квартиры, жилая площадь; меньше зависит от размера кухни и количества комнат. \n",
    "\n",
    "\n",
    "* 4. В основном квартиры продаются в течение года. \n",
    "\n",
    "\n",
    "* 5. Санкт-Петербург - самый дорогой населенный пункт для жилья в своей области. \n",
    "\n",
    "\n",
    "* 6. Цены на жилье в Питере практически пропорционально зависят от расстояния квартиры до центра. "
   ]
  }
 ],
 "metadata": {
  "ExecuteTimeLog": [
   {
    "duration": 1409,
    "start_time": "2022-10-15T09:31:04.322Z"
   },
   {
    "duration": 117,
    "start_time": "2022-10-15T09:31:05.733Z"
   },
   {
    "duration": 0,
    "start_time": "2022-10-15T09:31:05.854Z"
   },
   {
    "duration": 0,
    "start_time": "2022-10-15T09:31:05.855Z"
   },
   {
    "duration": 0,
    "start_time": "2022-10-15T09:31:05.857Z"
   },
   {
    "duration": 0,
    "start_time": "2022-10-15T09:31:05.858Z"
   },
   {
    "duration": 0,
    "start_time": "2022-10-15T09:31:05.858Z"
   },
   {
    "duration": 0,
    "start_time": "2022-10-15T09:31:05.859Z"
   },
   {
    "duration": 0,
    "start_time": "2022-10-15T09:31:05.860Z"
   },
   {
    "duration": 1,
    "start_time": "2022-10-15T09:31:05.861Z"
   },
   {
    "duration": 0,
    "start_time": "2022-10-15T09:31:05.863Z"
   },
   {
    "duration": 0,
    "start_time": "2022-10-15T09:31:05.864Z"
   },
   {
    "duration": 0,
    "start_time": "2022-10-15T09:31:05.865Z"
   },
   {
    "duration": 0,
    "start_time": "2022-10-15T09:31:05.866Z"
   },
   {
    "duration": 0,
    "start_time": "2022-10-15T09:31:05.889Z"
   },
   {
    "duration": 0,
    "start_time": "2022-10-15T09:31:05.891Z"
   },
   {
    "duration": 0,
    "start_time": "2022-10-15T09:31:05.892Z"
   },
   {
    "duration": 0,
    "start_time": "2022-10-15T09:31:05.893Z"
   },
   {
    "duration": 0,
    "start_time": "2022-10-15T09:31:05.894Z"
   },
   {
    "duration": 0,
    "start_time": "2022-10-15T09:31:05.895Z"
   },
   {
    "duration": 0,
    "start_time": "2022-10-15T09:31:05.896Z"
   },
   {
    "duration": 0,
    "start_time": "2022-10-15T09:31:05.897Z"
   },
   {
    "duration": 0,
    "start_time": "2022-10-15T09:31:05.898Z"
   },
   {
    "duration": 0,
    "start_time": "2022-10-15T09:31:05.900Z"
   },
   {
    "duration": 0,
    "start_time": "2022-10-15T09:31:05.901Z"
   },
   {
    "duration": 0,
    "start_time": "2022-10-15T09:31:05.902Z"
   },
   {
    "duration": 0,
    "start_time": "2022-10-15T09:31:05.903Z"
   },
   {
    "duration": 0,
    "start_time": "2022-10-15T09:31:05.904Z"
   },
   {
    "duration": 0,
    "start_time": "2022-10-15T09:31:05.905Z"
   },
   {
    "duration": 0,
    "start_time": "2022-10-15T09:31:05.906Z"
   },
   {
    "duration": 0,
    "start_time": "2022-10-15T09:31:05.907Z"
   },
   {
    "duration": 0,
    "start_time": "2022-10-15T09:31:05.908Z"
   },
   {
    "duration": 0,
    "start_time": "2022-10-15T09:31:05.910Z"
   },
   {
    "duration": 0,
    "start_time": "2022-10-15T09:31:05.911Z"
   },
   {
    "duration": 0,
    "start_time": "2022-10-15T09:31:05.912Z"
   },
   {
    "duration": 0,
    "start_time": "2022-10-15T09:31:05.913Z"
   },
   {
    "duration": 0,
    "start_time": "2022-10-15T09:31:05.914Z"
   },
   {
    "duration": 0,
    "start_time": "2022-10-15T09:31:05.915Z"
   },
   {
    "duration": 0,
    "start_time": "2022-10-15T09:31:05.916Z"
   },
   {
    "duration": 0,
    "start_time": "2022-10-15T09:31:05.918Z"
   },
   {
    "duration": 0,
    "start_time": "2022-10-15T09:31:05.918Z"
   },
   {
    "duration": 0,
    "start_time": "2022-10-15T09:31:05.920Z"
   },
   {
    "duration": 0,
    "start_time": "2022-10-15T09:31:05.921Z"
   },
   {
    "duration": 0,
    "start_time": "2022-10-15T09:31:05.922Z"
   },
   {
    "duration": 0,
    "start_time": "2022-10-15T09:31:05.923Z"
   },
   {
    "duration": 1,
    "start_time": "2022-10-15T09:31:05.923Z"
   },
   {
    "duration": 0,
    "start_time": "2022-10-15T09:31:05.924Z"
   },
   {
    "duration": 0,
    "start_time": "2022-10-15T09:31:05.925Z"
   },
   {
    "duration": 0,
    "start_time": "2022-10-15T09:31:05.926Z"
   },
   {
    "duration": 0,
    "start_time": "2022-10-15T09:31:05.989Z"
   },
   {
    "duration": 0,
    "start_time": "2022-10-15T09:31:05.991Z"
   },
   {
    "duration": 0,
    "start_time": "2022-10-15T09:31:05.992Z"
   },
   {
    "duration": 0,
    "start_time": "2022-10-15T09:31:05.993Z"
   },
   {
    "duration": 0,
    "start_time": "2022-10-15T09:31:05.994Z"
   },
   {
    "duration": 0,
    "start_time": "2022-10-15T09:31:05.996Z"
   },
   {
    "duration": 0,
    "start_time": "2022-10-15T09:31:05.997Z"
   },
   {
    "duration": 0,
    "start_time": "2022-10-15T09:31:05.998Z"
   },
   {
    "duration": 0,
    "start_time": "2022-10-15T09:31:05.999Z"
   },
   {
    "duration": 1175,
    "start_time": "2022-10-15T09:32:56.029Z"
   },
   {
    "duration": 358,
    "start_time": "2022-10-15T09:32:57.206Z"
   },
   {
    "duration": 6,
    "start_time": "2022-10-15T09:32:57.566Z"
   },
   {
    "duration": 2231,
    "start_time": "2022-10-15T09:32:57.574Z"
   },
   {
    "duration": 22,
    "start_time": "2022-10-15T09:32:59.807Z"
   },
   {
    "duration": 30,
    "start_time": "2022-10-15T09:32:59.832Z"
   },
   {
    "duration": 56,
    "start_time": "2022-10-15T09:32:59.864Z"
   },
   {
    "duration": 35,
    "start_time": "2022-10-15T09:32:59.922Z"
   },
   {
    "duration": 36,
    "start_time": "2022-10-15T09:32:59.959Z"
   },
   {
    "duration": 35,
    "start_time": "2022-10-15T09:32:59.998Z"
   },
   {
    "duration": 48,
    "start_time": "2022-10-15T09:33:00.035Z"
   },
   {
    "duration": 25,
    "start_time": "2022-10-15T09:33:00.084Z"
   },
   {
    "duration": 48,
    "start_time": "2022-10-15T09:33:00.110Z"
   },
   {
    "duration": 575,
    "start_time": "2022-10-15T09:33:00.160Z"
   },
   {
    "duration": 540,
    "start_time": "2022-10-15T09:33:00.737Z"
   },
   {
    "duration": 11,
    "start_time": "2022-10-15T09:33:01.278Z"
   },
   {
    "duration": 162,
    "start_time": "2022-10-15T09:33:01.291Z"
   },
   {
    "duration": 3,
    "start_time": "2022-10-15T09:33:01.454Z"
   },
   {
    "duration": 741,
    "start_time": "2022-10-15T09:33:01.459Z"
   },
   {
    "duration": 273,
    "start_time": "2022-10-15T09:33:02.201Z"
   },
   {
    "duration": 48,
    "start_time": "2022-10-15T09:33:02.476Z"
   },
   {
    "duration": 68,
    "start_time": "2022-10-15T09:33:02.526Z"
   },
   {
    "duration": 426,
    "start_time": "2022-10-15T09:33:02.596Z"
   },
   {
    "duration": 414,
    "start_time": "2022-10-15T09:33:03.024Z"
   },
   {
    "duration": 423,
    "start_time": "2022-10-15T09:33:03.440Z"
   },
   {
    "duration": 436,
    "start_time": "2022-10-15T09:33:03.864Z"
   },
   {
    "duration": 245,
    "start_time": "2022-10-15T09:33:04.301Z"
   },
   {
    "duration": 334,
    "start_time": "2022-10-15T09:33:04.550Z"
   },
   {
    "duration": 262,
    "start_time": "2022-10-15T09:33:04.889Z"
   },
   {
    "duration": 118,
    "start_time": "2022-10-15T09:33:05.153Z"
   },
   {
    "duration": 302,
    "start_time": "2022-10-15T09:33:05.273Z"
   },
   {
    "duration": 471,
    "start_time": "2022-10-15T09:33:05.576Z"
   },
   {
    "duration": 340,
    "start_time": "2022-10-15T09:33:06.049Z"
   },
   {
    "duration": 346,
    "start_time": "2022-10-15T09:33:06.391Z"
   },
   {
    "duration": 368,
    "start_time": "2022-10-15T09:33:06.739Z"
   },
   {
    "duration": 468,
    "start_time": "2022-10-15T09:33:07.108Z"
   },
   {
    "duration": 12,
    "start_time": "2022-10-15T09:33:07.577Z"
   },
   {
    "duration": 9,
    "start_time": "2022-10-15T09:33:07.590Z"
   },
   {
    "duration": 408,
    "start_time": "2022-10-15T09:33:07.601Z"
   },
   {
    "duration": 334,
    "start_time": "2022-10-15T09:33:08.011Z"
   },
   {
    "duration": 536,
    "start_time": "2022-10-15T09:33:08.347Z"
   },
   {
    "duration": 291,
    "start_time": "2022-10-15T09:33:08.885Z"
   },
   {
    "duration": 370,
    "start_time": "2022-10-15T09:33:09.178Z"
   },
   {
    "duration": 320,
    "start_time": "2022-10-15T09:33:09.550Z"
   },
   {
    "duration": 363,
    "start_time": "2022-10-15T09:33:09.872Z"
   },
   {
    "duration": 288,
    "start_time": "2022-10-15T09:33:10.237Z"
   },
   {
    "duration": 272,
    "start_time": "2022-10-15T09:33:10.526Z"
   },
   {
    "duration": 346,
    "start_time": "2022-10-15T09:33:10.801Z"
   },
   {
    "duration": 150,
    "start_time": "2022-10-15T09:33:11.149Z"
   },
   {
    "duration": 153,
    "start_time": "2022-10-15T09:33:11.301Z"
   },
   {
    "duration": 194,
    "start_time": "2022-10-15T09:33:11.456Z"
   },
   {
    "duration": 259,
    "start_time": "2022-10-15T09:33:11.651Z"
   },
   {
    "duration": 202,
    "start_time": "2022-10-15T09:33:11.913Z"
   },
   {
    "duration": 285,
    "start_time": "2022-10-15T09:33:12.118Z"
   },
   {
    "duration": 329,
    "start_time": "2022-10-15T09:33:12.406Z"
   },
   {
    "duration": 210,
    "start_time": "2022-10-15T09:33:12.736Z"
   },
   {
    "duration": 207,
    "start_time": "2022-10-15T09:33:12.948Z"
   },
   {
    "duration": 435,
    "start_time": "2022-10-15T09:33:13.157Z"
   },
   {
    "duration": 106,
    "start_time": "2022-10-15T09:43:42.136Z"
   },
   {
    "duration": 10,
    "start_time": "2022-10-15T09:44:13.679Z"
   },
   {
    "duration": 3,
    "start_time": "2022-10-15T09:44:16.128Z"
   },
   {
    "duration": 3,
    "start_time": "2022-10-15T09:44:17.768Z"
   },
   {
    "duration": 6,
    "start_time": "2022-10-15T09:44:24.646Z"
   },
   {
    "duration": 11,
    "start_time": "2022-10-15T09:44:27.862Z"
   },
   {
    "duration": 75,
    "start_time": "2022-10-15T09:44:41.234Z"
   },
   {
    "duration": 69,
    "start_time": "2022-10-15T09:44:45.735Z"
   },
   {
    "duration": 3,
    "start_time": "2022-10-15T09:44:51.084Z"
   },
   {
    "duration": 7,
    "start_time": "2022-10-15T09:44:54.105Z"
   },
   {
    "duration": 9,
    "start_time": "2022-10-15T09:44:57.768Z"
   },
   {
    "duration": 4,
    "start_time": "2022-10-15T09:45:17.123Z"
   },
   {
    "duration": 11,
    "start_time": "2022-10-15T09:45:18.438Z"
   },
   {
    "duration": 7,
    "start_time": "2022-10-15T09:45:21.390Z"
   },
   {
    "duration": 13,
    "start_time": "2022-10-15T09:46:17.351Z"
   },
   {
    "duration": 6,
    "start_time": "2022-10-15T09:46:46.120Z"
   },
   {
    "duration": 1348,
    "start_time": "2022-10-15T10:02:55.167Z"
   },
   {
    "duration": 6,
    "start_time": "2022-10-15T10:03:03.877Z"
   },
   {
    "duration": 1185,
    "start_time": "2022-10-15T10:03:07.393Z"
   },
   {
    "duration": 82,
    "start_time": "2022-10-15T10:03:18.331Z"
   },
   {
    "duration": 223,
    "start_time": "2022-10-15T10:03:22.945Z"
   },
   {
    "duration": 13,
    "start_time": "2022-10-15T10:11:57.305Z"
   },
   {
    "duration": 15,
    "start_time": "2022-10-15T10:16:47.993Z"
   },
   {
    "duration": 11,
    "start_time": "2022-10-15T10:16:53.300Z"
   },
   {
    "duration": 4,
    "start_time": "2022-10-15T10:19:24.777Z"
   },
   {
    "duration": 4,
    "start_time": "2022-10-15T10:19:42.276Z"
   },
   {
    "duration": 42,
    "start_time": "2022-10-15T10:36:02.961Z"
   },
   {
    "duration": 45,
    "start_time": "2022-10-15T11:23:42.052Z"
   },
   {
    "duration": 1523,
    "start_time": "2022-10-15T11:23:50.143Z"
   },
   {
    "duration": 365,
    "start_time": "2022-10-15T11:23:51.668Z"
   },
   {
    "duration": 5,
    "start_time": "2022-10-15T11:23:52.035Z"
   },
   {
    "duration": 1903,
    "start_time": "2022-10-15T11:23:52.042Z"
   },
   {
    "duration": 19,
    "start_time": "2022-10-15T11:23:53.946Z"
   },
   {
    "duration": 14,
    "start_time": "2022-10-15T11:23:53.966Z"
   },
   {
    "duration": 49,
    "start_time": "2022-10-15T11:23:53.981Z"
   },
   {
    "duration": 19,
    "start_time": "2022-10-15T11:23:54.031Z"
   },
   {
    "duration": 32,
    "start_time": "2022-10-15T11:23:54.051Z"
   },
   {
    "duration": 19,
    "start_time": "2022-10-15T11:23:54.086Z"
   },
   {
    "duration": 35,
    "start_time": "2022-10-15T11:23:54.107Z"
   },
   {
    "duration": 6,
    "start_time": "2022-10-15T11:23:54.143Z"
   },
   {
    "duration": 41,
    "start_time": "2022-10-15T11:23:54.150Z"
   },
   {
    "duration": 461,
    "start_time": "2022-10-15T11:23:54.193Z"
   },
   {
    "duration": 450,
    "start_time": "2022-10-15T11:23:54.655Z"
   },
   {
    "duration": 13,
    "start_time": "2022-10-15T11:23:55.108Z"
   },
   {
    "duration": 115,
    "start_time": "2022-10-15T11:23:55.123Z"
   },
   {
    "duration": 2,
    "start_time": "2022-10-15T11:23:55.240Z"
   },
   {
    "duration": 623,
    "start_time": "2022-10-15T11:23:55.244Z"
   },
   {
    "duration": 303,
    "start_time": "2022-10-15T11:23:55.869Z"
   },
   {
    "duration": 56,
    "start_time": "2022-10-15T11:23:56.174Z"
   },
   {
    "duration": 63,
    "start_time": "2022-10-15T11:23:56.232Z"
   },
   {
    "duration": 413,
    "start_time": "2022-10-15T11:23:56.297Z"
   },
   {
    "duration": 450,
    "start_time": "2022-10-15T11:23:56.712Z"
   },
   {
    "duration": 442,
    "start_time": "2022-10-15T11:23:57.163Z"
   },
   {
    "duration": 479,
    "start_time": "2022-10-15T11:23:57.607Z"
   },
   {
    "duration": 282,
    "start_time": "2022-10-15T11:23:58.088Z"
   },
   {
    "duration": 395,
    "start_time": "2022-10-15T11:23:58.375Z"
   },
   {
    "duration": 254,
    "start_time": "2022-10-15T11:23:58.772Z"
   },
   {
    "duration": 108,
    "start_time": "2022-10-15T11:23:59.028Z"
   },
   {
    "duration": 269,
    "start_time": "2022-10-15T11:23:59.138Z"
   },
   {
    "duration": 447,
    "start_time": "2022-10-15T11:23:59.408Z"
   },
   {
    "duration": 318,
    "start_time": "2022-10-15T11:23:59.856Z"
   },
   {
    "duration": 312,
    "start_time": "2022-10-15T11:24:00.175Z"
   },
   {
    "duration": 309,
    "start_time": "2022-10-15T11:24:00.488Z"
   },
   {
    "duration": 398,
    "start_time": "2022-10-15T11:24:00.798Z"
   },
   {
    "duration": 6,
    "start_time": "2022-10-15T11:24:01.197Z"
   },
   {
    "duration": 22,
    "start_time": "2022-10-15T11:24:01.204Z"
   },
   {
    "duration": 463,
    "start_time": "2022-10-15T11:24:01.228Z"
   },
   {
    "duration": 290,
    "start_time": "2022-10-15T11:24:01.693Z"
   },
   {
    "duration": 337,
    "start_time": "2022-10-15T11:24:01.985Z"
   },
   {
    "duration": 256,
    "start_time": "2022-10-15T11:24:02.324Z"
   },
   {
    "duration": 327,
    "start_time": "2022-10-15T11:24:02.582Z"
   },
   {
    "duration": 271,
    "start_time": "2022-10-15T11:24:02.911Z"
   },
   {
    "duration": 317,
    "start_time": "2022-10-15T11:24:03.184Z"
   },
   {
    "duration": 241,
    "start_time": "2022-10-15T11:24:03.503Z"
   },
   {
    "duration": 224,
    "start_time": "2022-10-15T11:24:03.746Z"
   },
   {
    "duration": 435,
    "start_time": "2022-10-15T11:24:03.972Z"
   },
   {
    "duration": 138,
    "start_time": "2022-10-15T11:24:04.408Z"
   },
   {
    "duration": 150,
    "start_time": "2022-10-15T11:24:04.548Z"
   },
   {
    "duration": 197,
    "start_time": "2022-10-15T11:24:04.700Z"
   },
   {
    "duration": 170,
    "start_time": "2022-10-15T11:24:04.899Z"
   },
   {
    "duration": 136,
    "start_time": "2022-10-15T11:24:05.071Z"
   },
   {
    "duration": 266,
    "start_time": "2022-10-15T11:24:05.208Z"
   },
   {
    "duration": 112,
    "start_time": "2022-10-15T11:24:05.476Z"
   },
   {
    "duration": 182,
    "start_time": "2022-10-15T11:24:05.590Z"
   },
   {
    "duration": 201,
    "start_time": "2022-10-15T11:24:05.773Z"
   },
   {
    "duration": 432,
    "start_time": "2022-10-15T11:24:05.975Z"
   },
   {
    "duration": 3,
    "start_time": "2022-10-15T11:28:44.503Z"
   },
   {
    "duration": 95,
    "start_time": "2022-10-15T11:29:02.721Z"
   },
   {
    "duration": 42,
    "start_time": "2022-10-15T11:29:15.970Z"
   },
   {
    "duration": 9,
    "start_time": "2022-10-15T11:29:28.630Z"
   },
   {
    "duration": 58,
    "start_time": "2022-10-15T11:29:33.400Z"
   },
   {
    "duration": 1199,
    "start_time": "2022-10-15T11:31:20.923Z"
   },
   {
    "duration": 129,
    "start_time": "2022-10-15T11:31:22.124Z"
   },
   {
    "duration": 5,
    "start_time": "2022-10-15T11:31:22.254Z"
   },
   {
    "duration": 2035,
    "start_time": "2022-10-15T11:31:22.261Z"
   },
   {
    "duration": 19,
    "start_time": "2022-10-15T11:31:24.297Z"
   },
   {
    "duration": 11,
    "start_time": "2022-10-15T11:31:24.318Z"
   },
   {
    "duration": 65,
    "start_time": "2022-10-15T11:31:24.331Z"
   },
   {
    "duration": 0,
    "start_time": "2022-10-15T11:31:24.399Z"
   },
   {
    "duration": 0,
    "start_time": "2022-10-15T11:31:24.400Z"
   },
   {
    "duration": 0,
    "start_time": "2022-10-15T11:31:24.400Z"
   },
   {
    "duration": 0,
    "start_time": "2022-10-15T11:31:24.401Z"
   },
   {
    "duration": 0,
    "start_time": "2022-10-15T11:31:24.402Z"
   },
   {
    "duration": 0,
    "start_time": "2022-10-15T11:31:24.403Z"
   },
   {
    "duration": 0,
    "start_time": "2022-10-15T11:31:24.404Z"
   },
   {
    "duration": 0,
    "start_time": "2022-10-15T11:31:24.405Z"
   },
   {
    "duration": 0,
    "start_time": "2022-10-15T11:31:24.406Z"
   },
   {
    "duration": 0,
    "start_time": "2022-10-15T11:31:24.407Z"
   },
   {
    "duration": 0,
    "start_time": "2022-10-15T11:31:24.408Z"
   },
   {
    "duration": 0,
    "start_time": "2022-10-15T11:31:24.408Z"
   },
   {
    "duration": 0,
    "start_time": "2022-10-15T11:31:24.409Z"
   },
   {
    "duration": 0,
    "start_time": "2022-10-15T11:31:24.410Z"
   },
   {
    "duration": 0,
    "start_time": "2022-10-15T11:31:24.411Z"
   },
   {
    "duration": 0,
    "start_time": "2022-10-15T11:31:24.412Z"
   },
   {
    "duration": 0,
    "start_time": "2022-10-15T11:31:24.412Z"
   },
   {
    "duration": 0,
    "start_time": "2022-10-15T11:31:24.413Z"
   },
   {
    "duration": 0,
    "start_time": "2022-10-15T11:31:24.414Z"
   },
   {
    "duration": 0,
    "start_time": "2022-10-15T11:31:24.415Z"
   },
   {
    "duration": 0,
    "start_time": "2022-10-15T11:31:24.415Z"
   },
   {
    "duration": 0,
    "start_time": "2022-10-15T11:31:24.416Z"
   },
   {
    "duration": 0,
    "start_time": "2022-10-15T11:31:24.417Z"
   },
   {
    "duration": 0,
    "start_time": "2022-10-15T11:31:24.418Z"
   },
   {
    "duration": 0,
    "start_time": "2022-10-15T11:31:24.419Z"
   },
   {
    "duration": 0,
    "start_time": "2022-10-15T11:31:24.420Z"
   },
   {
    "duration": 0,
    "start_time": "2022-10-15T11:31:24.420Z"
   },
   {
    "duration": 0,
    "start_time": "2022-10-15T11:31:24.421Z"
   },
   {
    "duration": 0,
    "start_time": "2022-10-15T11:31:24.422Z"
   },
   {
    "duration": 0,
    "start_time": "2022-10-15T11:31:24.423Z"
   },
   {
    "duration": 0,
    "start_time": "2022-10-15T11:31:24.424Z"
   },
   {
    "duration": 0,
    "start_time": "2022-10-15T11:31:24.425Z"
   },
   {
    "duration": 0,
    "start_time": "2022-10-15T11:31:24.425Z"
   },
   {
    "duration": 0,
    "start_time": "2022-10-15T11:31:24.426Z"
   },
   {
    "duration": 0,
    "start_time": "2022-10-15T11:31:24.427Z"
   },
   {
    "duration": 0,
    "start_time": "2022-10-15T11:31:24.427Z"
   },
   {
    "duration": 0,
    "start_time": "2022-10-15T11:31:24.428Z"
   },
   {
    "duration": 0,
    "start_time": "2022-10-15T11:31:24.429Z"
   },
   {
    "duration": 0,
    "start_time": "2022-10-15T11:31:24.430Z"
   },
   {
    "duration": 0,
    "start_time": "2022-10-15T11:31:24.431Z"
   },
   {
    "duration": 0,
    "start_time": "2022-10-15T11:31:24.432Z"
   },
   {
    "duration": 0,
    "start_time": "2022-10-15T11:31:24.433Z"
   },
   {
    "duration": 0,
    "start_time": "2022-10-15T11:31:24.433Z"
   },
   {
    "duration": 0,
    "start_time": "2022-10-15T11:31:24.434Z"
   },
   {
    "duration": 0,
    "start_time": "2022-10-15T11:31:24.435Z"
   },
   {
    "duration": 0,
    "start_time": "2022-10-15T11:31:24.436Z"
   },
   {
    "duration": 0,
    "start_time": "2022-10-15T11:31:24.437Z"
   },
   {
    "duration": 0,
    "start_time": "2022-10-15T11:31:24.438Z"
   },
   {
    "duration": 0,
    "start_time": "2022-10-15T11:31:24.438Z"
   },
   {
    "duration": 0,
    "start_time": "2022-10-15T11:31:24.439Z"
   },
   {
    "duration": 0,
    "start_time": "2022-10-15T11:31:24.440Z"
   },
   {
    "duration": 32,
    "start_time": "2022-10-15T11:31:56.430Z"
   },
   {
    "duration": 29,
    "start_time": "2022-10-15T11:32:43.982Z"
   },
   {
    "duration": 85,
    "start_time": "2022-10-15T11:33:08.156Z"
   },
   {
    "duration": 2,
    "start_time": "2022-10-15T11:33:18.016Z"
   },
   {
    "duration": 434,
    "start_time": "2022-10-15T11:33:47.839Z"
   },
   {
    "duration": 114,
    "start_time": "2022-10-15T11:35:22.731Z"
   },
   {
    "duration": 136,
    "start_time": "2022-10-15T11:35:35.562Z"
   },
   {
    "duration": 117,
    "start_time": "2022-10-15T11:35:51.104Z"
   },
   {
    "duration": 103,
    "start_time": "2022-10-15T11:37:34.552Z"
   },
   {
    "duration": 1124,
    "start_time": "2022-10-15T11:37:46.488Z"
   },
   {
    "duration": 125,
    "start_time": "2022-10-15T11:37:47.613Z"
   },
   {
    "duration": 6,
    "start_time": "2022-10-15T11:37:47.739Z"
   },
   {
    "duration": 1941,
    "start_time": "2022-10-15T11:37:47.747Z"
   },
   {
    "duration": 18,
    "start_time": "2022-10-15T11:37:49.690Z"
   },
   {
    "duration": 11,
    "start_time": "2022-10-15T11:37:49.709Z"
   },
   {
    "duration": 29,
    "start_time": "2022-10-15T11:37:49.721Z"
   },
   {
    "duration": 19,
    "start_time": "2022-10-15T11:37:49.752Z"
   },
   {
    "duration": 51,
    "start_time": "2022-10-15T11:37:49.773Z"
   },
   {
    "duration": 5,
    "start_time": "2022-10-15T11:37:49.826Z"
   },
   {
    "duration": 27,
    "start_time": "2022-10-15T11:37:49.833Z"
   },
   {
    "duration": 6,
    "start_time": "2022-10-15T11:37:49.861Z"
   },
   {
    "duration": 24,
    "start_time": "2022-10-15T11:37:49.868Z"
   },
   {
    "duration": 462,
    "start_time": "2022-10-15T11:37:49.922Z"
   },
   {
    "duration": 458,
    "start_time": "2022-10-15T11:37:50.386Z"
   },
   {
    "duration": 7,
    "start_time": "2022-10-15T11:37:50.846Z"
   },
   {
    "duration": 117,
    "start_time": "2022-10-15T11:37:50.855Z"
   },
   {
    "duration": 571,
    "start_time": "2022-10-15T11:37:50.973Z"
   },
   {
    "duration": 229,
    "start_time": "2022-10-15T11:37:51.545Z"
   },
   {
    "duration": 45,
    "start_time": "2022-10-15T11:37:51.776Z"
   },
   {
    "duration": 29,
    "start_time": "2022-10-15T11:37:51.823Z"
   },
   {
    "duration": 46,
    "start_time": "2022-10-15T11:37:51.853Z"
   },
   {
    "duration": 373,
    "start_time": "2022-10-15T11:37:51.923Z"
   },
   {
    "duration": 357,
    "start_time": "2022-10-15T11:37:52.297Z"
   },
   {
    "duration": 372,
    "start_time": "2022-10-15T11:37:52.656Z"
   },
   {
    "duration": 422,
    "start_time": "2022-10-15T11:37:53.029Z"
   },
   {
    "duration": 214,
    "start_time": "2022-10-15T11:37:53.453Z"
   },
   {
    "duration": 281,
    "start_time": "2022-10-15T11:37:53.671Z"
   },
   {
    "duration": 234,
    "start_time": "2022-10-15T11:37:53.954Z"
   },
   {
    "duration": 99,
    "start_time": "2022-10-15T11:37:54.190Z"
   },
   {
    "duration": 237,
    "start_time": "2022-10-15T11:37:54.290Z"
   },
   {
    "duration": 381,
    "start_time": "2022-10-15T11:37:54.529Z"
   },
   {
    "duration": 285,
    "start_time": "2022-10-15T11:37:54.912Z"
   },
   {
    "duration": 292,
    "start_time": "2022-10-15T11:37:55.199Z"
   },
   {
    "duration": 290,
    "start_time": "2022-10-15T11:37:55.493Z"
   },
   {
    "duration": 477,
    "start_time": "2022-10-15T11:37:55.785Z"
   },
   {
    "duration": 7,
    "start_time": "2022-10-15T11:37:56.264Z"
   },
   {
    "duration": 15,
    "start_time": "2022-10-15T11:37:56.273Z"
   },
   {
    "duration": 474,
    "start_time": "2022-10-15T11:37:56.290Z"
   },
   {
    "duration": 277,
    "start_time": "2022-10-15T11:37:56.766Z"
   },
   {
    "duration": 350,
    "start_time": "2022-10-15T11:37:57.044Z"
   },
   {
    "duration": 251,
    "start_time": "2022-10-15T11:37:57.396Z"
   },
   {
    "duration": 334,
    "start_time": "2022-10-15T11:37:57.649Z"
   },
   {
    "duration": 276,
    "start_time": "2022-10-15T11:37:57.985Z"
   },
   {
    "duration": 324,
    "start_time": "2022-10-15T11:37:58.262Z"
   },
   {
    "duration": 237,
    "start_time": "2022-10-15T11:37:58.588Z"
   },
   {
    "duration": 221,
    "start_time": "2022-10-15T11:37:58.826Z"
   },
   {
    "duration": 449,
    "start_time": "2022-10-15T11:37:59.049Z"
   },
   {
    "duration": 139,
    "start_time": "2022-10-15T11:37:59.500Z"
   },
   {
    "duration": 132,
    "start_time": "2022-10-15T11:37:59.641Z"
   },
   {
    "duration": 168,
    "start_time": "2022-10-15T11:37:59.775Z"
   },
   {
    "duration": 167,
    "start_time": "2022-10-15T11:37:59.945Z"
   },
   {
    "duration": 141,
    "start_time": "2022-10-15T11:38:00.113Z"
   },
   {
    "duration": 240,
    "start_time": "2022-10-15T11:38:00.256Z"
   },
   {
    "duration": 125,
    "start_time": "2022-10-15T11:38:00.497Z"
   },
   {
    "duration": 181,
    "start_time": "2022-10-15T11:38:00.623Z"
   },
   {
    "duration": 185,
    "start_time": "2022-10-15T11:38:00.806Z"
   },
   {
    "duration": 377,
    "start_time": "2022-10-15T11:38:00.992Z"
   },
   {
    "duration": 39,
    "start_time": "2022-10-15T11:42:25.547Z"
   },
   {
    "duration": 420,
    "start_time": "2022-10-15T11:44:48.393Z"
   },
   {
    "duration": 580,
    "start_time": "2022-10-15T11:45:19.549Z"
   },
   {
    "duration": 439,
    "start_time": "2022-10-15T11:46:02.226Z"
   },
   {
    "duration": 478,
    "start_time": "2022-10-15T11:46:36.078Z"
   },
   {
    "duration": 458,
    "start_time": "2022-10-15T11:46:43.842Z"
   },
   {
    "duration": 637,
    "start_time": "2022-10-15T11:47:17.159Z"
   },
   {
    "duration": 424,
    "start_time": "2022-10-15T11:47:40.259Z"
   },
   {
    "duration": 4,
    "start_time": "2022-10-15T11:47:52.586Z"
   },
   {
    "duration": 135,
    "start_time": "2022-10-15T11:47:52.592Z"
   },
   {
    "duration": 7,
    "start_time": "2022-10-15T11:47:52.729Z"
   },
   {
    "duration": 1910,
    "start_time": "2022-10-15T11:47:52.740Z"
   },
   {
    "duration": 19,
    "start_time": "2022-10-15T11:47:54.651Z"
   },
   {
    "duration": 13,
    "start_time": "2022-10-15T11:47:54.671Z"
   },
   {
    "duration": 59,
    "start_time": "2022-10-15T11:47:54.685Z"
   },
   {
    "duration": 237,
    "start_time": "2022-10-15T11:47:54.746Z"
   },
   {
    "duration": 32,
    "start_time": "2022-10-15T11:47:54.984Z"
   },
   {
    "duration": 5,
    "start_time": "2022-10-15T11:47:55.022Z"
   },
   {
    "duration": 21,
    "start_time": "2022-10-15T11:47:55.028Z"
   },
   {
    "duration": 5,
    "start_time": "2022-10-15T11:47:55.050Z"
   },
   {
    "duration": 24,
    "start_time": "2022-10-15T11:47:55.056Z"
   },
   {
    "duration": 468,
    "start_time": "2022-10-15T11:47:55.081Z"
   },
   {
    "duration": 520,
    "start_time": "2022-10-15T11:47:55.550Z"
   },
   {
    "duration": 499,
    "start_time": "2022-10-15T11:47:56.071Z"
   },
   {
    "duration": 5,
    "start_time": "2022-10-15T11:47:56.571Z"
   },
   {
    "duration": 118,
    "start_time": "2022-10-15T11:47:56.578Z"
   },
   {
    "duration": 472,
    "start_time": "2022-10-15T11:47:56.698Z"
   },
   {
    "duration": 429,
    "start_time": "2022-10-15T11:47:57.171Z"
   },
   {
    "duration": 49,
    "start_time": "2022-10-15T11:47:57.602Z"
   },
   {
    "duration": 36,
    "start_time": "2022-10-15T11:47:57.652Z"
   },
   {
    "duration": 79,
    "start_time": "2022-10-15T11:47:57.690Z"
   },
   {
    "duration": 399,
    "start_time": "2022-10-15T11:47:57.771Z"
   },
   {
    "duration": 371,
    "start_time": "2022-10-15T11:47:58.172Z"
   },
   {
    "duration": 277,
    "start_time": "2022-10-15T11:47:58.544Z"
   },
   {
    "duration": 412,
    "start_time": "2022-10-15T11:47:58.823Z"
   },
   {
    "duration": 230,
    "start_time": "2022-10-15T11:47:59.239Z"
   },
   {
    "duration": 308,
    "start_time": "2022-10-15T11:47:59.470Z"
   },
   {
    "duration": 224,
    "start_time": "2022-10-15T11:47:59.780Z"
   },
   {
    "duration": 317,
    "start_time": "2022-10-15T11:48:00.006Z"
   },
   {
    "duration": 279,
    "start_time": "2022-10-15T11:48:00.326Z"
   },
   {
    "duration": 335,
    "start_time": "2022-10-15T11:48:00.606Z"
   },
   {
    "duration": 312,
    "start_time": "2022-10-15T11:48:00.942Z"
   },
   {
    "duration": 310,
    "start_time": "2022-10-15T11:48:01.256Z"
   },
   {
    "duration": 288,
    "start_time": "2022-10-15T11:48:01.568Z"
   },
   {
    "duration": 389,
    "start_time": "2022-10-15T11:48:01.858Z"
   },
   {
    "duration": 6,
    "start_time": "2022-10-15T11:48:02.249Z"
   },
   {
    "duration": 14,
    "start_time": "2022-10-15T11:48:02.256Z"
   },
   {
    "duration": 379,
    "start_time": "2022-10-15T11:48:02.272Z"
   },
   {
    "duration": 254,
    "start_time": "2022-10-15T11:48:02.652Z"
   },
   {
    "duration": 357,
    "start_time": "2022-10-15T11:48:02.908Z"
   },
   {
    "duration": 254,
    "start_time": "2022-10-15T11:48:03.267Z"
   },
   {
    "duration": 550,
    "start_time": "2022-10-15T11:48:03.523Z"
   },
   {
    "duration": 239,
    "start_time": "2022-10-15T11:48:04.074Z"
   },
   {
    "duration": 319,
    "start_time": "2022-10-15T11:48:04.315Z"
   },
   {
    "duration": 240,
    "start_time": "2022-10-15T11:48:04.636Z"
   },
   {
    "duration": 223,
    "start_time": "2022-10-15T11:48:04.878Z"
   },
   {
    "duration": 221,
    "start_time": "2022-10-15T11:48:05.102Z"
   },
   {
    "duration": 145,
    "start_time": "2022-10-15T11:48:05.324Z"
   },
   {
    "duration": 137,
    "start_time": "2022-10-15T11:48:05.470Z"
   },
   {
    "duration": 159,
    "start_time": "2022-10-15T11:48:05.609Z"
   },
   {
    "duration": 179,
    "start_time": "2022-10-15T11:48:05.770Z"
   },
   {
    "duration": 166,
    "start_time": "2022-10-15T11:48:05.950Z"
   },
   {
    "duration": 279,
    "start_time": "2022-10-15T11:48:06.121Z"
   },
   {
    "duration": 96,
    "start_time": "2022-10-15T11:48:06.402Z"
   },
   {
    "duration": 186,
    "start_time": "2022-10-15T11:48:06.500Z"
   },
   {
    "duration": 176,
    "start_time": "2022-10-15T11:48:06.688Z"
   },
   {
    "duration": 382,
    "start_time": "2022-10-15T11:48:06.866Z"
   },
   {
    "duration": 3,
    "start_time": "2022-10-15T11:48:42.009Z"
   },
   {
    "duration": 133,
    "start_time": "2022-10-15T11:48:42.014Z"
   },
   {
    "duration": 8,
    "start_time": "2022-10-15T11:48:42.149Z"
   },
   {
    "duration": 2150,
    "start_time": "2022-10-15T11:48:42.158Z"
   },
   {
    "duration": 28,
    "start_time": "2022-10-15T11:48:44.310Z"
   },
   {
    "duration": 11,
    "start_time": "2022-10-15T11:48:44.340Z"
   },
   {
    "duration": 32,
    "start_time": "2022-10-15T11:48:44.353Z"
   },
   {
    "duration": 42,
    "start_time": "2022-10-15T11:48:44.387Z"
   },
   {
    "duration": 25,
    "start_time": "2022-10-15T11:48:44.430Z"
   },
   {
    "duration": 6,
    "start_time": "2022-10-15T11:48:44.456Z"
   },
   {
    "duration": 18,
    "start_time": "2022-10-15T11:48:44.464Z"
   },
   {
    "duration": 40,
    "start_time": "2022-10-15T11:48:44.483Z"
   },
   {
    "duration": 22,
    "start_time": "2022-10-15T11:48:44.525Z"
   },
   {
    "duration": 453,
    "start_time": "2022-10-15T11:48:44.549Z"
   },
   {
    "duration": 2,
    "start_time": "2022-10-15T11:49:07.573Z"
   },
   {
    "duration": 104,
    "start_time": "2022-10-15T11:49:07.577Z"
   },
   {
    "duration": 6,
    "start_time": "2022-10-15T11:49:07.683Z"
   },
   {
    "duration": 1887,
    "start_time": "2022-10-15T11:49:07.690Z"
   },
   {
    "duration": 19,
    "start_time": "2022-10-15T11:49:09.579Z"
   },
   {
    "duration": 31,
    "start_time": "2022-10-15T11:49:09.600Z"
   },
   {
    "duration": 32,
    "start_time": "2022-10-15T11:49:09.632Z"
   },
   {
    "duration": 21,
    "start_time": "2022-10-15T11:49:09.665Z"
   },
   {
    "duration": 59,
    "start_time": "2022-10-15T11:49:09.687Z"
   },
   {
    "duration": 7,
    "start_time": "2022-10-15T11:49:09.748Z"
   },
   {
    "duration": 23,
    "start_time": "2022-10-15T11:49:09.757Z"
   },
   {
    "duration": 6,
    "start_time": "2022-10-15T11:49:09.782Z"
   },
   {
    "duration": 50,
    "start_time": "2022-10-15T11:49:09.789Z"
   },
   {
    "duration": 494,
    "start_time": "2022-10-15T11:49:09.841Z"
   },
   {
    "duration": 498,
    "start_time": "2022-10-15T11:49:35.753Z"
   },
   {
    "duration": 837,
    "start_time": "2022-10-15T11:50:21.620Z"
   },
   {
    "duration": 66,
    "start_time": "2022-10-15T11:51:19.276Z"
   },
   {
    "duration": 458,
    "start_time": "2022-10-15T11:51:26.677Z"
   },
   {
    "duration": 198,
    "start_time": "2022-10-15T11:52:35.399Z"
   },
   {
    "duration": 122,
    "start_time": "2022-10-15T11:52:42.145Z"
   },
   {
    "duration": 234,
    "start_time": "2022-10-15T11:53:52.876Z"
   },
   {
    "duration": 4,
    "start_time": "2022-10-15T11:53:59.678Z"
   },
   {
    "duration": 160,
    "start_time": "2022-10-15T11:53:59.683Z"
   },
   {
    "duration": 6,
    "start_time": "2022-10-15T11:53:59.845Z"
   },
   {
    "duration": 1825,
    "start_time": "2022-10-15T11:53:59.852Z"
   },
   {
    "duration": 18,
    "start_time": "2022-10-15T11:54:01.679Z"
   },
   {
    "duration": 28,
    "start_time": "2022-10-15T11:54:01.698Z"
   },
   {
    "duration": 37,
    "start_time": "2022-10-15T11:54:01.727Z"
   },
   {
    "duration": 36,
    "start_time": "2022-10-15T11:54:01.765Z"
   },
   {
    "duration": 28,
    "start_time": "2022-10-15T11:54:01.802Z"
   },
   {
    "duration": 5,
    "start_time": "2022-10-15T11:54:01.831Z"
   },
   {
    "duration": 29,
    "start_time": "2022-10-15T11:54:01.837Z"
   },
   {
    "duration": 6,
    "start_time": "2022-10-15T11:54:01.868Z"
   },
   {
    "duration": 25,
    "start_time": "2022-10-15T11:54:01.875Z"
   },
   {
    "duration": 443,
    "start_time": "2022-10-15T11:54:01.902Z"
   },
   {
    "duration": 429,
    "start_time": "2022-10-15T11:54:02.346Z"
   },
   {
    "duration": 809,
    "start_time": "2022-10-15T11:54:02.777Z"
   },
   {
    "duration": 4,
    "start_time": "2022-10-15T11:54:03.588Z"
   },
   {
    "duration": 209,
    "start_time": "2022-10-15T11:54:24.161Z"
   },
   {
    "duration": 258,
    "start_time": "2022-10-15T11:55:36.141Z"
   },
   {
    "duration": 94,
    "start_time": "2022-10-15T11:55:54.807Z"
   },
   {
    "duration": 112,
    "start_time": "2022-10-15T11:56:02.601Z"
   },
   {
    "duration": 132,
    "start_time": "2022-10-15T11:57:37.031Z"
   },
   {
    "duration": 136,
    "start_time": "2022-10-15T11:57:43.462Z"
   },
   {
    "duration": 95,
    "start_time": "2022-10-15T12:04:35.045Z"
   },
   {
    "duration": 3,
    "start_time": "2022-10-15T12:04:53.889Z"
   },
   {
    "duration": 116,
    "start_time": "2022-10-15T12:04:53.894Z"
   },
   {
    "duration": 7,
    "start_time": "2022-10-15T12:04:54.011Z"
   },
   {
    "duration": 1819,
    "start_time": "2022-10-15T12:04:54.021Z"
   },
   {
    "duration": 24,
    "start_time": "2022-10-15T12:04:55.842Z"
   },
   {
    "duration": 64,
    "start_time": "2022-10-15T12:04:55.868Z"
   },
   {
    "duration": 90,
    "start_time": "2022-10-15T12:04:55.934Z"
   },
   {
    "duration": 27,
    "start_time": "2022-10-15T12:04:56.026Z"
   },
   {
    "duration": 43,
    "start_time": "2022-10-15T12:04:56.055Z"
   },
   {
    "duration": 22,
    "start_time": "2022-10-15T12:04:56.100Z"
   },
   {
    "duration": 41,
    "start_time": "2022-10-15T12:04:56.125Z"
   },
   {
    "duration": 39,
    "start_time": "2022-10-15T12:04:56.168Z"
   },
   {
    "duration": 52,
    "start_time": "2022-10-15T12:04:56.209Z"
   },
   {
    "duration": 486,
    "start_time": "2022-10-15T12:04:56.262Z"
   },
   {
    "duration": 907,
    "start_time": "2022-10-15T12:04:56.749Z"
   },
   {
    "duration": 545,
    "start_time": "2022-10-15T12:04:57.657Z"
   },
   {
    "duration": 6,
    "start_time": "2022-10-15T12:04:58.204Z"
   },
   {
    "duration": 257,
    "start_time": "2022-10-15T12:04:58.211Z"
   },
   {
    "duration": 101,
    "start_time": "2022-10-15T12:05:05.243Z"
   },
   {
    "duration": 434,
    "start_time": "2022-10-15T12:06:06.911Z"
   },
   {
    "duration": 212,
    "start_time": "2022-10-15T12:06:44.652Z"
   },
   {
    "duration": 87,
    "start_time": "2022-10-15T12:08:06.805Z"
   },
   {
    "duration": 8,
    "start_time": "2022-10-15T12:08:45.518Z"
   },
   {
    "duration": 3,
    "start_time": "2022-10-15T12:08:51.933Z"
   },
   {
    "duration": 15,
    "start_time": "2022-10-15T12:15:17.763Z"
   },
   {
    "duration": 12,
    "start_time": "2022-10-15T12:15:57.633Z"
   },
   {
    "duration": 15,
    "start_time": "2022-10-15T12:16:12.747Z"
   },
   {
    "duration": 56,
    "start_time": "2022-10-15T12:16:27.515Z"
   },
   {
    "duration": 402,
    "start_time": "2022-10-15T12:16:56.283Z"
   },
   {
    "duration": 359,
    "start_time": "2022-10-15T12:17:04.917Z"
   },
   {
    "duration": 406,
    "start_time": "2022-10-15T12:17:11.962Z"
   },
   {
    "duration": 284,
    "start_time": "2022-10-15T12:17:20.663Z"
   },
   {
    "duration": 383,
    "start_time": "2022-10-15T12:17:26.670Z"
   },
   {
    "duration": 589,
    "start_time": "2022-10-15T12:17:32.475Z"
   },
   {
    "duration": 273,
    "start_time": "2022-10-15T12:17:38.601Z"
   },
   {
    "duration": 241,
    "start_time": "2022-10-15T12:17:43.724Z"
   },
   {
    "duration": 110,
    "start_time": "2022-10-15T12:17:48.245Z"
   },
   {
    "duration": 248,
    "start_time": "2022-10-15T12:17:52.808Z"
   },
   {
    "duration": 270,
    "start_time": "2022-10-15T12:18:02.972Z"
   },
   {
    "duration": 340,
    "start_time": "2022-10-15T12:18:11.697Z"
   },
   {
    "duration": 280,
    "start_time": "2022-10-15T12:18:16.655Z"
   },
   {
    "duration": 296,
    "start_time": "2022-10-15T12:18:29.278Z"
   },
   {
    "duration": 398,
    "start_time": "2022-10-15T12:18:38.986Z"
   },
   {
    "duration": 5,
    "start_time": "2022-10-15T12:18:49.553Z"
   },
   {
    "duration": 9,
    "start_time": "2022-10-15T12:18:57.245Z"
   },
   {
    "duration": 6,
    "start_time": "2022-10-15T12:19:19.412Z"
   },
   {
    "duration": 5,
    "start_time": "2022-10-15T12:19:25.745Z"
   },
   {
    "duration": 369,
    "start_time": "2022-10-15T12:20:27.241Z"
   },
   {
    "duration": 251,
    "start_time": "2022-10-15T12:20:38.709Z"
   },
   {
    "duration": 68,
    "start_time": "2022-10-15T12:21:56.611Z"
   },
   {
    "duration": 341,
    "start_time": "2022-10-15T12:22:00.506Z"
   },
   {
    "duration": 249,
    "start_time": "2022-10-15T12:22:06.626Z"
   },
   {
    "duration": 357,
    "start_time": "2022-10-15T12:22:17.373Z"
   },
   {
    "duration": 259,
    "start_time": "2022-10-15T12:22:22.082Z"
   },
   {
    "duration": 354,
    "start_time": "2022-10-15T12:22:42.561Z"
   },
   {
    "duration": 230,
    "start_time": "2022-10-15T12:22:46.505Z"
   },
   {
    "duration": 671,
    "start_time": "2022-10-15T12:23:06.800Z"
   },
   {
    "duration": 216,
    "start_time": "2022-10-15T12:23:31.047Z"
   },
   {
    "duration": 120,
    "start_time": "2022-10-15T12:23:38.085Z"
   },
   {
    "duration": 120,
    "start_time": "2022-10-15T12:23:41.109Z"
   },
   {
    "duration": 148,
    "start_time": "2022-10-15T12:23:48.607Z"
   },
   {
    "duration": 154,
    "start_time": "2022-10-15T12:23:52.541Z"
   },
   {
    "duration": 138,
    "start_time": "2022-10-15T12:23:57.335Z"
   },
   {
    "duration": 216,
    "start_time": "2022-10-15T12:24:09.003Z"
   },
   {
    "duration": 83,
    "start_time": "2022-10-15T12:24:17.464Z"
   },
   {
    "duration": 168,
    "start_time": "2022-10-15T12:24:25.091Z"
   },
   {
    "duration": 165,
    "start_time": "2022-10-15T12:24:31.919Z"
   },
   {
    "duration": 350,
    "start_time": "2022-10-15T12:25:24.605Z"
   },
   {
    "duration": 1084,
    "start_time": "2022-10-15T14:57:04.410Z"
   },
   {
    "duration": 161,
    "start_time": "2022-10-15T14:57:05.496Z"
   },
   {
    "duration": 7,
    "start_time": "2022-10-15T14:57:05.658Z"
   },
   {
    "duration": 1996,
    "start_time": "2022-10-15T14:57:05.667Z"
   },
   {
    "duration": 18,
    "start_time": "2022-10-15T14:57:07.665Z"
   },
   {
    "duration": 11,
    "start_time": "2022-10-15T14:57:07.685Z"
   },
   {
    "duration": 28,
    "start_time": "2022-10-15T14:57:07.698Z"
   },
   {
    "duration": 19,
    "start_time": "2022-10-15T14:57:07.728Z"
   },
   {
    "duration": 32,
    "start_time": "2022-10-15T14:57:07.749Z"
   },
   {
    "duration": 5,
    "start_time": "2022-10-15T14:57:07.782Z"
   },
   {
    "duration": 18,
    "start_time": "2022-10-15T14:57:07.801Z"
   },
   {
    "duration": 5,
    "start_time": "2022-10-15T14:57:07.821Z"
   },
   {
    "duration": 24,
    "start_time": "2022-10-15T14:57:07.828Z"
   },
   {
    "duration": 448,
    "start_time": "2022-10-15T14:57:07.855Z"
   },
   {
    "duration": 450,
    "start_time": "2022-10-15T14:57:08.304Z"
   },
   {
    "duration": 611,
    "start_time": "2022-10-15T14:57:08.756Z"
   },
   {
    "duration": 7,
    "start_time": "2022-10-15T14:57:09.369Z"
   },
   {
    "duration": 253,
    "start_time": "2022-10-15T14:57:09.378Z"
   },
   {
    "duration": 109,
    "start_time": "2022-10-15T14:57:09.633Z"
   },
   {
    "duration": 469,
    "start_time": "2022-10-15T14:57:09.744Z"
   },
   {
    "duration": 247,
    "start_time": "2022-10-15T14:57:10.214Z"
   },
   {
    "duration": 37,
    "start_time": "2022-10-15T14:57:10.464Z"
   },
   {
    "duration": 4,
    "start_time": "2022-10-15T14:57:10.503Z"
   },
   {
    "duration": 68,
    "start_time": "2022-10-15T14:57:10.509Z"
   },
   {
    "duration": 475,
    "start_time": "2022-10-15T14:57:10.579Z"
   },
   {
    "duration": 371,
    "start_time": "2022-10-15T14:57:11.056Z"
   },
   {
    "duration": 316,
    "start_time": "2022-10-15T14:57:11.430Z"
   },
   {
    "duration": 392,
    "start_time": "2022-10-15T14:57:11.747Z"
   },
   {
    "duration": 235,
    "start_time": "2022-10-15T14:57:12.141Z"
   },
   {
    "duration": 389,
    "start_time": "2022-10-15T14:57:12.378Z"
   },
   {
    "duration": 232,
    "start_time": "2022-10-15T14:57:12.769Z"
   },
   {
    "duration": 123,
    "start_time": "2022-10-15T14:57:13.003Z"
   },
   {
    "duration": 235,
    "start_time": "2022-10-15T14:57:13.128Z"
   },
   {
    "duration": 271,
    "start_time": "2022-10-15T14:57:13.365Z"
   },
   {
    "duration": 280,
    "start_time": "2022-10-15T14:57:13.638Z"
   },
   {
    "duration": 405,
    "start_time": "2022-10-15T14:57:13.919Z"
   },
   {
    "duration": 345,
    "start_time": "2022-10-15T14:57:14.326Z"
   },
   {
    "duration": 388,
    "start_time": "2022-10-15T14:57:14.672Z"
   },
   {
    "duration": 8,
    "start_time": "2022-10-15T14:57:15.061Z"
   },
   {
    "duration": 24,
    "start_time": "2022-10-15T14:57:15.070Z"
   },
   {
    "duration": 385,
    "start_time": "2022-10-15T14:57:15.098Z"
   },
   {
    "duration": 294,
    "start_time": "2022-10-15T14:57:15.484Z"
   },
   {
    "duration": 440,
    "start_time": "2022-10-15T14:57:15.779Z"
   },
   {
    "duration": 264,
    "start_time": "2022-10-15T14:57:16.220Z"
   },
   {
    "duration": 378,
    "start_time": "2022-10-15T14:57:16.485Z"
   },
   {
    "duration": 256,
    "start_time": "2022-10-15T14:57:16.865Z"
   },
   {
    "duration": 366,
    "start_time": "2022-10-15T14:57:17.123Z"
   },
   {
    "duration": 230,
    "start_time": "2022-10-15T14:57:17.490Z"
   },
   {
    "duration": 266,
    "start_time": "2022-10-15T14:57:17.722Z"
   },
   {
    "duration": 276,
    "start_time": "2022-10-15T14:57:17.989Z"
   },
   {
    "duration": 215,
    "start_time": "2022-10-15T14:57:18.266Z"
   },
   {
    "duration": 106,
    "start_time": "2022-10-15T14:57:18.483Z"
   },
   {
    "duration": 161,
    "start_time": "2022-10-15T14:57:18.591Z"
   },
   {
    "duration": 178,
    "start_time": "2022-10-15T14:57:18.753Z"
   },
   {
    "duration": 123,
    "start_time": "2022-10-15T14:57:18.933Z"
   },
   {
    "duration": 224,
    "start_time": "2022-10-15T14:57:19.058Z"
   },
   {
    "duration": 96,
    "start_time": "2022-10-15T14:57:19.284Z"
   },
   {
    "duration": 181,
    "start_time": "2022-10-15T14:57:19.382Z"
   },
   {
    "duration": 170,
    "start_time": "2022-10-15T14:57:19.564Z"
   },
   {
    "duration": 365,
    "start_time": "2022-10-15T14:57:19.735Z"
   },
   {
    "duration": 38,
    "start_time": "2022-10-15T15:00:26.909Z"
   }
  ],
  "kernelspec": {
   "display_name": "Python 3 (ipykernel)",
   "language": "python",
   "name": "python3"
  },
  "language_info": {
   "codemirror_mode": {
    "name": "ipython",
    "version": 3
   },
   "file_extension": ".py",
   "mimetype": "text/x-python",
   "name": "python",
   "nbconvert_exporter": "python",
   "pygments_lexer": "ipython3",
   "version": "3.9.7"
  },
  "toc": {
   "base_numbering": 1,
   "nav_menu": {},
   "number_sections": false,
   "sideBar": true,
   "skip_h1_title": false,
   "title_cell": "Table of Contents",
   "title_sidebar": "Contents",
   "toc_cell": false,
   "toc_position": {
    "height": "calc(100% - 180px)",
    "left": "10px",
    "top": "150px",
    "width": "282.075px"
   },
   "toc_section_display": true,
   "toc_window_display": true
  }
 },
 "nbformat": 4,
 "nbformat_minor": 5
}
