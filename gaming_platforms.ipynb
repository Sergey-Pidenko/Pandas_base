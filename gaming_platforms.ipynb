{
 "cells": [
  {
   "cell_type": "markdown",
   "id": "4c27e79f",
   "metadata": {},
   "source": [
    "<div style=\"border:solid Green 2px; padding: 40px\">\n",
    "Привет еще раз. Я буду также выделять свои комментарии цветом, но сейчас они будут отмечены так\n",
    "\n",
    "<h2> Комментарий ревьюера_V2 <a class=\"tocSkip\"> </h2>\n",
    "    \n",
    " Спасибо за твои корректировки. Надеюсь мои комментарии были полезны. Проект принят. Желаю удачи в дальнейшем обучении.    "
   ]
  },
  {
   "cell_type": "markdown",
   "id": "2f6cbe34",
   "metadata": {},
   "source": [
    "<div style=\"border:solid Chocolate 2px; padding: 40px\">\n",
    "\n",
    "<b> Сергей, привет!👋</b>\n",
    "\n",
    "Меня зовут Горбунова Анастасия, и я буду давать обратную связь по твоему проекту. Предлагаю общаться на \"ты\", но если это  неудобно, обязательно скажи об этом, и мы перейдем на \"вы\"! Моя основная задача - поделиться своим опытом и помочь тебе пройти путь до аналитика данных.\n",
    "    \n",
    "Чтобы тебе проще было ориентироваться, мои комментарии будут отмечены <font color='green'>👍 зеленым</font>, <font color='Orange'>💡 желтым</font> и <font color='red'>❌ красным</font> цветами:\n",
    "\n",
    "\n",
    "\n",
    "<br/>\n",
    "\n",
    "<div class=\"alert alert-success\">\n",
    "<h2> Комментарий ревьюера <a class=\"tocSkip\"> </h2>\n",
    "\n",
    "<b>Все отлично! 👍:</b> \n",
    "    \n",
    "Таким цветом отмечены правильные и удачные решения, на которые можно опираться в будущих проектах. \n",
    "</div>\n",
    "\n",
    "<br/>\n",
    "\n",
    "<div class=\"alert alert-warning\">\n",
    "    <h2> Комментарий ревьюера <a class=\"tocSkip\"> </h2>\n",
    "    \n",
    "<b>Некоторые рекомендации 💡:</b> \n",
    "        \n",
    "Так отмечены комментарии-рекомендации на будущее или небольшие коррективы. Ты можешь учесть эти комментарии при выполнении следующих проектов. \n",
    "</div>\n",
    "\n",
    "\n",
    "<br/>\n",
    "<div class=\"alert alert-block alert-danger\">\n",
    "<h2> Комментарий ревьюера <a class=\"tocSkip\"></h2>\n",
    "\n",
    "    \n",
    "<b>На доработку ❌:</b> \n",
    "    \n",
    "Красным цветом отмечены комментарии, которые требуют твоего внимания. Решение на этом этапе требует переработки или внесения правок. После доработки проект будет принят.\n",
    "</div>\n",
    "    \n",
    "\n",
    "В случае доработки проекта оставь все предыдущие комментарии без изменения. Пожалуйста, не удаляй, не перемещай и не изменяй мои комментарии. Это поможет выполнить повторную проверку твоего проекта оперативнее.\n",
    "    \n",
    "    \n",
    "Также прошу реагировать на мои комментарии своими: если ты что-то меняешь в проекте по моим рекомендациям - пиши об этом в ячейке Markdown. Выдели свои комментарии каким-либо другим заметным цветом, явно  отличающимся от цвета моих комментариев. Это нужно, чтобы не создавалась путаница и было проще отследить изменения."
   ]
  },
  {
   "cell_type": "markdown",
   "id": "4d89ecbe",
   "metadata": {},
   "source": [
    "<div class = \"alert alert-info\" style=\"border-left: 7px solid blue\">\n",
    "<b>Комментарий студента</b>\n",
    "    \n",
    "Это шаблон для тебя, можешь воспользоваться им, или сделать по своему усмотрению. Так я смогу быстро найти твои комментарии.\n",
    "</div>"
   ]
  },
  {
   "cell_type": "markdown",
   "id": "fa4bc44d",
   "metadata": {},
   "source": [
    "<br/>\n",
    "<div style=\"border:solid Red 2px; padding: 40px\">\n",
    "    <div class=\"alert alert-block alert-danger\">\n",
    "<h3> Комментарий ревьюера <a class=\"tocSkip\"></h3>\n",
    "\n",
    "<font color='red'><b>На доработку ❌:</b>  </font>\n",
    "    \n",
    "Стоит добавить заголовок проекта. И введение (описание проекта, цели, описание столбцов) перенести в самое начало. Тогда получатель отчета сможет быстрей его понять.\n",
    "    \n",
    "</div> "
   ]
  },
  {
   "cell_type": "markdown",
   "id": "1b580353",
   "metadata": {},
   "source": [
    "<div style=\"border:solid Orange 2px; padding: 40px\">\n",
    "<div class=\"alert alert-warning\">\n",
    "    <h3> Комментарий ревьюера <a class=\"tocSkip\"> </h3>\n",
    "    \n",
    "<font color='Orange'><b>Некоторые рекомендации 💡:</b> </font>\n",
    "        \n",
    "Я вижу, что ячейки в твоей тетрадке начинаются не с 1. Перед отправкой проекта стоит проверять работоспособность кода — это можно сделать, нажав на панели Jupiter Hub ``Kernel`` и ``Restart & Run All`` \n",
    "        \n",
    "\n",
    "</div>"
   ]
  },
  {
   "cell_type": "markdown",
   "id": "badc1c27",
   "metadata": {},
   "source": [
    "# Описание проекта\n",
    "Вы работаете в интернет-магазине «Стримчик», который продаёт по всему миру компьютерные игры. Из открытых источников доступны исторические данные о продажах игр, оценки пользователей и экспертов, жанры и платформы (например, Xbox или PlayStation). Вам нужно выявить определяющие успешность игры закономерности. Это позволит сделать ставку на потенциально популярный продукт и спланировать рекламные кампании.\n",
    "\n",
    "Перед вами данные до 2016 года. Представим, что сейчас декабрь 2016 г., и вы планируете кампанию на 2017-й. Нужно отработать принцип работы с данными. Неважно, прогнозируете ли вы продажи на 2017 год по данным 2016-го или же 2027-й — по данным 2026 года.\n",
    "\n",
    "В наборе данных попадается аббревиатура ESRB (Entertainment Software Rating Board) — это ассоциация, определяющая возрастной рейтинг компьютерных игр. ESRB оценивает игровой контент и присваивает ему подходящую возрастную категорию, например, «Для взрослых», «Для детей младшего возраста» или «Для подростков»."
   ]
  },
  {
   "cell_type": "markdown",
   "id": "2a2b3191",
   "metadata": {},
   "source": [
    "# Описание данных\n",
    "* Name — название игры\n",
    "* Platform — платформа\n",
    "* Year_of_Release — год выпуска\n",
    "* Genre — жанр игры\n",
    "* NA_sales — продажи в Северной Америке (миллионы проданных копий)\n",
    "* EU_sales — продажи в Европе (миллионы проданных копий)\n",
    "* JP_sales — продажи в Японии (миллионы проданных копий)\n",
    "* Other_sales — продажи в других странах (миллионы проданных копий)\n",
    "* Critic_Score — оценка критиков (максимум 100)\n",
    "* User_Score — оценка пользователей (максимум 10)\n",
    "* Rating — рейтинг от организации ESRB (англ. Entertainment Software Rating Board). Эта ассоциация определяет рейтинг компьютерных игр и присваивает им подходящую возрастную категорию.\n",
    "\n",
    "Данные за 2016 год могут быть неполными."
   ]
  },
  {
   "cell_type": "markdown",
   "id": "d3237f55",
   "metadata": {},
   "source": [
    "<div style=\"border:solid Orange 2px; padding: 40px\">\n",
    "<div class=\"alert alert-warning\">\n",
    "    <h2> Комментарий ревьюера_V2 <a class=\"tocSkip\"> </h2>\n",
    "    \n",
    "<font color='Orange'><b>Некоторые рекомендации 💡:</b> </font>\n",
    "\n",
    "Стоит добавлять еще заголовок проекта в самом начале.\n",
    "        \n",
    "</div>"
   ]
  },
  {
   "cell_type": "code",
   "execution_count": 1,
   "id": "ce28214d",
   "metadata": {},
   "outputs": [],
   "source": [
    "import pandas as pd\n",
    "import matplotlib.pyplot as plt\n",
    "import matplotlib.ticker as ticker\n",
    "import seaborn as sns\n",
    "import numpy as np \n",
    "from scipy import stats as st"
   ]
  },
  {
   "cell_type": "markdown",
   "id": "30491545",
   "metadata": {},
   "source": [
    "# 1. Работа с файлом"
   ]
  },
  {
   "cell_type": "code",
   "execution_count": 2,
   "id": "2cefa032",
   "metadata": {},
   "outputs": [
    {
     "data": {
      "text/html": [
       "<div>\n",
       "<style scoped>\n",
       "    .dataframe tbody tr th:only-of-type {\n",
       "        vertical-align: middle;\n",
       "    }\n",
       "\n",
       "    .dataframe tbody tr th {\n",
       "        vertical-align: top;\n",
       "    }\n",
       "\n",
       "    .dataframe thead th {\n",
       "        text-align: right;\n",
       "    }\n",
       "</style>\n",
       "<table border=\"1\" class=\"dataframe\">\n",
       "  <thead>\n",
       "    <tr style=\"text-align: right;\">\n",
       "      <th></th>\n",
       "      <th>Name</th>\n",
       "      <th>Platform</th>\n",
       "      <th>Year_of_Release</th>\n",
       "      <th>Genre</th>\n",
       "      <th>NA_sales</th>\n",
       "      <th>EU_sales</th>\n",
       "      <th>JP_sales</th>\n",
       "      <th>Other_sales</th>\n",
       "      <th>Critic_Score</th>\n",
       "      <th>User_Score</th>\n",
       "      <th>Rating</th>\n",
       "    </tr>\n",
       "  </thead>\n",
       "  <tbody>\n",
       "    <tr>\n",
       "      <th>0</th>\n",
       "      <td>Wii Sports</td>\n",
       "      <td>Wii</td>\n",
       "      <td>2006.0</td>\n",
       "      <td>Sports</td>\n",
       "      <td>41.36</td>\n",
       "      <td>28.96</td>\n",
       "      <td>3.77</td>\n",
       "      <td>8.45</td>\n",
       "      <td>76.0</td>\n",
       "      <td>8</td>\n",
       "      <td>E</td>\n",
       "    </tr>\n",
       "    <tr>\n",
       "      <th>1</th>\n",
       "      <td>Super Mario Bros.</td>\n",
       "      <td>NES</td>\n",
       "      <td>1985.0</td>\n",
       "      <td>Platform</td>\n",
       "      <td>29.08</td>\n",
       "      <td>3.58</td>\n",
       "      <td>6.81</td>\n",
       "      <td>0.77</td>\n",
       "      <td>NaN</td>\n",
       "      <td>NaN</td>\n",
       "      <td>NaN</td>\n",
       "    </tr>\n",
       "    <tr>\n",
       "      <th>2</th>\n",
       "      <td>Mario Kart Wii</td>\n",
       "      <td>Wii</td>\n",
       "      <td>2008.0</td>\n",
       "      <td>Racing</td>\n",
       "      <td>15.68</td>\n",
       "      <td>12.76</td>\n",
       "      <td>3.79</td>\n",
       "      <td>3.29</td>\n",
       "      <td>82.0</td>\n",
       "      <td>8.3</td>\n",
       "      <td>E</td>\n",
       "    </tr>\n",
       "    <tr>\n",
       "      <th>3</th>\n",
       "      <td>Wii Sports Resort</td>\n",
       "      <td>Wii</td>\n",
       "      <td>2009.0</td>\n",
       "      <td>Sports</td>\n",
       "      <td>15.61</td>\n",
       "      <td>10.93</td>\n",
       "      <td>3.28</td>\n",
       "      <td>2.95</td>\n",
       "      <td>80.0</td>\n",
       "      <td>8</td>\n",
       "      <td>E</td>\n",
       "    </tr>\n",
       "    <tr>\n",
       "      <th>4</th>\n",
       "      <td>Pokemon Red/Pokemon Blue</td>\n",
       "      <td>GB</td>\n",
       "      <td>1996.0</td>\n",
       "      <td>Role-Playing</td>\n",
       "      <td>11.27</td>\n",
       "      <td>8.89</td>\n",
       "      <td>10.22</td>\n",
       "      <td>1.00</td>\n",
       "      <td>NaN</td>\n",
       "      <td>NaN</td>\n",
       "      <td>NaN</td>\n",
       "    </tr>\n",
       "    <tr>\n",
       "      <th>...</th>\n",
       "      <td>...</td>\n",
       "      <td>...</td>\n",
       "      <td>...</td>\n",
       "      <td>...</td>\n",
       "      <td>...</td>\n",
       "      <td>...</td>\n",
       "      <td>...</td>\n",
       "      <td>...</td>\n",
       "      <td>...</td>\n",
       "      <td>...</td>\n",
       "      <td>...</td>\n",
       "    </tr>\n",
       "    <tr>\n",
       "      <th>16710</th>\n",
       "      <td>Samurai Warriors: Sanada Maru</td>\n",
       "      <td>PS3</td>\n",
       "      <td>2016.0</td>\n",
       "      <td>Action</td>\n",
       "      <td>0.00</td>\n",
       "      <td>0.00</td>\n",
       "      <td>0.01</td>\n",
       "      <td>0.00</td>\n",
       "      <td>NaN</td>\n",
       "      <td>NaN</td>\n",
       "      <td>NaN</td>\n",
       "    </tr>\n",
       "    <tr>\n",
       "      <th>16711</th>\n",
       "      <td>LMA Manager 2007</td>\n",
       "      <td>X360</td>\n",
       "      <td>2006.0</td>\n",
       "      <td>Sports</td>\n",
       "      <td>0.00</td>\n",
       "      <td>0.01</td>\n",
       "      <td>0.00</td>\n",
       "      <td>0.00</td>\n",
       "      <td>NaN</td>\n",
       "      <td>NaN</td>\n",
       "      <td>NaN</td>\n",
       "    </tr>\n",
       "    <tr>\n",
       "      <th>16712</th>\n",
       "      <td>Haitaka no Psychedelica</td>\n",
       "      <td>PSV</td>\n",
       "      <td>2016.0</td>\n",
       "      <td>Adventure</td>\n",
       "      <td>0.00</td>\n",
       "      <td>0.00</td>\n",
       "      <td>0.01</td>\n",
       "      <td>0.00</td>\n",
       "      <td>NaN</td>\n",
       "      <td>NaN</td>\n",
       "      <td>NaN</td>\n",
       "    </tr>\n",
       "    <tr>\n",
       "      <th>16713</th>\n",
       "      <td>Spirits &amp; Spells</td>\n",
       "      <td>GBA</td>\n",
       "      <td>2003.0</td>\n",
       "      <td>Platform</td>\n",
       "      <td>0.01</td>\n",
       "      <td>0.00</td>\n",
       "      <td>0.00</td>\n",
       "      <td>0.00</td>\n",
       "      <td>NaN</td>\n",
       "      <td>NaN</td>\n",
       "      <td>NaN</td>\n",
       "    </tr>\n",
       "    <tr>\n",
       "      <th>16714</th>\n",
       "      <td>Winning Post 8 2016</td>\n",
       "      <td>PSV</td>\n",
       "      <td>2016.0</td>\n",
       "      <td>Simulation</td>\n",
       "      <td>0.00</td>\n",
       "      <td>0.00</td>\n",
       "      <td>0.01</td>\n",
       "      <td>0.00</td>\n",
       "      <td>NaN</td>\n",
       "      <td>NaN</td>\n",
       "      <td>NaN</td>\n",
       "    </tr>\n",
       "  </tbody>\n",
       "</table>\n",
       "<p>16715 rows × 11 columns</p>\n",
       "</div>"
      ],
      "text/plain": [
       "                                Name Platform  Year_of_Release         Genre  \\\n",
       "0                         Wii Sports      Wii           2006.0        Sports   \n",
       "1                  Super Mario Bros.      NES           1985.0      Platform   \n",
       "2                     Mario Kart Wii      Wii           2008.0        Racing   \n",
       "3                  Wii Sports Resort      Wii           2009.0        Sports   \n",
       "4           Pokemon Red/Pokemon Blue       GB           1996.0  Role-Playing   \n",
       "...                              ...      ...              ...           ...   \n",
       "16710  Samurai Warriors: Sanada Maru      PS3           2016.0        Action   \n",
       "16711               LMA Manager 2007     X360           2006.0        Sports   \n",
       "16712        Haitaka no Psychedelica      PSV           2016.0     Adventure   \n",
       "16713               Spirits & Spells      GBA           2003.0      Platform   \n",
       "16714            Winning Post 8 2016      PSV           2016.0    Simulation   \n",
       "\n",
       "       NA_sales  EU_sales  JP_sales  Other_sales  Critic_Score User_Score  \\\n",
       "0         41.36     28.96      3.77         8.45          76.0          8   \n",
       "1         29.08      3.58      6.81         0.77           NaN        NaN   \n",
       "2         15.68     12.76      3.79         3.29          82.0        8.3   \n",
       "3         15.61     10.93      3.28         2.95          80.0          8   \n",
       "4         11.27      8.89     10.22         1.00           NaN        NaN   \n",
       "...         ...       ...       ...          ...           ...        ...   \n",
       "16710      0.00      0.00      0.01         0.00           NaN        NaN   \n",
       "16711      0.00      0.01      0.00         0.00           NaN        NaN   \n",
       "16712      0.00      0.00      0.01         0.00           NaN        NaN   \n",
       "16713      0.01      0.00      0.00         0.00           NaN        NaN   \n",
       "16714      0.00      0.00      0.01         0.00           NaN        NaN   \n",
       "\n",
       "      Rating  \n",
       "0          E  \n",
       "1        NaN  \n",
       "2          E  \n",
       "3          E  \n",
       "4        NaN  \n",
       "...      ...  \n",
       "16710    NaN  \n",
       "16711    NaN  \n",
       "16712    NaN  \n",
       "16713    NaN  \n",
       "16714    NaN  \n",
       "\n",
       "[16715 rows x 11 columns]"
      ]
     },
     "metadata": {},
     "output_type": "display_data"
    }
   ],
   "source": [
    "try: \n",
    "    games = pd.read_csv('games.csv')\n",
    "\n",
    "except: \n",
    "    games = pd.read_csv('/datasets/games.csv')\n",
    "\n",
    "display(games)"
   ]
  },
  {
   "cell_type": "markdown",
   "id": "8c274d67",
   "metadata": {},
   "source": [
    "<div style=\"border:solid Green 2px; padding: 40px\">\n",
    "<div class=\"alert alert-success\">\n",
    "<h3> Комментарий ревьюера <a class=\"tocSkip\"> </h3>\n",
    "\n",
    "<font color='green'><b>Все отлично! 👍:</b>  </font>\n",
    "    \n",
    "Здорово, что ты используешь конструкцию ``try-except`` для путей файлов. Можно еще использовать стандартную библиотеку ``os``:\n",
    "        \n",
    "https://pythonworld.ru/moduli/modul-os.html\n",
    "    \n",
    "</div>"
   ]
  },
  {
   "cell_type": "markdown",
   "id": "4c477a2b",
   "metadata": {},
   "source": [
    "#  2. Подготовка данных"
   ]
  },
  {
   "cell_type": "code",
   "execution_count": 3,
   "id": "0a5bf7c2",
   "metadata": {},
   "outputs": [
    {
     "data": {
      "text/plain": [
       "Index(['name', 'platform', 'year_of_release', 'genre', 'na_sales', 'eu_sales',\n",
       "       'jp_sales', 'other_sales', 'critic_score', 'user_score', 'rating'],\n",
       "      dtype='object')"
      ]
     },
     "execution_count": 3,
     "metadata": {},
     "output_type": "execute_result"
    }
   ],
   "source": [
    "games.columns = games.columns.str.lower()\n",
    "games.columns"
   ]
  },
  {
   "cell_type": "markdown",
   "id": "139e31d0",
   "metadata": {},
   "source": [
    "<div style=\"border:solid Green 2px; padding: 40px\">\n",
    "<div class=\"alert alert-success\">\n",
    "<h2> Комментарий ревьюера <a class=\"tocSkip\"> </h2>\n",
    "\n",
    "<font color='green'><b>Все отлично! 👍:</b>  </font>\n",
    "\n",
    "Молодец, что используешь str.lower(). Это лучше чем просто прописывать названия столбцов.\n",
    "    \n",
    "</div>"
   ]
  },
  {
   "cell_type": "markdown",
   "id": "ca3bb501",
   "metadata": {},
   "source": [
    "###### Работа с типами данных\n",
    "Проверим наличие дубликатов и пропусков, а также сверим типы данных."
   ]
  },
  {
   "cell_type": "code",
   "execution_count": 4,
   "id": "e93e61d6",
   "metadata": {},
   "outputs": [
    {
     "data": {
      "text/html": [
       "<div>\n",
       "<style scoped>\n",
       "    .dataframe tbody tr th:only-of-type {\n",
       "        vertical-align: middle;\n",
       "    }\n",
       "\n",
       "    .dataframe tbody tr th {\n",
       "        vertical-align: top;\n",
       "    }\n",
       "\n",
       "    .dataframe thead th {\n",
       "        text-align: right;\n",
       "    }\n",
       "</style>\n",
       "<table border=\"1\" class=\"dataframe\">\n",
       "  <thead>\n",
       "    <tr style=\"text-align: right;\">\n",
       "      <th></th>\n",
       "      <th>name</th>\n",
       "      <th>platform</th>\n",
       "      <th>year_of_release</th>\n",
       "      <th>genre</th>\n",
       "      <th>na_sales</th>\n",
       "      <th>eu_sales</th>\n",
       "      <th>jp_sales</th>\n",
       "      <th>other_sales</th>\n",
       "      <th>critic_score</th>\n",
       "      <th>user_score</th>\n",
       "      <th>rating</th>\n",
       "    </tr>\n",
       "  </thead>\n",
       "  <tbody>\n",
       "    <tr>\n",
       "      <th>0</th>\n",
       "      <td>Wii Sports</td>\n",
       "      <td>Wii</td>\n",
       "      <td>2006.0</td>\n",
       "      <td>Sports</td>\n",
       "      <td>41.36</td>\n",
       "      <td>28.96</td>\n",
       "      <td>3.77</td>\n",
       "      <td>8.45</td>\n",
       "      <td>76.0</td>\n",
       "      <td>8</td>\n",
       "      <td>E</td>\n",
       "    </tr>\n",
       "    <tr>\n",
       "      <th>1</th>\n",
       "      <td>Super Mario Bros.</td>\n",
       "      <td>NES</td>\n",
       "      <td>1985.0</td>\n",
       "      <td>Platform</td>\n",
       "      <td>29.08</td>\n",
       "      <td>3.58</td>\n",
       "      <td>6.81</td>\n",
       "      <td>0.77</td>\n",
       "      <td>NaN</td>\n",
       "      <td>NaN</td>\n",
       "      <td>NaN</td>\n",
       "    </tr>\n",
       "    <tr>\n",
       "      <th>2</th>\n",
       "      <td>Mario Kart Wii</td>\n",
       "      <td>Wii</td>\n",
       "      <td>2008.0</td>\n",
       "      <td>Racing</td>\n",
       "      <td>15.68</td>\n",
       "      <td>12.76</td>\n",
       "      <td>3.79</td>\n",
       "      <td>3.29</td>\n",
       "      <td>82.0</td>\n",
       "      <td>8.3</td>\n",
       "      <td>E</td>\n",
       "    </tr>\n",
       "    <tr>\n",
       "      <th>3</th>\n",
       "      <td>Wii Sports Resort</td>\n",
       "      <td>Wii</td>\n",
       "      <td>2009.0</td>\n",
       "      <td>Sports</td>\n",
       "      <td>15.61</td>\n",
       "      <td>10.93</td>\n",
       "      <td>3.28</td>\n",
       "      <td>2.95</td>\n",
       "      <td>80.0</td>\n",
       "      <td>8</td>\n",
       "      <td>E</td>\n",
       "    </tr>\n",
       "    <tr>\n",
       "      <th>4</th>\n",
       "      <td>Pokemon Red/Pokemon Blue</td>\n",
       "      <td>GB</td>\n",
       "      <td>1996.0</td>\n",
       "      <td>Role-Playing</td>\n",
       "      <td>11.27</td>\n",
       "      <td>8.89</td>\n",
       "      <td>10.22</td>\n",
       "      <td>1.00</td>\n",
       "      <td>NaN</td>\n",
       "      <td>NaN</td>\n",
       "      <td>NaN</td>\n",
       "    </tr>\n",
       "    <tr>\n",
       "      <th>...</th>\n",
       "      <td>...</td>\n",
       "      <td>...</td>\n",
       "      <td>...</td>\n",
       "      <td>...</td>\n",
       "      <td>...</td>\n",
       "      <td>...</td>\n",
       "      <td>...</td>\n",
       "      <td>...</td>\n",
       "      <td>...</td>\n",
       "      <td>...</td>\n",
       "      <td>...</td>\n",
       "    </tr>\n",
       "    <tr>\n",
       "      <th>16710</th>\n",
       "      <td>Samurai Warriors: Sanada Maru</td>\n",
       "      <td>PS3</td>\n",
       "      <td>2016.0</td>\n",
       "      <td>Action</td>\n",
       "      <td>0.00</td>\n",
       "      <td>0.00</td>\n",
       "      <td>0.01</td>\n",
       "      <td>0.00</td>\n",
       "      <td>NaN</td>\n",
       "      <td>NaN</td>\n",
       "      <td>NaN</td>\n",
       "    </tr>\n",
       "    <tr>\n",
       "      <th>16711</th>\n",
       "      <td>LMA Manager 2007</td>\n",
       "      <td>X360</td>\n",
       "      <td>2006.0</td>\n",
       "      <td>Sports</td>\n",
       "      <td>0.00</td>\n",
       "      <td>0.01</td>\n",
       "      <td>0.00</td>\n",
       "      <td>0.00</td>\n",
       "      <td>NaN</td>\n",
       "      <td>NaN</td>\n",
       "      <td>NaN</td>\n",
       "    </tr>\n",
       "    <tr>\n",
       "      <th>16712</th>\n",
       "      <td>Haitaka no Psychedelica</td>\n",
       "      <td>PSV</td>\n",
       "      <td>2016.0</td>\n",
       "      <td>Adventure</td>\n",
       "      <td>0.00</td>\n",
       "      <td>0.00</td>\n",
       "      <td>0.01</td>\n",
       "      <td>0.00</td>\n",
       "      <td>NaN</td>\n",
       "      <td>NaN</td>\n",
       "      <td>NaN</td>\n",
       "    </tr>\n",
       "    <tr>\n",
       "      <th>16713</th>\n",
       "      <td>Spirits &amp; Spells</td>\n",
       "      <td>GBA</td>\n",
       "      <td>2003.0</td>\n",
       "      <td>Platform</td>\n",
       "      <td>0.01</td>\n",
       "      <td>0.00</td>\n",
       "      <td>0.00</td>\n",
       "      <td>0.00</td>\n",
       "      <td>NaN</td>\n",
       "      <td>NaN</td>\n",
       "      <td>NaN</td>\n",
       "    </tr>\n",
       "    <tr>\n",
       "      <th>16714</th>\n",
       "      <td>Winning Post 8 2016</td>\n",
       "      <td>PSV</td>\n",
       "      <td>2016.0</td>\n",
       "      <td>Simulation</td>\n",
       "      <td>0.00</td>\n",
       "      <td>0.00</td>\n",
       "      <td>0.01</td>\n",
       "      <td>0.00</td>\n",
       "      <td>NaN</td>\n",
       "      <td>NaN</td>\n",
       "      <td>NaN</td>\n",
       "    </tr>\n",
       "  </tbody>\n",
       "</table>\n",
       "<p>16715 rows × 11 columns</p>\n",
       "</div>"
      ],
      "text/plain": [
       "                                name platform  year_of_release         genre  \\\n",
       "0                         Wii Sports      Wii           2006.0        Sports   \n",
       "1                  Super Mario Bros.      NES           1985.0      Platform   \n",
       "2                     Mario Kart Wii      Wii           2008.0        Racing   \n",
       "3                  Wii Sports Resort      Wii           2009.0        Sports   \n",
       "4           Pokemon Red/Pokemon Blue       GB           1996.0  Role-Playing   \n",
       "...                              ...      ...              ...           ...   \n",
       "16710  Samurai Warriors: Sanada Maru      PS3           2016.0        Action   \n",
       "16711               LMA Manager 2007     X360           2006.0        Sports   \n",
       "16712        Haitaka no Psychedelica      PSV           2016.0     Adventure   \n",
       "16713               Spirits & Spells      GBA           2003.0      Platform   \n",
       "16714            Winning Post 8 2016      PSV           2016.0    Simulation   \n",
       "\n",
       "       na_sales  eu_sales  jp_sales  other_sales  critic_score user_score  \\\n",
       "0         41.36     28.96      3.77         8.45          76.0          8   \n",
       "1         29.08      3.58      6.81         0.77           NaN        NaN   \n",
       "2         15.68     12.76      3.79         3.29          82.0        8.3   \n",
       "3         15.61     10.93      3.28         2.95          80.0          8   \n",
       "4         11.27      8.89     10.22         1.00           NaN        NaN   \n",
       "...         ...       ...       ...          ...           ...        ...   \n",
       "16710      0.00      0.00      0.01         0.00           NaN        NaN   \n",
       "16711      0.00      0.01      0.00         0.00           NaN        NaN   \n",
       "16712      0.00      0.00      0.01         0.00           NaN        NaN   \n",
       "16713      0.01      0.00      0.00         0.00           NaN        NaN   \n",
       "16714      0.00      0.00      0.01         0.00           NaN        NaN   \n",
       "\n",
       "      rating  \n",
       "0          E  \n",
       "1        NaN  \n",
       "2          E  \n",
       "3          E  \n",
       "4        NaN  \n",
       "...      ...  \n",
       "16710    NaN  \n",
       "16711    NaN  \n",
       "16712    NaN  \n",
       "16713    NaN  \n",
       "16714    NaN  \n",
       "\n",
       "[16715 rows x 11 columns]"
      ]
     },
     "metadata": {},
     "output_type": "display_data"
    }
   ],
   "source": [
    "display(games)"
   ]
  },
  {
   "cell_type": "markdown",
   "id": "e4ff6dd5",
   "metadata": {},
   "source": [
    "#### Предварительный анализ "
   ]
  },
  {
   "cell_type": "code",
   "execution_count": 5,
   "id": "8c24d4a7",
   "metadata": {},
   "outputs": [
    {
     "name": "stdout",
     "output_type": "stream",
     "text": [
      "<class 'pandas.core.frame.DataFrame'>\n",
      "RangeIndex: 16715 entries, 0 to 16714\n",
      "Data columns (total 11 columns):\n",
      " #   Column           Non-Null Count  Dtype  \n",
      "---  ------           --------------  -----  \n",
      " 0   name             16713 non-null  object \n",
      " 1   platform         16715 non-null  object \n",
      " 2   year_of_release  16446 non-null  float64\n",
      " 3   genre            16713 non-null  object \n",
      " 4   na_sales         16715 non-null  float64\n",
      " 5   eu_sales         16715 non-null  float64\n",
      " 6   jp_sales         16715 non-null  float64\n",
      " 7   other_sales      16715 non-null  float64\n",
      " 8   critic_score     8137 non-null   float64\n",
      " 9   user_score       10014 non-null  object \n",
      " 10  rating           9949 non-null   object \n",
      "dtypes: float64(6), object(5)\n",
      "memory usage: 1.4+ MB\n"
     ]
    }
   ],
   "source": [
    "games.info()"
   ]
  },
  {
   "cell_type": "code",
   "execution_count": 6,
   "id": "0144b6ab",
   "metadata": {},
   "outputs": [
    {
     "data": {
      "text/plain": [
       "name                  2\n",
       "platform              0\n",
       "year_of_release     269\n",
       "genre                 2\n",
       "na_sales              0\n",
       "eu_sales              0\n",
       "jp_sales              0\n",
       "other_sales           0\n",
       "critic_score       8578\n",
       "user_score         6701\n",
       "rating             6766\n",
       "dtype: int64"
      ]
     },
     "execution_count": 6,
     "metadata": {},
     "output_type": "execute_result"
    }
   ],
   "source": [
    "games.isna().sum()"
   ]
  },
  {
   "cell_type": "markdown",
   "id": "b3c97b45",
   "metadata": {},
   "source": [
    "<div class = \"alert alert-info\" style=\"border-left: 7px solid blue\">\n",
    "<b>Комментарий студента</b>\n",
    "    \n",
    "* Колонка `year_of_release` имеет значение float, хотя год может принимать только целые значения.\n",
    "* `user_score` должен быть числом, хотя имеент тип object, проверим строки с посторонними типами данных. \n",
    "* В колонке `year_of_release` 269 пропусков, нам придется анализировать годы выхода игр, поэтому нужно удалить строки с пропусками, тем более, число пропусков сильно меньше количества строк. \n",
    "* `user_score`, `critic_score`, `rating` имеют слишком много пропусков, чтобы заполнять их значениями или удалять, изменим их значения на `Unknown`\n",
    "* `name`  имеет 2 пропуска, но в ходе исследования нам не пригодится эта колонка. \n",
    "* `genre` имеет 2 пропуска, можно удалить эти строки.\n",
    "</div>\n",
    "\n",
    "\n"
   ]
  },
  {
   "cell_type": "markdown",
   "id": "78313d60",
   "metadata": {},
   "source": [
    "<div style=\"border:solid Green 2px; padding: 40px\">\n",
    "<div class=\"alert alert-success\">\n",
    "<h2> Комментарий ревьюера_V2 <a class=\"tocSkip\"> </h2>\n",
    "\n",
    "<font color='green'><b>Все отлично! 👍:</b>  </font>\n",
    "\n",
    "Отлично.\n",
    "    \n",
    "</div>"
   ]
  },
  {
   "cell_type": "code",
   "execution_count": 7,
   "id": "9e9fdcdb",
   "metadata": {
    "scrolled": false
   },
   "outputs": [
    {
     "name": "stdout",
     "output_type": "stream",
     "text": [
      "<class 'pandas.core.frame.DataFrame'>\n",
      "Int64Index: 16444 entries, 0 to 16714\n",
      "Data columns (total 11 columns):\n",
      " #   Column           Non-Null Count  Dtype  \n",
      "---  ------           --------------  -----  \n",
      " 0   name             16444 non-null  object \n",
      " 1   platform         16444 non-null  object \n",
      " 2   year_of_release  16444 non-null  int64  \n",
      " 3   genre            16444 non-null  object \n",
      " 4   na_sales         16444 non-null  float64\n",
      " 5   eu_sales         16444 non-null  float64\n",
      " 6   jp_sales         16444 non-null  float64\n",
      " 7   other_sales      16444 non-null  float64\n",
      " 8   critic_score     7983 non-null   float64\n",
      " 9   user_score       9839 non-null   object \n",
      " 10  rating           9768 non-null   object \n",
      "dtypes: float64(5), int64(1), object(5)\n",
      "memory usage: 1.5+ MB\n"
     ]
    },
    {
     "data": {
      "text/plain": [
       "name                  0\n",
       "platform              0\n",
       "year_of_release       0\n",
       "genre                 0\n",
       "na_sales              0\n",
       "eu_sales              0\n",
       "jp_sales              0\n",
       "other_sales           0\n",
       "critic_score       8461\n",
       "user_score         6605\n",
       "rating             6676\n",
       "dtype: int64"
      ]
     },
     "execution_count": 7,
     "metadata": {},
     "output_type": "execute_result"
    }
   ],
   "source": [
    "games = games.dropna(subset=['year_of_release', 'genre'])\n",
    "games['year_of_release'] = games['year_of_release'].astype('int')\n",
    "games.info()\n",
    "games.isna().sum()"
   ]
  },
  {
   "cell_type": "markdown",
   "id": "93b66cf0",
   "metadata": {},
   "source": [
    "<div class = \"alert alert-info\" style=\"border-left: 7px solid blue\">\n",
    "<b>Комментарий студента</b>\n",
    "    \n",
    "В колонке `user_score` встречаются значения tbd - \"To Be Determined\" - т.е., оценка будет определена позже. По смыслу это ничем не отличается от пропуска. Поэтому заменим их на `NaN`. Также заменим на `Unknown` пропуски в колонке `rating`.  \n",
    "* Я не поставил `Unknown` на пропуски в оценках пользователей и критиков, так-как хотел сохранить нужный тип дынных в колонках, чтобы не было ошибок типов данных при построении графиков.\n",
    "\n",
    "</div>\n",
    "\n"
   ]
  },
  {
   "cell_type": "markdown",
   "id": "3cf931ba",
   "metadata": {},
   "source": [
    "<div style=\"border:solid Green 2px; padding: 40px\">\n",
    "<div class=\"alert alert-success\">\n",
    "<h2> Комментарий ревьюера_V2 <a class=\"tocSkip\"> </h2>\n",
    "\n",
    "<font color='green'><b>Все отлично! 👍:</b>  </font>\n",
    "\n",
    "👍\n",
    "    \n",
    "</div>"
   ]
  },
  {
   "cell_type": "code",
   "execution_count": 8,
   "id": "c1ac9715",
   "metadata": {
    "scrolled": true
   },
   "outputs": [
    {
     "data": {
      "text/html": [
       "<div>\n",
       "<style scoped>\n",
       "    .dataframe tbody tr th:only-of-type {\n",
       "        vertical-align: middle;\n",
       "    }\n",
       "\n",
       "    .dataframe tbody tr th {\n",
       "        vertical-align: top;\n",
       "    }\n",
       "\n",
       "    .dataframe thead th {\n",
       "        text-align: right;\n",
       "    }\n",
       "</style>\n",
       "<table border=\"1\" class=\"dataframe\">\n",
       "  <thead>\n",
       "    <tr style=\"text-align: right;\">\n",
       "      <th></th>\n",
       "      <th>name</th>\n",
       "      <th>platform</th>\n",
       "      <th>year_of_release</th>\n",
       "      <th>genre</th>\n",
       "      <th>na_sales</th>\n",
       "      <th>eu_sales</th>\n",
       "      <th>jp_sales</th>\n",
       "      <th>other_sales</th>\n",
       "      <th>critic_score</th>\n",
       "      <th>user_score</th>\n",
       "      <th>rating</th>\n",
       "    </tr>\n",
       "  </thead>\n",
       "  <tbody>\n",
       "    <tr>\n",
       "      <th>0</th>\n",
       "      <td>Wii Sports</td>\n",
       "      <td>Wii</td>\n",
       "      <td>2006</td>\n",
       "      <td>Sports</td>\n",
       "      <td>41.36</td>\n",
       "      <td>28.96</td>\n",
       "      <td>3.77</td>\n",
       "      <td>8.45</td>\n",
       "      <td>76.0</td>\n",
       "      <td>8.0</td>\n",
       "      <td>E</td>\n",
       "    </tr>\n",
       "    <tr>\n",
       "      <th>1</th>\n",
       "      <td>Super Mario Bros.</td>\n",
       "      <td>NES</td>\n",
       "      <td>1985</td>\n",
       "      <td>Platform</td>\n",
       "      <td>29.08</td>\n",
       "      <td>3.58</td>\n",
       "      <td>6.81</td>\n",
       "      <td>0.77</td>\n",
       "      <td>NaN</td>\n",
       "      <td>NaN</td>\n",
       "      <td>Unknown</td>\n",
       "    </tr>\n",
       "    <tr>\n",
       "      <th>2</th>\n",
       "      <td>Mario Kart Wii</td>\n",
       "      <td>Wii</td>\n",
       "      <td>2008</td>\n",
       "      <td>Racing</td>\n",
       "      <td>15.68</td>\n",
       "      <td>12.76</td>\n",
       "      <td>3.79</td>\n",
       "      <td>3.29</td>\n",
       "      <td>82.0</td>\n",
       "      <td>8.3</td>\n",
       "      <td>E</td>\n",
       "    </tr>\n",
       "    <tr>\n",
       "      <th>3</th>\n",
       "      <td>Wii Sports Resort</td>\n",
       "      <td>Wii</td>\n",
       "      <td>2009</td>\n",
       "      <td>Sports</td>\n",
       "      <td>15.61</td>\n",
       "      <td>10.93</td>\n",
       "      <td>3.28</td>\n",
       "      <td>2.95</td>\n",
       "      <td>80.0</td>\n",
       "      <td>8.0</td>\n",
       "      <td>E</td>\n",
       "    </tr>\n",
       "    <tr>\n",
       "      <th>4</th>\n",
       "      <td>Pokemon Red/Pokemon Blue</td>\n",
       "      <td>GB</td>\n",
       "      <td>1996</td>\n",
       "      <td>Role-Playing</td>\n",
       "      <td>11.27</td>\n",
       "      <td>8.89</td>\n",
       "      <td>10.22</td>\n",
       "      <td>1.00</td>\n",
       "      <td>NaN</td>\n",
       "      <td>NaN</td>\n",
       "      <td>Unknown</td>\n",
       "    </tr>\n",
       "    <tr>\n",
       "      <th>...</th>\n",
       "      <td>...</td>\n",
       "      <td>...</td>\n",
       "      <td>...</td>\n",
       "      <td>...</td>\n",
       "      <td>...</td>\n",
       "      <td>...</td>\n",
       "      <td>...</td>\n",
       "      <td>...</td>\n",
       "      <td>...</td>\n",
       "      <td>...</td>\n",
       "      <td>...</td>\n",
       "    </tr>\n",
       "    <tr>\n",
       "      <th>16710</th>\n",
       "      <td>Samurai Warriors: Sanada Maru</td>\n",
       "      <td>PS3</td>\n",
       "      <td>2016</td>\n",
       "      <td>Action</td>\n",
       "      <td>0.00</td>\n",
       "      <td>0.00</td>\n",
       "      <td>0.01</td>\n",
       "      <td>0.00</td>\n",
       "      <td>NaN</td>\n",
       "      <td>NaN</td>\n",
       "      <td>Unknown</td>\n",
       "    </tr>\n",
       "    <tr>\n",
       "      <th>16711</th>\n",
       "      <td>LMA Manager 2007</td>\n",
       "      <td>X360</td>\n",
       "      <td>2006</td>\n",
       "      <td>Sports</td>\n",
       "      <td>0.00</td>\n",
       "      <td>0.01</td>\n",
       "      <td>0.00</td>\n",
       "      <td>0.00</td>\n",
       "      <td>NaN</td>\n",
       "      <td>NaN</td>\n",
       "      <td>Unknown</td>\n",
       "    </tr>\n",
       "    <tr>\n",
       "      <th>16712</th>\n",
       "      <td>Haitaka no Psychedelica</td>\n",
       "      <td>PSV</td>\n",
       "      <td>2016</td>\n",
       "      <td>Adventure</td>\n",
       "      <td>0.00</td>\n",
       "      <td>0.00</td>\n",
       "      <td>0.01</td>\n",
       "      <td>0.00</td>\n",
       "      <td>NaN</td>\n",
       "      <td>NaN</td>\n",
       "      <td>Unknown</td>\n",
       "    </tr>\n",
       "    <tr>\n",
       "      <th>16713</th>\n",
       "      <td>Spirits &amp; Spells</td>\n",
       "      <td>GBA</td>\n",
       "      <td>2003</td>\n",
       "      <td>Platform</td>\n",
       "      <td>0.01</td>\n",
       "      <td>0.00</td>\n",
       "      <td>0.00</td>\n",
       "      <td>0.00</td>\n",
       "      <td>NaN</td>\n",
       "      <td>NaN</td>\n",
       "      <td>Unknown</td>\n",
       "    </tr>\n",
       "    <tr>\n",
       "      <th>16714</th>\n",
       "      <td>Winning Post 8 2016</td>\n",
       "      <td>PSV</td>\n",
       "      <td>2016</td>\n",
       "      <td>Simulation</td>\n",
       "      <td>0.00</td>\n",
       "      <td>0.00</td>\n",
       "      <td>0.01</td>\n",
       "      <td>0.00</td>\n",
       "      <td>NaN</td>\n",
       "      <td>NaN</td>\n",
       "      <td>Unknown</td>\n",
       "    </tr>\n",
       "  </tbody>\n",
       "</table>\n",
       "<p>16444 rows × 11 columns</p>\n",
       "</div>"
      ],
      "text/plain": [
       "                                name platform  year_of_release         genre  \\\n",
       "0                         Wii Sports      Wii             2006        Sports   \n",
       "1                  Super Mario Bros.      NES             1985      Platform   \n",
       "2                     Mario Kart Wii      Wii             2008        Racing   \n",
       "3                  Wii Sports Resort      Wii             2009        Sports   \n",
       "4           Pokemon Red/Pokemon Blue       GB             1996  Role-Playing   \n",
       "...                              ...      ...              ...           ...   \n",
       "16710  Samurai Warriors: Sanada Maru      PS3             2016        Action   \n",
       "16711               LMA Manager 2007     X360             2006        Sports   \n",
       "16712        Haitaka no Psychedelica      PSV             2016     Adventure   \n",
       "16713               Spirits & Spells      GBA             2003      Platform   \n",
       "16714            Winning Post 8 2016      PSV             2016    Simulation   \n",
       "\n",
       "       na_sales  eu_sales  jp_sales  other_sales  critic_score  user_score  \\\n",
       "0         41.36     28.96      3.77         8.45          76.0         8.0   \n",
       "1         29.08      3.58      6.81         0.77           NaN         NaN   \n",
       "2         15.68     12.76      3.79         3.29          82.0         8.3   \n",
       "3         15.61     10.93      3.28         2.95          80.0         8.0   \n",
       "4         11.27      8.89     10.22         1.00           NaN         NaN   \n",
       "...         ...       ...       ...          ...           ...         ...   \n",
       "16710      0.00      0.00      0.01         0.00           NaN         NaN   \n",
       "16711      0.00      0.01      0.00         0.00           NaN         NaN   \n",
       "16712      0.00      0.00      0.01         0.00           NaN         NaN   \n",
       "16713      0.01      0.00      0.00         0.00           NaN         NaN   \n",
       "16714      0.00      0.00      0.01         0.00           NaN         NaN   \n",
       "\n",
       "        rating  \n",
       "0            E  \n",
       "1      Unknown  \n",
       "2            E  \n",
       "3            E  \n",
       "4      Unknown  \n",
       "...        ...  \n",
       "16710  Unknown  \n",
       "16711  Unknown  \n",
       "16712  Unknown  \n",
       "16713  Unknown  \n",
       "16714  Unknown  \n",
       "\n",
       "[16444 rows x 11 columns]"
      ]
     },
     "metadata": {},
     "output_type": "display_data"
    }
   ],
   "source": [
    "games['user_score'] = pd.to_numeric(games['user_score'], errors='coerce')\n",
    "games = games.fillna(value={'critic_score': np.nan, 'user_score': np.nan, 'rating':'Unknown'})\n",
    "display(games)\n",
    "games['user_score'] = games['user_score'].replace('tbd', np.nan)"
   ]
  },
  {
   "cell_type": "code",
   "execution_count": 9,
   "id": "32a0950a",
   "metadata": {},
   "outputs": [
    {
     "name": "stdout",
     "output_type": "stream",
     "text": [
      "<class 'pandas.core.frame.DataFrame'>\n",
      "Int64Index: 16444 entries, 0 to 16714\n",
      "Data columns (total 11 columns):\n",
      " #   Column           Non-Null Count  Dtype  \n",
      "---  ------           --------------  -----  \n",
      " 0   name             16444 non-null  object \n",
      " 1   platform         16444 non-null  object \n",
      " 2   year_of_release  16444 non-null  int64  \n",
      " 3   genre            16444 non-null  object \n",
      " 4   na_sales         16444 non-null  float64\n",
      " 5   eu_sales         16444 non-null  float64\n",
      " 6   jp_sales         16444 non-null  float64\n",
      " 7   other_sales      16444 non-null  float64\n",
      " 8   critic_score     7983 non-null   float64\n",
      " 9   user_score       7463 non-null   float64\n",
      " 10  rating           16444 non-null  object \n",
      "dtypes: float64(6), int64(1), object(4)\n",
      "memory usage: 1.5+ MB\n"
     ]
    },
    {
     "data": {
      "text/plain": [
       "name                  0\n",
       "platform              0\n",
       "year_of_release       0\n",
       "genre                 0\n",
       "na_sales              0\n",
       "eu_sales              0\n",
       "jp_sales              0\n",
       "other_sales           0\n",
       "critic_score       8461\n",
       "user_score         8981\n",
       "rating                0\n",
       "dtype: int64"
      ]
     },
     "execution_count": 9,
     "metadata": {},
     "output_type": "execute_result"
    }
   ],
   "source": [
    "games.info()\n",
    "games.isna().sum()"
   ]
  },
  {
   "cell_type": "markdown",
   "id": "6a654d8e",
   "metadata": {},
   "source": [
    "Удалим один дубликат"
   ]
  },
  {
   "cell_type": "code",
   "execution_count": 10,
   "id": "dcbb50f3",
   "metadata": {},
   "outputs": [
    {
     "name": "stdout",
     "output_type": "stream",
     "text": [
      "1\n"
     ]
    }
   ],
   "source": [
    "print(games.duplicated(['name', 'platform', 'year_of_release', 'genre']).sum()) \n",
    "games = games.drop_duplicates(['name', 'platform', 'year_of_release', 'genre'])\n"
   ]
  },
  {
   "cell_type": "markdown",
   "id": "32dbd5e9",
   "metadata": {},
   "source": [
    "\n",
    "<div class = \"alert alert-info\" style=\"border-left: 7px solid blue\">\n",
    "<b>Комментарий студента</b>\n",
    "    \n",
    "Теперь данные имеют соответствующий тип. Были удалены пропуски, влияющие на конечный результат. Значения NaN были изменены на Unknon, так как они пригодятся в дальнейших исследованиях.    \n",
    "\n",
    "</div>\n",
    "  "
   ]
  },
  {
   "cell_type": "markdown",
   "id": "4ccb2c9e",
   "metadata": {},
   "source": [
    "<div style=\"border:solid Green 2px; padding: 40px\">\n",
    "<div class=\"alert alert-success\">\n",
    "<h2> Комментарий ревьюера_V2 <a class=\"tocSkip\"> </h2>\n",
    "\n",
    "<font color='green'><b>Все отлично! 👍:</b>  </font>\n",
    "\n",
    "Хорошо.\n",
    "    \n",
    "</div>"
   ]
  },
  {
   "cell_type": "markdown",
   "id": "e89b0ab2",
   "metadata": {},
   "source": [
    "<div style=\"border:solid Green 2px; padding: 40px\">\n",
    "<div class=\"alert alert-success\">\n",
    "<h2> Комментарий ревьюера <a class=\"tocSkip\"> </h2>\n",
    "\n",
    "<font color='green'><b>Все отлично! 👍:</b>  </font>\n",
    "    \n",
    "Верно. Метод to_numeric с помощью передачи аргумента errors=coerce позволит обойти значения tbd и автоматически заменит это недопустимое значение на значение NaN. В таком случае не понадобится выполнять дополнительные преобразования, чтобы изменение типа работало правильно.\n",
    "    \n",
    "Оставить пропуски в данных critic_score и user_score - верное решение. Так ты исключаешь вероятность включить в анализ нереальные данные. Главное не забывать их исключать на стадии проверки гипотез.    \n",
    "\n",
    "</div>"
   ]
  },
  {
   "cell_type": "markdown",
   "id": "3d3bf24e",
   "metadata": {},
   "source": [
    "<br/>\n",
    "<div style=\"border:solid Red 2px; padding: 40px\">\n",
    "    <div class=\"alert alert-block alert-danger\">\n",
    "<h2> Комментарий ревьюера <a class=\"tocSkip\"></h2>\n",
    "\n",
    "    \n",
    "<b>На доработку ❌:</b> \n",
    "    \n",
    "Нет обработки пропусков в колонках name и genre. Что будешь с ними делать?\n",
    "    \n",
    "Опиши причины, которые могли привести к пропускам. \n",
    "    \n",
    "</div>\n",
    "        "
   ]
  },
  {
   "cell_type": "markdown",
   "id": "146b5c7a",
   "metadata": {},
   "source": [
    "<div class = \"alert alert-info\" style=\"border-left: 7px solid blue\">\n",
    "<b>Комментарий студента</b>\n",
    "    \n",
    "Все обработал\n",
    "\n",
    "</div>\n"
   ]
  },
  {
   "cell_type": "markdown",
   "id": "8631462f",
   "metadata": {},
   "source": [
    "<div style=\"border:solid Green 2px; padding: 40px\">\n",
    "<div class=\"alert alert-success\">\n",
    "<h2> Комментарий ревьюера_V2 <a class=\"tocSkip\"> </h2>\n",
    "\n",
    "<font color='green'><b>Все отлично! 👍:</b>  </font>\n",
    "\n",
    "Молодец.\n",
    "    \n",
    "</div>"
   ]
  },
  {
   "cell_type": "code",
   "execution_count": 11,
   "id": "5bda6d6c",
   "metadata": {
    "scrolled": false
   },
   "outputs": [
    {
     "data": {
      "text/html": [
       "<div>\n",
       "<style scoped>\n",
       "    .dataframe tbody tr th:only-of-type {\n",
       "        vertical-align: middle;\n",
       "    }\n",
       "\n",
       "    .dataframe tbody tr th {\n",
       "        vertical-align: top;\n",
       "    }\n",
       "\n",
       "    .dataframe thead th {\n",
       "        text-align: right;\n",
       "    }\n",
       "</style>\n",
       "<table border=\"1\" class=\"dataframe\">\n",
       "  <thead>\n",
       "    <tr style=\"text-align: right;\">\n",
       "      <th></th>\n",
       "      <th>name</th>\n",
       "      <th>platform</th>\n",
       "      <th>year_of_release</th>\n",
       "      <th>genre</th>\n",
       "      <th>na_sales</th>\n",
       "      <th>eu_sales</th>\n",
       "      <th>jp_sales</th>\n",
       "      <th>other_sales</th>\n",
       "      <th>critic_score</th>\n",
       "      <th>user_score</th>\n",
       "      <th>rating</th>\n",
       "      <th>sum_sales</th>\n",
       "    </tr>\n",
       "  </thead>\n",
       "  <tbody>\n",
       "    <tr>\n",
       "      <th>0</th>\n",
       "      <td>Wii Sports</td>\n",
       "      <td>Wii</td>\n",
       "      <td>2006</td>\n",
       "      <td>Sports</td>\n",
       "      <td>41.36</td>\n",
       "      <td>28.96</td>\n",
       "      <td>3.77</td>\n",
       "      <td>8.45</td>\n",
       "      <td>76.0</td>\n",
       "      <td>8.0</td>\n",
       "      <td>E</td>\n",
       "      <td>82.54</td>\n",
       "    </tr>\n",
       "    <tr>\n",
       "      <th>1</th>\n",
       "      <td>Super Mario Bros.</td>\n",
       "      <td>NES</td>\n",
       "      <td>1985</td>\n",
       "      <td>Platform</td>\n",
       "      <td>29.08</td>\n",
       "      <td>3.58</td>\n",
       "      <td>6.81</td>\n",
       "      <td>0.77</td>\n",
       "      <td>NaN</td>\n",
       "      <td>NaN</td>\n",
       "      <td>Unknown</td>\n",
       "      <td>40.24</td>\n",
       "    </tr>\n",
       "    <tr>\n",
       "      <th>2</th>\n",
       "      <td>Mario Kart Wii</td>\n",
       "      <td>Wii</td>\n",
       "      <td>2008</td>\n",
       "      <td>Racing</td>\n",
       "      <td>15.68</td>\n",
       "      <td>12.76</td>\n",
       "      <td>3.79</td>\n",
       "      <td>3.29</td>\n",
       "      <td>82.0</td>\n",
       "      <td>8.3</td>\n",
       "      <td>E</td>\n",
       "      <td>35.52</td>\n",
       "    </tr>\n",
       "    <tr>\n",
       "      <th>3</th>\n",
       "      <td>Wii Sports Resort</td>\n",
       "      <td>Wii</td>\n",
       "      <td>2009</td>\n",
       "      <td>Sports</td>\n",
       "      <td>15.61</td>\n",
       "      <td>10.93</td>\n",
       "      <td>3.28</td>\n",
       "      <td>2.95</td>\n",
       "      <td>80.0</td>\n",
       "      <td>8.0</td>\n",
       "      <td>E</td>\n",
       "      <td>32.77</td>\n",
       "    </tr>\n",
       "    <tr>\n",
       "      <th>4</th>\n",
       "      <td>Pokemon Red/Pokemon Blue</td>\n",
       "      <td>GB</td>\n",
       "      <td>1996</td>\n",
       "      <td>Role-Playing</td>\n",
       "      <td>11.27</td>\n",
       "      <td>8.89</td>\n",
       "      <td>10.22</td>\n",
       "      <td>1.00</td>\n",
       "      <td>NaN</td>\n",
       "      <td>NaN</td>\n",
       "      <td>Unknown</td>\n",
       "      <td>31.38</td>\n",
       "    </tr>\n",
       "    <tr>\n",
       "      <th>...</th>\n",
       "      <td>...</td>\n",
       "      <td>...</td>\n",
       "      <td>...</td>\n",
       "      <td>...</td>\n",
       "      <td>...</td>\n",
       "      <td>...</td>\n",
       "      <td>...</td>\n",
       "      <td>...</td>\n",
       "      <td>...</td>\n",
       "      <td>...</td>\n",
       "      <td>...</td>\n",
       "      <td>...</td>\n",
       "    </tr>\n",
       "    <tr>\n",
       "      <th>16710</th>\n",
       "      <td>Samurai Warriors: Sanada Maru</td>\n",
       "      <td>PS3</td>\n",
       "      <td>2016</td>\n",
       "      <td>Action</td>\n",
       "      <td>0.00</td>\n",
       "      <td>0.00</td>\n",
       "      <td>0.01</td>\n",
       "      <td>0.00</td>\n",
       "      <td>NaN</td>\n",
       "      <td>NaN</td>\n",
       "      <td>Unknown</td>\n",
       "      <td>0.01</td>\n",
       "    </tr>\n",
       "    <tr>\n",
       "      <th>16711</th>\n",
       "      <td>LMA Manager 2007</td>\n",
       "      <td>X360</td>\n",
       "      <td>2006</td>\n",
       "      <td>Sports</td>\n",
       "      <td>0.00</td>\n",
       "      <td>0.01</td>\n",
       "      <td>0.00</td>\n",
       "      <td>0.00</td>\n",
       "      <td>NaN</td>\n",
       "      <td>NaN</td>\n",
       "      <td>Unknown</td>\n",
       "      <td>0.01</td>\n",
       "    </tr>\n",
       "    <tr>\n",
       "      <th>16712</th>\n",
       "      <td>Haitaka no Psychedelica</td>\n",
       "      <td>PSV</td>\n",
       "      <td>2016</td>\n",
       "      <td>Adventure</td>\n",
       "      <td>0.00</td>\n",
       "      <td>0.00</td>\n",
       "      <td>0.01</td>\n",
       "      <td>0.00</td>\n",
       "      <td>NaN</td>\n",
       "      <td>NaN</td>\n",
       "      <td>Unknown</td>\n",
       "      <td>0.01</td>\n",
       "    </tr>\n",
       "    <tr>\n",
       "      <th>16713</th>\n",
       "      <td>Spirits &amp; Spells</td>\n",
       "      <td>GBA</td>\n",
       "      <td>2003</td>\n",
       "      <td>Platform</td>\n",
       "      <td>0.01</td>\n",
       "      <td>0.00</td>\n",
       "      <td>0.00</td>\n",
       "      <td>0.00</td>\n",
       "      <td>NaN</td>\n",
       "      <td>NaN</td>\n",
       "      <td>Unknown</td>\n",
       "      <td>0.01</td>\n",
       "    </tr>\n",
       "    <tr>\n",
       "      <th>16714</th>\n",
       "      <td>Winning Post 8 2016</td>\n",
       "      <td>PSV</td>\n",
       "      <td>2016</td>\n",
       "      <td>Simulation</td>\n",
       "      <td>0.00</td>\n",
       "      <td>0.00</td>\n",
       "      <td>0.01</td>\n",
       "      <td>0.00</td>\n",
       "      <td>NaN</td>\n",
       "      <td>NaN</td>\n",
       "      <td>Unknown</td>\n",
       "      <td>0.01</td>\n",
       "    </tr>\n",
       "  </tbody>\n",
       "</table>\n",
       "<p>16443 rows × 12 columns</p>\n",
       "</div>"
      ],
      "text/plain": [
       "                                name platform  year_of_release         genre  \\\n",
       "0                         Wii Sports      Wii             2006        Sports   \n",
       "1                  Super Mario Bros.      NES             1985      Platform   \n",
       "2                     Mario Kart Wii      Wii             2008        Racing   \n",
       "3                  Wii Sports Resort      Wii             2009        Sports   \n",
       "4           Pokemon Red/Pokemon Blue       GB             1996  Role-Playing   \n",
       "...                              ...      ...              ...           ...   \n",
       "16710  Samurai Warriors: Sanada Maru      PS3             2016        Action   \n",
       "16711               LMA Manager 2007     X360             2006        Sports   \n",
       "16712        Haitaka no Psychedelica      PSV             2016     Adventure   \n",
       "16713               Spirits & Spells      GBA             2003      Platform   \n",
       "16714            Winning Post 8 2016      PSV             2016    Simulation   \n",
       "\n",
       "       na_sales  eu_sales  jp_sales  other_sales  critic_score  user_score  \\\n",
       "0         41.36     28.96      3.77         8.45          76.0         8.0   \n",
       "1         29.08      3.58      6.81         0.77           NaN         NaN   \n",
       "2         15.68     12.76      3.79         3.29          82.0         8.3   \n",
       "3         15.61     10.93      3.28         2.95          80.0         8.0   \n",
       "4         11.27      8.89     10.22         1.00           NaN         NaN   \n",
       "...         ...       ...       ...          ...           ...         ...   \n",
       "16710      0.00      0.00      0.01         0.00           NaN         NaN   \n",
       "16711      0.00      0.01      0.00         0.00           NaN         NaN   \n",
       "16712      0.00      0.00      0.01         0.00           NaN         NaN   \n",
       "16713      0.01      0.00      0.00         0.00           NaN         NaN   \n",
       "16714      0.00      0.00      0.01         0.00           NaN         NaN   \n",
       "\n",
       "        rating  sum_sales  \n",
       "0            E      82.54  \n",
       "1      Unknown      40.24  \n",
       "2            E      35.52  \n",
       "3            E      32.77  \n",
       "4      Unknown      31.38  \n",
       "...        ...        ...  \n",
       "16710  Unknown       0.01  \n",
       "16711  Unknown       0.01  \n",
       "16712  Unknown       0.01  \n",
       "16713  Unknown       0.01  \n",
       "16714  Unknown       0.01  \n",
       "\n",
       "[16443 rows x 12 columns]"
      ]
     },
     "metadata": {},
     "output_type": "display_data"
    }
   ],
   "source": [
    "games['sum_sales'] = games['na_sales'] + games['eu_sales'] + games['jp_sales'] + games['other_sales']\n",
    "display(games)"
   ]
  },
  {
   "cell_type": "markdown",
   "id": "4f2881e9",
   "metadata": {},
   "source": [
    "<div style=\"border:solid Green 2px; padding: 40px\">\n",
    "<div class=\"alert alert-success\">\n",
    "<h2> Комментарий ревьюера <a class=\"tocSkip\"> </h2>\n",
    "\n",
    "<font color='green'><b>Все отлично! 👍:</b>  </font> \n",
    "    \n",
    "Для вычисления суммарных продаж можно еще использовать метод sum с аргументом axis.\n",
    "    \n",
    "    \n",
    "</div>"
   ]
  },
  {
   "cell_type": "markdown",
   "id": "03a7d659",
   "metadata": {},
   "source": [
    "Были изменены типы в столбцах года релиза и рейтинга пользователей. Значения года NaN были изменены на 0, затем все значения были приведены к типу int, при необходимости сравнения значений из этого столбца не будем учитывать нули. Аббревиатура tbd означает, что рейтинг еще не определен, так что можно заменить его на рейтинг критиков с нормировкой, где это возможно, а остальное заменить на NaN и не учитывать в сравнении, но использовать ячейки из других столбцов при необходимости. \n",
    "Пока что удалять пропуски нет необходимости, так как они присутствуют лишь в рейтинге критиков и пользователей, а в других стобцах могут быть нужные нам значения."
   ]
  },
  {
   "cell_type": "markdown",
   "id": "88b3cc34",
   "metadata": {},
   "source": [
    "<div style=\"border:solid Orange 2px; padding: 40px\">\n",
    "<div class=\"alert alert-warning\">\n",
    "    <h2> Комментарий ревьюера <a class=\"tocSkip\"> </h2>\n",
    "    \n",
    "<font color='Orange'><b>Некоторые рекомендации 💡:</b> </font>\n",
    "        \n",
    "Как ты думаешь, что будет, если попробовать заменить пропуски в столбце rating на значение Unknown?\n",
    "        \n",
    "</div>\n",
    "    \n",
    "<div class = \"alert alert-info\" style=\"border-left: 7px solid blue\">\n",
    "<b>Комментарий студента</b>\n",
    "    \n",
    "Так и сделал. Я думаю, в построениях диаграмм будет полезно увидеть, сколько значений нам неизвестно. Если значений Unknown будет слишком много, это повод задуматься, корректно ли мы делаем выводы. \n",
    "\n",
    "</div>\n"
   ]
  },
  {
   "cell_type": "markdown",
   "id": "6603a8e1",
   "metadata": {},
   "source": [
    "<div style=\"border:solid Green 2px; padding: 40px\">\n",
    "<div class=\"alert alert-success\">\n",
    "<h2> Комментарий ревьюера_V2 <a class=\"tocSkip\"> </h2>\n",
    "\n",
    "<font color='green'><b>Все отлично! 👍:</b>  </font>\n",
    "\n",
    "Верно.\n",
    "    \n",
    "</div>"
   ]
  },
  {
   "cell_type": "markdown",
   "id": "0ede5f16",
   "metadata": {},
   "source": [
    "# 3. Исследовательский анализ данных "
   ]
  },
  {
   "cell_type": "markdown",
   "id": "c55da3b7",
   "metadata": {},
   "source": [
    "\n",
    "* #### Посмотрите, сколько игр выпускалось в разные годы. Важны ли данные за все периоды?"
   ]
  },
  {
   "cell_type": "code",
   "execution_count": 12,
   "id": "0fa62695",
   "metadata": {
    "scrolled": true
   },
   "outputs": [
    {
     "name": "stdout",
     "output_type": "stream",
     "text": [
      "year_of_release\n",
      "1980      8\n",
      "1981     43\n",
      "1982     33\n",
      "1983     16\n",
      "1984     13\n",
      "1985     13\n",
      "1986     21\n",
      "1987     15\n",
      "1988     11\n",
      "1989     14\n",
      "1990     14\n",
      "1991     40\n",
      "1992     37\n",
      "1993     58\n",
      "1994    112\n",
      "1995    200\n",
      "1996    247\n",
      "1997    268\n",
      "1998    347\n",
      "1999    293\n",
      "2000    300\n",
      "2001    410\n",
      "2002    573\n",
      "2003    491\n",
      "2004    521\n",
      "2005    617\n",
      "2006    729\n",
      "2007    838\n",
      "2008    987\n",
      "2009    957\n",
      "2010    862\n",
      "2011    750\n",
      "2012    406\n",
      "2013    293\n",
      "2014    279\n",
      "2015    331\n",
      "2016    279\n",
      "Name: year_of_release, dtype: int64\n"
     ]
    }
   ],
   "source": [
    "unique_games = games.drop_duplicates(['name'])\n",
    "years = unique_games.groupby('year_of_release')['year_of_release'].agg('count')\n",
    "print(years)\n"
   ]
  },
  {
   "cell_type": "markdown",
   "id": "b4a22764",
   "metadata": {},
   "source": [
    "<div style=\"border:solid Orange 2px; padding: 40px\">\n",
    "<div class=\"alert alert-warning\">\n",
    "    <h2> Комментарий ревьюера <a class=\"tocSkip\"> </h2>\n",
    "    \n",
    "<font color='Orange'><b>Некоторые рекомендации 💡:</b> </font>\n",
    "        \n",
    "Можно еще число уникальных игр посмотреть. Это, наверное, точнее будет отвечать на вопрос.\n",
    "        \n",
    "Нулевой год остался в анализе.        \n",
    "        \n",
    "</div>\n",
    "    \n",
    "<div class = \"alert alert-info\" style=\"border-left: 7px solid blue\">\n",
    "<b>Комментарий студента</b>\n",
    "    \n",
    "Если я правильно понял, то так должно быть\n",
    "\n",
    "</div>\n",
    "    "
   ]
  },
  {
   "cell_type": "markdown",
   "id": "204b0f81",
   "metadata": {},
   "source": [
    "<div style=\"border:solid Green 2px; padding: 40px\">\n",
    "<div class=\"alert alert-success\">\n",
    "<h2> Комментарий ревьюера_V2 <a class=\"tocSkip\"> </h2>\n",
    "\n",
    "<font color='green'><b>Все отлично! 👍:</b>  </font>\n",
    "\n",
    "Хорошо.\n",
    "    \n",
    "</div>"
   ]
  },
  {
   "cell_type": "markdown",
   "id": "7919e3c0",
   "metadata": {},
   "source": [
    "Более весомое количество игр стало выпускаться с 2000 года, в период с 2006 по 2011 год был пик выпуска игр. "
   ]
  },
  {
   "cell_type": "markdown",
   "id": "32e3f229",
   "metadata": {},
   "source": [
    "* #### Посмотрите, как менялись продажи по платформам. Выберите платформы с наибольшими суммарными продажами и постройте распределение по годам. За какой характерный срок появляются новые и исчезают старые платформы?\n"
   ]
  },
  {
   "cell_type": "code",
   "execution_count": 13,
   "id": "795745b9",
   "metadata": {},
   "outputs": [
    {
     "name": "stdout",
     "output_type": "stream",
     "text": [
      "  platform      sum\n",
      "0      PS2  1233.56\n",
      "1     X360   961.24\n",
      "2      PS3   931.33\n",
      "3      Wii   891.18\n",
      "4       DS   802.78\n",
      "5       PS   727.58\n",
      "6      PS4   314.14\n",
      "7      GBA   312.88\n",
      "8      PSP   289.53\n",
      "9      3DS   257.81\n",
      "0     PS2\n",
      "1    X360\n",
      "2     PS3\n",
      "3     Wii\n",
      "4      DS\n",
      "5      PS\n",
      "6     PS4\n",
      "7     GBA\n",
      "8     PSP\n",
      "9     3DS\n",
      "Name: platform, dtype: object\n"
     ]
    }
   ],
   "source": [
    "platforms = games.groupby('platform')['sum_sales'].agg(['sum']).sort_values(by='sum', ascending=False).reset_index()\n",
    "platforms_top = platforms.head(10)\n",
    "print(platforms_top)\n",
    "print(platforms_top['platform'])"
   ]
  },
  {
   "cell_type": "code",
   "execution_count": 14,
   "id": "f878e948",
   "metadata": {
    "scrolled": false
   },
   "outputs": [
    {
     "data": {
      "image/png": "[encoded data removed]",
      "text/plain": [
       "<Figure size 720x432 with 1 Axes>"
      ]
     },
     "metadata": {
      "needs_background": "light"
     },
     "output_type": "display_data"
    },
    {
     "data": {
      "image/png": "[encoded data removed]",
      "text/plain": [
       "<Figure size 720x432 with 1 Axes>"
      ]
     },
     "metadata": {
      "needs_background": "light"
     },
     "output_type": "display_data"
    },
    {
     "data": {
      "image/png": "[encoded data removed]",
      "text/plain": [
       "<Figure size 720x432 with 1 Axes>"
      ]
     },
     "metadata": {
      "needs_background": "light"
     },
     "output_type": "display_data"
    },
    {
     "data": {
      "image/png": "[encoded data removed]",
      "text/plain": [
       "<Figure size 720x432 with 1 Axes>"
      ]
     },
     "metadata": {
      "needs_background": "light"
     },
     "output_type": "display_data"
    },
    {
     "data": {
      "image/png": "[encoded data removed]",
      "text/plain": [
       "<Figure size 720x432 with 1 Axes>"
      ]
     },
     "metadata": {
      "needs_background": "light"
     },
     "output_type": "display_data"
    },
    {
     "data": {
      "image/png": "[encoded data removed]",
      "text/plain": [
       "<Figure size 720x432 with 1 Axes>"
      ]
     },
     "metadata": {
      "needs_background": "light"
     },
     "output_type": "display_data"
    },
    {
     "data": {
      "image/png": "[encoded data removed]",
      "text/plain": [
       "<Figure size 720x432 with 1 Axes>"
      ]
     },
     "metadata": {
      "needs_background": "light"
     },
     "output_type": "display_data"
    },
    {
     "data": {
      "image/png": "[encoded data removed]",
      "text/plain": [
       "<Figure size 720x432 with 1 Axes>"
      ]
     },
     "metadata": {
      "needs_background": "light"
     },
     "output_type": "display_data"
    },
    {
     "data": {
      "image/png": "[encoded data removed]",
      "text/plain": [
       "<Figure size 720x432 with 1 Axes>"
      ]
     },
     "metadata": {
      "needs_background": "light"
     },
     "output_type": "display_data"
    },
    {
     "data": {
      "image/png": "[encoded data removed]",
      "text/plain": [
       "<Figure size 720x432 with 1 Axes>"
      ]
     },
     "metadata": {
      "needs_background": "light"
     },
     "output_type": "display_data"
    }
   ],
   "source": [
    "for item in platforms_top['platform'].unique(): \n",
    "    data = games.query('platform == @item & year_of_release > 2000 ')\n",
    "    data = data.groupby('year_of_release')['sum_sales'].agg(['sum']).reset_index()\n",
    "    \n",
    "    plt.figure(figsize = (10,6))\n",
    "    ax = sns.barplot(data=data, x='year_of_release', y ='sum', color='green')\n",
    "    ax.set_title(item)\n",
    "    plt.show(ax)"
   ]
  },
  {
   "cell_type": "markdown",
   "id": "ec94717d",
   "metadata": {},
   "source": [
    "Глядя на диагараммы, можно увидеть, что на многие платформы спрос прошел, на некоторые - начал расти. \n",
    "* Например платформа `PS2` была наиболее популярна с 2001 по 2006. С 2007 по 2011 продажи пошли на спад \n",
    "* Платформа `X360` была популярна с 2007 по 2013 г., 6 лет, затем с 2014 по 2016 прибыль этой платформы снижалась. \n",
    "* На `PS4` можно увидеть активный рост выпуска игр с 2013 по 2015 г. (за 2016 прибыль стала меньше, но все равно осталась высокой) - это показатель того, что такой промежуток нам пригодится для прогноза на 2017 год.\n",
    "* `PS3` была популярна с 2007 по 2013, с 2014 года ее популярность стала снижаться. \n",
    "* Платформы `Wii` и `DS` стали терять свою популярность с 2011 г. Пики их популярности были (2006 - 2010) и (2005 - 2010) соответсвенно. \n",
    "* Что касается `PC`, то тут все неоднозначно, пики популярности платформы наблюдались с 2001 по 2005 г. и с 2010 по 2012, после 2014 года продажи снижаются, но нельзя сказать, что платформа устарела. \n",
    "\n",
    "\n",
    "Анализируя спрос на платформы, можно сделать вывод, что характерное время спроса на платформы составляет от 4-6 лет для большинства платформ. Многие платформы переставали пользоваться спросом, начиная с 2011 года. Можем Рассматривать этот промежуток времени для прогноза на 2017 год. "
   ]
  },
  {
   "cell_type": "markdown",
   "id": "50347044",
   "metadata": {},
   "source": [
    "<div style=\"border:solid Green 2px; padding: 40px\">\n",
    "<div class=\"alert alert-success\">\n",
    "<h2> Комментарий ревьюера <a class=\"tocSkip\"> </h2>\n",
    "\n",
    "<font color='green'><b>Все отлично! 👍:</b>  </font>\n",
    "    \n",
    "Молодец. Хороший анализ.\n",
    "    \n",
    "</div>"
   ]
  },
  {
   "cell_type": "markdown",
   "id": "374e23dc",
   "metadata": {},
   "source": [
    "* #### Возьмите данные за соответствующий актуальный период. Актуальный период определите самостоятельно в результате исследования предыдущих вопросов. Основной фактор — эти данные помогут построить прогноз на 2017 год."
   ]
  },
  {
   "cell_type": "code",
   "execution_count": 15,
   "id": "f633b60f",
   "metadata": {
    "scrolled": true
   },
   "outputs": [
    {
     "name": "stdout",
     "output_type": "stream",
     "text": [
      "  platform  sum_sales\n",
      "0      PS4     314.14\n",
      "1      PS3     288.78\n",
      "2     X360     236.54\n",
      "3      3DS     194.61\n",
      "4     XOne     159.32\n",
      "5     WiiU      82.19\n"
     ]
    }
   ],
   "source": [
    "data = games.query('year_of_release > 2011')\n",
    "platforms = data.groupby('platform')['sum_sales'].agg('sum').sort_values(ascending=False).reset_index().head(6)\n",
    "print(platforms)"
   ]
  },
  {
   "cell_type": "markdown",
   "id": "94576e6a",
   "metadata": {},
   "source": [
    "<br/>\n",
    "<div style=\"border:solid Red 2px; padding: 40px\">\n",
    "    <div class=\"alert alert-block alert-danger\">\n",
    "<h2> Комментарий ревьюера <a class=\"tocSkip\"></h2>\n",
    "\n",
    "    \n",
    "<b>На доработку ❌:</b> \n",
    "    \n",
    "Для целей прогнозирования продаж на следующий год даже в традиционных бизнесах редко берут данные более чем за 2-3 года. А в такой динамично меняющейся индустрии, как компьютерные игры и вовсе не стоит брать слишком большой временной интервал - иначе обязательно захватишь уже отжившие тренды. А оставляя 2011 год, это и происходит, т.к. в 2011г. есть еще старые пиковые данные для \"мертвых\" платформ, а это \"шум\", дающий искажение. Я бы сказала, что максимально допустимый период - 5 лет. Но и слишком короткий период тоже брать не стоит.\n",
    "    \n",
    "</div>\n",
    "<div class = \"alert alert-info\" style=\"border-left: 7px solid blue\">\n",
    "<b>Комментарий студента</b>\n",
    "    \n",
    "Поменял на 2011\n",
    "\n",
    "</div>"
   ]
  },
  {
   "cell_type": "markdown",
   "id": "cc54d465",
   "metadata": {},
   "source": [
    "<div style=\"border:solid Green 2px; padding: 40px\">\n",
    "<div class=\"alert alert-success\">\n",
    "<h2> Комментарий ревьюера_V2 <a class=\"tocSkip\"> </h2>\n",
    "\n",
    "<font color='green'><b>Все отлично! 👍:</b>  </font>\n",
    "\n",
    "👍\n",
    "    \n",
    "</div>"
   ]
  },
  {
   "cell_type": "code",
   "execution_count": 16,
   "id": "1caa3965",
   "metadata": {},
   "outputs": [
    {
     "data": {
      "image/png": "[encoded data removed]",
      "text/plain": [
       "<Figure size 576x288 with 1 Axes>"
      ]
     },
     "metadata": {
      "needs_background": "light"
     },
     "output_type": "display_data"
    },
    {
     "data": {
      "image/png": "[encoded data removed]",
      "text/plain": [
       "<Figure size 576x288 with 1 Axes>"
      ]
     },
     "metadata": {
      "needs_background": "light"
     },
     "output_type": "display_data"
    },
    {
     "data": {
      "image/png": "[encoded data removed]",
      "text/plain": [
       "<Figure size 576x288 with 1 Axes>"
      ]
     },
     "metadata": {
      "needs_background": "light"
     },
     "output_type": "display_data"
    },
    {
     "data": {
      "image/png": "[encoded data removed]",
      "text/plain": [
       "<Figure size 576x288 with 1 Axes>"
      ]
     },
     "metadata": {
      "needs_background": "light"
     },
     "output_type": "display_data"
    },
    {
     "data": {
      "image/png": "[encoded data removed]",
      "text/plain": [
       "<Figure size 576x288 with 1 Axes>"
      ]
     },
     "metadata": {
      "needs_background": "light"
     },
     "output_type": "display_data"
    },
    {
     "data": {
      "image/png": "[encoded data removed]",
      "text/plain": [
       "<Figure size 576x288 with 1 Axes>"
      ]
     },
     "metadata": {
      "needs_background": "light"
     },
     "output_type": "display_data"
    }
   ],
   "source": [
    "for item in platforms['platform'].unique(): \n",
    "    data_item = data.query('platform == @item')\n",
    "    data_item = data_item.groupby('year_of_release')['sum_sales'].agg(['sum']).reset_index()\n",
    "    \n",
    "    plt.figure(figsize = (8,4))\n",
    "    ax = sns.barplot(data=data_item, x='year_of_release', y ='sum', color='blue')\n",
    "    ax.set_title(item)\n",
    "    plt.show(ax)"
   ]
  },
  {
   "cell_type": "markdown",
   "id": "51d5528a",
   "metadata": {},
   "source": [
    "Было выбрано 6 лидеров по продажам в период [2012г, 2016г]\n",
    "* Платформы PS3 и X360 демонстрируют стремительный спад продаж\n",
    "* PS4, XOne, WiiU, 3DS имеют похожее распределение по продажам\n",
    "\n",
    "Учитывая то, что инмормация за 2016 год может быть неполной, можно предположить, PS4, XOne, WiiU, 3DS - наиболее активно используемые платформы на период с 2012 по 2016 г. "
   ]
  },
  {
   "cell_type": "markdown",
   "id": "d1d8bde2",
   "metadata": {},
   "source": [
    "<div style=\"border:solid Orange 2px; padding: 40px\">\n",
    "<div class=\"alert alert-warning\">\n",
    "    <h2> Комментарий ревьюера <a class=\"tocSkip\"> </h2>\n",
    "    \n",
    "<font color='Orange'><b>Некоторые рекомендации 💡:</b> </font>\n",
    "\n",
    "В целом логика анализа в твоем решении верная. Согласна с выводами по лидерам. В условиях задачи была информация, что данные продаж за 2016 год могут быть неполными. Принимая во внимание это условие, можно ли и дальше утверждать, что все платформы в списке демонстрируют отрицательную динамику продаж?\n",
    "        \n",
    "</div>\n",
    "    \n",
    "<div class = \"alert alert-info\" style=\"border-left: 7px solid blue\">\n",
    "<b>Комментарий студента</b>\n",
    "    \n",
    "Изменил выводы\n",
    "\n",
    "</div>"
   ]
  },
  {
   "cell_type": "markdown",
   "id": "52628211",
   "metadata": {},
   "source": [
    "<div style=\"border:solid Green 2px; padding: 40px\">\n",
    "<div class=\"alert alert-success\">\n",
    "<h2> Комментарий ревьюера_V2 <a class=\"tocSkip\"> </h2>\n",
    "\n",
    "<font color='green'><b>Все отлично! 👍:</b>  </font>\n",
    "\n",
    "Отлично.\n",
    "    \n",
    "</div>"
   ]
  },
  {
   "cell_type": "markdown",
   "id": "aa0bfd53",
   "metadata": {},
   "source": [
    "* #### Постройте график «ящик с усами» по глобальным продажам игр в разбивке по платформам. Опишите результат."
   ]
  },
  {
   "cell_type": "code",
   "execution_count": 17,
   "id": "6914ff06",
   "metadata": {
    "scrolled": false
   },
   "outputs": [],
   "source": [
    "# for item in platforms['platform'].unique(): \n",
    "#     data_item = data.query('platform == @item')\n",
    "    \n",
    "#     ax = data_item.boxplot(column='sum_sales', vert=False, figsize=(25, 4))\n",
    "#     ax.set_title(item)\n",
    "#     ax.xaxis.set_major_locator(ticker.MultipleLocator(0.5))\n",
    "#     plt.show()\n",
    "    \n",
    "#     print(item ,data_item['sum_sales'].describe(), sep='\\n')"
   ]
  },
  {
   "cell_type": "code",
   "execution_count": 18,
   "id": "fd391e04",
   "metadata": {},
   "outputs": [
    {
     "data": {
      "image/png": "[encoded data removed]",
      "text/plain": [
       "<Figure size 1440x792 with 1 Axes>"
      ]
     },
     "metadata": {
      "needs_background": "light"
     },
     "output_type": "display_data"
    }
   ],
   "source": [
    "data_actual = data.query('platform in [\"PS4\", \"PS3\", \"X360\", \"3DS\", \"XOne\", \"WiiU\"]')\n",
    "plt.rcParams.update({'font.size': 13})\n",
    "ax = data_actual.boxplot(by='platform', column='sum_sales', vert=False, figsize=(20, 11))\n",
    "ax.set_title('Продажи по платформам')\n",
    "ax.xaxis.set_major_locator(ticker.MultipleLocator(0.5))\n",
    "ax.set_xlim(0, 12)\n",
    "plt.show()"
   ]
  },
  {
   "cell_type": "markdown",
   "id": "b0f4f500",
   "metadata": {},
   "source": [
    "Анализируя boxplot у различных платформ, можем заметить:\n",
    "* В среднем прибыль каждой платформы составляет менее 0.5\n",
    "* Самый маленький межквартильный интервал (и самая маленькая медиана) у платформы `3DS`, видимо, эта платформа ориентируется на недорогие игры и их продажи больее сконцентрированы вблизи одного значения, у других платформ. \n",
    "* У платформы `X360` самый большой межквартильный интервал. Возможно, это связано с тем, что эта платформа терпит наиболее крутой спад по продажам.\n",
    "* У платформ `XOne` и `PS4` похожие графики распределения игр по продажам. Они одинаковыми темпами набирают популярность среди пользователей. \n",
    "* Все популярные платформы, не считая, `WiiU` имеют много аномальных значений, они могут помешать объективно оценивать следующие зависимости. \n",
    "\n",
    "Уберем из рассмотрения строки, в которых sum_sales > 2.5"
   ]
  },
  {
   "cell_type": "code",
   "execution_count": 19,
   "id": "2eeec458",
   "metadata": {},
   "outputs": [],
   "source": [
    "data = data.query('sum_sales < 2.5')"
   ]
  },
  {
   "cell_type": "markdown",
   "id": "1807ef53",
   "metadata": {},
   "source": [
    "* #### Посмотрите, как влияют на продажи внутри одной популярной платформы отзывы пользователей и критиков. Постройте диаграмму рассеяния и посчитайте корреляцию между отзывами и продажами. Сформулируйте выводы."
   ]
  },
  {
   "cell_type": "markdown",
   "id": "b4fe625a",
   "metadata": {},
   "source": [
    "Возьмем платформу PS3, первую по продажам и по количеству игр."
   ]
  },
  {
   "cell_type": "markdown",
   "id": "30e2d800",
   "metadata": {},
   "source": [
    "* Оценки критиков и суммарные продажи:"
   ]
  },
  {
   "cell_type": "code",
   "execution_count": 20,
   "id": "f6182363",
   "metadata": {
    "scrolled": false
   },
   "outputs": [
    {
     "data": {
      "image/png": "[encoded data removed]",
      "text/plain": [
       "<Figure size 720x360 with 2 Axes>"
      ]
     },
     "metadata": {
      "needs_background": "light"
     },
     "output_type": "display_data"
    },
    {
     "name": "stdout",
     "output_type": "stream",
     "text": [
      "Корреляция: 0.33\n"
     ]
    }
   ],
   "source": [
    "ps4 = data.query('platform == \"PS4\"')\n",
    "ax = ps4.plot(x='sum_sales', y='critic_score', kind='hexbin', sharex=False, grid=True,gridsize=25, figsize=(10,5))\n",
    "ax.set_title('Зависимость оценок критиков от продаж')\n",
    "plt.show(ax)\n",
    "print(f'Корреляция: {ps4[\"sum_sales\"].corr(ps4[\"critic_score\"]):.2f}')"
   ]
  },
  {
   "cell_type": "markdown",
   "id": "df5b9442",
   "metadata": {},
   "source": [
    "* Оценки пользователей и суммарные продажи: "
   ]
  },
  {
   "cell_type": "code",
   "execution_count": 21,
   "id": "611e427e",
   "metadata": {
    "scrolled": false
   },
   "outputs": [
    {
     "data": {
      "image/png": "[encoded data removed]",
      "text/plain": [
       "<Figure size 720x360 with 2 Axes>"
      ]
     },
     "metadata": {
      "needs_background": "light"
     },
     "output_type": "display_data"
    },
    {
     "name": "stdout",
     "output_type": "stream",
     "text": [
      "Корреляция: -0.00\n"
     ]
    }
   ],
   "source": [
    "ax = ps4.plot(x='sum_sales', y='user_score', kind='hexbin', sharex=False, grid=True,gridsize=25, figsize=(10,5))\n",
    "ax.set_title('Зависимость оценок пользователей от продаж')\n",
    "plt.show(ax)\n",
    "print(f'Корреляция: {ps4[\"sum_sales\"].corr(ps4[\"user_score\"]):.2f}')"
   ]
  },
  {
   "cell_type": "markdown",
   "id": "3f0e8420",
   "metadata": {},
   "source": [
    "<div style=\"border:solid Green 2px; padding: 40px\">\n",
    "<div class=\"alert alert-success\">\n",
    "<h2> Комментарий ревьюера <a class=\"tocSkip\"> </h2>\n",
    "\n",
    "<font color='green'><b>Все отлично! 👍:</b>  </font>\n",
    "\n",
    "Молодец. Хорошо бы в выводе кода еще подписать коэффициенты и добавить заголовки графиков.\n",
    "    \n",
    "</div>"
   ]
  },
  {
   "cell_type": "markdown",
   "id": "aed379a2",
   "metadata": {},
   "source": [
    "Глядя на эти диаграммы рассеяния, можно сделать вывод, что есть зависимость между отзывами критиков и продажами игр на платформу, коэффициент Пирсона равен 0.33, конечно, такой величины недостаточно для сильной линейной зависимости. Заметим, что рейтинг пользователей и продажи зависят намного слабее, корреляция равна 0. Можно предположить, что мнение критиков более объективное. "
   ]
  },
  {
   "cell_type": "markdown",
   "id": "1f1dbc23",
   "metadata": {},
   "source": [
    "* #### Соотнесите выводы с продажами игр на других платформах.\n"
   ]
  },
  {
   "cell_type": "markdown",
   "id": "30e98057",
   "metadata": {},
   "source": [
    "Построим график зависимости оценок критиков и пользователей от продаж других платформ.  "
   ]
  },
  {
   "cell_type": "code",
   "execution_count": 22,
   "id": "c8b3dad3",
   "metadata": {},
   "outputs": [
    {
     "data": {
      "image/png": "[encoded data removed]",
      "text/plain": [
       "<Figure size 1008x576 with 2 Axes>"
      ]
     },
     "metadata": {
      "needs_background": "light"
     },
     "output_type": "display_data"
    },
    {
     "data": {
      "image/png": "[encoded data removed]",
      "text/plain": [
       "<Figure size 1008x576 with 2 Axes>"
      ]
     },
     "metadata": {
      "needs_background": "light"
     },
     "output_type": "display_data"
    }
   ],
   "source": [
    "data1 = data.query('platform != \"PS4\"')\n",
    "ax = data1.plot(x='sum_sales', y='critic_score', kind='hexbin', sharex=False, grid=True,gridsize=25, figsize=(14,8),cmap=\"inferno\")\n",
    "plt.scatter(data=data1,x='sum_sales',y='critic_score', s=0.03, c=\"white\")\n",
    "ax.set_title(f'Зависимость оценок критиков от продаж\\n corr = {data[\"sum_sales\"].corr(data1[\"critic_score\"]):.2f}')\n",
    "\n",
    "ax1 = data1.plot(x='sum_sales', y='user_score', kind='hexbin', sharex=False, grid=True,gridsize=25, figsize=(14,8),cmap=\"inferno\")\n",
    "plt.scatter(data=data1,x='sum_sales',y='user_score', s=0.03, c=\"white\")\n",
    "ax1.set_title(f'Зависимость оценок пользователей от продаж\\n corr = {data[\"sum_sales\"].corr(data1[\"user_score\"]):.2f}')\n",
    "\n",
    "plt.show(ax, ax1)\n"
   ]
  },
  {
   "cell_type": "markdown",
   "id": "89d9c8cd",
   "metadata": {},
   "source": [
    "Можем видеть, что на остальных платформах ситуация похожа на `PS4` корреляция продаж и оценок критиков невысокая, но сильно превосходит корреляцию продаж и оценок пользователей. \n",
    "\n",
    "Вывод: оценка критиков является одним из объективных показателей успеха игры."
   ]
  },
  {
   "cell_type": "markdown",
   "id": "4f369767",
   "metadata": {},
   "source": [
    "<div style=\"border:solid Green 2px; padding: 40px\">\n",
    "<div class=\"alert alert-success\">\n",
    "<h2> Комментарий ревьюера_V2 <a class=\"tocSkip\"> </h2>\n",
    "\n",
    "<font color='green'><b>Все отлично! 👍:</b>  </font>\n",
    "\n",
    "Молодец. Стоит добавить только, что коэффициент корреляции между продажами и пользовательскими оценками настолько низок, что доказывает отсутствие связи.\n",
    "    \n",
    "</div>"
   ]
  },
  {
   "cell_type": "markdown",
   "id": "bea8856c",
   "metadata": {},
   "source": [
    "* #### Посмотрите на общее распределение игр по жанрам. Что можно сказать о самых прибыльных жанрах? Выделяются ли жанры с высокими и низкими продажами?\n"
   ]
  },
  {
   "cell_type": "code",
   "execution_count": 23,
   "id": "96d9680c",
   "metadata": {},
   "outputs": [
    {
     "data": {
      "text/html": [
       "<div>\n",
       "<style scoped>\n",
       "    .dataframe tbody tr th:only-of-type {\n",
       "        vertical-align: middle;\n",
       "    }\n",
       "\n",
       "    .dataframe tbody tr th {\n",
       "        vertical-align: top;\n",
       "    }\n",
       "\n",
       "    .dataframe thead th {\n",
       "        text-align: right;\n",
       "    }\n",
       "</style>\n",
       "<table border=\"1\" class=\"dataframe\">\n",
       "  <thead>\n",
       "    <tr style=\"text-align: right;\">\n",
       "      <th></th>\n",
       "      <th>genre</th>\n",
       "      <th>sum</th>\n",
       "      <th>count</th>\n",
       "      <th>mean</th>\n",
       "    </tr>\n",
       "  </thead>\n",
       "  <tbody>\n",
       "    <tr>\n",
       "      <th>0</th>\n",
       "      <td>Action</td>\n",
       "      <td>294.01</td>\n",
       "      <td>1005</td>\n",
       "      <td>0.292547</td>\n",
       "    </tr>\n",
       "    <tr>\n",
       "      <th>7</th>\n",
       "      <td>Role-Playing</td>\n",
       "      <td>114.48</td>\n",
       "      <td>357</td>\n",
       "      <td>0.320672</td>\n",
       "    </tr>\n",
       "    <tr>\n",
       "      <th>10</th>\n",
       "      <td>Sports</td>\n",
       "      <td>111.27</td>\n",
       "      <td>250</td>\n",
       "      <td>0.445080</td>\n",
       "    </tr>\n",
       "    <tr>\n",
       "      <th>8</th>\n",
       "      <td>Shooter</td>\n",
       "      <td>111.05</td>\n",
       "      <td>200</td>\n",
       "      <td>0.555250</td>\n",
       "    </tr>\n",
       "    <tr>\n",
       "      <th>3</th>\n",
       "      <td>Misc</td>\n",
       "      <td>45.62</td>\n",
       "      <td>184</td>\n",
       "      <td>0.247935</td>\n",
       "    </tr>\n",
       "    <tr>\n",
       "      <th>6</th>\n",
       "      <td>Racing</td>\n",
       "      <td>40.37</td>\n",
       "      <td>112</td>\n",
       "      <td>0.360446</td>\n",
       "    </tr>\n",
       "    <tr>\n",
       "      <th>4</th>\n",
       "      <td>Platform</td>\n",
       "      <td>38.34</td>\n",
       "      <td>81</td>\n",
       "      <td>0.473333</td>\n",
       "    </tr>\n",
       "    <tr>\n",
       "      <th>1</th>\n",
       "      <td>Adventure</td>\n",
       "      <td>29.43</td>\n",
       "      <td>302</td>\n",
       "      <td>0.097450</td>\n",
       "    </tr>\n",
       "    <tr>\n",
       "      <th>2</th>\n",
       "      <td>Fighting</td>\n",
       "      <td>29.29</td>\n",
       "      <td>106</td>\n",
       "      <td>0.276321</td>\n",
       "    </tr>\n",
       "    <tr>\n",
       "      <th>9</th>\n",
       "      <td>Simulation</td>\n",
       "      <td>14.63</td>\n",
       "      <td>76</td>\n",
       "      <td>0.192500</td>\n",
       "    </tr>\n",
       "    <tr>\n",
       "      <th>11</th>\n",
       "      <td>Strategy</td>\n",
       "      <td>13.34</td>\n",
       "      <td>71</td>\n",
       "      <td>0.187887</td>\n",
       "    </tr>\n",
       "    <tr>\n",
       "      <th>5</th>\n",
       "      <td>Puzzle</td>\n",
       "      <td>4.89</td>\n",
       "      <td>28</td>\n",
       "      <td>0.174643</td>\n",
       "    </tr>\n",
       "  </tbody>\n",
       "</table>\n",
       "</div>"
      ],
      "text/plain": [
       "           genre     sum  count      mean\n",
       "0         Action  294.01   1005  0.292547\n",
       "7   Role-Playing  114.48    357  0.320672\n",
       "10        Sports  111.27    250  0.445080\n",
       "8        Shooter  111.05    200  0.555250\n",
       "3           Misc   45.62    184  0.247935\n",
       "6         Racing   40.37    112  0.360446\n",
       "4       Platform   38.34     81  0.473333\n",
       "1      Adventure   29.43    302  0.097450\n",
       "2       Fighting   29.29    106  0.276321\n",
       "9     Simulation   14.63     76  0.192500\n",
       "11      Strategy   13.34     71  0.187887\n",
       "5         Puzzle    4.89     28  0.174643"
      ]
     },
     "metadata": {},
     "output_type": "display_data"
    }
   ],
   "source": [
    "genre = data.groupby('genre')['sum_sales'].agg(['sum', 'count', 'mean']).reset_index().sort_values(by='sum', ascending=False)\n",
    "display(genre)"
   ]
  },
  {
   "cell_type": "code",
   "execution_count": 24,
   "id": "65dfba2b",
   "metadata": {},
   "outputs": [
    {
     "data": {
      "text/plain": [
       "Text(0.5, 1.0, 'Распределение количества жанров игр')"
      ]
     },
     "execution_count": 24,
     "metadata": {},
     "output_type": "execute_result"
    },
    {
     "data": {
      "image/png": "[encoded data removed]",
      "text/plain": [
       "<Figure size 720x576 with 1 Axes>"
      ]
     },
     "metadata": {
      "needs_background": "light"
     },
     "output_type": "display_data"
    }
   ],
   "source": [
    "plt.figure(figsize = (10,8))\n",
    "plt.axes().xaxis.grid()\n",
    "ax = sns.barplot(data=genre, x='count', y='genre')\n",
    "ax.set_title('Распределение количества жанров игр')"
   ]
  },
  {
   "cell_type": "code",
   "execution_count": 25,
   "id": "f0072dea",
   "metadata": {},
   "outputs": [
    {
     "data": {
      "text/plain": [
       "Text(0.5, 1.0, 'Распределение продаж жанров игр')"
      ]
     },
     "execution_count": 25,
     "metadata": {},
     "output_type": "execute_result"
    },
    {
     "data": {
      "image/png": "[encoded data removed]",
      "text/plain": [
       "<Figure size 720x576 with 1 Axes>"
      ]
     },
     "metadata": {
      "needs_background": "light"
     },
     "output_type": "display_data"
    }
   ],
   "source": [
    "plt.figure(figsize = (10,8))\n",
    "plt.axes().xaxis.grid()\n",
    "ax = sns.barplot(data=genre, x='sum', y='genre')\n",
    "ax.set_title('Распределение продаж жанров игр')"
   ]
  },
  {
   "cell_type": "code",
   "execution_count": 26,
   "id": "c75af139",
   "metadata": {},
   "outputs": [
    {
     "data": {
      "text/plain": [
       "Text(0.5, 1.0, 'Распределение \"средней стоимости\" жанра')"
      ]
     },
     "execution_count": 26,
     "metadata": {},
     "output_type": "execute_result"
    },
    {
     "data": {
      "image/png": "[encoded data removed]",
      "text/plain": [
       "<Figure size 720x576 with 1 Axes>"
      ]
     },
     "metadata": {
      "needs_background": "light"
     },
     "output_type": "display_data"
    }
   ],
   "source": [
    "plt.figure(figsize = (10,8))\n",
    "plt.axes().xaxis.grid()\n",
    "ax = sns.barplot(data=genre, x='mean', y='genre')\n",
    "ax.set_title('Распределение \"средней стоимости\" жанра')"
   ]
  },
  {
   "cell_type": "markdown",
   "id": "4c4dda68",
   "metadata": {},
   "source": [
    "Было построено три диаграммы: \n",
    "1. Диаграмма распределения количества игр жанра \n",
    "2. Диаграмма продаж \n",
    "3. Диаграмма средней стоимости игры определенного жанра, т.е. отношения общей выручки, к количеству игр. \n",
    "\n",
    "* Жанр `Action` самый прибыльный и многочисленный жанр. \n",
    "* Жанры `Shooter`, `Sports`, `Platform` имеют высокую среднюю стоимость, при меньшем количестве выпускаемых игр, их средняя цена выше остальных.\n",
    "* Жанр `Adventure` имеет самую низкую стоимость за игру.\n",
    "\n",
    "Можно выделить 4 жанра, которые сильно опережают по продажам остальные: `Action`, `Shooter`, `Sports`, `Role-Playing`"
   ]
  },
  {
   "cell_type": "markdown",
   "id": "7ea66f27",
   "metadata": {},
   "source": [
    "<div style=\"border:solid Orange 2px; padding: 40px\">\n",
    "<div class=\"alert alert-warning\">\n",
    "    <h2> Комментарий ревьюера <a class=\"tocSkip\"> </h2>\n",
    "    \n",
    "<font color='Orange'><b>Некоторые рекомендации 💡:</b> </font>\n",
    "\n",
    "Молодец, что рассмотрел разносторонне. Но получилось, что Action, при всей его популярности и многочисленности, не такой уж и прибыльный жанр, т.к. за высокими показателями общих продаж скрывается множество мелких игр с низкими продажами. А вот Shooter оказались более прибыльными, у него игры стабильно приносят высокий доход. Т.е. прибыльность показывает не суммарные продажи, а средние или медианные.\n",
    "        \n",
    "</div>\n",
    "</div>\n",
    "    \n",
    "<div class = \"alert alert-info\" style=\"border-left: 7px solid blue\">\n",
    "<b>Комментарий студента</b>\n",
    "    \n",
    "Немного не понимаю... Допустим, что у нас есть два жанра: один продается в среднем за 100 ед., второй - за 500 ед. Первого мы продали 1000 экземпляров -> заработали 100000 ед., второго, к примеру, 100 экземпляров -> заработали 50000ед. . Хоть первый жанр стоит дешевле, все равно с него мы заработали больше, чем со второго. Тут же, вроде, такая же ситуация, разве нет ? \n",
    "\n",
    "</div>\n",
    "   "
   ]
  },
  {
   "cell_type": "markdown",
   "id": "7f4f59c2",
   "metadata": {},
   "source": [
    "<div style=\"border:solid Green 2px; padding: 40px\">\n",
    "<div class=\"alert alert-success\">\n",
    "<h2> Комментарий ревьюера_V2 <a class=\"tocSkip\"> </h2>\n",
    "\n",
    "<font color='green'><b>Все отлично! 👍:</b>  </font>\n",
    "\n",
    "Мы же ищем не жанр, который в сумме принес больше денег, а именно прибыльный. Действительно, как ты отметил, за высокими общими продажами может стоять множество дешевых мелких игр. Или 2-3 звезды и куча провалов. Лучше найти жанр, где игры стабильно приносят высокий доход, именно для этого мы и рассматриваем средние или медианные продажи. Ведь с точки зрения выгоды магазина в следующем году, лучше продавать по более выгодной цене. Представим, что реализовать в 2017году магазин может фиксированное количество игр, тогда становиться очевидным какой жанр включать в стратегию продаж, чтобы заработать больше.\n",
    "    \n",
    "</div>"
   ]
  },
  {
   "cell_type": "markdown",
   "id": "17e54a61",
   "metadata": {},
   "source": [
    "# 4. Составьте портрет пользователя каждого региона"
   ]
  },
  {
   "cell_type": "markdown",
   "id": "abcbf361",
   "metadata": {},
   "source": [
    "* #### Определите для пользователя каждого региона (NA, EU, JP):\n",
    "    * Самые популярные платформы (топ-5). Опишите различия в долях продаж."
   ]
  },
  {
   "cell_type": "code",
   "execution_count": 27,
   "id": "7efe72f8",
   "metadata": {
    "scrolled": false
   },
   "outputs": [
    {
     "data": {
      "text/html": [
       "<div>\n",
       "<style scoped>\n",
       "    .dataframe tbody tr th:only-of-type {\n",
       "        vertical-align: middle;\n",
       "    }\n",
       "\n",
       "    .dataframe tbody tr th {\n",
       "        vertical-align: top;\n",
       "    }\n",
       "\n",
       "    .dataframe thead th {\n",
       "        text-align: right;\n",
       "    }\n",
       "</style>\n",
       "<table border=\"1\" class=\"dataframe\">\n",
       "  <thead>\n",
       "    <tr style=\"text-align: right;\">\n",
       "      <th></th>\n",
       "      <th>platform</th>\n",
       "      <th>sum</th>\n",
       "    </tr>\n",
       "  </thead>\n",
       "  <tbody>\n",
       "    <tr>\n",
       "      <th>0</th>\n",
       "      <td>X360</td>\n",
       "      <td>77.87</td>\n",
       "    </tr>\n",
       "    <tr>\n",
       "      <th>1</th>\n",
       "      <td>PS3</td>\n",
       "      <td>67.87</td>\n",
       "    </tr>\n",
       "    <tr>\n",
       "      <th>2</th>\n",
       "      <td>XOne</td>\n",
       "      <td>59.59</td>\n",
       "    </tr>\n",
       "    <tr>\n",
       "      <th>3</th>\n",
       "      <td>PS4</td>\n",
       "      <td>51.52</td>\n",
       "    </tr>\n",
       "    <tr>\n",
       "      <th>4</th>\n",
       "      <td>3DS</td>\n",
       "      <td>28.02</td>\n",
       "    </tr>\n",
       "  </tbody>\n",
       "</table>\n",
       "</div>"
      ],
      "text/plain": [
       "  platform    sum\n",
       "0     X360  77.87\n",
       "1      PS3  67.87\n",
       "2     XOne  59.59\n",
       "3      PS4  51.52\n",
       "4      3DS  28.02"
      ]
     },
     "metadata": {},
     "output_type": "display_data"
    },
    {
     "data": {
      "image/png": "[encoded data removed]",
      "text/plain": [
       "<Figure size 720x432 with 1 Axes>"
      ]
     },
     "metadata": {
      "needs_background": "light"
     },
     "output_type": "display_data"
    },
    {
     "data": {
      "text/html": [
       "<div>\n",
       "<style scoped>\n",
       "    .dataframe tbody tr th:only-of-type {\n",
       "        vertical-align: middle;\n",
       "    }\n",
       "\n",
       "    .dataframe tbody tr th {\n",
       "        vertical-align: top;\n",
       "    }\n",
       "\n",
       "    .dataframe thead th {\n",
       "        text-align: right;\n",
       "    }\n",
       "</style>\n",
       "<table border=\"1\" class=\"dataframe\">\n",
       "  <thead>\n",
       "    <tr style=\"text-align: right;\">\n",
       "      <th></th>\n",
       "      <th>platform</th>\n",
       "      <th>sum</th>\n",
       "    </tr>\n",
       "  </thead>\n",
       "  <tbody>\n",
       "    <tr>\n",
       "      <th>0</th>\n",
       "      <td>PS4</td>\n",
       "      <td>61.37</td>\n",
       "    </tr>\n",
       "    <tr>\n",
       "      <th>1</th>\n",
       "      <td>PS3</td>\n",
       "      <td>56.20</td>\n",
       "    </tr>\n",
       "    <tr>\n",
       "      <th>2</th>\n",
       "      <td>X360</td>\n",
       "      <td>40.87</td>\n",
       "    </tr>\n",
       "    <tr>\n",
       "      <th>3</th>\n",
       "      <td>PC</td>\n",
       "      <td>33.78</td>\n",
       "    </tr>\n",
       "    <tr>\n",
       "      <th>4</th>\n",
       "      <td>XOne</td>\n",
       "      <td>32.08</td>\n",
       "    </tr>\n",
       "  </tbody>\n",
       "</table>\n",
       "</div>"
      ],
      "text/plain": [
       "  platform    sum\n",
       "0      PS4  61.37\n",
       "1      PS3  56.20\n",
       "2     X360  40.87\n",
       "3       PC  33.78\n",
       "4     XOne  32.08"
      ]
     },
     "metadata": {},
     "output_type": "display_data"
    },
    {
     "data": {
      "image/png": "[encoded data removed]",
      "text/plain": [
       "<Figure size 720x432 with 1 Axes>"
      ]
     },
     "metadata": {
      "needs_background": "light"
     },
     "output_type": "display_data"
    },
    {
     "data": {
      "text/html": [
       "<div>\n",
       "<style scoped>\n",
       "    .dataframe tbody tr th:only-of-type {\n",
       "        vertical-align: middle;\n",
       "    }\n",
       "\n",
       "    .dataframe tbody tr th {\n",
       "        vertical-align: top;\n",
       "    }\n",
       "\n",
       "    .dataframe thead th {\n",
       "        text-align: right;\n",
       "    }\n",
       "</style>\n",
       "<table border=\"1\" class=\"dataframe\">\n",
       "  <thead>\n",
       "    <tr style=\"text-align: right;\">\n",
       "      <th></th>\n",
       "      <th>platform</th>\n",
       "      <th>sum</th>\n",
       "    </tr>\n",
       "  </thead>\n",
       "  <tbody>\n",
       "    <tr>\n",
       "      <th>0</th>\n",
       "      <td>3DS</td>\n",
       "      <td>49.21</td>\n",
       "    </tr>\n",
       "    <tr>\n",
       "      <th>1</th>\n",
       "      <td>PS3</td>\n",
       "      <td>30.52</td>\n",
       "    </tr>\n",
       "    <tr>\n",
       "      <th>2</th>\n",
       "      <td>PSV</td>\n",
       "      <td>21.04</td>\n",
       "    </tr>\n",
       "    <tr>\n",
       "      <th>3</th>\n",
       "      <td>PS4</td>\n",
       "      <td>11.48</td>\n",
       "    </tr>\n",
       "    <tr>\n",
       "      <th>4</th>\n",
       "      <td>PSP</td>\n",
       "      <td>10.47</td>\n",
       "    </tr>\n",
       "  </tbody>\n",
       "</table>\n",
       "</div>"
      ],
      "text/plain": [
       "  platform    sum\n",
       "0      3DS  49.21\n",
       "1      PS3  30.52\n",
       "2      PSV  21.04\n",
       "3      PS4  11.48\n",
       "4      PSP  10.47"
      ]
     },
     "metadata": {},
     "output_type": "display_data"
    },
    {
     "data": {
      "image/png": "[encoded data removed]",
      "text/plain": [
       "<Figure size 720x432 with 1 Axes>"
      ]
     },
     "metadata": {
      "needs_background": "light"
     },
     "output_type": "display_data"
    }
   ],
   "source": [
    "for country in ['na_sales', 'eu_sales', 'jp_sales']:\n",
    "    platforms = data.groupby('platform')[country] \\\n",
    "                        .agg(['sum']) \\\n",
    "                        .sort_values(by='sum', ascending=False) \\\n",
    "                        .reset_index() \\\n",
    "                        .head(5)\n",
    "    display(platforms)\n",
    "    plt.figure(figsize = (10, 6))\n",
    "    plt.axes().xaxis.grid()\n",
    "    ax = sns.barplot(data=platforms, x='sum', y='platform')\n",
    "    if country == 'na_sales': \n",
    "        ax.set_title('Распределение по продажам самых популярных платформ в Северной Америке')\n",
    "    elif country == 'eu_sales':\n",
    "        ax.set_title('Распределение по продажам самых популярных платформ в Европе')\n",
    "    else:\n",
    "        ax.set_title('Распределение по продажам самых популярных платформ в Японии')\n",
    "\n",
    "    plt.show(ax)"
   ]
  },
  {
   "cell_type": "markdown",
   "id": "2308e8ec",
   "metadata": {},
   "source": [
    "<div style=\"border:solid Green 2px; padding: 40px\">\n",
    "<div class=\"alert alert-success\">\n",
    "<h2> Комментарий ревьюера <a class=\"tocSkip\"> </h2>\n",
    "\n",
    "<font color='green'><b>Все отлично! 👍:</b>  </font>\n",
    "\n",
    "Можно построить 3 графика рядом с помощью subplots. Можно также для более понятного восприятия, те платформы, которые не входят в топ-5 объединять в \"другие\". \n",
    "    \n",
    "</div>"
   ]
  },
  {
   "cell_type": "markdown",
   "id": "72846190",
   "metadata": {},
   "source": [
    "Глядя на диаграммы распределения продаж платформ в Северной Америке, в Европе и в Японии, можно заметить, что у пользователей имеются различия в предпочтениях: \n",
    "* В Японии лидирует приставка `3DS`, которая намного ниже в рейтинге у оставшихся двух категорий пользователей.\n",
    "* `PS3` занимает лидирующие позиции в трех рейтингах\n",
    "* `X360` занимает лидирующие места в первых двух категориях, но не в Японии. Скорее всего, это связано с тем, что производитель `PS3` - это Япония, а `X360` - Microsoft. \n",
    "* Во все три группы попала новая приставка `PS4`, `XOne` попала в первые две группы, но не попала в категорию Японских пользователей. \n",
    "* Платформа `PC` очень популярна в Европе, но не в Сев. Америке и Японии. \n",
    "\n",
    "В целом, можно видеть, что пользователи из Японии предпочитают другие платформы (3 отличия), в отличие от остальных двух групп. В Европе и Сев. Америке у людей cхожий выбор игровых платформ.  "
   ]
  },
  {
   "cell_type": "markdown",
   "id": "3ed80697",
   "metadata": {},
   "source": [
    "* #### Определите для пользователя каждого региона (NA, EU, JP):\n",
    "    * Самые популярные жанры (топ-5). Поясните разницу."
   ]
  },
  {
   "cell_type": "code",
   "execution_count": 28,
   "id": "5d1c09a3",
   "metadata": {
    "scrolled": false
   },
   "outputs": [
    {
     "data": {
      "text/html": [
       "<div>\n",
       "<style scoped>\n",
       "    .dataframe tbody tr th:only-of-type {\n",
       "        vertical-align: middle;\n",
       "    }\n",
       "\n",
       "    .dataframe tbody tr th {\n",
       "        vertical-align: top;\n",
       "    }\n",
       "\n",
       "    .dataframe thead th {\n",
       "        text-align: right;\n",
       "    }\n",
       "</style>\n",
       "<table border=\"1\" class=\"dataframe\">\n",
       "  <thead>\n",
       "    <tr style=\"text-align: right;\">\n",
       "      <th></th>\n",
       "      <th>genre</th>\n",
       "      <th>sum</th>\n",
       "    </tr>\n",
       "  </thead>\n",
       "  <tbody>\n",
       "    <tr>\n",
       "      <th>0</th>\n",
       "      <td>Action</td>\n",
       "      <td>120.28</td>\n",
       "    </tr>\n",
       "    <tr>\n",
       "      <th>1</th>\n",
       "      <td>Sports</td>\n",
       "      <td>59.37</td>\n",
       "    </tr>\n",
       "    <tr>\n",
       "      <th>2</th>\n",
       "      <td>Shooter</td>\n",
       "      <td>51.31</td>\n",
       "    </tr>\n",
       "    <tr>\n",
       "      <th>3</th>\n",
       "      <td>Role-Playing</td>\n",
       "      <td>37.39</td>\n",
       "    </tr>\n",
       "    <tr>\n",
       "      <th>4</th>\n",
       "      <td>Misc</td>\n",
       "      <td>17.86</td>\n",
       "    </tr>\n",
       "  </tbody>\n",
       "</table>\n",
       "</div>"
      ],
      "text/plain": [
       "          genre     sum\n",
       "0        Action  120.28\n",
       "1        Sports   59.37\n",
       "2       Shooter   51.31\n",
       "3  Role-Playing   37.39\n",
       "4          Misc   17.86"
      ]
     },
     "metadata": {},
     "output_type": "display_data"
    },
    {
     "data": {
      "image/png": "[encoded data removed]",
      "text/plain": [
       "<Figure size 720x432 with 1 Axes>"
      ]
     },
     "metadata": {
      "needs_background": "light"
     },
     "output_type": "display_data"
    },
    {
     "data": {
      "text/html": [
       "<div>\n",
       "<style scoped>\n",
       "    .dataframe tbody tr th:only-of-type {\n",
       "        vertical-align: middle;\n",
       "    }\n",
       "\n",
       "    .dataframe tbody tr th {\n",
       "        vertical-align: top;\n",
       "    }\n",
       "\n",
       "    .dataframe thead th {\n",
       "        text-align: right;\n",
       "    }\n",
       "</style>\n",
       "<table border=\"1\" class=\"dataframe\">\n",
       "  <thead>\n",
       "    <tr style=\"text-align: right;\">\n",
       "      <th></th>\n",
       "      <th>genre</th>\n",
       "      <th>sum</th>\n",
       "    </tr>\n",
       "  </thead>\n",
       "  <tbody>\n",
       "    <tr>\n",
       "      <th>0</th>\n",
       "      <td>Action</td>\n",
       "      <td>98.17</td>\n",
       "    </tr>\n",
       "    <tr>\n",
       "      <th>1</th>\n",
       "      <td>Shooter</td>\n",
       "      <td>43.77</td>\n",
       "    </tr>\n",
       "    <tr>\n",
       "      <th>2</th>\n",
       "      <td>Sports</td>\n",
       "      <td>31.23</td>\n",
       "    </tr>\n",
       "    <tr>\n",
       "      <th>3</th>\n",
       "      <td>Role-Playing</td>\n",
       "      <td>27.48</td>\n",
       "    </tr>\n",
       "    <tr>\n",
       "      <th>4</th>\n",
       "      <td>Racing</td>\n",
       "      <td>22.01</td>\n",
       "    </tr>\n",
       "  </tbody>\n",
       "</table>\n",
       "</div>"
      ],
      "text/plain": [
       "          genre    sum\n",
       "0        Action  98.17\n",
       "1       Shooter  43.77\n",
       "2        Sports  31.23\n",
       "3  Role-Playing  27.48\n",
       "4        Racing  22.01"
      ]
     },
     "metadata": {},
     "output_type": "display_data"
    },
    {
     "data": {
      "image/png": "[encoded data removed]",
      "text/plain": [
       "<Figure size 720x432 with 1 Axes>"
      ]
     },
     "metadata": {
      "needs_background": "light"
     },
     "output_type": "display_data"
    },
    {
     "data": {
      "text/html": [
       "<div>\n",
       "<style scoped>\n",
       "    .dataframe tbody tr th:only-of-type {\n",
       "        vertical-align: middle;\n",
       "    }\n",
       "\n",
       "    .dataframe tbody tr th {\n",
       "        vertical-align: top;\n",
       "    }\n",
       "\n",
       "    .dataframe thead th {\n",
       "        text-align: right;\n",
       "    }\n",
       "</style>\n",
       "<table border=\"1\" class=\"dataframe\">\n",
       "  <thead>\n",
       "    <tr style=\"text-align: right;\">\n",
       "      <th></th>\n",
       "      <th>genre</th>\n",
       "      <th>sum</th>\n",
       "    </tr>\n",
       "  </thead>\n",
       "  <tbody>\n",
       "    <tr>\n",
       "      <th>0</th>\n",
       "      <td>Action</td>\n",
       "      <td>45.07</td>\n",
       "    </tr>\n",
       "    <tr>\n",
       "      <th>1</th>\n",
       "      <td>Role-Playing</td>\n",
       "      <td>40.16</td>\n",
       "    </tr>\n",
       "    <tr>\n",
       "      <th>2</th>\n",
       "      <td>Misc</td>\n",
       "      <td>11.48</td>\n",
       "    </tr>\n",
       "    <tr>\n",
       "      <th>3</th>\n",
       "      <td>Adventure</td>\n",
       "      <td>8.24</td>\n",
       "    </tr>\n",
       "    <tr>\n",
       "      <th>4</th>\n",
       "      <td>Sports</td>\n",
       "      <td>7.50</td>\n",
       "    </tr>\n",
       "  </tbody>\n",
       "</table>\n",
       "</div>"
      ],
      "text/plain": [
       "          genre    sum\n",
       "0        Action  45.07\n",
       "1  Role-Playing  40.16\n",
       "2          Misc  11.48\n",
       "3     Adventure   8.24\n",
       "4        Sports   7.50"
      ]
     },
     "metadata": {},
     "output_type": "display_data"
    },
    {
     "data": {
      "image/png": "[encoded data removed]",
      "text/plain": [
       "<Figure size 720x432 with 1 Axes>"
      ]
     },
     "metadata": {
      "needs_background": "light"
     },
     "output_type": "display_data"
    }
   ],
   "source": [
    "for country in ['na_sales', 'eu_sales', 'jp_sales']:\n",
    "    genres = data.groupby('genre')[country] \\\n",
    "                        .agg(['sum']) \\\n",
    "                        .sort_values(by='sum', ascending=False) \\\n",
    "                        .reset_index() \\\n",
    "                        .head(5)\n",
    "    display(genres)\n",
    "    \n",
    "    plt.figure(figsize = (10, 6))\n",
    "    plt.axes().xaxis.grid()\n",
    "    ax = sns.barplot(data=genres, x='sum', y='genre')\n",
    "    if country == 'na_sales': \n",
    "        ax.set_title('Распределение по продажам самых популярных жанров в Северной Америке')\n",
    "    elif country == 'eu_sales':\n",
    "        ax.set_title('Распределение по продажам самых популярных жанров в Европе')\n",
    "    else:\n",
    "        ax.set_title('Распределение по продажам самых популярных жанров в Японии')\n",
    "\n",
    "    plt.show(ax)"
   ]
  },
  {
   "cell_type": "markdown",
   "id": "e548543f",
   "metadata": {},
   "source": [
    "Анализируя диаграммы распределений самых популярных жанров, можно обнаружить несколько особенностей различных групп пользователей: \n",
    "* Пользователи из трех групп больше всего предпочитают жанр `Action`, он сильно выделяется на фоне остальных жанров. \n",
    "* У пользоваетелей Сев.Америки и Европы схожий выбор жанров игр, 4 совпадения из 5. \n",
    "* В Японии, помимо жанра `Action`, сильно выделяется жанр `Role-Playing`, который тоже входит в топ 5 остальных двух групп, но его доля не так высока, как в Японии. \n",
    "* Жанр `Adveture` популярен в Японии, но не в Европе и Сев.Америке\n",
    "* Жанр `Racing` популярен в Европе, но не в Японии и Сев.Америке\n",
    "\n",
    "В целом, вкусы пользователей трех категорий похожи, жанры `Action`, `Role-Playing`, `Sports` входят в список самых популярных жанров у всех трех категорий, но есть и различия в выборе, которые были приведены выше. "
   ]
  },
  {
   "cell_type": "markdown",
   "id": "8d8d0f78",
   "metadata": {},
   "source": [
    "<div style=\"border:solid Green 2px; padding: 40px\">\n",
    "<div class=\"alert alert-success\">\n",
    "<h2> Комментарий ревьюера <a class=\"tocSkip\"> </h2>\n",
    "\n",
    "<font color='green'><b>Все отлично! 👍:</b>  </font>\n",
    "\n",
    "Молодец. \n",
    "    \n",
    "</div>"
   ]
  },
  {
   "cell_type": "markdown",
   "id": "631e5929",
   "metadata": {},
   "source": [
    "* #### Определите для пользователя каждого региона (NA, EU, JP):\n",
    "    * Влияет ли рейтинг ESRB на продажи в отдельном регионе?"
   ]
  },
  {
   "cell_type": "code",
   "execution_count": 29,
   "id": "83168640",
   "metadata": {
    "scrolled": false
   },
   "outputs": [
    {
     "data": {
      "text/html": [
       "<div>\n",
       "<style scoped>\n",
       "    .dataframe tbody tr th:only-of-type {\n",
       "        vertical-align: middle;\n",
       "    }\n",
       "\n",
       "    .dataframe tbody tr th {\n",
       "        vertical-align: top;\n",
       "    }\n",
       "\n",
       "    .dataframe thead th {\n",
       "        text-align: right;\n",
       "    }\n",
       "</style>\n",
       "<table border=\"1\" class=\"dataframe\">\n",
       "  <thead>\n",
       "    <tr style=\"text-align: right;\">\n",
       "      <th></th>\n",
       "      <th>rating</th>\n",
       "      <th>sum</th>\n",
       "    </tr>\n",
       "  </thead>\n",
       "  <tbody>\n",
       "    <tr>\n",
       "      <th>0</th>\n",
       "      <td>M</td>\n",
       "      <td>107.39</td>\n",
       "    </tr>\n",
       "    <tr>\n",
       "      <th>1</th>\n",
       "      <td>E</td>\n",
       "      <td>72.63</td>\n",
       "    </tr>\n",
       "    <tr>\n",
       "      <th>2</th>\n",
       "      <td>E10+</td>\n",
       "      <td>61.74</td>\n",
       "    </tr>\n",
       "    <tr>\n",
       "      <th>3</th>\n",
       "      <td>T</td>\n",
       "      <td>51.73</td>\n",
       "    </tr>\n",
       "    <tr>\n",
       "      <th>4</th>\n",
       "      <td>Unknown</td>\n",
       "      <td>51.65</td>\n",
       "    </tr>\n",
       "  </tbody>\n",
       "</table>\n",
       "</div>"
      ],
      "text/plain": [
       "    rating     sum\n",
       "0        M  107.39\n",
       "1        E   72.63\n",
       "2     E10+   61.74\n",
       "3        T   51.73\n",
       "4  Unknown   51.65"
      ]
     },
     "metadata": {},
     "output_type": "display_data"
    },
    {
     "data": {
      "image/png": "[encoded data removed]",
      "text/plain": [
       "<Figure size 720x432 with 1 Axes>"
      ]
     },
     "metadata": {
      "needs_background": "light"
     },
     "output_type": "display_data"
    },
    {
     "data": {
      "text/html": [
       "<div>\n",
       "<style scoped>\n",
       "    .dataframe tbody tr th:only-of-type {\n",
       "        vertical-align: middle;\n",
       "    }\n",
       "\n",
       "    .dataframe tbody tr th {\n",
       "        vertical-align: top;\n",
       "    }\n",
       "\n",
       "    .dataframe thead th {\n",
       "        text-align: right;\n",
       "    }\n",
       "</style>\n",
       "<table border=\"1\" class=\"dataframe\">\n",
       "  <thead>\n",
       "    <tr style=\"text-align: right;\">\n",
       "      <th></th>\n",
       "      <th>rating</th>\n",
       "      <th>sum</th>\n",
       "    </tr>\n",
       "  </thead>\n",
       "  <tbody>\n",
       "    <tr>\n",
       "      <th>0</th>\n",
       "      <td>M</td>\n",
       "      <td>89.86</td>\n",
       "    </tr>\n",
       "    <tr>\n",
       "      <th>1</th>\n",
       "      <td>Unknown</td>\n",
       "      <td>51.74</td>\n",
       "    </tr>\n",
       "    <tr>\n",
       "      <th>2</th>\n",
       "      <td>E</td>\n",
       "      <td>50.13</td>\n",
       "    </tr>\n",
       "    <tr>\n",
       "      <th>3</th>\n",
       "      <td>E10+</td>\n",
       "      <td>48.04</td>\n",
       "    </tr>\n",
       "    <tr>\n",
       "      <th>4</th>\n",
       "      <td>T</td>\n",
       "      <td>41.21</td>\n",
       "    </tr>\n",
       "  </tbody>\n",
       "</table>\n",
       "</div>"
      ],
      "text/plain": [
       "    rating    sum\n",
       "0        M  89.86\n",
       "1  Unknown  51.74\n",
       "2        E  50.13\n",
       "3     E10+  48.04\n",
       "4        T  41.21"
      ]
     },
     "metadata": {},
     "output_type": "display_data"
    },
    {
     "data": {
      "image/png": "[encoded data removed]",
      "text/plain": [
       "<Figure size 720x432 with 1 Axes>"
      ]
     },
     "metadata": {
      "needs_background": "light"
     },
     "output_type": "display_data"
    },
    {
     "data": {
      "text/html": [
       "<div>\n",
       "<style scoped>\n",
       "    .dataframe tbody tr th:only-of-type {\n",
       "        vertical-align: middle;\n",
       "    }\n",
       "\n",
       "    .dataframe tbody tr th {\n",
       "        vertical-align: top;\n",
       "    }\n",
       "\n",
       "    .dataframe thead th {\n",
       "        text-align: right;\n",
       "    }\n",
       "</style>\n",
       "<table border=\"1\" class=\"dataframe\">\n",
       "  <thead>\n",
       "    <tr style=\"text-align: right;\">\n",
       "      <th></th>\n",
       "      <th>rating</th>\n",
       "      <th>sum</th>\n",
       "    </tr>\n",
       "  </thead>\n",
       "  <tbody>\n",
       "    <tr>\n",
       "      <th>0</th>\n",
       "      <td>Unknown</td>\n",
       "      <td>77.86</td>\n",
       "    </tr>\n",
       "    <tr>\n",
       "      <th>1</th>\n",
       "      <td>T</td>\n",
       "      <td>22.87</td>\n",
       "    </tr>\n",
       "    <tr>\n",
       "      <th>2</th>\n",
       "      <td>M</td>\n",
       "      <td>13.87</td>\n",
       "    </tr>\n",
       "    <tr>\n",
       "      <th>3</th>\n",
       "      <td>E</td>\n",
       "      <td>12.48</td>\n",
       "    </tr>\n",
       "    <tr>\n",
       "      <th>4</th>\n",
       "      <td>E10+</td>\n",
       "      <td>6.24</td>\n",
       "    </tr>\n",
       "  </tbody>\n",
       "</table>\n",
       "</div>"
      ],
      "text/plain": [
       "    rating    sum\n",
       "0  Unknown  77.86\n",
       "1        T  22.87\n",
       "2        M  13.87\n",
       "3        E  12.48\n",
       "4     E10+   6.24"
      ]
     },
     "metadata": {},
     "output_type": "display_data"
    },
    {
     "data": {
      "image/png": "[encoded data removed]",
      "text/plain": [
       "<Figure size 720x432 with 1 Axes>"
      ]
     },
     "metadata": {
      "needs_background": "light"
     },
     "output_type": "display_data"
    }
   ],
   "source": [
    "for country in ['na_sales', 'eu_sales', 'jp_sales']:\n",
    "    rating = data.groupby('rating')[country] \\\n",
    "                        .agg(['sum']) \\\n",
    "                        .sort_values(by='sum', ascending=False) \\\n",
    "                        .reset_index() \n",
    "    display(rating)\n",
    "    \n",
    "    plt.figure(figsize = (10, 6))\n",
    "    plt.axes().xaxis.grid()\n",
    "    ax = sns.barplot(data=rating, x='sum', y='rating')\n",
    "    if country == 'na_sales': \n",
    "        ax.set_title('Распределение игр по рейтингу ESRB в Северной Америке')\n",
    "    elif country == 'eu_sales':\n",
    "        ax.set_title('Распределение игр по рейтингу ESRB в Европе')\n",
    "    else:\n",
    "        ax.set_title('Распределение игр по рейтингу ESRB в Японии')\n",
    "\n",
    "    plt.show(ax)"
   ]
  },
  {
   "cell_type": "markdown",
   "id": "23c86a11",
   "metadata": {},
   "source": [
    "* В Европе и Сев. Америке первое место по продажам занимают игры, которые входят в группу `Для взрослых`, в Японии сильно распространены игры `Для подростков` \n",
    "* Категория игр `Для детей` не пользуется популярностью ни в какой группе. \n",
    "* В Европе и Сев.Америке игры `Для подростков` имеют меньшие продажи, чем в Японии\n",
    "* Категория игры с рейтингом `Unknown` занимает существенную часть во всех категориях, осебенно в Японии и Европе\n",
    "\n",
    "\n",
    "Есть вероятность, что продажи игры зависят от того, к какой возрастной категории она относится, но конткретно в нашем случае, нельзя сделать объективный вывод, потому что рейтинг многих игр не определен."
   ]
  },
  {
   "cell_type": "markdown",
   "id": "7442b3fa",
   "metadata": {},
   "source": [
    "<br/>\n",
    "<div style=\"border:solid Red 2px; padding: 40px\">\n",
    "    <div class=\"alert alert-block alert-danger\">\n",
    "<h2> Комментарий ревьюера <a class=\"tocSkip\"></h2>\n",
    "\n",
    "    \n",
    "<b>На доработку ❌:</b> \n",
    "    \n",
    "При твоем способе подсчета игры без рейтинга оказываются полностью исключенными из анализа. Но продажи именно этих игр могут указать на ключевое различие в регионах. Может быть стоило пропуски в рейтингах заменить на значение-заглушку? Исправь этот момент и прокомментируй разницу, если она будет. Напиши свои размышления в выводе к этому пункту, где и почему чаще всего покупают игры без рейтинга.\n",
    "   \n",
    "  \n",
    "</div>\n",
    "<div class = \"alert alert-info\" style=\"border-left: 7px solid blue\">\n",
    "<b>Комментарий студента</b>\n",
    "    \n",
    "Переделал\n",
    "\n",
    "</div>"
   ]
  },
  {
   "cell_type": "markdown",
   "id": "e9e8c501",
   "metadata": {},
   "source": [
    "<div style=\"border:solid Green 2px; padding: 40px\">\n",
    "<div class=\"alert alert-success\">\n",
    "<h2> Комментарий ревьюера_V2 <a class=\"tocSkip\"> </h2>\n",
    "\n",
    "<font color='green'><b>Все отлично! 👍:</b>  </font>\n",
    "\n",
    "Дело в том, что ESRB – это рейтинг США и игры выпущенные в других странах для локального рынка его не проходят.\n",
    "    \n",
    "</div>"
   ]
  },
  {
   "cell_type": "markdown",
   "id": "e42b9bc6",
   "metadata": {},
   "source": [
    "# 5. Проверьте гипотезы"
   ]
  },
  {
   "cell_type": "markdown",
   "id": "86d7b31a",
   "metadata": {},
   "source": [
    "* $ H_0$ :      средние пользовательские рейтинги платформ `Xbox One` и `PC` одинаковые.\n",
    "* $ H_1$ :      средние пользовательские рейтинги платформ `Xbox One` и `PC` разные.\n"
   ]
  },
  {
   "cell_type": "code",
   "execution_count": 30,
   "id": "8eeeb4ec",
   "metadata": {
    "scrolled": true
   },
   "outputs": [
    {
     "name": "stdout",
     "output_type": "stream",
     "text": [
      "p-value равно: 0.475\n",
      "Оставляем нулевую гипотезу\n",
      "Средняя оценка игр платформы PC: 6.45\n",
      "Средняя оценка игр платформы XOne: 6.57\n"
     ]
    }
   ],
   "source": [
    "PC = np.array(data.query('platform == \"PC\" & user_score > 0')['user_score'])\n",
    "XOne = np.array(data.query('platform == \"XOne\" & user_score > 0')['user_score'])\n",
    "\n",
    "alpha = 0.005 \n",
    "result = st.ttest_ind(PC, XOne, equal_var=False)\n",
    "p = result.pvalue\n",
    "\n",
    "print('p-value равно:', round(p, 3))\n",
    "\n",
    "if p < alpha: \n",
    "    print('Отклоняем нулевую гипотезу на уровне значимости:', alpha)\n",
    "else: \n",
    "    print('Оставляем нулевую гипотезу')\n",
    "\n",
    "print('Средняя оценка игр платформы PC:',round(PC.mean(), 2))\n",
    "print('Средняя оценка игр платформы XOne:',round(XOne.mean(), 2))"
   ]
  },
  {
   "cell_type": "markdown",
   "id": "8b792c8f",
   "metadata": {},
   "source": [
    "В этом эксперименте применялся критерий Стьюдента, проверка равенства средних двух ГС. Мы не смогли отвергнуть нулевую гипотезу, так-как $p_{value}$ оказалось слишком большим. "
   ]
  },
  {
   "cell_type": "markdown",
   "id": "0a19fa79",
   "metadata": {},
   "source": [
    "* $ H_0$ : cредние пользовательские рейтинги жанров `Action` и `Sports` одинаковые.\n",
    "* $ H_1$ : cредние пользовательские рейтинги жанров `Action` и `Sports` разные, более того, оценка жанра `Action` выше, чем `Sports`."
   ]
  },
  {
   "cell_type": "code",
   "execution_count": 31,
   "id": "35207256",
   "metadata": {},
   "outputs": [
    {
     "name": "stdout",
     "output_type": "stream",
     "text": [
      "p-value равно: 1.617293342502766e-16\n",
      "Отклоняем нулевую гипотезу на уровне значимости: 0.001\n",
      "Средняя оценка жанра Action: 6.8\n",
      "Средняя оценка жанра Sports: 5.48\n"
     ]
    }
   ],
   "source": [
    "Action = np.array(data.query('genre == \"Action\" & user_score > 0')['user_score'])\n",
    "Sports = np.array(data.query('genre == \"Sports\" & user_score > 0')['user_score'])\n",
    "\n",
    "alpha = 0.001 \n",
    "result = st.ttest_ind(Action, Sports, equal_var=False)\n",
    "p = result.pvalue\n",
    "\n",
    "print('p-value равно:', p)\n",
    "\n",
    "if p < alpha / 2: \n",
    "    print('Отклоняем нулевую гипотезу на уровне значимости:', alpha)\n",
    "else: \n",
    "    print('Оставляем нулевую гипотезу')\n",
    "    \n",
    "print('Средняя оценка жанра Action:',round(Action.mean(), 2))\n",
    "print('Средняя оценка жанра Sports:',round(Sports.mean(), 2))"
   ]
  },
  {
   "cell_type": "markdown",
   "id": "705b922a",
   "metadata": {},
   "source": [
    "В этом эксперименте применялся критерий Стьюдента, проверка равенства средних двух ГС. Мы смогли отвергнуть нулевую гипотезу, $p_{value}$ оказалось очень низким. Можем сказать, что средняя оценка жанра `Action` выше, чем `Sports`."
   ]
  },
  {
   "cell_type": "markdown",
   "id": "db0c944c",
   "metadata": {},
   "source": [
    "<div style=\"border:solid Green 2px; padding: 40px\">\n",
    "<div class=\"alert alert-success\">\n",
    "<h2> Комментарий ревьюера <a class=\"tocSkip\"> </h2>\n",
    "\n",
    "<font color='green'><b>Все отлично! 👍:</b>  </font>\n",
    "\n",
    "Верно выбран двусторонний тест. Молодец, что не забываешь удалять пропуски перед проверкой гипотез. Отлично, что выводишь значение `results.pvalue`, в случае, если оно расчиталось не верно (например, равно NaN) - это можно сразу увидеть.\n",
    "    \n",
    "    \n",
    "</div>"
   ]
  },
  {
   "cell_type": "markdown",
   "id": "22f1d6fb",
   "metadata": {},
   "source": [
    "# 6. Вывод"
   ]
  },
  {
   "cell_type": "markdown",
   "id": "8f0c0228",
   "metadata": {},
   "source": [
    "###### В ходе исследования был обработан фрейм данных игр до 2016 года.  Выяснилось, что: \n",
    "\n",
    "1. Платформы устаревают в среднем за 5 лет. Поэтому для рассмотрения был выбран промежуток времени с 2012 по 2016г.\n",
    "\n",
    "\n",
    "2. На период с 2012 по 2016г. можно выделить лидеров среди игровых платформ: `PS`, `Xbox`, `WiiU`, `3DS`. В ближайшее время производителям следует ориентироваться на интересы пользователей этих игровых платформ.  \n",
    "\n",
    "\n",
    "3. К самым продаваемым жанрам можно отнести `Action`, `Role-Playing`, `Sports`, `Shooter`\n",
    "\n",
    "\n",
    "4. Пользователи из Европы и Северной Америки имеют схожие предпочтения в выборе игровых платформ и жанров игр, в отличие от Японских пользователей. Производителю следует обращать на это внимание, чтобы свести к минимуму количество непроданного товара. \n",
    "\n",
    "\n",
    "5. Можно предположить, что большей популярностью пользуются игры для более старших категорий, чем детские игры. Но нельзя сделать более детальный вывод, так как возрастная категория большинства игр не определена. \n",
    "\n",
    "\n",
    "6. Пользователи `XOne` и `PC` оценивают игры похожим образом, значит, можно объединить эти категории в тех случаях, когда нас интересуют пользовательские оценки игр. \n",
    "\n",
    "\n",
    "7. Средние оценки популярных жанров `Action` и `Sports` отличаются. Возможно, к жанру `Action` пользователи относятся более лояльно или есть какие-то недочеты в разработке спортивных игр. Можно порекомедовать производителям спортивных игр провести анкетирование своих пользователей и выяснить причину такой средней оценки. "
   ]
  },
  {
   "cell_type": "markdown",
   "id": "a714ad0f",
   "metadata": {},
   "source": [
    "<div style=\"border:solid Orange 2px; padding: 40px\">\n",
    "<div class=\"alert alert-warning\">\n",
    "    <h2> Комментарий ревьюера <a class=\"tocSkip\"> </h2>\n",
    "    \n",
    "<font color='Orange'><b>Некоторые рекомендации 💡:</b> </font>\n",
    "\n",
    "В аналитическом исследовании важно указывать развёрнутый вывод, ведь он раскрывает для заказчика всю твою проделанную работу и за что он платит деньги. Даже если ему не интересен весь процесс исследования, то в отчёт он заглянет обязательно. \n",
    "        \n",
    "Попробуй подумать, какие могут быть даны рекомендации заказчику в результате полученных выводов.    \n",
    "<div class = \"alert alert-info\" style=\"border-left: 7px solid blue\">\n",
    "<b>Комментарий студента</b>\n",
    "    \n",
    "Изменил выводы \n",
    "\n",
    "</div>"
   ]
  },
  {
   "cell_type": "markdown",
   "id": "7cd1405d",
   "metadata": {},
   "source": [
    "<div style=\"border:solid Green 2px; padding: 40px\">\n",
    "<div class=\"alert alert-success\">\n",
    "<h2> Комментарий ревьюера_V2 <a class=\"tocSkip\"> </h2>\n",
    "\n",
    "<font color='green'><b>Все отлично! 👍:</b>  </font>\n",
    "\n",
    "Отлично. Теперь проект доработан.\n",
    "    \n",
    "</div>"
   ]
  },
  {
   "cell_type": "markdown",
   "id": "fd8bf122",
   "metadata": {},
   "source": [
    "<div style=\"border:solid Chocolate 2px; padding: 40px\">\n",
    "\n",
    "<h2> Общий вывод по проекту <a class=\"tocSkip\"> </h2>\n",
    "\n",
    "Спасибо за твой проект! Проделана большая работа, и видно твое внимательное отношение к содержанию анализа и к оформлению. Ты молодец! Практически все ключевые этапы работы над проектом выполнены, код логичен и понятен, комментарии и выводы написаны, так что в целом справиться с задачей тебе удалось. Возле моментов, на которые стоит обратить внимание, я оставила комментарии.\n",
    "    \n",
    "**Отдельно хочу отметить положительные моменты в твоей работе:**\n",
    "    \n",
    "* На всех этапах тобой предложены интересные решения и методы для их реализации.\n",
    "* Ты грамотно используешь визуализацию. Это здорово, т.к. помогает быстро считать информацию получателю отчета.\n",
    "* Ты грамотно делаешь выводы, на основе полученной информации. \n",
    "    \n",
    "**Моменты, требующие внимания:**\n",
    "\n",
    "\n",
    "* Стоит добавить заголовок и введение в проект.\n",
    "* Дабавь вывод на этапе обзора данных.\n",
    "* Сделай проверку на дубликаты.\n",
    "* Скорректируй обработку tbd.\n",
    "* Не все пропуски обработаны и прокомментированы. Опиши причины, которые могли привести к пропускам. \n",
    "* Поправь актуальный период.\n",
    "* Пересмотри построение диаграмм \"ящиков с усами'.\n",
    "* Нужно доработать анализ корреляции.\n",
    "* Нужно добавить в оценку влияния вида возрастного рейтинга ESRB на продажи игры, в которых рейтинг не указан, внеси полученные результаты в вывод.\n",
    "* И обязательно соотнести итоговый вывод, после учета всех комментариев.\n",
    "* Остальные рекомендации ты найдешь в моих комментариях!    \n",
    "    \n",
    "**Желаю удачи и жду твой проект на повторное ревью!**"
   ]
  },
  {
   "cell_type": "markdown",
   "id": "b3a4343c",
   "metadata": {},
   "source": [
    "<div style=\"border:solid Green 2px; padding: 40px\">\n",
    "<h2> Комментарий ревьюера_V2 <a class=\"tocSkip\"> </h2>\n",
    "\n",
    "Спасибо за твои корректировки. Надеюсь мои комментарии были полезны. Проект принят. Желаю удачи в дальнейшем обучении.\n",
    "    \n",
    "</div>"
   ]
  }
 ],
 "metadata": {
  "ExecuteTimeLog": [
   {
    "duration": 1791,
    "start_time": "2022-11-04T19:11:17.262Z"
   },
   {
    "duration": 384,
    "start_time": "2022-11-04T19:11:19.055Z"
   },
   {
    "duration": 6,
    "start_time": "2022-11-04T19:11:19.441Z"
   },
   {
    "duration": 86,
    "start_time": "2022-11-04T19:11:19.450Z"
   },
   {
    "duration": 399,
    "start_time": "2022-11-04T19:11:19.538Z"
   },
   {
    "duration": 9,
    "start_time": "2022-11-04T19:11:19.939Z"
   },
   {
    "duration": 83,
    "start_time": "2022-11-04T19:11:19.950Z"
   },
   {
    "duration": 6,
    "start_time": "2022-11-04T19:11:20.035Z"
   },
   {
    "duration": 18,
    "start_time": "2022-11-04T19:11:20.043Z"
   },
   {
    "duration": 2324,
    "start_time": "2022-11-04T19:11:20.063Z"
   },
   {
    "duration": 10,
    "start_time": "2022-11-04T19:11:22.389Z"
   },
   {
    "duration": 857,
    "start_time": "2022-11-04T19:11:22.401Z"
   },
   {
    "duration": 13,
    "start_time": "2022-11-04T19:18:14.886Z"
   },
   {
    "duration": 7,
    "start_time": "2022-11-04T19:18:23.658Z"
   },
   {
    "duration": 12,
    "start_time": "2022-11-04T19:18:27.144Z"
   },
   {
    "duration": 1202,
    "start_time": "2022-11-04T19:29:35.673Z"
   },
   {
    "duration": 110,
    "start_time": "2022-11-04T19:29:36.878Z"
   },
   {
    "duration": 6,
    "start_time": "2022-11-04T19:29:36.990Z"
   },
   {
    "duration": 49,
    "start_time": "2022-11-04T19:29:36.998Z"
   },
   {
    "duration": 219,
    "start_time": "2022-11-04T19:29:37.049Z"
   },
   {
    "duration": 10,
    "start_time": "2022-11-04T19:29:37.269Z"
   },
   {
    "duration": 30,
    "start_time": "2022-11-04T19:29:37.281Z"
   },
   {
    "duration": 8,
    "start_time": "2022-11-04T19:29:37.331Z"
   },
   {
    "duration": 16,
    "start_time": "2022-11-04T19:29:37.342Z"
   },
   {
    "duration": 2191,
    "start_time": "2022-11-04T19:29:37.363Z"
   },
   {
    "duration": 14,
    "start_time": "2022-11-04T19:29:39.557Z"
   },
   {
    "duration": 913,
    "start_time": "2022-11-04T19:29:39.573Z"
   },
   {
    "duration": 1884,
    "start_time": "2022-11-04T19:29:40.488Z"
   },
   {
    "duration": 13,
    "start_time": "2022-11-04T19:29:42.375Z"
   },
   {
    "duration": 9,
    "start_time": "2022-11-04T19:29:42.390Z"
   },
   {
    "duration": 37,
    "start_time": "2022-11-04T19:29:42.401Z"
   },
   {
    "duration": 1213,
    "start_time": "2022-11-04T19:52:05.848Z"
   },
   {
    "duration": 112,
    "start_time": "2022-11-04T19:52:07.063Z"
   },
   {
    "duration": 5,
    "start_time": "2022-11-04T19:52:07.177Z"
   },
   {
    "duration": 56,
    "start_time": "2022-11-04T19:52:07.184Z"
   },
   {
    "duration": 211,
    "start_time": "2022-11-04T19:52:07.242Z"
   },
   {
    "duration": 9,
    "start_time": "2022-11-04T19:52:07.455Z"
   },
   {
    "duration": 32,
    "start_time": "2022-11-04T19:52:07.466Z"
   },
   {
    "duration": 16,
    "start_time": "2022-11-04T19:52:07.499Z"
   },
   {
    "duration": 41,
    "start_time": "2022-11-04T19:52:07.517Z"
   },
   {
    "duration": 2060,
    "start_time": "2022-11-04T19:52:07.561Z"
   },
   {
    "duration": 19,
    "start_time": "2022-11-04T19:52:09.623Z"
   },
   {
    "duration": 908,
    "start_time": "2022-11-04T19:52:09.643Z"
   },
   {
    "duration": 1666,
    "start_time": "2022-11-04T19:52:10.553Z"
   },
   {
    "duration": 6,
    "start_time": "2022-11-04T19:52:12.231Z"
   },
   {
    "duration": 230,
    "start_time": "2022-11-04T19:52:12.239Z"
   },
   {
    "duration": 218,
    "start_time": "2022-11-04T19:52:12.470Z"
   },
   {
    "duration": 15,
    "start_time": "2022-11-04T19:52:12.690Z"
   },
   {
    "duration": 241,
    "start_time": "2022-11-04T19:52:12.706Z"
   },
   {
    "duration": 227,
    "start_time": "2022-11-04T19:52:12.949Z"
   },
   {
    "duration": 225,
    "start_time": "2022-11-04T19:52:13.178Z"
   },
   {
    "duration": 602,
    "start_time": "2022-11-04T19:52:13.405Z"
   },
   {
    "duration": 508,
    "start_time": "2022-11-04T19:52:14.009Z"
   },
   {
    "duration": 556,
    "start_time": "2022-11-04T19:52:14.520Z"
   },
   {
    "duration": 17,
    "start_time": "2022-11-04T19:52:15.078Z"
   },
   {
    "duration": 37,
    "start_time": "2022-11-04T19:52:15.099Z"
   },
   {
    "duration": 1379,
    "start_time": "2022-11-06T19:15:22.621Z"
   },
   {
    "duration": 258,
    "start_time": "2022-11-06T19:15:24.002Z"
   },
   {
    "duration": 5,
    "start_time": "2022-11-06T19:15:24.261Z"
   },
   {
    "duration": 26,
    "start_time": "2022-11-06T19:15:24.268Z"
   },
   {
    "duration": 18,
    "start_time": "2022-11-06T19:15:24.296Z"
   },
   {
    "duration": 9,
    "start_time": "2022-11-06T19:15:24.315Z"
   },
   {
    "duration": 50,
    "start_time": "2022-11-06T19:15:24.326Z"
   },
   {
    "duration": 30,
    "start_time": "2022-11-06T19:15:24.378Z"
   },
   {
    "duration": 18,
    "start_time": "2022-11-06T19:15:24.410Z"
   },
   {
    "duration": 19,
    "start_time": "2022-11-06T19:15:24.453Z"
   },
   {
    "duration": 25,
    "start_time": "2022-11-06T19:15:24.473Z"
   },
   {
    "duration": 11,
    "start_time": "2022-11-06T19:15:24.499Z"
   },
   {
    "duration": 11,
    "start_time": "2022-11-06T19:16:25.645Z"
   },
   {
    "duration": 5,
    "start_time": "2022-11-06T19:17:08.743Z"
   },
   {
    "duration": 8,
    "start_time": "2022-11-06T19:18:00.216Z"
   },
   {
    "duration": 10,
    "start_time": "2022-11-06T19:18:12.423Z"
   },
   {
    "duration": 12,
    "start_time": "2022-11-06T19:18:20.103Z"
   },
   {
    "duration": 25,
    "start_time": "2022-11-06T19:18:27.625Z"
   },
   {
    "duration": 11,
    "start_time": "2022-11-06T19:18:34.894Z"
   },
   {
    "duration": 8,
    "start_time": "2022-11-06T19:18:55.768Z"
   },
   {
    "duration": 1183,
    "start_time": "2022-11-06T19:39:58.294Z"
   },
   {
    "duration": 101,
    "start_time": "2022-11-06T19:39:59.479Z"
   },
   {
    "duration": 5,
    "start_time": "2022-11-06T19:39:59.581Z"
   },
   {
    "duration": 28,
    "start_time": "2022-11-06T19:39:59.588Z"
   },
   {
    "duration": 17,
    "start_time": "2022-11-06T19:39:59.618Z"
   },
   {
    "duration": 25,
    "start_time": "2022-11-06T19:39:59.637Z"
   },
   {
    "duration": 39,
    "start_time": "2022-11-06T19:39:59.664Z"
   },
   {
    "duration": 28,
    "start_time": "2022-11-06T19:39:59.704Z"
   },
   {
    "duration": 34,
    "start_time": "2022-11-06T19:39:59.734Z"
   },
   {
    "duration": 17,
    "start_time": "2022-11-06T19:39:59.772Z"
   },
   {
    "duration": 25,
    "start_time": "2022-11-06T19:39:59.791Z"
   },
   {
    "duration": 51,
    "start_time": "2022-11-06T19:39:59.818Z"
   },
   {
    "duration": 14,
    "start_time": "2022-11-06T19:39:59.872Z"
   },
   {
    "duration": 2023,
    "start_time": "2022-11-06T19:39:59.888Z"
   },
   {
    "duration": 12,
    "start_time": "2022-11-06T19:40:01.912Z"
   },
   {
    "duration": 799,
    "start_time": "2022-11-06T19:40:01.926Z"
   },
   {
    "duration": 3,
    "start_time": "2022-11-06T19:40:02.726Z"
   },
   {
    "duration": 407,
    "start_time": "2022-11-06T19:40:02.730Z"
   },
   {
    "duration": 6,
    "start_time": "2022-11-06T19:40:03.139Z"
   },
   {
    "duration": 239,
    "start_time": "2022-11-06T19:40:03.166Z"
   },
   {
    "duration": 359,
    "start_time": "2022-11-06T19:40:03.407Z"
   },
   {
    "duration": 600,
    "start_time": "2022-11-06T19:40:03.768Z"
   },
   {
    "duration": 17,
    "start_time": "2022-11-06T19:40:04.370Z"
   },
   {
    "duration": 234,
    "start_time": "2022-11-06T19:40:04.389Z"
   },
   {
    "duration": 243,
    "start_time": "2022-11-06T19:40:04.624Z"
   },
   {
    "duration": 218,
    "start_time": "2022-11-06T19:40:04.869Z"
   },
   {
    "duration": 524,
    "start_time": "2022-11-06T19:40:05.089Z"
   },
   {
    "duration": 617,
    "start_time": "2022-11-06T19:40:05.617Z"
   },
   {
    "duration": 503,
    "start_time": "2022-11-06T19:40:06.236Z"
   },
   {
    "duration": 22,
    "start_time": "2022-11-06T19:40:06.741Z"
   },
   {
    "duration": 32,
    "start_time": "2022-11-06T19:40:06.765Z"
   }
  ],
  "kernelspec": {
   "display_name": "Python 3 (ipykernel)",
   "language": "python",
   "name": "python3"
  },
  "language_info": {
   "codemirror_mode": {
    "name": "ipython",
    "version": 3
   },
   "file_extension": ".py",
   "mimetype": "text/x-python",
   "name": "python",
   "nbconvert_exporter": "python",
   "pygments_lexer": "ipython3",
   "version": "3.9.5"
  },
  "toc": {
   "base_numbering": 1,
   "nav_menu": {},
   "number_sections": true,
   "sideBar": true,
   "skip_h1_title": true,
   "title_cell": "Table of Contents",
   "title_sidebar": "Contents",
   "toc_cell": false,
   "toc_position": {},
   "toc_section_display": true,
   "toc_window_display": false
  }
 },
 "nbformat": 4,
 "nbformat_minor": 5
}
