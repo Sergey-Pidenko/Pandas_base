{
 "cells": [
  {
   "cell_type": "markdown",
   "id": "0b29a46c",
   "metadata": {},
   "source": [
    "<div class=\"alert alert-info\">\n",
    "<font size=\"3\"><b>✔️Комментарий ревьюера ✔️</b></font>\n",
    "\n",
    "\n",
    "Привет, Сергей! Спасибо, что отправил задание. Меня зовут Ольга Комисарук, и я буду проверять твой проект.  \n",
    "Будет здорово, если ты будешь поддерживать диалог ответами на мои комментарии. Если обращение на ты неприемлемо, то прошу сообщить. \n",
    "\n",
    "Мои комментарии обозначены пометкой **Комментарий ревьюера**, а повторное ревью будут обозначены в соответствии с версией **v_**. Далее в файле ты сможешь найти их в похожих ячейках:\n",
    "Есть несколько аспектов, которые **требуют** твоего **внимания**. Комментарии по ним помечены красным цветом и символами ❌. После их доработки проект будет принят, осталось совсем немного :) \n",
    "\n",
    "    \n",
    "<div class=\"alert alert-block alert-info\">\n",
    "<div class=\"alert alert-block alert-success\"> <b> Комментарий ревьюера ✔️</b>\n",
    "    Если фон комментария зелёный - отмечены удачные и элегантные решения, на которые можно опираться в будущих проектах;</div>\n",
    "    \n",
    "<div class=\"alert alert-block alert-warning\"> <b>Комментарий ревьюера ⚠️</b> \n",
    "    Если фон комментария жёлтый - в следующий раз можно сделать по-другому. Ты можешь учесть эти комментарии при выполнении будущих заданий или доработать проект сейчас (однако это не обязательно).</div>\n",
    " \n",
    "<div class=\"alert alert-block alert-danger\"> <b> Комментарий ревьюера ❌</b> \n",
    "    Если фон комментария красный - допущена ошибка и нужно переделать. После их доработки проект будет принят. Осталось совсем немного, буду ждать твою работу на повторное ревью. 🙂  </div>\n",
    "</div>  \n",
    "\n",
    "\n",
    "Давай работать над проектом в диалоге: если ты что-то меняешь в проекте по моим рекомендациям — пиши об этом. \n",
    "Выбери для своих комментариев какой-то заметный цвет, так мне будет легче отследить изменения. Пожалуйста, не перемещай, не изменяй и не удаляй мои комментарии. Всё это поможет выполнить повторную проверку твоего проекта оперативнее. "
   ]
  },
  {
   "cell_type": "markdown",
   "id": "fe7d5d4c",
   "metadata": {
    "deletable": false,
    "editable": false,
    "id": "c81daeeb"
   },
   "source": [
    "# Исследование надежности заемщиков\n"
   ]
  },
  {
   "cell_type": "markdown",
   "id": "fe9b6b42",
   "metadata": {
    "deletable": false,
    "editable": false,
    "id": "827c20bf"
   },
   "source": [
    "Во второй части проекта вы выполните шаги 3 и 4. Их вручную проверит ревьюер.\n",
    "Чтобы вам не пришлось писать код заново для шагов 1 и 2, мы добавили авторские решения в ячейки с кодом. \n",
    "\n"
   ]
  },
  {
   "cell_type": "markdown",
   "id": "0344622c",
   "metadata": {
    "deletable": false,
    "editable": false,
    "id": "744d7639"
   },
   "source": [
    "## Откройте таблицу и изучите общую информацию о данных"
   ]
  },
  {
   "cell_type": "markdown",
   "id": "f33c0981",
   "metadata": {
    "deletable": false,
    "editable": false,
    "id": "e7a14c31"
   },
   "source": [
    "**Задание 1. Импортируйте библиотеку pandas. Считайте данные из csv-файла в датафрейм и сохраните в переменную `data`. Путь к файлу:**\n",
    "\n",
    "`/datasets/data.csv`"
   ]
  },
  {
   "cell_type": "code",
   "execution_count": 38,
   "id": "c23e6677",
   "metadata": {
    "deletable": false,
    "id": "7bcf75c9"
   },
   "outputs": [],
   "source": [
    "import pandas as pd\n",
    "import seaborn as sns\n",
    "\n",
    "try:\n",
    "    data = pd.read_csv('/datasets/data.csv')\n",
    "except:\n",
    "    data = pd.read_csv('https://code.s3.yandex.net/datasets/data.csv')"
   ]
  },
  {
   "cell_type": "markdown",
   "id": "1670c11b",
   "metadata": {
    "deletable": false,
    "editable": false,
    "id": "b8038fe3"
   },
   "source": [
    "**Задание 2. Выведите первые 20 строчек датафрейма `data` на экран.**"
   ]
  },
  {
   "cell_type": "code",
   "execution_count": 39,
   "id": "286e1d2c",
   "metadata": {
    "deletable": false,
    "id": "2a7cab99",
    "outputId": "1a8f3ef2-d323-4ec2-ddf7-89670b5944c4"
   },
   "outputs": [
    {
     "data": {
      "text/html": [
       "<div>\n",
       "<style scoped>\n",
       "    .dataframe tbody tr th:only-of-type {\n",
       "        vertical-align: middle;\n",
       "    }\n",
       "\n",
       "    .dataframe tbody tr th {\n",
       "        vertical-align: top;\n",
       "    }\n",
       "\n",
       "    .dataframe thead th {\n",
       "        text-align: right;\n",
       "    }\n",
       "</style>\n",
       "<table border=\"1\" class=\"dataframe\">\n",
       "  <thead>\n",
       "    <tr style=\"text-align: right;\">\n",
       "      <th></th>\n",
       "      <th>children</th>\n",
       "      <th>days_employed</th>\n",
       "      <th>dob_years</th>\n",
       "      <th>education</th>\n",
       "      <th>education_id</th>\n",
       "      <th>family_status</th>\n",
       "      <th>family_status_id</th>\n",
       "      <th>gender</th>\n",
       "      <th>income_type</th>\n",
       "      <th>debt</th>\n",
       "      <th>total_income</th>\n",
       "      <th>purpose</th>\n",
       "    </tr>\n",
       "  </thead>\n",
       "  <tbody>\n",
       "    <tr>\n",
       "      <th>0</th>\n",
       "      <td>1</td>\n",
       "      <td>-8437.673028</td>\n",
       "      <td>42</td>\n",
       "      <td>высшее</td>\n",
       "      <td>0</td>\n",
       "      <td>женат / замужем</td>\n",
       "      <td>0</td>\n",
       "      <td>F</td>\n",
       "      <td>сотрудник</td>\n",
       "      <td>0</td>\n",
       "      <td>253875.639453</td>\n",
       "      <td>покупка жилья</td>\n",
       "    </tr>\n",
       "    <tr>\n",
       "      <th>1</th>\n",
       "      <td>1</td>\n",
       "      <td>-4024.803754</td>\n",
       "      <td>36</td>\n",
       "      <td>среднее</td>\n",
       "      <td>1</td>\n",
       "      <td>женат / замужем</td>\n",
       "      <td>0</td>\n",
       "      <td>F</td>\n",
       "      <td>сотрудник</td>\n",
       "      <td>0</td>\n",
       "      <td>112080.014102</td>\n",
       "      <td>приобретение автомобиля</td>\n",
       "    </tr>\n",
       "    <tr>\n",
       "      <th>2</th>\n",
       "      <td>0</td>\n",
       "      <td>-5623.422610</td>\n",
       "      <td>33</td>\n",
       "      <td>Среднее</td>\n",
       "      <td>1</td>\n",
       "      <td>женат / замужем</td>\n",
       "      <td>0</td>\n",
       "      <td>M</td>\n",
       "      <td>сотрудник</td>\n",
       "      <td>0</td>\n",
       "      <td>145885.952297</td>\n",
       "      <td>покупка жилья</td>\n",
       "    </tr>\n",
       "    <tr>\n",
       "      <th>3</th>\n",
       "      <td>3</td>\n",
       "      <td>-4124.747207</td>\n",
       "      <td>32</td>\n",
       "      <td>среднее</td>\n",
       "      <td>1</td>\n",
       "      <td>женат / замужем</td>\n",
       "      <td>0</td>\n",
       "      <td>M</td>\n",
       "      <td>сотрудник</td>\n",
       "      <td>0</td>\n",
       "      <td>267628.550329</td>\n",
       "      <td>дополнительное образование</td>\n",
       "    </tr>\n",
       "    <tr>\n",
       "      <th>4</th>\n",
       "      <td>0</td>\n",
       "      <td>340266.072047</td>\n",
       "      <td>53</td>\n",
       "      <td>среднее</td>\n",
       "      <td>1</td>\n",
       "      <td>гражданский брак</td>\n",
       "      <td>1</td>\n",
       "      <td>F</td>\n",
       "      <td>пенсионер</td>\n",
       "      <td>0</td>\n",
       "      <td>158616.077870</td>\n",
       "      <td>сыграть свадьбу</td>\n",
       "    </tr>\n",
       "    <tr>\n",
       "      <th>5</th>\n",
       "      <td>0</td>\n",
       "      <td>-926.185831</td>\n",
       "      <td>27</td>\n",
       "      <td>высшее</td>\n",
       "      <td>0</td>\n",
       "      <td>гражданский брак</td>\n",
       "      <td>1</td>\n",
       "      <td>M</td>\n",
       "      <td>компаньон</td>\n",
       "      <td>0</td>\n",
       "      <td>255763.565419</td>\n",
       "      <td>покупка жилья</td>\n",
       "    </tr>\n",
       "    <tr>\n",
       "      <th>6</th>\n",
       "      <td>0</td>\n",
       "      <td>-2879.202052</td>\n",
       "      <td>43</td>\n",
       "      <td>высшее</td>\n",
       "      <td>0</td>\n",
       "      <td>женат / замужем</td>\n",
       "      <td>0</td>\n",
       "      <td>F</td>\n",
       "      <td>компаньон</td>\n",
       "      <td>0</td>\n",
       "      <td>240525.971920</td>\n",
       "      <td>операции с жильем</td>\n",
       "    </tr>\n",
       "    <tr>\n",
       "      <th>7</th>\n",
       "      <td>0</td>\n",
       "      <td>-152.779569</td>\n",
       "      <td>50</td>\n",
       "      <td>СРЕДНЕЕ</td>\n",
       "      <td>1</td>\n",
       "      <td>женат / замужем</td>\n",
       "      <td>0</td>\n",
       "      <td>M</td>\n",
       "      <td>сотрудник</td>\n",
       "      <td>0</td>\n",
       "      <td>135823.934197</td>\n",
       "      <td>образование</td>\n",
       "    </tr>\n",
       "    <tr>\n",
       "      <th>8</th>\n",
       "      <td>2</td>\n",
       "      <td>-6929.865299</td>\n",
       "      <td>35</td>\n",
       "      <td>ВЫСШЕЕ</td>\n",
       "      <td>0</td>\n",
       "      <td>гражданский брак</td>\n",
       "      <td>1</td>\n",
       "      <td>F</td>\n",
       "      <td>сотрудник</td>\n",
       "      <td>0</td>\n",
       "      <td>95856.832424</td>\n",
       "      <td>на проведение свадьбы</td>\n",
       "    </tr>\n",
       "    <tr>\n",
       "      <th>9</th>\n",
       "      <td>0</td>\n",
       "      <td>-2188.756445</td>\n",
       "      <td>41</td>\n",
       "      <td>среднее</td>\n",
       "      <td>1</td>\n",
       "      <td>женат / замужем</td>\n",
       "      <td>0</td>\n",
       "      <td>M</td>\n",
       "      <td>сотрудник</td>\n",
       "      <td>0</td>\n",
       "      <td>144425.938277</td>\n",
       "      <td>покупка жилья для семьи</td>\n",
       "    </tr>\n",
       "    <tr>\n",
       "      <th>10</th>\n",
       "      <td>2</td>\n",
       "      <td>-4171.483647</td>\n",
       "      <td>36</td>\n",
       "      <td>высшее</td>\n",
       "      <td>0</td>\n",
       "      <td>женат / замужем</td>\n",
       "      <td>0</td>\n",
       "      <td>M</td>\n",
       "      <td>компаньон</td>\n",
       "      <td>0</td>\n",
       "      <td>113943.491460</td>\n",
       "      <td>покупка недвижимости</td>\n",
       "    </tr>\n",
       "    <tr>\n",
       "      <th>11</th>\n",
       "      <td>0</td>\n",
       "      <td>-792.701887</td>\n",
       "      <td>40</td>\n",
       "      <td>среднее</td>\n",
       "      <td>1</td>\n",
       "      <td>женат / замужем</td>\n",
       "      <td>0</td>\n",
       "      <td>F</td>\n",
       "      <td>сотрудник</td>\n",
       "      <td>0</td>\n",
       "      <td>77069.234271</td>\n",
       "      <td>покупка коммерческой недвижимости</td>\n",
       "    </tr>\n",
       "    <tr>\n",
       "      <th>12</th>\n",
       "      <td>0</td>\n",
       "      <td>NaN</td>\n",
       "      <td>65</td>\n",
       "      <td>среднее</td>\n",
       "      <td>1</td>\n",
       "      <td>гражданский брак</td>\n",
       "      <td>1</td>\n",
       "      <td>M</td>\n",
       "      <td>пенсионер</td>\n",
       "      <td>0</td>\n",
       "      <td>NaN</td>\n",
       "      <td>сыграть свадьбу</td>\n",
       "    </tr>\n",
       "    <tr>\n",
       "      <th>13</th>\n",
       "      <td>0</td>\n",
       "      <td>-1846.641941</td>\n",
       "      <td>54</td>\n",
       "      <td>неоконченное высшее</td>\n",
       "      <td>2</td>\n",
       "      <td>женат / замужем</td>\n",
       "      <td>0</td>\n",
       "      <td>F</td>\n",
       "      <td>сотрудник</td>\n",
       "      <td>0</td>\n",
       "      <td>130458.228857</td>\n",
       "      <td>приобретение автомобиля</td>\n",
       "    </tr>\n",
       "    <tr>\n",
       "      <th>14</th>\n",
       "      <td>0</td>\n",
       "      <td>-1844.956182</td>\n",
       "      <td>56</td>\n",
       "      <td>высшее</td>\n",
       "      <td>0</td>\n",
       "      <td>гражданский брак</td>\n",
       "      <td>1</td>\n",
       "      <td>F</td>\n",
       "      <td>компаньон</td>\n",
       "      <td>1</td>\n",
       "      <td>165127.911772</td>\n",
       "      <td>покупка жилой недвижимости</td>\n",
       "    </tr>\n",
       "    <tr>\n",
       "      <th>15</th>\n",
       "      <td>1</td>\n",
       "      <td>-972.364419</td>\n",
       "      <td>26</td>\n",
       "      <td>среднее</td>\n",
       "      <td>1</td>\n",
       "      <td>женат / замужем</td>\n",
       "      <td>0</td>\n",
       "      <td>F</td>\n",
       "      <td>сотрудник</td>\n",
       "      <td>0</td>\n",
       "      <td>116820.904450</td>\n",
       "      <td>строительство собственной недвижимости</td>\n",
       "    </tr>\n",
       "    <tr>\n",
       "      <th>16</th>\n",
       "      <td>0</td>\n",
       "      <td>-1719.934226</td>\n",
       "      <td>35</td>\n",
       "      <td>среднее</td>\n",
       "      <td>1</td>\n",
       "      <td>женат / замужем</td>\n",
       "      <td>0</td>\n",
       "      <td>F</td>\n",
       "      <td>сотрудник</td>\n",
       "      <td>0</td>\n",
       "      <td>289202.704229</td>\n",
       "      <td>недвижимость</td>\n",
       "    </tr>\n",
       "    <tr>\n",
       "      <th>17</th>\n",
       "      <td>0</td>\n",
       "      <td>-2369.999720</td>\n",
       "      <td>33</td>\n",
       "      <td>высшее</td>\n",
       "      <td>0</td>\n",
       "      <td>гражданский брак</td>\n",
       "      <td>1</td>\n",
       "      <td>M</td>\n",
       "      <td>сотрудник</td>\n",
       "      <td>0</td>\n",
       "      <td>90410.586745</td>\n",
       "      <td>строительство недвижимости</td>\n",
       "    </tr>\n",
       "    <tr>\n",
       "      <th>18</th>\n",
       "      <td>0</td>\n",
       "      <td>400281.136913</td>\n",
       "      <td>53</td>\n",
       "      <td>среднее</td>\n",
       "      <td>1</td>\n",
       "      <td>вдовец / вдова</td>\n",
       "      <td>2</td>\n",
       "      <td>F</td>\n",
       "      <td>пенсионер</td>\n",
       "      <td>0</td>\n",
       "      <td>56823.777243</td>\n",
       "      <td>на покупку подержанного автомобиля</td>\n",
       "    </tr>\n",
       "    <tr>\n",
       "      <th>19</th>\n",
       "      <td>0</td>\n",
       "      <td>-10038.818549</td>\n",
       "      <td>48</td>\n",
       "      <td>СРЕДНЕЕ</td>\n",
       "      <td>1</td>\n",
       "      <td>в разводе</td>\n",
       "      <td>3</td>\n",
       "      <td>F</td>\n",
       "      <td>сотрудник</td>\n",
       "      <td>0</td>\n",
       "      <td>242831.107982</td>\n",
       "      <td>на покупку своего автомобиля</td>\n",
       "    </tr>\n",
       "  </tbody>\n",
       "</table>\n",
       "</div>"
      ],
      "text/plain": [
       "    children  days_employed  dob_years            education  education_id  \\\n",
       "0          1   -8437.673028         42               высшее             0   \n",
       "1          1   -4024.803754         36              среднее             1   \n",
       "2          0   -5623.422610         33              Среднее             1   \n",
       "3          3   -4124.747207         32              среднее             1   \n",
       "4          0  340266.072047         53              среднее             1   \n",
       "5          0    -926.185831         27               высшее             0   \n",
       "6          0   -2879.202052         43               высшее             0   \n",
       "7          0    -152.779569         50              СРЕДНЕЕ             1   \n",
       "8          2   -6929.865299         35               ВЫСШЕЕ             0   \n",
       "9          0   -2188.756445         41              среднее             1   \n",
       "10         2   -4171.483647         36               высшее             0   \n",
       "11         0    -792.701887         40              среднее             1   \n",
       "12         0            NaN         65              среднее             1   \n",
       "13         0   -1846.641941         54  неоконченное высшее             2   \n",
       "14         0   -1844.956182         56               высшее             0   \n",
       "15         1    -972.364419         26              среднее             1   \n",
       "16         0   -1719.934226         35              среднее             1   \n",
       "17         0   -2369.999720         33               высшее             0   \n",
       "18         0  400281.136913         53              среднее             1   \n",
       "19         0  -10038.818549         48              СРЕДНЕЕ             1   \n",
       "\n",
       "       family_status  family_status_id gender income_type  debt  \\\n",
       "0    женат / замужем                 0      F   сотрудник     0   \n",
       "1    женат / замужем                 0      F   сотрудник     0   \n",
       "2    женат / замужем                 0      M   сотрудник     0   \n",
       "3    женат / замужем                 0      M   сотрудник     0   \n",
       "4   гражданский брак                 1      F   пенсионер     0   \n",
       "5   гражданский брак                 1      M   компаньон     0   \n",
       "6    женат / замужем                 0      F   компаньон     0   \n",
       "7    женат / замужем                 0      M   сотрудник     0   \n",
       "8   гражданский брак                 1      F   сотрудник     0   \n",
       "9    женат / замужем                 0      M   сотрудник     0   \n",
       "10   женат / замужем                 0      M   компаньон     0   \n",
       "11   женат / замужем                 0      F   сотрудник     0   \n",
       "12  гражданский брак                 1      M   пенсионер     0   \n",
       "13   женат / замужем                 0      F   сотрудник     0   \n",
       "14  гражданский брак                 1      F   компаньон     1   \n",
       "15   женат / замужем                 0      F   сотрудник     0   \n",
       "16   женат / замужем                 0      F   сотрудник     0   \n",
       "17  гражданский брак                 1      M   сотрудник     0   \n",
       "18    вдовец / вдова                 2      F   пенсионер     0   \n",
       "19         в разводе                 3      F   сотрудник     0   \n",
       "\n",
       "     total_income                                 purpose  \n",
       "0   253875.639453                           покупка жилья  \n",
       "1   112080.014102                 приобретение автомобиля  \n",
       "2   145885.952297                           покупка жилья  \n",
       "3   267628.550329              дополнительное образование  \n",
       "4   158616.077870                         сыграть свадьбу  \n",
       "5   255763.565419                           покупка жилья  \n",
       "6   240525.971920                       операции с жильем  \n",
       "7   135823.934197                             образование  \n",
       "8    95856.832424                   на проведение свадьбы  \n",
       "9   144425.938277                 покупка жилья для семьи  \n",
       "10  113943.491460                    покупка недвижимости  \n",
       "11   77069.234271       покупка коммерческой недвижимости  \n",
       "12            NaN                         сыграть свадьбу  \n",
       "13  130458.228857                 приобретение автомобиля  \n",
       "14  165127.911772              покупка жилой недвижимости  \n",
       "15  116820.904450  строительство собственной недвижимости  \n",
       "16  289202.704229                            недвижимость  \n",
       "17   90410.586745              строительство недвижимости  \n",
       "18   56823.777243      на покупку подержанного автомобиля  \n",
       "19  242831.107982            на покупку своего автомобиля  "
      ]
     },
     "execution_count": 39,
     "metadata": {},
     "output_type": "execute_result"
    }
   ],
   "source": [
    "data.head(20)"
   ]
  },
  {
   "cell_type": "markdown",
   "id": "ac0a9799",
   "metadata": {
    "deletable": false,
    "editable": false,
    "id": "1c12e233"
   },
   "source": [
    "**Задание 3. Выведите основную информацию о датафрейме с помощью метода `info()`.**"
   ]
  },
  {
   "cell_type": "code",
   "execution_count": 40,
   "id": "722c32bb",
   "metadata": {
    "deletable": false,
    "id": "2b757bca",
    "outputId": "15376089-8dad-46c9-b520-c05248d43158"
   },
   "outputs": [
    {
     "name": "stdout",
     "output_type": "stream",
     "text": [
      "<class 'pandas.core.frame.DataFrame'>\n",
      "RangeIndex: 21525 entries, 0 to 21524\n",
      "Data columns (total 12 columns):\n",
      " #   Column            Non-Null Count  Dtype  \n",
      "---  ------            --------------  -----  \n",
      " 0   children          21525 non-null  int64  \n",
      " 1   days_employed     19351 non-null  float64\n",
      " 2   dob_years         21525 non-null  int64  \n",
      " 3   education         21525 non-null  object \n",
      " 4   education_id      21525 non-null  int64  \n",
      " 5   family_status     21525 non-null  object \n",
      " 6   family_status_id  21525 non-null  int64  \n",
      " 7   gender            21525 non-null  object \n",
      " 8   income_type       21525 non-null  object \n",
      " 9   debt              21525 non-null  int64  \n",
      " 10  total_income      19351 non-null  float64\n",
      " 11  purpose           21525 non-null  object \n",
      "dtypes: float64(2), int64(5), object(5)\n",
      "memory usage: 2.0+ MB\n"
     ]
    }
   ],
   "source": [
    "data.info()"
   ]
  },
  {
   "cell_type": "markdown",
   "id": "e82151dd",
   "metadata": {
    "deletable": false,
    "editable": false,
    "id": "333ec665"
   },
   "source": [
    "## Предобработка данных"
   ]
  },
  {
   "cell_type": "markdown",
   "id": "3bd7f06d",
   "metadata": {
    "deletable": false,
    "editable": false,
    "id": "02d92d53"
   },
   "source": [
    "### Удаление пропусков"
   ]
  },
  {
   "cell_type": "markdown",
   "id": "9ce6c147",
   "metadata": {
    "deletable": false,
    "editable": false,
    "id": "cd84967c"
   },
   "source": [
    "**Задание 4. Выведите количество пропущенных значений для каждого столбца. Используйте комбинацию двух методов.**"
   ]
  },
  {
   "cell_type": "code",
   "execution_count": 41,
   "id": "cc53115c",
   "metadata": {
    "deletable": false,
    "id": "7f9b2309",
    "outputId": "81f4d817-781c-465c-ed15-91ce4446810d"
   },
   "outputs": [
    {
     "name": "stdout",
     "output_type": "stream",
     "text": [
      "  total_income_category      debt\n",
      "0                    S7  0.060000\n",
      "1                    S2  0.060914\n",
      "2                    S3  0.071016\n",
      "3                    S1  0.080000\n",
      "4                    S6  0.080909\n",
      "5                    S5  0.086080\n",
      "6                    S4  0.089364\n",
      "7                    S8  0.090909\n"
     ]
    },
    {
     "data": {
      "text/plain": [
       "<AxesSubplot:xlabel='total_income_category', ylabel='debt'>"
      ]
     },
     "metadata": {},
     "output_type": "display_data"
    },
    {
     "data": {
      "image/png": "[encoded data removed]",
      "text/plain": [
       "<Figure size 432x288 with 1 Axes>"
      ]
     },
     "metadata": {
      "needs_background": "light"
     },
     "output_type": "display_data"
    }
   ],
   "source": []
  },
  {
   "cell_type": "markdown",
   "id": "9e39670b",
   "metadata": {
    "deletable": false,
    "editable": false,
    "id": "db86e27b"
   },
   "source": [
    "**Задание 5. В двух столбцах есть пропущенные значения. Один из них — `days_employed`. Пропуски в этом столбце вы обработаете на следующем этапе. Другой столбец с пропущенными значениями — `total_income` — хранит данные о доходах. На сумму дохода сильнее всего влияет тип занятости, поэтому заполнить пропуски в этом столбце нужно медианным значением по каждому типу из столбца `income_type`. Например, у человека с типом занятости `сотрудник` пропуск в столбце `total_income` должен быть заполнен медианным доходом среди всех записей с тем же типом.**"
   ]
  },
  {
   "cell_type": "code",
   "execution_count": 42,
   "id": "32ea365c",
   "metadata": {
    "deletable": false,
    "id": "42006a93"
   },
   "outputs": [],
   "source": [
    "for t in data['income_type'].unique():\n",
    "    data.loc[(data['income_type'] == t) & (data['total_income'].isna()), 'total_income'] = \\\n",
    "    data.loc[(data['income_type'] == t), 'total_income'].median()"
   ]
  },
  {
   "cell_type": "markdown",
   "id": "d9568887",
   "metadata": {
    "deletable": false,
    "editable": false,
    "id": "89da5ece"
   },
   "source": [
    "### Обработка аномальных значений"
   ]
  },
  {
   "cell_type": "markdown",
   "id": "9307d4d1",
   "metadata": {
    "deletable": false,
    "editable": false,
    "id": "57964554"
   },
   "source": [
    "**Задание 6. В данных могут встречаться артефакты (аномалии) — значения, которые не отражают действительность и появились по какой-то ошибке. таким артефактом будет отрицательное количество дней трудового стажа в столбце `days_employed`. Для реальных данных это нормально. Обработайте значения в этом столбце: замените все отрицательные значения положительными с помощью метода `abs()`.**"
   ]
  },
  {
   "cell_type": "code",
   "execution_count": 43,
   "id": "eab9151d",
   "metadata": {
    "deletable": false,
    "id": "f6f055bf"
   },
   "outputs": [],
   "source": [
    "data['days_employed'] = data['days_employed'].abs()"
   ]
  },
  {
   "cell_type": "markdown",
   "id": "39791b01",
   "metadata": {
    "deletable": false,
    "editable": false,
    "id": "6107dd2f"
   },
   "source": [
    "**Задание 7. Для каждого типа занятости выведите медианное значение трудового стажа `days_employed` в днях.**"
   ]
  },
  {
   "cell_type": "code",
   "execution_count": 44,
   "id": "fa05e95a",
   "metadata": {
    "deletable": false,
    "id": "85a5faf6",
    "outputId": "801ef80e-522b-4668-f34e-565af7432bcf"
   },
   "outputs": [
    {
     "data": {
      "text/plain": [
       "income_type\n",
       "безработный        366413.652744\n",
       "в декрете            3296.759962\n",
       "госслужащий          2689.368353\n",
       "компаньон            1547.382223\n",
       "пенсионер          365213.306266\n",
       "предприниматель       520.848083\n",
       "сотрудник            1574.202821\n",
       "студент               578.751554\n",
       "Name: days_employed, dtype: float64"
      ]
     },
     "execution_count": 44,
     "metadata": {},
     "output_type": "execute_result"
    }
   ],
   "source": [
    "data.groupby('income_type')['days_employed'].agg('median')"
   ]
  },
  {
   "cell_type": "markdown",
   "id": "871f3694",
   "metadata": {
    "deletable": false,
    "editable": false,
    "id": "38d1a030"
   },
   "source": [
    "У двух типов (безработные и пенсионеры) получатся аномально большие значения. Исправить такие значения сложно, поэтому оставьте их как есть. Тем более этот столбец не понадобится вам для исследования."
   ]
  },
  {
   "cell_type": "markdown",
   "id": "d7d57d14",
   "metadata": {
    "deletable": false,
    "editable": false,
    "id": "d8a9f147"
   },
   "source": [
    "**Задание 8. Выведите перечень уникальных значений столбца `children`.**"
   ]
  },
  {
   "cell_type": "code",
   "execution_count": 45,
   "id": "b89428bd",
   "metadata": {
    "deletable": false,
    "id": "ef5056eb",
    "outputId": "6975b15c-7f95-4697-d16d-a0c79b657b03"
   },
   "outputs": [
    {
     "data": {
      "text/plain": [
       "array([ 1,  0,  3,  2, -1,  4, 20,  5])"
      ]
     },
     "execution_count": 45,
     "metadata": {},
     "output_type": "execute_result"
    }
   ],
   "source": [
    "data['children'].unique()"
   ]
  },
  {
   "cell_type": "markdown",
   "id": "ed4a7acb",
   "metadata": {
    "deletable": false,
    "editable": false,
    "id": "40b9ebf2"
   },
   "source": [
    "**Задание 9. В столбце `children` есть два аномальных значения. Удалите строки, в которых встречаются такие аномальные значения из датафрейма `data`.**"
   ]
  },
  {
   "cell_type": "code",
   "execution_count": 46,
   "id": "893fe24e",
   "metadata": {
    "deletable": false,
    "id": "3ff9801d"
   },
   "outputs": [],
   "source": [
    "data = data[(data['children'] != -1) & (data['children'] != 20)]"
   ]
  },
  {
   "cell_type": "markdown",
   "id": "27f2772d",
   "metadata": {
    "deletable": false,
    "editable": false,
    "id": "bbc4d0ce"
   },
   "source": [
    "**Задание 10. Ещё раз выведите перечень уникальных значений столбца `children`, чтобы убедиться, что артефакты удалены.**"
   ]
  },
  {
   "cell_type": "code",
   "execution_count": 47,
   "id": "d9606e27",
   "metadata": {
    "deletable": false,
    "id": "ad4fa8b7",
    "outputId": "b2097101-d49d-44d9-901b-32a65c9463d1"
   },
   "outputs": [
    {
     "data": {
      "text/plain": [
       "array([1, 0, 3, 2, 4, 5])"
      ]
     },
     "execution_count": 47,
     "metadata": {},
     "output_type": "execute_result"
    }
   ],
   "source": [
    "data['children'].unique()"
   ]
  },
  {
   "cell_type": "markdown",
   "id": "08967ab6",
   "metadata": {
    "deletable": false,
    "editable": false,
    "id": "75440b63"
   },
   "source": [
    "### Удаление пропусков (продолжение)"
   ]
  },
  {
   "cell_type": "markdown",
   "id": "a4471756",
   "metadata": {
    "deletable": false,
    "editable": false,
    "id": "f4ea573f"
   },
   "source": [
    "**Задание 11. Заполните пропуски в столбце `days_employed` медианными значениями по каждого типа занятости `income_type`.**"
   ]
  },
  {
   "cell_type": "code",
   "execution_count": 48,
   "id": "974184c5",
   "metadata": {
    "deletable": false,
    "id": "af6b1a7e"
   },
   "outputs": [],
   "source": [
    "for t in data['income_type'].unique():\n",
    "    data.loc[(data['income_type'] == t) & (data['days_employed'].isna()), 'days_employed'] = \\\n",
    "    data.loc[(data['income_type'] == t), 'days_employed'].median()"
   ]
  },
  {
   "cell_type": "markdown",
   "id": "426d1bee",
   "metadata": {
    "deletable": false,
    "editable": false,
    "id": "2753f40d"
   },
   "source": [
    "**Задание 12. Убедитесь, что все пропуски заполнены. Проверьте себя и ещё раз выведите количество пропущенных значений для каждого столбца с помощью двух методов.**"
   ]
  },
  {
   "cell_type": "code",
   "execution_count": 49,
   "id": "e46fab29",
   "metadata": {
    "deletable": false,
    "id": "55f78bc2",
    "outputId": "8da1e4e1-358e-4e87-98c9-f261bce0a7b2"
   },
   "outputs": [
    {
     "data": {
      "text/plain": [
       "children                    0\n",
       "days_employed               0\n",
       "dob_years                   0\n",
       "education                   0\n",
       "education_id                0\n",
       "family_status               0\n",
       "family_status_id            0\n",
       "gender                      0\n",
       "income_type                 0\n",
       "debt                        0\n",
       "total_income                0\n",
       "purpose                     0\n",
       "total_income_category    2162\n",
       "dtype: int64"
      ]
     },
     "execution_count": 49,
     "metadata": {},
     "output_type": "execute_result"
    }
   ],
   "source": [
    "data.isna().sum()"
   ]
  },
  {
   "cell_type": "markdown",
   "id": "27af048a",
   "metadata": {
    "deletable": false,
    "editable": false,
    "id": "ddc81e43"
   },
   "source": [
    "### Изменение типов данных"
   ]
  },
  {
   "cell_type": "markdown",
   "id": "ffccfbf5",
   "metadata": {
    "deletable": false,
    "editable": false,
    "id": "42d19d24"
   },
   "source": [
    "**Задание 13. Замените вещественный тип данных в столбце `total_income` на целочисленный с помощью метода `astype()`.**"
   ]
  },
  {
   "cell_type": "code",
   "execution_count": 50,
   "id": "6c8e961e",
   "metadata": {
    "deletable": false,
    "id": "920b65ad"
   },
   "outputs": [],
   "source": [
    "data['total_income'] = data['total_income'].astype(int)"
   ]
  },
  {
   "cell_type": "markdown",
   "id": "31f8fdc3",
   "metadata": {
    "deletable": false,
    "editable": false,
    "id": "80c420ba"
   },
   "source": [
    "### Обработка дубликатов"
   ]
  },
  {
   "cell_type": "markdown",
   "id": "09792adc",
   "metadata": {
    "deletable": false,
    "editable": false
   },
   "source": [
    "**Задание 14. Обработайте неявные дубликаты в столбце `education`. В этом столбце есть одни и те же значения, но записанные по-разному: с использованием заглавных и строчных букв. Приведите их к нижнему регистру. Проверьте остальные столбцы.**"
   ]
  },
  {
   "cell_type": "code",
   "execution_count": 51,
   "id": "d310e490",
   "metadata": {
    "deletable": false
   },
   "outputs": [],
   "source": [
    "data['education'] = data['education'].str.lower()"
   ]
  },
  {
   "cell_type": "markdown",
   "id": "c5fe558c",
   "metadata": {
    "deletable": false,
    "editable": false,
    "id": "dc587695"
   },
   "source": [
    "**Задание 15. Выведите на экран количество строк-дубликатов в данных. Если такие строки присутствуют, удалите их.**"
   ]
  },
  {
   "cell_type": "code",
   "execution_count": 52,
   "id": "44be96e9",
   "metadata": {
    "deletable": false,
    "id": "3ee445e4",
    "outputId": "9684deba-1934-42d1-99e1-cda61740f822"
   },
   "outputs": [
    {
     "data": {
      "text/plain": [
       "71"
      ]
     },
     "execution_count": 52,
     "metadata": {},
     "output_type": "execute_result"
    }
   ],
   "source": [
    "data.duplicated().sum()"
   ]
  },
  {
   "cell_type": "code",
   "execution_count": 53,
   "id": "608408a3",
   "metadata": {
    "deletable": false,
    "id": "8575fe05"
   },
   "outputs": [],
   "source": [
    "data = data.drop_duplicates()"
   ]
  },
  {
   "cell_type": "markdown",
   "id": "fef6310b",
   "metadata": {
    "deletable": false,
    "editable": false,
    "id": "9904cf55"
   },
   "source": [
    "### Категоризация данных"
   ]
  },
  {
   "cell_type": "markdown",
   "id": "3aea23f1",
   "metadata": {
    "deletable": false,
    "editable": false,
    "id": "72fcc8a2"
   },
   "source": [
    "**Задание 16. На основании диапазонов, указанных ниже, создайте в датафрейме `data` столбец `total_income_category` с категориями:**\n",
    "\n",
    "- 0–30000 — `'E'`;\n",
    "- 30001–50000 — `'D'`;\n",
    "- 50001–200000 — `'C'`;\n",
    "- 200001–1000000 — `'B'`;\n",
    "- 1000001 и выше — `'A'`.\n",
    "\n",
    "\n",
    "**Например, кредитополучателю с доходом 25000 нужно назначить категорию `'E'`, а клиенту, получающему 235000, — `'B'`. Используйте собственную функцию с именем `categorize_income()` и метод `apply()`.**"
   ]
  },
  {
   "cell_type": "code",
   "execution_count": 54,
   "id": "99b8e7c3",
   "metadata": {
    "deletable": false,
    "id": "e1771346"
   },
   "outputs": [],
   "source": [
    "def categorize_income(income):\n",
    "    try:\n",
    "        if 0 <= income <= 30000:\n",
    "            return 'S8'\n",
    "        elif 30001 <= income <= 50000:\n",
    "            return 'S7'\n",
    "        elif 50001 <= income <= 100000:\n",
    "            return 'S6'\n",
    "        elif 100000 <= income <= 150000:\n",
    "            return 'S5'\n",
    "        elif 150001 <= income <= 200000:\n",
    "            return 'S4'\n",
    "        elif 200001 <= income <= 500000:\n",
    "            return 'S3'\n",
    "        elif 500001 <= income <= 1000000:\n",
    "            return 'S2'\n",
    "        elif income >= 1000001:\n",
    "            return 'S1'\n",
    "    except:\n",
    "        pass"
   ]
  },
  {
   "cell_type": "code",
   "execution_count": 55,
   "id": "b8af7391",
   "metadata": {
    "deletable": false,
    "id": "d5f3586d"
   },
   "outputs": [],
   "source": [
    "data['total_income_category'] = data['total_income'].apply(categorize_income)"
   ]
  },
  {
   "cell_type": "markdown",
   "id": "cb1fb7b6",
   "metadata": {
    "deletable": false,
    "editable": false,
    "id": "dde49b5c"
   },
   "source": [
    "**Задание 17. Выведите на экран перечень уникальных целей взятия кредита из столбца `purpose`.**"
   ]
  },
  {
   "cell_type": "code",
   "execution_count": 56,
   "id": "bdc0bd0f",
   "metadata": {
    "deletable": false,
    "id": "f67ce9b3",
    "outputId": "673c12d9-7d7e-4ae0-9812-c622c89dd244"
   },
   "outputs": [
    {
     "data": {
      "text/plain": [
       "array(['покупка жилья', 'приобретение автомобиля',\n",
       "       'дополнительное образование', 'сыграть свадьбу',\n",
       "       'операции с жильем', 'образование', 'на проведение свадьбы',\n",
       "       'покупка жилья для семьи', 'покупка недвижимости',\n",
       "       'покупка коммерческой недвижимости', 'покупка жилой недвижимости',\n",
       "       'строительство собственной недвижимости', 'недвижимость',\n",
       "       'строительство недвижимости', 'на покупку подержанного автомобиля',\n",
       "       'на покупку своего автомобиля',\n",
       "       'операции с коммерческой недвижимостью',\n",
       "       'строительство жилой недвижимости', 'жилье',\n",
       "       'операции со своей недвижимостью', 'автомобили',\n",
       "       'заняться образованием', 'сделка с подержанным автомобилем',\n",
       "       'получение образования', 'автомобиль', 'свадьба',\n",
       "       'получение дополнительного образования', 'покупка своего жилья',\n",
       "       'операции с недвижимостью', 'получение высшего образования',\n",
       "       'свой автомобиль', 'сделка с автомобилем',\n",
       "       'профильное образование', 'высшее образование',\n",
       "       'покупка жилья для сдачи', 'на покупку автомобиля', 'ремонт жилью',\n",
       "       'заняться высшим образованием'], dtype=object)"
      ]
     },
     "execution_count": 56,
     "metadata": {},
     "output_type": "execute_result"
    }
   ],
   "source": [
    "data['purpose'].unique()"
   ]
  },
  {
   "cell_type": "markdown",
   "id": "e386219b",
   "metadata": {
    "deletable": false,
    "editable": false,
    "id": "85d0aef0"
   },
   "source": [
    "**Задание 18. Создайте функцию, которая на основании данных из столбца `purpose` сформирует новый столбец `purpose_category`, в который войдут следующие категории:**\n",
    "\n",
    "- `'операции с автомобилем'`,\n",
    "- `'операции с недвижимостью'`,\n",
    "- `'проведение свадьбы'`,\n",
    "- `'получение образования'`.\n",
    "\n",
    "**Например, если в столбце `purpose` находится подстрока `'на покупку автомобиля'`, то в столбце `purpose_category` должна появиться строка `'операции с автомобилем'`.**\n",
    "\n",
    "**Используйте собственную функцию с именем `categorize_purpose()` и метод `apply()`. Изучите данные в столбце `purpose` и определите, какие подстроки помогут вам правильно определить категорию.**"
   ]
  },
  {
   "cell_type": "code",
   "execution_count": 57,
   "id": "29923d66",
   "metadata": {
    "deletable": false,
    "id": "e149fab4"
   },
   "outputs": [],
   "source": [
    "def categorize_purpose(row):\n",
    "    try:\n",
    "        if 'автом' in row:\n",
    "            return 'операции с автомобилем'\n",
    "        elif 'жил' in row or 'недвиж' in row:\n",
    "            return 'операции с недвижимостью'\n",
    "        elif 'свад' in row:\n",
    "            return 'проведение свадьбы'\n",
    "        elif 'образов' in row:\n",
    "            return 'получение образования'\n",
    "    except:\n",
    "        return 'нет категории'"
   ]
  },
  {
   "cell_type": "code",
   "execution_count": 58,
   "id": "ed6e4a65",
   "metadata": {
    "deletable": false,
    "id": "bf36e69b"
   },
   "outputs": [],
   "source": [
    "data['purpose_category'] = data['purpose'].apply(categorize_purpose)"
   ]
  },
  {
   "cell_type": "markdown",
   "id": "e42128dc",
   "metadata": {
    "deletable": false,
    "editable": false,
    "id": "09b242bf"
   },
   "source": [
    "### Шаг 3. Исследуйте данные и ответьте на вопросы"
   ]
  },
  {
   "cell_type": "markdown",
   "id": "ee82745d",
   "metadata": {
    "deletable": false,
    "editable": false,
    "id": "c5d66278"
   },
   "source": [
    "#### 3.1 Есть ли зависимость между количеством детей и возвратом кредита в срок?"
   ]
  },
  {
   "cell_type": "code",
   "execution_count": 59,
   "id": "babe0038",
   "metadata": {
    "deletable": false,
    "id": "2cacfc4a"
   },
   "outputs": [
    {
     "data": {
      "text/html": [
       "<div>\n",
       "<style scoped>\n",
       "    .dataframe tbody tr th:only-of-type {\n",
       "        vertical-align: middle;\n",
       "    }\n",
       "\n",
       "    .dataframe tbody tr th {\n",
       "        vertical-align: top;\n",
       "    }\n",
       "\n",
       "    .dataframe thead th {\n",
       "        text-align: right;\n",
       "    }\n",
       "</style>\n",
       "<table border=\"1\" class=\"dataframe\">\n",
       "  <thead>\n",
       "    <tr style=\"text-align: right;\">\n",
       "      <th></th>\n",
       "      <th>children</th>\n",
       "      <th>days_employed</th>\n",
       "      <th>dob_years</th>\n",
       "      <th>education</th>\n",
       "      <th>education_id</th>\n",
       "      <th>family_status</th>\n",
       "      <th>family_status_id</th>\n",
       "      <th>gender</th>\n",
       "      <th>income_type</th>\n",
       "      <th>debt</th>\n",
       "      <th>total_income</th>\n",
       "      <th>purpose</th>\n",
       "      <th>total_income_category</th>\n",
       "      <th>purpose_category</th>\n",
       "    </tr>\n",
       "  </thead>\n",
       "  <tbody>\n",
       "    <tr>\n",
       "      <th>0</th>\n",
       "      <td>1</td>\n",
       "      <td>8437.673028</td>\n",
       "      <td>42</td>\n",
       "      <td>высшее</td>\n",
       "      <td>0</td>\n",
       "      <td>женат / замужем</td>\n",
       "      <td>0</td>\n",
       "      <td>F</td>\n",
       "      <td>сотрудник</td>\n",
       "      <td>0</td>\n",
       "      <td>253875</td>\n",
       "      <td>покупка жилья</td>\n",
       "      <td>S3</td>\n",
       "      <td>операции с недвижимостью</td>\n",
       "    </tr>\n",
       "    <tr>\n",
       "      <th>1</th>\n",
       "      <td>1</td>\n",
       "      <td>4024.803754</td>\n",
       "      <td>36</td>\n",
       "      <td>среднее</td>\n",
       "      <td>1</td>\n",
       "      <td>женат / замужем</td>\n",
       "      <td>0</td>\n",
       "      <td>F</td>\n",
       "      <td>сотрудник</td>\n",
       "      <td>0</td>\n",
       "      <td>112080</td>\n",
       "      <td>приобретение автомобиля</td>\n",
       "      <td>S5</td>\n",
       "      <td>операции с автомобилем</td>\n",
       "    </tr>\n",
       "    <tr>\n",
       "      <th>2</th>\n",
       "      <td>0</td>\n",
       "      <td>5623.422610</td>\n",
       "      <td>33</td>\n",
       "      <td>среднее</td>\n",
       "      <td>1</td>\n",
       "      <td>женат / замужем</td>\n",
       "      <td>0</td>\n",
       "      <td>M</td>\n",
       "      <td>сотрудник</td>\n",
       "      <td>0</td>\n",
       "      <td>145885</td>\n",
       "      <td>покупка жилья</td>\n",
       "      <td>S5</td>\n",
       "      <td>операции с недвижимостью</td>\n",
       "    </tr>\n",
       "    <tr>\n",
       "      <th>3</th>\n",
       "      <td>3</td>\n",
       "      <td>4124.747207</td>\n",
       "      <td>32</td>\n",
       "      <td>среднее</td>\n",
       "      <td>1</td>\n",
       "      <td>женат / замужем</td>\n",
       "      <td>0</td>\n",
       "      <td>M</td>\n",
       "      <td>сотрудник</td>\n",
       "      <td>0</td>\n",
       "      <td>267628</td>\n",
       "      <td>дополнительное образование</td>\n",
       "      <td>S3</td>\n",
       "      <td>получение образования</td>\n",
       "    </tr>\n",
       "    <tr>\n",
       "      <th>4</th>\n",
       "      <td>0</td>\n",
       "      <td>340266.072047</td>\n",
       "      <td>53</td>\n",
       "      <td>среднее</td>\n",
       "      <td>1</td>\n",
       "      <td>гражданский брак</td>\n",
       "      <td>1</td>\n",
       "      <td>F</td>\n",
       "      <td>пенсионер</td>\n",
       "      <td>0</td>\n",
       "      <td>158616</td>\n",
       "      <td>сыграть свадьбу</td>\n",
       "      <td>S4</td>\n",
       "      <td>проведение свадьбы</td>\n",
       "    </tr>\n",
       "    <tr>\n",
       "      <th>...</th>\n",
       "      <td>...</td>\n",
       "      <td>...</td>\n",
       "      <td>...</td>\n",
       "      <td>...</td>\n",
       "      <td>...</td>\n",
       "      <td>...</td>\n",
       "      <td>...</td>\n",
       "      <td>...</td>\n",
       "      <td>...</td>\n",
       "      <td>...</td>\n",
       "      <td>...</td>\n",
       "      <td>...</td>\n",
       "      <td>...</td>\n",
       "      <td>...</td>\n",
       "    </tr>\n",
       "    <tr>\n",
       "      <th>21520</th>\n",
       "      <td>1</td>\n",
       "      <td>4529.316663</td>\n",
       "      <td>43</td>\n",
       "      <td>среднее</td>\n",
       "      <td>1</td>\n",
       "      <td>гражданский брак</td>\n",
       "      <td>1</td>\n",
       "      <td>F</td>\n",
       "      <td>компаньон</td>\n",
       "      <td>0</td>\n",
       "      <td>224791</td>\n",
       "      <td>операции с жильем</td>\n",
       "      <td>S3</td>\n",
       "      <td>операции с недвижимостью</td>\n",
       "    </tr>\n",
       "    <tr>\n",
       "      <th>21521</th>\n",
       "      <td>0</td>\n",
       "      <td>343937.404131</td>\n",
       "      <td>67</td>\n",
       "      <td>среднее</td>\n",
       "      <td>1</td>\n",
       "      <td>женат / замужем</td>\n",
       "      <td>0</td>\n",
       "      <td>F</td>\n",
       "      <td>пенсионер</td>\n",
       "      <td>0</td>\n",
       "      <td>155999</td>\n",
       "      <td>сделка с автомобилем</td>\n",
       "      <td>S4</td>\n",
       "      <td>операции с автомобилем</td>\n",
       "    </tr>\n",
       "    <tr>\n",
       "      <th>21522</th>\n",
       "      <td>1</td>\n",
       "      <td>2113.346888</td>\n",
       "      <td>38</td>\n",
       "      <td>среднее</td>\n",
       "      <td>1</td>\n",
       "      <td>гражданский брак</td>\n",
       "      <td>1</td>\n",
       "      <td>M</td>\n",
       "      <td>сотрудник</td>\n",
       "      <td>1</td>\n",
       "      <td>89672</td>\n",
       "      <td>недвижимость</td>\n",
       "      <td>S6</td>\n",
       "      <td>операции с недвижимостью</td>\n",
       "    </tr>\n",
       "    <tr>\n",
       "      <th>21523</th>\n",
       "      <td>3</td>\n",
       "      <td>3112.481705</td>\n",
       "      <td>38</td>\n",
       "      <td>среднее</td>\n",
       "      <td>1</td>\n",
       "      <td>женат / замужем</td>\n",
       "      <td>0</td>\n",
       "      <td>M</td>\n",
       "      <td>сотрудник</td>\n",
       "      <td>1</td>\n",
       "      <td>244093</td>\n",
       "      <td>на покупку своего автомобиля</td>\n",
       "      <td>S3</td>\n",
       "      <td>операции с автомобилем</td>\n",
       "    </tr>\n",
       "    <tr>\n",
       "      <th>21524</th>\n",
       "      <td>2</td>\n",
       "      <td>1984.507589</td>\n",
       "      <td>40</td>\n",
       "      <td>среднее</td>\n",
       "      <td>1</td>\n",
       "      <td>женат / замужем</td>\n",
       "      <td>0</td>\n",
       "      <td>F</td>\n",
       "      <td>сотрудник</td>\n",
       "      <td>0</td>\n",
       "      <td>82047</td>\n",
       "      <td>на покупку автомобиля</td>\n",
       "      <td>S6</td>\n",
       "      <td>операции с автомобилем</td>\n",
       "    </tr>\n",
       "  </tbody>\n",
       "</table>\n",
       "<p>21331 rows × 14 columns</p>\n",
       "</div>"
      ],
      "text/plain": [
       "       children  days_employed  dob_years education  education_id  \\\n",
       "0             1    8437.673028         42    высшее             0   \n",
       "1             1    4024.803754         36   среднее             1   \n",
       "2             0    5623.422610         33   среднее             1   \n",
       "3             3    4124.747207         32   среднее             1   \n",
       "4             0  340266.072047         53   среднее             1   \n",
       "...         ...            ...        ...       ...           ...   \n",
       "21520         1    4529.316663         43   среднее             1   \n",
       "21521         0  343937.404131         67   среднее             1   \n",
       "21522         1    2113.346888         38   среднее             1   \n",
       "21523         3    3112.481705         38   среднее             1   \n",
       "21524         2    1984.507589         40   среднее             1   \n",
       "\n",
       "          family_status  family_status_id gender income_type  debt  \\\n",
       "0       женат / замужем                 0      F   сотрудник     0   \n",
       "1       женат / замужем                 0      F   сотрудник     0   \n",
       "2       женат / замужем                 0      M   сотрудник     0   \n",
       "3       женат / замужем                 0      M   сотрудник     0   \n",
       "4      гражданский брак                 1      F   пенсионер     0   \n",
       "...                 ...               ...    ...         ...   ...   \n",
       "21520  гражданский брак                 1      F   компаньон     0   \n",
       "21521   женат / замужем                 0      F   пенсионер     0   \n",
       "21522  гражданский брак                 1      M   сотрудник     1   \n",
       "21523   женат / замужем                 0      M   сотрудник     1   \n",
       "21524   женат / замужем                 0      F   сотрудник     0   \n",
       "\n",
       "       total_income                       purpose total_income_category  \\\n",
       "0            253875                 покупка жилья                    S3   \n",
       "1            112080       приобретение автомобиля                    S5   \n",
       "2            145885                 покупка жилья                    S5   \n",
       "3            267628    дополнительное образование                    S3   \n",
       "4            158616               сыграть свадьбу                    S4   \n",
       "...             ...                           ...                   ...   \n",
       "21520        224791             операции с жильем                    S3   \n",
       "21521        155999          сделка с автомобилем                    S4   \n",
       "21522         89672                  недвижимость                    S6   \n",
       "21523        244093  на покупку своего автомобиля                    S3   \n",
       "21524         82047         на покупку автомобиля                    S6   \n",
       "\n",
       "               purpose_category  \n",
       "0      операции с недвижимостью  \n",
       "1        операции с автомобилем  \n",
       "2      операции с недвижимостью  \n",
       "3         получение образования  \n",
       "4            проведение свадьбы  \n",
       "...                         ...  \n",
       "21520  операции с недвижимостью  \n",
       "21521    операции с автомобилем  \n",
       "21522  операции с недвижимостью  \n",
       "21523    операции с автомобилем  \n",
       "21524    операции с автомобилем  \n",
       "\n",
       "[21331 rows x 14 columns]"
      ]
     },
     "metadata": {},
     "output_type": "display_data"
    }
   ],
   "source": [
    "# Ваш код будет здесь. Вы можете создавать новые ячейки.\n",
    "display(data)"
   ]
  },
  {
   "cell_type": "markdown",
   "id": "c58de68f",
   "metadata": {},
   "source": [
    "###### Построим сводную таблицу, в которой будут содержаться: общее число людей из каждой категории, суммарный долг и средний долг. "
   ]
  },
  {
   "cell_type": "code",
   "execution_count": 66,
   "id": "5c6d7888",
   "metadata": {},
   "outputs": [
    {
     "data": {
      "text/html": [
       "<div>\n",
       "<style scoped>\n",
       "    .dataframe tbody tr th:only-of-type {\n",
       "        vertical-align: middle;\n",
       "    }\n",
       "\n",
       "    .dataframe tbody tr th {\n",
       "        vertical-align: top;\n",
       "    }\n",
       "\n",
       "    .dataframe thead tr th {\n",
       "        text-align: left;\n",
       "    }\n",
       "\n",
       "    .dataframe thead tr:last-of-type th {\n",
       "        text-align: right;\n",
       "    }\n",
       "</style>\n",
       "<table border=\"1\" class=\"dataframe\">\n",
       "  <thead>\n",
       "    <tr>\n",
       "      <th></th>\n",
       "      <th>count</th>\n",
       "      <th>sum</th>\n",
       "      <th>mean</th>\n",
       "    </tr>\n",
       "    <tr>\n",
       "      <th></th>\n",
       "      <th>debt</th>\n",
       "      <th>debt</th>\n",
       "      <th>debt</th>\n",
       "    </tr>\n",
       "    <tr>\n",
       "      <th>children</th>\n",
       "      <th></th>\n",
       "      <th></th>\n",
       "      <th></th>\n",
       "    </tr>\n",
       "  </thead>\n",
       "  <tbody>\n",
       "    <tr>\n",
       "      <th>0</th>\n",
       "      <td>14091</td>\n",
       "      <td>1063</td>\n",
       "      <td>0.075438</td>\n",
       "    </tr>\n",
       "    <tr>\n",
       "      <th>1</th>\n",
       "      <td>4808</td>\n",
       "      <td>444</td>\n",
       "      <td>0.092346</td>\n",
       "    </tr>\n",
       "    <tr>\n",
       "      <th>2</th>\n",
       "      <td>2052</td>\n",
       "      <td>194</td>\n",
       "      <td>0.094542</td>\n",
       "    </tr>\n",
       "    <tr>\n",
       "      <th>3</th>\n",
       "      <td>330</td>\n",
       "      <td>27</td>\n",
       "      <td>0.081818</td>\n",
       "    </tr>\n",
       "    <tr>\n",
       "      <th>4</th>\n",
       "      <td>41</td>\n",
       "      <td>4</td>\n",
       "      <td>0.097561</td>\n",
       "    </tr>\n",
       "    <tr>\n",
       "      <th>5</th>\n",
       "      <td>9</td>\n",
       "      <td>0</td>\n",
       "      <td>0.000000</td>\n",
       "    </tr>\n",
       "  </tbody>\n",
       "</table>\n",
       "</div>"
      ],
      "text/plain": [
       "          count   sum      mean\n",
       "           debt  debt      debt\n",
       "children                       \n",
       "0         14091  1063  0.075438\n",
       "1          4808   444  0.092346\n",
       "2          2052   194  0.094542\n",
       "3           330    27  0.081818\n",
       "4            41     4  0.097561\n",
       "5             9     0  0.000000"
      ]
     },
     "metadata": {},
     "output_type": "display_data"
    }
   ],
   "source": [
    "# sns.barplot(x='children', y='debt', data=data)\n",
    "\n",
    "pivot_children = data.pivot_table(index='children', values='debt', aggfunc=['count', 'sum', 'mean'])\n",
    "display(pivot_children)"
   ]
  },
  {
   "cell_type": "markdown",
   "id": "94e566bf",
   "metadata": {
    "deletable": false,
    "id": "3a6b99ec"
   },
   "source": [
    "**Вывод:** \n",
    "*  В первую очередь стоит отметить, что категории с 4 и 5 детьми  имеют маленькую выборку, если добавить буквально несколько человек с долгом, то средний долг может сильно измениться, поэтому я не буду включать эти категории в сравнение. То же самое касается категории с 3 детьми, количество людей в этой категории на порядок отличается от 1 и 2.\n",
    "* Логичнее рассмотреть группы 0, 1, 2, где количество людей порядка тысяч, этого будет достаточно для сравнения. \n",
    "\n",
    "Можем видеть, что средний долг растет с количеством детей, значит, зависимость присутствует, чем больше детей у человека, тем сложнее ему выплачивать долг. Но для более точного вывода понадобится увеличить выборку многодетных заемщиков. "
   ]
  },
  {
   "cell_type": "markdown",
   "id": "e22f8023",
   "metadata": {
    "deletable": false,
    "editable": false,
    "id": "97be82ca"
   },
   "source": [
    "#### 3.2 Есть ли зависимость между семейным положением и возвратом кредита в срок?"
   ]
  },
  {
   "cell_type": "markdown",
   "id": "956d3f19",
   "metadata": {
    "deletable": false,
    "id": "dc3f7ee8"
   },
   "source": [
    "###### Построим столбчатую диаграмму зависимости долга 'debt' (ось X) от количества детей 'family_status'(ось Y)\n",
    "(я не разобрался, как менять размер диаграммы, поэтому построил горизонтальные столбцы, а иначе текст накладывается.)"
   ]
  },
  {
   "cell_type": "code",
   "execution_count": 61,
   "id": "15b55b07",
   "metadata": {},
   "outputs": [
    {
     "name": "stdout",
     "output_type": "stream",
     "text": [
      "           family_status      debt\n",
      "0         вдовец / вдова  0.066246\n",
      "1              в разводе  0.070648\n",
      "2        женат / замужем  0.075606\n",
      "3       гражданский брак  0.093130\n",
      "4  Не женат / не замужем  0.097639\n"
     ]
    },
    {
     "data": {
      "text/plain": [
       "<AxesSubplot:xlabel='debt', ylabel='family_status'>"
      ]
     },
     "metadata": {},
     "output_type": "display_data"
    },
    {
     "data": {
      "image/png": "[encoded data removed]",
      "text/plain": [
       "<Figure size 432x288 with 1 Axes>"
      ]
     },
     "metadata": {
      "needs_background": "light"
     },
     "output_type": "display_data"
    }
   ],
   "source": [
    "fm_status_ord = data.groupby('family_status')['debt'].mean().sort_values().reset_index()\n",
    "print(fm_status_ord)\n",
    "display(sns.barplot(x='debt', y='family_status', data=data, order=fm_status_ord['family_status']))"
   ]
  },
  {
   "cell_type": "markdown",
   "id": "f0f82cde",
   "metadata": {
    "deletable": false,
    "id": "1cef7837"
   },
   "source": [
    "**Вывод:** \n",
    "Можно сделать вывод, что у людей, которые состояли в браке и по каким то причинам уже не состоят в браке, средний долг меньше. Далее идут люди, находящиеся в браке. У тех, кто находится в гражданском браке или вообще не состоит ни в каком браке, средний долг выше всех. Зависимость долга от семейного положения есть. "
   ]
  },
  {
   "cell_type": "markdown",
   "id": "574c61cb",
   "metadata": {},
   "source": [
    "<div class=\"alert alert-block alert-success\"> <b> Комментарий ревьюера ✔️</b>\n",
    "    \n",
    "Кредитному отделу необходимо внимательно изучать клиентов, которые не состоят или не состояли в браке. Согласно данным такие клиенты менее ответственные\n",
    "</div>"
   ]
  },
  {
   "cell_type": "markdown",
   "id": "4d02d76a",
   "metadata": {
    "deletable": false,
    "editable": false,
    "id": "1e8b2fca"
   },
   "source": [
    "#### 3.3 Есть ли зависимость между уровнем дохода и возвратом кредита в срок?"
   ]
  },
  {
   "cell_type": "markdown",
   "id": "eedd910f",
   "metadata": {
    "deletable": false,
    "id": "cd7e3720"
   },
   "source": [
    "###### Воспользуемся разделением людей на группы по доходам и сравним их средний долг. \n",
    "\n",
    "* S8: [0, 30000] \n",
    "* S7: [30001, 50000] \n",
    "* S6: [50001, 100000]\n",
    "* S5: [100000, 150000] \n",
    "* S4: [150001, 200000] \n",
    "* S3: [200001, 500000] \n",
    "* S2: [500001, 1000000] \n",
    "* S1: [1000001, inf) \n"
   ]
  },
  {
   "cell_type": "code",
   "execution_count": 62,
   "id": "f31f08b9",
   "metadata": {},
   "outputs": [
    {
     "name": "stdout",
     "output_type": "stream",
     "text": [
      "  total_income_category      debt\n",
      "0                    S7  0.060172\n",
      "1                    S2  0.060914\n",
      "2                    S3  0.070999\n",
      "3                    S1  0.080000\n",
      "4                    S6  0.081267\n",
      "5                    S4  0.085057\n",
      "6                    S5  0.087060\n",
      "7                    S8  0.090909\n"
     ]
    },
    {
     "data": {
      "text/plain": [
       "<AxesSubplot:xlabel='total_income_category', ylabel='debt'>"
      ]
     },
     "metadata": {},
     "output_type": "display_data"
    },
    {
     "data": {
      "image/png": "[encoded data removed]",
      "text/plain": [
       "<Figure size 432x288 with 1 Axes>"
      ]
     },
     "metadata": {
      "needs_background": "light"
     },
     "output_type": "display_data"
    }
   ],
   "source": [
    "income_ord = data.groupby('total_income_category')['debt'].mean().sort_values().reset_index()\n",
    "print(income_ord)\n",
    "display(sns.barplot(x='total_income_category', y='debt', data=data, order=income_ord['total_income_category']))\n"
   ]
  },
  {
   "cell_type": "markdown",
   "id": "0b0bb371",
   "metadata": {
    "deletable": false,
    "id": "e8593def"
   },
   "source": [
    "**Вывод:** \n",
    "* Из диаграммы видно, что у лидей с доходом меньше 30 тыс. самый высокий средний долг. Но при этом у группы S7 самый низкий средний долг, что, на мой взгляд, достаточно интересно. Группа людей с самым высоким доходом находится в середине рейтинга среднего долга. Нельзя сказать, что зависимость среднего долга от дохода присутствует, но стоит отметить, что люди с доходом, меньшим 30 тыс., тяжелее закрывают долг, чем все остальные группы. "
   ]
  },
  {
   "cell_type": "markdown",
   "id": "b90623ed",
   "metadata": {},
   "source": [
    "<div class=\"alert alert-block alert-success\"> <b> Комментарий ревьюера ✔️</b>\n",
    "  \n",
    "\n",
    "Чаще всего должниками становятся люди с небольшим доходом. Вероятно, финансовые проблемы не позволяют вовремя осуществлять платежи.  \n",
    "</div>\n",
    " "
   ]
  },
  {
   "cell_type": "markdown",
   "id": "8e05f24d",
   "metadata": {
    "deletable": false,
    "editable": false,
    "id": "99ecbd1f"
   },
   "source": [
    "#### 3.4 Как разные цели кредита влияют на его возврат в срок?"
   ]
  },
  {
   "cell_type": "code",
   "execution_count": 63,
   "id": "c2ab24f8",
   "metadata": {
    "deletable": false,
    "id": "2b687290"
   },
   "outputs": [
    {
     "name": "stdout",
     "output_type": "stream",
     "text": [
      "           purpose_category      debt\n",
      "0  операции с недвижимостью  0.072551\n",
      "1        проведение свадьбы  0.079118\n",
      "2     получение образования  0.092528\n",
      "3    операции с автомобилем  0.093480\n"
     ]
    },
    {
     "data": {
      "text/plain": [
       "<AxesSubplot:xlabel='debt', ylabel='purpose_category'>"
      ]
     },
     "metadata": {},
     "output_type": "display_data"
    },
    {
     "data": {
      "image/png": "[encoded data removed]",
      "text/plain": [
       "<Figure size 432x288 with 1 Axes>"
      ]
     },
     "metadata": {
      "needs_background": "light"
     },
     "output_type": "display_data"
    }
   ],
   "source": [
    "# Ваш код будет здесь. Вы можете создавать новые ячейки.\n",
    "purpose_ord = data.groupby('purpose_category')['debt'].mean().sort_values().reset_index()\n",
    "print(purpose_ord)\n",
    "display(sns.barplot(x='debt', y='purpose_category', data=data, order=purpose_ord['purpose_category']))\n"
   ]
  },
  {
   "cell_type": "markdown",
   "id": "bce7d696",
   "metadata": {
    "deletable": false,
    "id": "b4bb2ce6"
   },
   "source": [
    "**Вывод:** "
   ]
  },
  {
   "cell_type": "markdown",
   "id": "23d5b40e",
   "metadata": {},
   "source": [
    "<div class=\"alert alert-block alert-success\"> <b> Комментарий ревьюера ✔️</b>\n",
    " \n",
    "Верно. Но тут очень сложно сказать, каковы причины таких особенностей.\n",
    "</div>\n",
    " "
   ]
  },
  {
   "cell_type": "markdown",
   "id": "7c69375f",
   "metadata": {
    "deletable": false,
    "editable": false,
    "id": "09c3ac4c"
   },
   "source": [
    "#### 3.5 Приведите возможные причины появления пропусков в исходных данных."
   ]
  },
  {
   "cell_type": "markdown",
   "id": "a6afd282",
   "metadata": {},
   "source": [
    "Пропуски были обнаружены в столбцах 'days_employed' и 'total_income'. "
   ]
  },
  {
   "cell_type": "markdown",
   "id": "256d554c",
   "metadata": {
    "deletable": false,
    "id": "9da2ceda"
   },
   "source": [
    "*Ответ:* \n",
    "* Технические ошибки при работе с данными\n",
    "* Клиенты могли неправильно интерпретировать вопросы и дать ответ в неправильном формате \n",
    "* Клиенты могли пытаться скрыть данные о зарплате и трудовом стаже\n",
    "* Работники, которые обрабатывали анкеты, могли допустить ошибки при переносе информации в базу данных \n"
   ]
  },
  {
   "cell_type": "markdown",
   "id": "a7ebc770",
   "metadata": {},
   "source": [
    "<div class=\"alert alert-block alert-success\"> <b> Комментарий ревьюера ✔️</b>\n",
    "Верно!\n",
    "</div> "
   ]
  },
  {
   "cell_type": "markdown",
   "id": "e83598d9",
   "metadata": {
    "deletable": false,
    "editable": false,
    "id": "7b0487d6"
   },
   "source": [
    "#### 3.6 Объясните, почему заполнить пропуски медианным значением — лучшее решение для количественных переменных."
   ]
  },
  {
   "cell_type": "markdown",
   "id": "e775ad51",
   "metadata": {
    "deletable": false,
    "id": "7ecf2b8e"
   },
   "source": [
    "*Ответ:*\n",
    "* В данных могут быть экстремально большие или маленькие значения, которые сильно повлияют на значение среднего, и когда мы заполним пропуски средним значением, показатели нашей выборки будут смещены в сторону выбросов, что очень плохо. Большой плюс медианы состоит в том, что она более корректно отражает результаты большинства значений и менее подвержена искажению от выбросов, поэтому для заполнения пропусков она более предпочтительна."
   ]
  },
  {
   "cell_type": "markdown",
   "id": "3b0e4763",
   "metadata": {},
   "source": [
    "<div class=\"alert alert-block alert-success\"> <b> Комментарий ревьюера ✔️</b>\n",
    "    \n",
    "Согласна \n",
    "</div>"
   ]
  },
  {
   "cell_type": "markdown",
   "id": "5058f0e0",
   "metadata": {
    "deletable": false,
    "editable": false,
    "id": "6db5255a"
   },
   "source": [
    "### Шаг 4: общий вывод."
   ]
  },
  {
   "cell_type": "markdown",
   "id": "bd5e13a5",
   "metadata": {
    "deletable": false,
    "id": "bad65432"
   },
   "source": [
    "###### В ходе исследования выяснилось:\n",
    "* 1)* Количество детей влияет на способность выплачивать кредит. Чем больше у человека детей, тем выше его долг. \n",
    "* 2) Долг людей, которые имели отношение к семейной жизни, меньше, чем у людей, не состоявших в зарегистрированном браке.\n",
    "* 3)** Людям с зарплатой менее 30 тыс. сложнее выплачивать кредит, чем всем остальным группам. Но при этом среди категорий людей с заработком более 30 тыс. не наблюдается зависимости долга от зарплаты. \n",
    "* 4) Выплата кредита зависит от цели займа. Сложнее всего расплачиваться людям, которые брали кредит на образование или автомобиль. Более надежные заемщики брали кредит на свадьбу или покупку недвижимости. \n",
    "\n",
    "###### Замечания:\n",
    " * *Такой вывод был сделан без учета людей с 3 и более детьим в силу маленького числа людей в категориях. В категориях с 0, 1 и 2 детьми рост наблюдается рост среднего долга.\n",
    "\n",
    " * **Количество пропусков в категории общего дохода примерно 2174 - это порядка 10% от общего числа людей. Была построена диаграмма зависимости долга категорий людей по зарплате без заполнения медианными значениями и у нее был такой же вид, как и у диаграммы с заполненными значениями, поэтому, можно сказать, что заполнение пропусков медианными значениями не повлияло на результат исследования. \n"
   ]
  },
  {
   "cell_type": "markdown",
   "id": "abb7d419",
   "metadata": {},
   "source": [
    "<div class=\"alert alert-block alert-success\"> <b> Комментарий ревьюера ✔️</b>\n",
    "    \n",
    "Очень хороший вывод!\n",
    "</div>"
   ]
  },
  {
   "cell_type": "markdown",
   "id": "379e1507",
   "metadata": {},
   "source": [
    "<div  style=\"background-color: aliceblue; border-left: 7px solid blue; padding: 15px; \">\n",
    "<b> <font color='blue' > Ревью: заключительный комментарий </font></b> \n",
    "    \n",
    "    \n",
    "Хорошая работа! Аргументы основаны на фактах, полученных из текущего исследования. Отлично, что данные визуализированны. Проект структурирован.\n",
    "\n",
    "Почти у цели. Осталось доделать таблицу. Если остались вопросы - дай знать!\n",
    "</div>"
   ]
  }
 ],
 "metadata": {
  "ExecuteTimeLog": [
   {
    "duration": 46,
    "start_time": "2022-09-27T17:02:28.983Z"
   },
   {
    "duration": 6,
    "start_time": "2022-09-27T17:02:40.414Z"
   },
   {
    "duration": 453,
    "start_time": "2022-09-27T17:02:48.562Z"
   },
   {
    "duration": 22,
    "start_time": "2022-09-27T17:02:49.017Z"
   },
   {
    "duration": 19,
    "start_time": "2022-09-27T17:02:49.040Z"
   },
   {
    "duration": 9,
    "start_time": "2022-09-27T17:02:49.076Z"
   },
   {
    "duration": 32,
    "start_time": "2022-09-27T17:02:49.087Z"
   },
   {
    "duration": 3,
    "start_time": "2022-09-27T17:02:49.121Z"
   },
   {
    "duration": 10,
    "start_time": "2022-09-27T17:02:49.126Z"
   },
   {
    "duration": 4,
    "start_time": "2022-09-27T17:02:49.138Z"
   },
   {
    "duration": 33,
    "start_time": "2022-09-27T17:02:49.143Z"
   },
   {
    "duration": 5,
    "start_time": "2022-09-27T17:02:49.180Z"
   },
   {
    "duration": 39,
    "start_time": "2022-09-27T17:02:49.186Z"
   },
   {
    "duration": 8,
    "start_time": "2022-09-27T17:02:49.226Z"
   },
   {
    "duration": 6,
    "start_time": "2022-09-27T17:02:49.236Z"
   },
   {
    "duration": 39,
    "start_time": "2022-09-27T17:02:49.243Z"
   },
   {
    "duration": 17,
    "start_time": "2022-09-27T17:02:49.284Z"
   },
   {
    "duration": 15,
    "start_time": "2022-09-27T17:02:49.303Z"
   },
   {
    "duration": 3,
    "start_time": "2022-09-27T17:02:49.320Z"
   },
   {
    "duration": 26,
    "start_time": "2022-09-27T17:02:49.325Z"
   },
   {
    "duration": 8,
    "start_time": "2022-09-27T17:02:49.353Z"
   },
   {
    "duration": 14,
    "start_time": "2022-09-27T17:02:49.363Z"
   },
   {
    "duration": 11,
    "start_time": "2022-09-27T17:02:49.379Z"
   },
   {
    "duration": 63,
    "start_time": "2022-09-27T17:02:49.391Z"
   },
   {
    "duration": 0,
    "start_time": "2022-09-27T17:02:49.456Z"
   },
   {
    "duration": 0,
    "start_time": "2022-09-27T17:02:49.457Z"
   },
   {
    "duration": 0,
    "start_time": "2022-09-27T17:02:49.458Z"
   },
   {
    "duration": 21,
    "start_time": "2022-09-27T17:03:00.835Z"
   },
   {
    "duration": 21,
    "start_time": "2022-09-27T17:06:48.953Z"
   },
   {
    "duration": 932,
    "start_time": "2022-09-27T17:17:25.189Z"
   },
   {
    "duration": 45,
    "start_time": "2022-09-27T17:21:04.946Z"
   },
   {
    "duration": 394,
    "start_time": "2022-09-27T17:21:12.697Z"
   },
   {
    "duration": 1171,
    "start_time": "2022-09-27T17:25:05.688Z"
   },
   {
    "duration": 18,
    "start_time": "2022-09-27T17:25:06.861Z"
   },
   {
    "duration": 14,
    "start_time": "2022-09-27T17:25:06.880Z"
   },
   {
    "duration": 8,
    "start_time": "2022-09-27T17:25:06.896Z"
   },
   {
    "duration": 37,
    "start_time": "2022-09-27T17:25:06.906Z"
   },
   {
    "duration": 4,
    "start_time": "2022-09-27T17:25:06.945Z"
   },
   {
    "duration": 9,
    "start_time": "2022-09-27T17:25:06.977Z"
   },
   {
    "duration": 8,
    "start_time": "2022-09-27T17:25:06.987Z"
   },
   {
    "duration": 21,
    "start_time": "2022-09-27T17:25:06.997Z"
   },
   {
    "duration": 5,
    "start_time": "2022-09-27T17:25:07.023Z"
   },
   {
    "duration": 63,
    "start_time": "2022-09-27T17:25:07.030Z"
   },
   {
    "duration": 11,
    "start_time": "2022-09-27T17:25:07.095Z"
   },
   {
    "duration": 4,
    "start_time": "2022-09-27T17:25:07.108Z"
   },
   {
    "duration": 15,
    "start_time": "2022-09-27T17:25:07.113Z"
   },
   {
    "duration": 49,
    "start_time": "2022-09-27T17:25:07.129Z"
   },
   {
    "duration": 30,
    "start_time": "2022-09-27T17:25:07.181Z"
   },
   {
    "duration": 5,
    "start_time": "2022-09-27T17:25:07.213Z"
   },
   {
    "duration": 13,
    "start_time": "2022-09-27T17:25:07.220Z"
   },
   {
    "duration": 5,
    "start_time": "2022-09-27T17:25:07.235Z"
   },
   {
    "duration": 3,
    "start_time": "2022-09-27T17:25:07.242Z"
   },
   {
    "duration": 37,
    "start_time": "2022-09-27T17:25:07.246Z"
   },
   {
    "duration": 20,
    "start_time": "2022-09-27T17:25:07.284Z"
   },
   {
    "duration": 379,
    "start_time": "2022-09-27T17:25:07.306Z"
   },
   {
    "duration": 2,
    "start_time": "2022-09-27T17:25:07.687Z"
   },
   {
    "duration": 20,
    "start_time": "2022-09-27T17:25:07.691Z"
   },
   {
    "duration": 5,
    "start_time": "2022-09-27T17:25:07.713Z"
   },
   {
    "duration": 360,
    "start_time": "2022-09-27T17:26:29.616Z"
   },
   {
    "duration": 115,
    "start_time": "2022-09-27T17:46:13.250Z"
   },
   {
    "duration": 94,
    "start_time": "2022-09-27T17:47:22.159Z"
   },
   {
    "duration": 136,
    "start_time": "2022-09-27T17:48:24.885Z"
   },
   {
    "duration": 4,
    "start_time": "2022-09-28T12:00:39.547Z"
   },
   {
    "duration": 1686,
    "start_time": "2022-09-28T12:04:42.489Z"
   },
   {
    "duration": 24,
    "start_time": "2022-09-28T12:04:44.179Z"
   },
   {
    "duration": 18,
    "start_time": "2022-09-28T12:04:44.204Z"
   },
   {
    "duration": 10,
    "start_time": "2022-09-28T12:04:44.225Z"
   },
   {
    "duration": 32,
    "start_time": "2022-09-28T12:04:44.237Z"
   },
   {
    "duration": 4,
    "start_time": "2022-09-28T12:04:44.270Z"
   },
   {
    "duration": 43,
    "start_time": "2022-09-28T12:04:44.276Z"
   },
   {
    "duration": 4,
    "start_time": "2022-09-28T12:04:44.321Z"
   },
   {
    "duration": 9,
    "start_time": "2022-09-28T12:04:44.327Z"
   },
   {
    "duration": 6,
    "start_time": "2022-09-28T12:04:44.338Z"
   },
   {
    "duration": 33,
    "start_time": "2022-09-28T12:04:44.345Z"
   },
   {
    "duration": 34,
    "start_time": "2022-09-28T12:04:44.380Z"
   },
   {
    "duration": 3,
    "start_time": "2022-09-28T12:04:44.416Z"
   },
   {
    "duration": 14,
    "start_time": "2022-09-28T12:04:44.421Z"
   },
   {
    "duration": 22,
    "start_time": "2022-09-28T12:04:44.436Z"
   },
   {
    "duration": 52,
    "start_time": "2022-09-28T12:04:44.460Z"
   },
   {
    "duration": 4,
    "start_time": "2022-09-28T12:04:44.514Z"
   },
   {
    "duration": 13,
    "start_time": "2022-09-28T12:04:44.520Z"
   },
   {
    "duration": 7,
    "start_time": "2022-09-28T12:04:44.535Z"
   },
   {
    "duration": 3,
    "start_time": "2022-09-28T12:04:44.544Z"
   },
   {
    "duration": 17,
    "start_time": "2022-09-28T12:04:44.549Z"
   },
   {
    "duration": 54,
    "start_time": "2022-09-28T12:04:44.568Z"
   },
   {
    "duration": 358,
    "start_time": "2022-09-28T12:04:44.623Z"
   },
   {
    "duration": 127,
    "start_time": "2022-09-28T12:04:44.983Z"
   },
   {
    "duration": 0,
    "start_time": "2022-09-28T12:04:45.112Z"
   },
   {
    "duration": 0,
    "start_time": "2022-09-28T12:04:45.113Z"
   },
   {
    "duration": 328,
    "start_time": "2022-09-28T12:05:03.130Z"
   },
   {
    "duration": 357,
    "start_time": "2022-09-28T12:05:17.534Z"
   },
   {
    "duration": 328,
    "start_time": "2022-09-28T12:07:04.684Z"
   },
   {
    "duration": 312,
    "start_time": "2022-09-28T12:07:10.983Z"
   },
   {
    "duration": 321,
    "start_time": "2022-09-28T12:14:54.189Z"
   },
   {
    "duration": 12,
    "start_time": "2022-09-28T12:15:07.981Z"
   },
   {
    "duration": 326,
    "start_time": "2022-09-28T12:15:10.985Z"
   },
   {
    "duration": 10,
    "start_time": "2022-09-28T12:16:52.395Z"
   },
   {
    "duration": 6,
    "start_time": "2022-09-28T12:16:58.188Z"
   },
   {
    "duration": 143,
    "start_time": "2022-09-28T12:31:13.518Z"
   },
   {
    "duration": 136,
    "start_time": "2022-09-28T12:31:40.455Z"
   },
   {
    "duration": 174,
    "start_time": "2022-09-28T12:31:51.427Z"
   },
   {
    "duration": 52,
    "start_time": "2022-09-28T12:32:31.514Z"
   },
   {
    "duration": 834,
    "start_time": "2022-09-28T12:32:45.784Z"
   },
   {
    "duration": 7,
    "start_time": "2022-09-28T12:33:00.207Z"
   },
   {
    "duration": 21,
    "start_time": "2022-09-28T12:33:17.932Z"
   },
   {
    "duration": 962,
    "start_time": "2022-09-28T12:33:41.967Z"
   },
   {
    "duration": 1983,
    "start_time": "2022-09-28T12:34:11.283Z"
   },
   {
    "duration": 26,
    "start_time": "2022-09-28T12:34:24.079Z"
   },
   {
    "duration": 12,
    "start_time": "2022-09-28T12:35:31.921Z"
   },
   {
    "duration": 15,
    "start_time": "2022-09-28T12:35:38.937Z"
   },
   {
    "duration": 10,
    "start_time": "2022-09-28T12:36:39.996Z"
   },
   {
    "duration": 1187,
    "start_time": "2022-09-28T12:36:56.989Z"
   },
   {
    "duration": 332,
    "start_time": "2022-09-28T12:37:11.815Z"
   },
   {
    "duration": 366,
    "start_time": "2022-09-28T12:37:32.242Z"
   },
   {
    "duration": 325,
    "start_time": "2022-09-28T12:37:51.661Z"
   },
   {
    "duration": 43,
    "start_time": "2022-09-28T12:37:57.826Z"
   },
   {
    "duration": 352,
    "start_time": "2022-09-28T12:38:03.571Z"
   },
   {
    "duration": 18,
    "start_time": "2022-09-28T12:38:23.704Z"
   },
   {
    "duration": 395,
    "start_time": "2022-09-28T12:38:32.555Z"
   },
   {
    "duration": 351,
    "start_time": "2022-09-28T12:45:26.989Z"
   },
   {
    "duration": 306,
    "start_time": "2022-09-28T12:51:38.399Z"
   },
   {
    "duration": 311,
    "start_time": "2022-09-28T12:56:16.151Z"
   },
   {
    "duration": 327,
    "start_time": "2022-09-28T12:56:46.696Z"
   },
   {
    "duration": 311,
    "start_time": "2022-09-28T12:56:54.224Z"
   },
   {
    "duration": 101018,
    "start_time": "2022-09-28T13:05:41.862Z"
   },
   {
    "duration": 19,
    "start_time": "2022-09-28T13:07:22.909Z"
   },
   {
    "duration": 6,
    "start_time": "2022-09-28T13:10:26.785Z"
   },
   {
    "duration": 12,
    "start_time": "2022-09-28T13:10:38.558Z"
   },
   {
    "duration": 384,
    "start_time": "2022-09-28T13:12:19.902Z"
   },
   {
    "duration": 364,
    "start_time": "2022-09-28T13:12:57.002Z"
   },
   {
    "duration": 42,
    "start_time": "2022-09-28T13:13:31.445Z"
   },
   {
    "duration": 395,
    "start_time": "2022-09-28T13:13:56.582Z"
   },
   {
    "duration": 5,
    "start_time": "2022-09-28T13:27:32.501Z"
   },
   {
    "duration": 1177,
    "start_time": "2022-09-28T13:40:39.318Z"
   },
   {
    "duration": 169,
    "start_time": "2022-09-28T13:41:17.019Z"
   },
   {
    "duration": 340,
    "start_time": "2022-09-28T13:41:52.189Z"
   },
   {
    "duration": 74,
    "start_time": "2022-09-29T18:08:10.368Z"
   },
   {
    "duration": 1198,
    "start_time": "2022-09-29T18:08:24.283Z"
   },
   {
    "duration": 26,
    "start_time": "2022-09-29T18:08:25.483Z"
   },
   {
    "duration": 19,
    "start_time": "2022-09-29T18:08:25.515Z"
   },
   {
    "duration": 9,
    "start_time": "2022-09-29T18:08:25.537Z"
   },
   {
    "duration": 35,
    "start_time": "2022-09-29T18:08:25.548Z"
   },
   {
    "duration": 4,
    "start_time": "2022-09-29T18:08:25.584Z"
   },
   {
    "duration": 19,
    "start_time": "2022-09-29T18:08:25.589Z"
   },
   {
    "duration": 15,
    "start_time": "2022-09-29T18:08:25.609Z"
   },
   {
    "duration": 8,
    "start_time": "2022-09-29T18:08:25.626Z"
   },
   {
    "duration": 4,
    "start_time": "2022-09-29T18:08:25.636Z"
   },
   {
    "duration": 29,
    "start_time": "2022-09-29T18:08:25.641Z"
   },
   {
    "duration": 8,
    "start_time": "2022-09-29T18:08:25.672Z"
   },
   {
    "duration": 21,
    "start_time": "2022-09-29T18:08:25.682Z"
   },
   {
    "duration": 24,
    "start_time": "2022-09-29T18:08:25.704Z"
   },
   {
    "duration": 22,
    "start_time": "2022-09-29T18:08:25.729Z"
   },
   {
    "duration": 23,
    "start_time": "2022-09-29T18:08:25.752Z"
   },
   {
    "duration": 5,
    "start_time": "2022-09-29T18:08:25.777Z"
   },
   {
    "duration": 28,
    "start_time": "2022-09-29T18:08:25.784Z"
   },
   {
    "duration": 6,
    "start_time": "2022-09-29T18:08:25.814Z"
   },
   {
    "duration": 4,
    "start_time": "2022-09-29T18:08:25.822Z"
   },
   {
    "duration": 12,
    "start_time": "2022-09-29T18:08:25.827Z"
   },
   {
    "duration": 23,
    "start_time": "2022-09-29T18:08:25.840Z"
   },
   {
    "duration": 372,
    "start_time": "2022-09-29T18:08:25.865Z"
   },
   {
    "duration": 13,
    "start_time": "2022-09-29T18:08:26.239Z"
   },
   {
    "duration": 364,
    "start_time": "2022-09-29T18:08:26.254Z"
   },
   {
    "duration": 380,
    "start_time": "2022-09-29T18:08:26.620Z"
   },
   {
    "duration": 352,
    "start_time": "2022-09-29T18:08:27.002Z"
   },
   {
    "duration": 6,
    "start_time": "2022-09-29T18:09:47.315Z"
   },
   {
    "duration": 102,
    "start_time": "2022-09-29T18:10:04.961Z"
   },
   {
    "duration": 5,
    "start_time": "2022-09-29T18:10:07.881Z"
   },
   {
    "duration": 9,
    "start_time": "2022-09-29T18:10:18.584Z"
   },
   {
    "duration": 7,
    "start_time": "2022-09-29T18:10:49.925Z"
   },
   {
    "duration": 92,
    "start_time": "2022-09-29T18:30:36.018Z"
   },
   {
    "duration": 20,
    "start_time": "2022-09-29T18:30:36.112Z"
   },
   {
    "duration": 19,
    "start_time": "2022-09-29T18:30:36.134Z"
   },
   {
    "duration": 111,
    "start_time": "2022-09-29T18:30:36.155Z"
   },
   {
    "duration": 0,
    "start_time": "2022-09-29T18:30:36.269Z"
   },
   {
    "duration": 0,
    "start_time": "2022-09-29T18:30:36.270Z"
   },
   {
    "duration": 0,
    "start_time": "2022-09-29T18:30:36.272Z"
   },
   {
    "duration": 0,
    "start_time": "2022-09-29T18:30:36.273Z"
   },
   {
    "duration": 0,
    "start_time": "2022-09-29T18:30:36.275Z"
   },
   {
    "duration": 0,
    "start_time": "2022-09-29T18:30:36.276Z"
   },
   {
    "duration": 0,
    "start_time": "2022-09-29T18:30:36.278Z"
   },
   {
    "duration": 0,
    "start_time": "2022-09-29T18:30:36.279Z"
   },
   {
    "duration": 0,
    "start_time": "2022-09-29T18:30:36.302Z"
   },
   {
    "duration": 0,
    "start_time": "2022-09-29T18:30:36.302Z"
   },
   {
    "duration": 0,
    "start_time": "2022-09-29T18:30:36.303Z"
   },
   {
    "duration": 0,
    "start_time": "2022-09-29T18:30:36.303Z"
   },
   {
    "duration": 0,
    "start_time": "2022-09-29T18:30:36.304Z"
   },
   {
    "duration": 0,
    "start_time": "2022-09-29T18:30:36.304Z"
   },
   {
    "duration": 0,
    "start_time": "2022-09-29T18:30:36.305Z"
   },
   {
    "duration": 0,
    "start_time": "2022-09-29T18:30:36.306Z"
   },
   {
    "duration": 0,
    "start_time": "2022-09-29T18:30:36.306Z"
   },
   {
    "duration": 0,
    "start_time": "2022-09-29T18:30:36.307Z"
   },
   {
    "duration": 0,
    "start_time": "2022-09-29T18:30:36.313Z"
   },
   {
    "duration": 0,
    "start_time": "2022-09-29T18:30:36.316Z"
   },
   {
    "duration": 0,
    "start_time": "2022-09-29T18:30:36.317Z"
   },
   {
    "duration": 0,
    "start_time": "2022-09-29T18:30:36.318Z"
   },
   {
    "duration": 393,
    "start_time": "2022-09-29T18:31:30.552Z"
   },
   {
    "duration": 87,
    "start_time": "2022-09-29T18:31:45.037Z"
   },
   {
    "duration": 21,
    "start_time": "2022-09-29T18:31:45.127Z"
   },
   {
    "duration": 25,
    "start_time": "2022-09-29T18:31:45.150Z"
   },
   {
    "duration": 405,
    "start_time": "2022-09-29T18:31:45.177Z"
   },
   {
    "duration": 42,
    "start_time": "2022-09-29T18:31:45.583Z"
   },
   {
    "duration": 3,
    "start_time": "2022-09-29T18:31:45.626Z"
   },
   {
    "duration": 13,
    "start_time": "2022-09-29T18:31:45.631Z"
   },
   {
    "duration": 4,
    "start_time": "2022-09-29T18:31:45.645Z"
   },
   {
    "duration": 23,
    "start_time": "2022-09-29T18:31:45.650Z"
   },
   {
    "duration": 4,
    "start_time": "2022-09-29T18:31:45.675Z"
   },
   {
    "duration": 50,
    "start_time": "2022-09-29T18:31:45.681Z"
   },
   {
    "duration": 9,
    "start_time": "2022-09-29T18:31:45.733Z"
   },
   {
    "duration": 4,
    "start_time": "2022-09-29T18:31:45.743Z"
   },
   {
    "duration": 12,
    "start_time": "2022-09-29T18:31:45.748Z"
   },
   {
    "duration": 16,
    "start_time": "2022-09-29T18:31:45.762Z"
   },
   {
    "duration": 37,
    "start_time": "2022-09-29T18:31:45.780Z"
   },
   {
    "duration": 3,
    "start_time": "2022-09-29T18:31:45.819Z"
   },
   {
    "duration": 15,
    "start_time": "2022-09-29T18:31:45.824Z"
   },
   {
    "duration": 8,
    "start_time": "2022-09-29T18:31:45.840Z"
   },
   {
    "duration": 3,
    "start_time": "2022-09-29T18:31:45.850Z"
   },
   {
    "duration": 11,
    "start_time": "2022-09-29T18:31:45.855Z"
   },
   {
    "duration": 54,
    "start_time": "2022-09-29T18:31:45.867Z"
   },
   {
    "duration": 345,
    "start_time": "2022-09-29T18:31:45.923Z"
   },
   {
    "duration": 370,
    "start_time": "2022-09-29T18:31:46.270Z"
   },
   {
    "duration": 422,
    "start_time": "2022-09-29T18:31:46.641Z"
   },
   {
    "duration": 392,
    "start_time": "2022-09-29T18:31:47.064Z"
   },
   {
    "duration": 77,
    "start_time": "2022-09-30T09:28:41.511Z"
   },
   {
    "duration": 70,
    "start_time": "2022-09-30T09:29:46.028Z"
   },
   {
    "duration": 28,
    "start_time": "2022-09-30T09:51:06.830Z"
   },
   {
    "duration": 32,
    "start_time": "2022-09-30T09:54:23.310Z"
   },
   {
    "duration": 24,
    "start_time": "2022-09-30T10:21:23.239Z"
   }
  ],
  "colab": {
   "name": "dpp_template_part2.ipynb",
   "provenance": []
  },
  "kernelspec": {
   "display_name": "Python 3 (ipykernel)",
   "language": "python",
   "name": "python3"
  },
  "language_info": {
   "codemirror_mode": {
    "name": "ipython",
    "version": 3
   },
   "file_extension": ".py",
   "mimetype": "text/x-python",
   "name": "python",
   "nbconvert_exporter": "python",
   "pygments_lexer": "ipython3",
   "version": "3.9.5"
  },
  "toc": {
   "base_numbering": 1,
   "nav_menu": {},
   "number_sections": true,
   "sideBar": true,
   "skip_h1_title": true,
   "title_cell": "Table of Contents",
   "title_sidebar": "Contents",
   "toc_cell": false,
   "toc_position": {},
   "toc_section_display": true,
   "toc_window_display": false
  }
 },
 "nbformat": 4,
 "nbformat_minor": 5
}
